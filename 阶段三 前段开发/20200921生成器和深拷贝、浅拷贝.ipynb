{
 "cells": [
  {
   "cell_type": "code",
   "execution_count": 5,
   "metadata": {},
   "outputs": [
    {
     "name": "stdout",
     "output_type": "stream",
     "text": [
      "<generator object <genexpr> at 0x0000024CD302F548>\n",
      "0\n",
      "2\n",
      "4\n"
     ]
    }
   ],
   "source": [
    "# 生成器创建方式\n",
    "# 生成器：根据程序员指定的算法规则循环生成数据，当条件不成立是生成数据就结束，\n",
    "# 提示：不是一次性把所有数据全部生成出来\n",
    "# 而是使用一次生成一次，这样可以节省大量的内存空间\n",
    "\n",
    "# 生成器的创建有两种方法\n",
    "# 1. 生成器推导式，把列表推导式中的中括号改成小括号即可\n",
    "# 2. yield关键字，只要在函数里面看到yield那么这个函数可以认为是一个生成器\n",
    "\n",
    "\n",
    "# 创建生成器\n",
    "my_generator = (value * 2 for value in range(3))\n",
    "print(my_generator)\n",
    "\n",
    "# 生成器取值使用next函数获取生成器中的下一个值\n",
    "# value = next(my_generator)\n",
    "# print(value)\n",
    "# value = next(my_generator)\n",
    "# print(value)\n",
    "# value = next(my_generator)\n",
    "# print(value)\n",
    "# 当生成器已经没有值时，会抛出StopIteration，表示生成器生成数据完毕\n",
    "# value = next(my_generator)\n",
    "# print(value)\n",
    "\n",
    "# while True:\n",
    "#     try:\n",
    "#         value = next(my_generator)\n",
    "#         print(value)\n",
    "#     except Exception as e:\n",
    "#         break # 跳出循环表示取值完成\n",
    "        \n",
    "# for循环内部循环调用next函数获取生成器中的下一个值，当出现异常for循环内部自动进行了异常捕获\n",
    "for value in my_generator:\n",
    "    print(value)"
   ]
  },
  {
   "cell_type": "code",
   "execution_count": 16,
   "metadata": {},
   "outputs": [
    {
     "name": "stdout",
     "output_type": "stream",
     "text": [
      "<generator object my_generator at 0x0000024CD36AA6C8>\n",
      "开始生成数据啦...\n",
      "0\n",
      "上一次的数据生成完了...\n",
      "开始生成数据啦...\n",
      "1\n",
      "上一次的数据生成完了...\n",
      "开始生成数据啦...\n",
      "2\n",
      "上一次的数据生成完了...\n"
     ]
    }
   ],
   "source": [
    "# 生成器创建方式-yield\n",
    "# 在函数里面看到有yield关键字，那么这个函数就是生成器了\n",
    "def my_generator():\n",
    "    for i in range(3):\n",
    "        print(\"开始生成数据啦...\")\n",
    "        # 当程序执行到yield关键字的时候代码暂停并把结果返回，再次启动生成器的时候会在暂停的位置继续往下执行\n",
    "        yield i\n",
    "        print(\"上一次的数据生成完了...\")\n",
    "        \n",
    "        \n",
    "result = my_generator()\n",
    "print(result)\n",
    "\n",
    "# 获取生成器的下一个值\n",
    "# value = next(result)\n",
    "# print(value)\n",
    "\n",
    "# value = next(result)\n",
    "# print(value)\n",
    "\n",
    "# value = next(result)\n",
    "# print(value)\n",
    "\n",
    "# value = next(result)\n",
    "# print(value)\n",
    "\n",
    "# 生成器把所有数据生成完毕以后，再次取值生成器会抛出一个StopIteration异常\n",
    "for value in result:\n",
    "    print(value)"
   ]
  },
  {
   "cell_type": "code",
   "execution_count": 19,
   "metadata": {},
   "outputs": [
    {
     "name": "stdout",
     "output_type": "stream",
     "text": [
      "0\n",
      "1\n",
      "1\n",
      "2\n",
      "3\n"
     ]
    }
   ],
   "source": [
    "# 生成器完成斐波那契数列的生成\n",
    "# num表示生成斐波那契数列的个数\n",
    "def fibonacci(num):\n",
    "    # 初始化前两个值\n",
    "    a = 0\n",
    "    b = 1\n",
    "    # 记录每次生成个数的索引\n",
    "    current_index = 0\n",
    "    # 循环判断条件是否成立\n",
    "    while current_index < num:\n",
    "        result = a\n",
    "        # 条件成立交换两个变量的值\n",
    "        a, b = b, a + b\n",
    "        current_index += 1\n",
    "        yield result\n",
    "        \n",
    "    \n",
    "# 创建生成器\n",
    "f = fibonacci(5)\n",
    "\n",
    "for value in f:\n",
    "    print(value)\n",
    "    \n",
    "# value = next(f)\n",
    "# print(value)\n",
    "\n",
    "# value = next(f)\n",
    "# print(value)"
   ]
  },
  {
   "cell_type": "markdown",
   "metadata": {},
   "source": [
    "# 深拷贝和浅拷贝\n",
    "- 浅拷贝使用copy.copy函数\n",
    "- 深拷贝使用copy.deepcopy函数\n",
    "- 不管是给对象进行深拷贝还是浅拷贝，只要拷贝成功就会开辟新的内存空间存储拷贝的对象。\n",
    "- 浅拷贝和深拷贝的区别是:\n",
    "    - 浅拷贝最多拷贝对象的一层，深拷贝可能拷贝对象的多层。"
   ]
  },
  {
   "cell_type": "code",
   "execution_count": 22,
   "metadata": {},
   "outputs": [
    {
     "name": "stdout",
     "output_type": "stream",
     "text": [
      "num1: 140717571862784 num2: 140717571862784\n",
      "my_tuple1: 2528982864584 my_tuple2: 2528982864584\n",
      "my_list1: 2528976163016 my_list2: 2528987686216\n",
      "[1, 3, [4, 6], 5] [1, 3, [4, 6]]\n",
      "my_list1[2]: 2528981574920 my_list2[2]: 2528981574920\n",
      "[1, 3, [4, 6, 3], 5] [1, 3, [4, 6, 3]]\n"
     ]
    }
   ],
   "source": [
    "# 浅拷贝\n",
    "import copy\n",
    "# 浅拷贝：只会对可变类型的第一层对象进行拷贝，不会对子对象进行拷贝\n",
    "# 拷贝成功后会开辟一个新的内存空间存储拷贝这个对象\n",
    "\n",
    "# 不可变类型：数字、字符串、元组\n",
    "\n",
    "num1 = 1\n",
    "# copy() 表示是一个浅拷贝函数\n",
    "# 浅拷贝\n",
    "num2 = copy.copy(num1)\n",
    "# 查看后内存地址没有发生变化，说明没有对对象进行拷贝，也就是说没有开辟新的内存空间\n",
    "print(\"num1:\", id(num1), \"num2:\", id(num2))\n",
    "# 对不可变类型进行浅拷贝实际上是对引用的一个拷贝，两个变量指定的是一个内存地址\n",
    "\n",
    "my_tuple1 = (3, 5)\n",
    "my_tuple2 = copy.copy(my_tuple1)\n",
    "print(\"my_tuple1:\", id(my_tuple1), \"my_tuple2:\", id(my_tuple2))\n",
    "\n",
    "# 得知结论：浅拷贝不会对不可变类型进行拷贝，也就是说不会开辟新的内存空间\n",
    "# 对不可变类型进行浅拷贝实际上是对引用的一个拷贝，两个变量指定的是一个内存地址\n",
    "\n",
    "# 可变类型：列表、字典、集合\n",
    "my_list1 = [1, 3, [4, 6]]\n",
    "\n",
    "my_list2 = copy.copy(my_list1)\n",
    "\n",
    "print(\"my_list1:\", id(my_list1), \"my_list2:\", id(my_list2))\n",
    "\n",
    "my_list1.append(5)\n",
    "print(my_list1, my_list2)\n",
    "\n",
    "print(\"my_list1[2]:\", id(my_list1[2]), \"my_list2[2]:\", id(my_list2[2]))\n",
    "my_list1[2].append(3)\n",
    "print(my_list1, my_list2)"
   ]
  },
  {
   "cell_type": "code",
   "execution_count": 23,
   "metadata": {},
   "outputs": [
    {
     "name": "stdout",
     "output_type": "stream",
     "text": [
      "num1: 140717571862784 num2: 140717571862784\n",
      "str1: 2528988093168 str2: 2528988093168\n",
      "my_tuple1: 2528984543688 my_tuple2: 2528987455176\n",
      "my_tuple1[1]: 2528977474568 my_tuple2[1]: 2528977462472\n",
      "(1, [1, 2]) (1, [1, 2, 4])\n",
      "my_tuple1[0]: 140717571862784 my_tuple2[0]: 140717571862784\n",
      "my_list1: 2528977476488 my_list2: 2528977461960\n",
      "my_list1[1]: 2528977446536 my_list2[1]: 2528977447304\n"
     ]
    }
   ],
   "source": [
    "# 深拷贝\n",
    "import copy\n",
    "\n",
    "# 深拷贝：只要发现对象有可变类型那么就会对该对象到最后一个可变类型的每一层对象进行拷贝，拷贝成功后会开辟新的内存空间\n",
    "\n",
    "# 不可变类型：数字、字符串、元组\n",
    "\n",
    "num1 = 1\n",
    "num2 = copy.deepcopy(num1)\n",
    "\n",
    "print(\"num1:\", id(num1), \"num2:\", id(num2))\n",
    "\n",
    "str1 = \"hello\"\n",
    "str2 = copy.deepcopy(str1)\n",
    "\n",
    "print(\"str1:\", id(str1), \"str2:\", id(str2))\n",
    "\n",
    "my_tuple1 = (1, [1, 2])\n",
    "my_tuple2 = copy.deepcopy(my_tuple1)\n",
    "\n",
    "print(\"my_tuple1:\", id(my_tuple1), \"my_tuple2:\", id(my_tuple2))\n",
    "print(\"my_tuple1[1]:\", id(my_tuple1[1]), \"my_tuple2[1]:\", id(my_tuple2[1]))\n",
    "\n",
    "my_tuple2[1].append(4)\n",
    "\n",
    "print(my_tuple1, my_tuple2)\n",
    "\n",
    "print(\"my_tuple1[0]:\", id(my_tuple1[0]), \"my_tuple2[0]:\", id(my_tuple2[0]))\n",
    "\n",
    "# 如果发现元组里面有可变类型，那么会对元组进行拷贝和子元素列表进行拷贝，拷贝后都会产生一个新的内存空间\n",
    "# 但是不可变类型不会进行拷贝，因为不可变类型不允许在原有内存空间的基础上修改数据\n",
    "# 所以拷贝没有意义，因为每次修改数据内存地址都会发生变化\n",
    "\n",
    "# 可变类型：列表、字典、集合，对于深拷贝来说会进行拷贝如果发现子对象也是可变类型也会进行拷贝\n",
    "# 拷贝后会开辟新的内存空间存储拷贝后的对象\n",
    "\n",
    "my_list1 = [1, [2, 3]]\n",
    "my_list2 = copy.deepcopy(my_list1)\n",
    "print(\"my_list1:\", id(my_list1), \"my_list2:\", id(my_list2))\n",
    "\n",
    "print(\"my_list1[1]:\", id(my_list1[1]), \"my_list2[1]:\", id(my_list2[1]))\n",
    "\n",
    "# 无论是浅拷贝还是深拷贝都是针对的可变类型"
   ]
  },
  {
   "cell_type": "code",
   "execution_count": null,
   "metadata": {},
   "outputs": [],
   "source": [
    "# 定义一个生成器，生成 1-5 之间的数字\n"
   ]
  },
  {
   "cell_type": "code",
   "execution_count": 24,
   "metadata": {},
   "outputs": [],
   "source": [
    "# 观察如下的代码，写出打印结果。\n",
    "import copy\n",
    "a = [1,2,3,4,['a','b']]\n",
    "b = a\n",
    "c = copy.copy(a)\n",
    "d = copy.deepcopy(a)\n",
    "\n",
    "a.append(5)\n",
    "a[4].append('c')   "
   ]
  },
  {
   "cell_type": "code",
   "execution_count": null,
   "metadata": {},
   "outputs": [],
   "source": [
    "# 使用生成器来实现 斐波那契数列"
   ]
  }
 ],
 "metadata": {
  "kernelspec": {
   "display_name": "Python 3",
   "language": "python",
   "name": "python3"
  },
  "language_info": {
   "codemirror_mode": {
    "name": "ipython",
    "version": 3
   },
   "file_extension": ".py",
   "mimetype": "text/x-python",
   "name": "python",
   "nbconvert_exporter": "python",
   "pygments_lexer": "ipython3",
   "version": "3.8.5"
  }
 },
 "nbformat": 4,
 "nbformat_minor": 4
}
