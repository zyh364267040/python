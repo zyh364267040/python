{
 "cells": [
  {
   "cell_type": "markdown",
   "metadata": {},
   "source": [
    "# 正则表达式的概述\n",
    "- 正则表达式概念\n",
    "    - 正则表达式就是记录文本规则的代码\n",
    "- 正则表达式的特点\n",
    "    - 正则表达式的语法很令人头疼，可读性差\n",
    "    - 正则表达式通用行很强，能够适用于很多编程语言"
   ]
  },
  {
   "cell_type": "markdown",
   "metadata": {},
   "source": [
    "# re模块\n",
    "- re.match() 根据正则表达式从头开始匹配字符串数据"
   ]
  },
  {
   "cell_type": "code",
   "execution_count": 2,
   "metadata": {},
   "outputs": [
    {
     "name": "stdout",
     "output_type": "stream",
     "text": [
      "hel\n"
     ]
    }
   ],
   "source": [
    "# re模块的使用\n",
    "import re\n",
    "\n",
    "# 根据正则表达式匹配数据\n",
    "# 1. 正则表达式\n",
    "# 2. 要匹配的字符串\n",
    "# 3. 返回匹配对象\n",
    "match_obj = re.match(\"hel\", \"hello\")\n",
    "# 获取匹配结果\n",
    "result = match_obj.group()\n",
    "print(result)"
   ]
  },
  {
   "cell_type": "markdown",
   "metadata": {},
   "source": [
    "# 匹配单个字符\n",
    "- 代码\t功能\n",
    "- `.`\t匹配任意1个字符（除了\\n）\n",
    "- `[ ]`\t匹配[ ]中列举的字符\n",
    "- `\\d`\t匹配数字，即0-9\n",
    "- `\\D`\t匹配非数字，即不是数字\n",
    "- `\\s`\t匹配空白，即 空格，tab键\n",
    "- `\\S`\t匹配非空白\n",
    "- `\\w`\t匹配非特殊字符，即a-z、A-Z、0-9、_、汉字\n",
    "- `\\W`\t匹配特殊字符，即非字母、非数字、非汉字、非_"
   ]
  },
  {
   "cell_type": "code",
   "execution_count": 3,
   "metadata": {},
   "outputs": [
    {
     "name": "stdout",
     "output_type": "stream",
     "text": [
      "匹配失败\n",
      "葫芦娃1\n",
      "7\n",
      "7\n",
      "7\n",
      "a\n",
      "葫芦娃 1\n",
      "葫芦娃+1\n",
      "_\n",
      "哈\n",
      "匹配失败\n"
     ]
    }
   ],
   "source": [
    "# 匹配单个字符\n",
    "import re\n",
    "# . 匹配任意1个字符（除了\\n）\n",
    "# 1. 正则表达式\n",
    "# 2. 要匹配的字符串\n",
    "# match_obj返回匹配对象\n",
    "match_obj = re.match(\"t.o\", \"t\\no\")\n",
    "if match_obj:\n",
    "    # 获取匹配结果\n",
    "    result = match_obj.group()\n",
    "    print(result)\n",
    "else:\n",
    "    # 匹配失败match_obj是一个None\n",
    "    print(\"匹配失败\")\n",
    "    \n",
    "# [] 匹配[]中列举的字符\n",
    "# 1. 正则表达式\n",
    "# 2. 要匹配的字符串\n",
    "# match_obj返回匹配对象\n",
    "match_obj = re.match(\"葫芦娃[12]\", \"葫芦娃1\")\n",
    "if match_obj:\n",
    "    # 获取匹配结果\n",
    "    result = match_obj.group()\n",
    "    print(result)\n",
    "else:\n",
    "    # 匹配失败match_obj是一个None\n",
    "    print(\"匹配失败\")\n",
    "    \n",
    "# 匹配银行卡密码中的其中一位\n",
    "match_obj = re.match(\"[0123456789]\", \"7\")\n",
    "if match_obj:\n",
    "    # 获取匹配结果\n",
    "    result = match_obj.group()\n",
    "    print(result)\n",
    "else:\n",
    "    # 匹配失败match_obj是一个None\n",
    "    print(\"匹配失败\")\n",
    "    \n",
    "match_obj = re.match(\"[0-9]\", \"7\")\n",
    "if match_obj:\n",
    "    # 获取匹配结果\n",
    "    result = match_obj.group()\n",
    "    print(result)\n",
    "else:\n",
    "    # 匹配失败match_obj是一个None\n",
    "    print(\"匹配失败\")\n",
    "\n",
    "# \\d => [0-9] => [0123456789]\n",
    "match_obj = re.match(\"\\d\", \"7\")\n",
    "if match_obj:\n",
    "    # 获取匹配结果\n",
    "    result = match_obj.group()\n",
    "    print(result)\n",
    "else:\n",
    "    # 匹配失败match_obj是一个None\n",
    "    print(\"匹配失败\")\n",
    "    \n",
    "# \\D:匹配一个非数字字符\n",
    "match_obj = re.match(\"\\D\", \"a\")\n",
    "if match_obj:\n",
    "    # 获取匹配结果\n",
    "    result = match_obj.group()\n",
    "    print(result)\n",
    "else:\n",
    "    # 匹配失败match_obj是一个None\n",
    "    print(\"匹配失败\")\n",
    "    \n",
    "# \\s:匹配一个空白字符，空格或者tab键\n",
    "match_obj = re.match(\"葫芦娃\\s[12]\", \"葫芦娃 1\")\n",
    "if match_obj:\n",
    "    # 获取匹配结果\n",
    "    result = match_obj.group()\n",
    "    print(result)\n",
    "else:\n",
    "    # 匹配失败match_obj是一个None\n",
    "    print(\"匹配失败\")\n",
    "    \n",
    "match_obj = re.match(\"葫芦娃\\S[12]\", \"葫芦娃+1\")\n",
    "if match_obj:\n",
    "    # 获取匹配结果\n",
    "    result = match_obj.group()\n",
    "    print(result)\n",
    "else:\n",
    "    # 匹配失败match_obj是一个None\n",
    "    print(\"匹配失败\")\n",
    "    \n",
    "# 匹配某网站中密码的其中一位，密码是由字母、数字、下划线组成\n",
    "match_obj = re.match(\"[a-zA-Z0-9_]\", \"_\")\n",
    "if match_obj:\n",
    "    # 获取匹配结果\n",
    "    result = match_obj.group()\n",
    "    print(result)\n",
    "else:\n",
    "    # 匹配失败match_obj是一个None\n",
    "    print(\"匹配失败\")\n",
    "    \n",
    "# \\w:匹配一个字母、数字、下划线、汉字\n",
    "match_obj = re.match(\"\\w\", \"哈\")\n",
    "if match_obj:\n",
    "    # 获取匹配结果\n",
    "    result = match_obj.group()\n",
    "    print(result)\n",
    "else:\n",
    "    # 匹配失败match_obj是一个None\n",
    "    print(\"匹配失败\")\n",
    "    \n",
    "# \\W：匹配一个非字母、非数字、非下划线、非汉字的字符\n",
    "# \\w:匹配一个字母、数字、下划线、汉字\n",
    "match_obj = re.match(\"\\w\", \"%\")\n",
    "if match_obj:\n",
    "    # 获取匹配结果\n",
    "    result = match_obj.group()\n",
    "    print(result)\n",
    "else:\n",
    "    # 匹配失败match_obj是一个None\n",
    "    print(\"匹配失败\")"
   ]
  },
  {
   "cell_type": "markdown",
   "metadata": {},
   "source": [
    "# 匹配多个字符\n",
    "- 代码\t功能\n",
    "- `*`\t匹配前一个字符出现0次或者无限次，即可有可无\n",
    "- `+`\t匹配前一个字符出现1次或者无限次，即至少有1次\n",
    "- `?`\t匹配前一个字符出现1次或者0次，即要么有1次，要么没有\n",
    "- `{m}`\t匹配前一个字符出现m次\n",
    "- `{m,n}`\t匹配前一个字符出现从m到n次"
   ]
  },
  {
   "cell_type": "code",
   "execution_count": 1,
   "metadata": {},
   "outputs": [
    {
     "name": "stdout",
     "output_type": "stream",
     "text": [
      "to\n",
      "tdfdsgfdo\n",
      "http\n",
      "http\n",
      "匹配失败\n",
      "httttttp\n"
     ]
    }
   ],
   "source": [
    "# 匹配多个字符\n",
    "import re\n",
    "\n",
    "# 1. 正则表达式\n",
    "# 2. 要匹配的字符串\n",
    "# * 匹配前一个字符出现0次或者无限次，即可有可无\n",
    "match_obj = re.match(\"t.*o\", \"to\")\n",
    "if match_obj:\n",
    "    # 获取匹配结果\n",
    "    result = match_obj.group()\n",
    "    print(result)\n",
    "else:\n",
    "    # 匹配失败match_obj是一个None\n",
    "    print(\"匹配失败\")\n",
    "    \n",
    "# + 匹配前一个字符至少出现一次\n",
    "match_obj = re.match(\"t.+o\", \"tdfdsgfdo\")\n",
    "if match_obj:\n",
    "    # 获取匹配结果\n",
    "    result = match_obj.group()\n",
    "    print(result)\n",
    "else:\n",
    "    # 匹配失败match_obj是一个None\n",
    "    print(\"匹配失败\")\n",
    "    \n",
    "# ?：匹配前一个字符出现0次或1次\n",
    "match_obj = re.match(\"https?\", \"http\")\n",
    "if match_obj:\n",
    "    # 获取匹配结果\n",
    "    result = match_obj.group()\n",
    "    print(result)\n",
    "else:\n",
    "    # 匹配失败match_obj是一个None\n",
    "    print(\"匹配失败\")\n",
    "    \n",
    "# {m}：匹配前一个字符必须出现m次\n",
    "match_obj = re.match(\"ht{2}p\", \"http\")\n",
    "if match_obj:\n",
    "    # 获取匹配结果\n",
    "    result = match_obj.group()\n",
    "    print(result)\n",
    "else:\n",
    "    # 匹配失败match_obj是一个None\n",
    "    print(\"匹配失败\")\n",
    "    \n",
    "# {m, n}:匹配前一个字符最少出现m次，最多出现n次\n",
    "match_obj = re.match(\"ht{1,3}p\", \"httttttp\")\n",
    "if match_obj:\n",
    "    # 获取匹配结果\n",
    "    result = match_obj.group()\n",
    "    print(result)\n",
    "else:\n",
    "    # 匹配失败match_obj是一个None\n",
    "    print(\"匹配失败\")\n",
    "    \n",
    "# 扩展：{m, }：匹配前一个字符串至少出现m次\n",
    "match_obj = re.match(\"ht{2,}p\", \"httttttp\")\n",
    "if match_obj:\n",
    "    # 获取匹配结果\n",
    "    result = match_obj.group()\n",
    "    print(result)\n",
    "else:\n",
    "    # 匹配失败match_obj是一个None\n",
    "    print(\"匹配失败\")"
   ]
  },
  {
   "cell_type": "markdown",
   "metadata": {},
   "source": [
    "# 匹配开头和结尾\n",
    "- 代码\t功能\n",
    "- `^`\t匹配字符串开头\n",
    "- `$`\t匹配字符串结尾\n",
    "- `[^指定字符]`: 表示除了指定字符都匹配"
   ]
  },
  {
   "cell_type": "code",
   "execution_count": 3,
   "metadata": {},
   "outputs": [
    {
     "name": "stdout",
     "output_type": "stream",
     "text": [
      "1abc\n",
      "aa3\n",
      "2asdfa3\n",
      "2asdfaa\n"
     ]
    }
   ],
   "source": [
    "# 匹配开头和结尾\n",
    "import re\n",
    "\n",
    "# 1. 正则表达式\n",
    "# 2. 要匹配的字符串\n",
    "match_obj = re.match(\"^\\d.*\", \"1abc\")\n",
    "if match_obj:\n",
    "    # 获取匹配结果\n",
    "    result = match_obj.group()\n",
    "    print(result)\n",
    "else:\n",
    "    print(\"匹配失败\")\n",
    "    \n",
    "# 1. 正则表达式\n",
    "# 2. 要匹配的字符串\n",
    "match_obj = re.match(\".*\\d$\", \"aa3\")\n",
    "if match_obj:\n",
    "    # 获取匹配结果\n",
    "    result = match_obj.group()\n",
    "    print(result)\n",
    "else:\n",
    "    print(\"匹配失败\")\n",
    "    \n",
    "# 1. 正则表达式\n",
    "# 2. 要匹配的字符串\n",
    "match_obj = re.match(\"^\\d.*\\d$\", \"2asdfa3\")\n",
    "if match_obj:\n",
    "    # 获取匹配结果\n",
    "    result = match_obj.group()\n",
    "    print(result)\n",
    "else:\n",
    "    print(\"匹配失败\")\n",
    "    \n",
    "# [^指定字符] 表示除了指定字符都匹配\n",
    "\n",
    "# [^47] 除了4和7都匹配\n",
    "# ^: 表示以制定字符开头\n",
    "# [^]: 表示除了制定字符都匹配\n",
    "match_obj = re.match(\"^\\d.*[^47]$\", \"2asdfaa\")\n",
    "if match_obj:\n",
    "    # 获取匹配结果\n",
    "    result = match_obj.group()\n",
    "    print(result)\n",
    "else:\n",
    "    print(\"匹配失败\")"
   ]
  },
  {
   "cell_type": "markdown",
   "metadata": {},
   "source": [
    "# 匹配分组\n",
    "- 代码\t功能\n",
    "- `|`\t匹配左右任意一个表达式\n",
    "- `(ab)`\t将括号中字符作为一个分组\n",
    "- `\\num`\t引用分组num匹配到的字符串\n",
    "- `(?P<name>)`\t分组起别名\n",
    "- `(?P=name)`\t引用别名为name分组匹配到的字符串"
   ]
  },
  {
   "cell_type": "code",
   "execution_count": 6,
   "metadata": {},
   "outputs": [
    {
     "name": "stdout",
     "output_type": "stream",
     "text": [
      "我不想吃的水果： apple\n",
      "我想吃的水果： banana\n",
      "我不想吃的水果： orange\n",
      "我不想吃的水果： pare\n",
      "我不想吃的水果： peach\n",
      "匹配失败\n",
      "匹配失败\n",
      "匹配失败\n",
      "匹配失败\n"
     ]
    }
   ],
   "source": [
    "# 匹配分组\n",
    "import re\n",
    "\n",
    "# 水果列表\n",
    "fruit_list = [\"apple\", \"banana\", \"orange\", \"pare\", \"peach\"]\n",
    "\n",
    "for value in fruit_list:\n",
    "    # 根据每一个字符串，使用正则表达式进行匹配\n",
    "    # | 匹配左右任意一个表达式\n",
    "    match_obj = re.match(\"banana|pear\", value)\n",
    "    if match_obj:\n",
    "        result = match_obj.group()\n",
    "        print(\"我想吃的水果：\", result)\n",
    "    else:\n",
    "        print(\"我不想吃的水果：\", value)\n",
    "        \n",
    "        \n",
    "# 匹配出163、126、qq等邮箱\n",
    "# \\.:表示对正则表达式里面的.进行了转义，变成了一个普通的.，只能匹配.字符\n",
    "# （163|126|qq）表示一个分组，出现一个小括号就表示一个分组，分组是从1开始的\n",
    "# 如果出现多个小括号，分组的顺序是从左到右依次排序\n",
    "match_obj = re.match(\"[a-zA-Z0-9_]{4, 20}@(163|126|qq)\\.com\", \"hello@163.com\")\n",
    "if match_obj:\n",
    "    # 获取整个匹配的数据，如果使用分组数的话，默认是0\n",
    "    result = match_obj.group(0)\n",
    "    # 获取匹配分组数据\n",
    "    type = match_obj.group(1)\n",
    "    print(type)\n",
    "    print(result)\n",
    "else:\n",
    "    print(\"匹配失败\")\n",
    "    \n",
    "    \n",
    "# \"qq:3014587\"\n",
    "match_obj = re.match(\"(qq:)([1-9]\\d{4, 11})\",\"qq:3014587\")\n",
    "if match_obj:\n",
    "    result = match_obj.group()\n",
    "    print(result)\n",
    "    \n",
    "    result = match_obj.group(1)\n",
    "    print(result)\n",
    "    \n",
    "    result = match_obj.group(2)\n",
    "    print(result)\n",
    "else:\n",
    "    print(\"匹配失败\")\n",
    "    \n",
    "\n",
    "# \\num 引用分组num匹配到的字符\n",
    "match_obj = re.match(\"<([a-zA-Z1-6]+)>.*</\\\\1>\", \"<>html>hh</div>\")\n",
    "if match_obj:\n",
    "    result = match_obj.group()\n",
    "    print(result)\n",
    "else:\n",
    "    print(\"匹配失败\")\n",
    "    \n",
    "    \n",
    "# <html><h1>www.itcast.cn</h1></html>\n",
    "match_obj = re.match(\"<(?P<name1>[a-zA-Z1-6]+)><(?P<name2>[a-zA-Z1-6]+])>.*</(?P=name2)></(?P=name1)>\", \"<html><h1>www.itcast.cn</h1></html>\")\n",
    "if match_obj:\n",
    "    result = match_obj.group()\n",
    "    print(result)\n",
    "else:\n",
    "    print(\"匹配失败\")"
   ]
  },
  {
   "cell_type": "code",
   "execution_count": 7,
   "metadata": {},
   "outputs": [
    {
     "name": "stdout",
     "output_type": "stream",
     "text": [
      "hello world ha ha\n"
     ]
    }
   ],
   "source": [
    "# 有一句英文如下：“hello world ha ha” ，找出其中所有的单词\n",
    "import re\n",
    "match_obj = re.match(\".*\", \"hello world ha ha\")\n",
    "\n",
    "result = match_obj.group()\n",
    "print(result)"
   ]
  },
  {
   "cell_type": "code",
   "execution_count": 9,
   "metadata": {},
   "outputs": [
    {
     "name": "stdout",
     "output_type": "stream",
     "text": [
      "['hello', 'world', 'ha', 'ha']\n"
     ]
    }
   ],
   "source": [
    "import re\n",
    "print(re.findall(r\"\\w+\\b\",\"hello world ha ha\"))"
   ]
  },
  {
   "cell_type": "code",
   "execution_count": 11,
   "metadata": {},
   "outputs": [
    {
     "name": "stdout",
     "output_type": "stream",
     "text": [
      "py\n"
     ]
    }
   ],
   "source": [
    "# 匹配文件的后缀名：/home/python/hehe.py\n",
    "import re\n",
    "print(re.match(r\".+\\.(.+)\", \"/home/python/hehe.py\").group(1))"
   ]
  },
  {
   "cell_type": "code",
   "execution_count": 13,
   "metadata": {},
   "outputs": [
    {
     "name": "stdout",
     "output_type": "stream",
     "text": [
      "http://www.interoem.com/\n"
     ]
    }
   ],
   "source": [
    "# 有一个网址，http://www.interoem.com/messageinfo.asp?id=35 要求正则匹配之后变成：http://www.interoem.com/\n",
    "import re\n",
    "print(re.match(\"(https?://.+/).*\", \"http://www.interoem.com/messageinfo.asp?id=35\").group(1))"
   ]
  },
  {
   "cell_type": "code",
   "execution_count": 14,
   "metadata": {},
   "outputs": [
    {
     "name": "stdout",
     "output_type": "stream",
     "text": [
      "http://www.interoem.com/\n"
     ]
    }
   ],
   "source": [
    "import re\n",
    "s = \"http://www.interoem.com/messageinfo.asp?id=35\"\n",
    "ret = re.sub(r\"(http://.+?/).*\",lambda x:x.group(1) ,s)\n",
    "print(ret)"
   ]
  },
  {
   "cell_type": "code",
   "execution_count": null,
   "metadata": {},
   "outputs": [],
   "source": []
  }
 ],
 "metadata": {
  "kernelspec": {
   "display_name": "Python 3",
   "language": "python",
   "name": "python3"
  },
  "language_info": {
   "codemirror_mode": {
    "name": "ipython",
    "version": 3
   },
   "file_extension": ".py",
   "mimetype": "text/x-python",
   "name": "python",
   "nbconvert_exporter": "python",
   "pygments_lexer": "ipython3",
   "version": "3.7.4"
  }
 },
 "nbformat": 4,
 "nbformat_minor": 4
}
