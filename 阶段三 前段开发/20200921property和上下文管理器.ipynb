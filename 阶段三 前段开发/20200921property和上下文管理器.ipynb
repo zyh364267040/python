{
 "cells": [
  {
   "cell_type": "markdown",
   "metadata": {},
   "source": [
    "# property属性\n",
    "- property属性就是负责把一个方法当做属性进行使用，这样做可以简化代码使用\n",
    "- 定义property属性有两种方式\n",
    "    - 装饰器方式\n",
    "    - 类属性方式"
   ]
  },
  {
   "cell_type": "code",
   "execution_count": 2,
   "metadata": {},
   "outputs": [
    {
     "name": "stdout",
     "output_type": "stream",
     "text": [
      "获取属性啦\n",
      "0\n",
      "设置属性啦\n",
      "获取属性啦\n",
      "20\n"
     ]
    }
   ],
   "source": [
    "# property属性-装饰器方式的使用\n",
    "class Student(object):\n",
    "    def __init__(self):\n",
    "        # 私有属性\n",
    "        self.__age = 0\n",
    "        \n",
    "    @property # 当对象调用age属性的时候会执行下面的方法\n",
    "    def age(self):\n",
    "        print(\"获取属性啦\")\n",
    "        return self.__age\n",
    "    \n",
    "    @age.setter # 当对象调用age属性设置值的时候会调用下面的方法\n",
    "    def age(self, new_age):\n",
    "        print(\"设置属性啦\")\n",
    "        if new_age >= 0 and new_age <= 130:\n",
    "            self.__age = new_age\n",
    "        else:\n",
    "            print(\"成精啦\")\n",
    "            \n",
    "            \n",
    "# 提示：使用装饰器方式的property属性那么方法名要保持一致\n",
    "\n",
    "\n",
    "student = Student()\n",
    "age = student.age\n",
    "print(age)\n",
    "\n",
    "student.age = 20\n",
    "\n",
    "age = student.age\n",
    "print(age)"
   ]
  },
  {
   "cell_type": "code",
   "execution_count": 1,
   "metadata": {},
   "outputs": [
    {
     "name": "stdout",
     "output_type": "stream",
     "text": [
      "获取属性啦\n",
      "0\n",
      "设置属性啦\n",
      "获取属性啦\n",
      "30\n"
     ]
    }
   ],
   "source": [
    "# property属性-类属性方式的使用\n",
    "class Student(object):\n",
    "    def __init__(self):\n",
    "        # 私有属性\n",
    "        self.__age = 0\n",
    "        \n",
    "    def get_age(self):\n",
    "        print(\"获取属性啦\")\n",
    "        return self.__age\n",
    "    \n",
    "    def set_age(self, new_age):\n",
    "        print(\"设置属性啦\")\n",
    "        if new_age >= 0 and new_age <= 130:\n",
    "            self.__age = new_age\n",
    "        else:\n",
    "            print(\"成精啦\")\n",
    "            \n",
    "    # 1. get_age 表示获取age属性的时候执行的方法\n",
    "    # 2. set_age 表示设置age属性的时候执行的方法\n",
    "    age = property(get_age, set_age)\n",
    "\n",
    "\n",
    "student = Student()\n",
    "age = student.age\n",
    "print(age)\n",
    "\n",
    "student.age = 30\n",
    "\n",
    "age = student.age\n",
    "print(age)"
   ]
  },
  {
   "cell_type": "markdown",
   "metadata": {},
   "source": [
    "# with语句\n",
    "- 为了简化读取文件的操作，python提供了with语句的这种写法，既简单又安全\n",
    "- 当with语句执行完成，那么关闭文件操作自动完成，即使有异常也会关闭"
   ]
  },
  {
   "cell_type": "markdown",
   "metadata": {},
   "source": [
    "# 上下文管理器\n",
    "- 一个类只要实现了__enter__()和__exit__()这个两个方法，通过该类创建的对象我们就称之为上下文管理器。\n",
    "- 上下文管理器可以使用 with 语句，with语句之所以这么强大，背后是由上下文管理器做支撑的，也就是说刚才使用 open 函数创建的文件对象就是就是一个上下文管理器对象"
   ]
  },
  {
   "cell_type": "code",
   "execution_count": 8,
   "metadata": {},
   "outputs": [
    {
     "name": "stdout",
     "output_type": "stream",
     "text": [
      "over\n"
     ]
    },
    {
     "ename": "UnsupportedOperation",
     "evalue": "not writable",
     "output_type": "error",
     "traceback": [
      "\u001b[1;31m---------------------------------------------------------------------------\u001b[0m",
      "\u001b[1;31mUnsupportedOperation\u001b[0m                      Traceback (most recent call last)",
      "\u001b[1;32m<ipython-input-8-b115e13d5220>\u001b[0m in \u001b[0;36m<module>\u001b[1;34m\u001b[0m\n\u001b[0;32m     25\u001b[0m     \u001b[1;31m# file_data = file.read()\u001b[0m\u001b[1;33m\u001b[0m\u001b[1;33m\u001b[0m\u001b[1;33m\u001b[0m\u001b[0m\n\u001b[0;32m     26\u001b[0m     \u001b[1;31m# print(file_data)\u001b[0m\u001b[1;33m\u001b[0m\u001b[1;33m\u001b[0m\u001b[1;33m\u001b[0m\u001b[0m\n\u001b[1;32m---> 27\u001b[1;33m     \u001b[0mfile\u001b[0m\u001b[1;33m.\u001b[0m\u001b[0mwrite\u001b[0m\u001b[1;33m(\u001b[0m\u001b[1;34m\"sss\"\u001b[0m\u001b[1;33m)\u001b[0m\u001b[1;33m\u001b[0m\u001b[1;33m\u001b[0m\u001b[0m\n\u001b[0m",
      "\u001b[1;31mUnsupportedOperation\u001b[0m: not writable"
     ]
    }
   ],
   "source": [
    "# 自定义上下文管理器\n",
    "# 上下文管理器：在类里面实现 __enter__ 和 __exit__ 方法，创建对象就是上下文管理器\n",
    "\n",
    "\n",
    "# 自定义上下文管理器类\n",
    "class File(object):\n",
    "    def __init__(self, file_name, file_mode):\n",
    "        self.file_name = file_name\n",
    "        self.file_mode = file_mode\n",
    "        \n",
    "    def __enter__(self):\n",
    "        # 上文方法，负责返回操作对象资源，比如：文件对象，数据库连接对象\n",
    "        self.file = open(self.file_name, self.file_mode)\n",
    "        return self.file\n",
    "    \n",
    "    # 当with语句执行完成以后自动执行 __exit__ 方法\n",
    "    def __exit__(self, exc_type, exc_val, exc_tb):\n",
    "        # 下文方法，负责释放对象资源，比如：文件关闭，关闭数据库连接对象\n",
    "        print(\"over\")\n",
    "        self.file.close()\n",
    "        \n",
    "        \n",
    "# with 语句结果上下文管理器对象使用\n",
    "with File(\"1.txt\", \"r\") as file:\n",
    "    # file_data = file.read()\n",
    "    # print(file_data)\n",
    "    file.write(\"sss\")"
   ]
  },
  {
   "cell_type": "code",
   "execution_count": 10,
   "metadata": {},
   "outputs": [
    {
     "name": "stdout",
     "output_type": "stream",
     "text": [
      "not writable\n",
      "over\n"
     ]
    }
   ],
   "source": [
    "# 自定义上下文管理器-装饰器方式实现\n",
    "from contextlib import contextmanager\n",
    "\n",
    "\n",
    "# 加上装饰器这个代码，那么下面函数创建的对象就是一个上下文管理器\n",
    "@contextmanager\n",
    "def my_open(file_name, file_mode):\n",
    "    \n",
    "    try:\n",
    "        file = open(file_name, file_mode)\n",
    "        # yield关键字之前的代码可以认为是上文方法，负责返回操作对象资源\n",
    "        yield file\n",
    "    except Exception as e:\n",
    "        print(e)\n",
    "    finally:\n",
    "        print(\"over\")\n",
    "        # yield关键字后面的代码可以认为是下文方法，负责释放操作对象的资源\n",
    "        file.close()\n",
    "        \n",
    "        \n",
    "# 普通函数不能结合with语句使用，with语句结合上下文管理器\n",
    "with my_open(\"1.txt\", \"r\") as file:\n",
    "    # file_data = file.read()\n",
    "    # print(file_data)\n",
    "    file.write(\"sss\")"
   ]
  },
  {
   "cell_type": "code",
   "execution_count": 1,
   "metadata": {},
   "outputs": [],
   "source": [
    "# 请使用  上下文管理器  计算  下面函数 执行的时间\n",
    "def func(number):\n",
    "    li = [1,2,4]\n",
    "    if number < 4:\n",
    "        return li[number-1]\n",
    "    else:\n",
    "        if number > 3:\n",
    "            return func(number-1)+func(number-2)+func(number-3)"
   ]
  },
  {
   "cell_type": "code",
   "execution_count": null,
   "metadata": {},
   "outputs": [],
   "source": []
  }
 ],
 "metadata": {
  "kernelspec": {
   "display_name": "Python 3",
   "language": "python",
   "name": "python3"
  },
  "language_info": {
   "codemirror_mode": {
    "name": "ipython",
    "version": 3
   },
   "file_extension": ".py",
   "mimetype": "text/x-python",
   "name": "python",
   "nbconvert_exporter": "python",
   "pygments_lexer": "ipython3",
   "version": "3.7.4"
  }
 },
 "nbformat": 4,
 "nbformat_minor": 4
}
