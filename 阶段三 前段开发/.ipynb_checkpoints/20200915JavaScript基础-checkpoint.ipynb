{
 "cells": [
  {
   "cell_type": "markdown",
   "metadata": {},
   "source": [
    "# JavaScript基础"
   ]
  },
  {
   "cell_type": "markdown",
   "metadata": {},
   "source": [
    "### JavaScript的介绍\n",
    "- JavaScript是运行在浏览器端的脚本语言，是由浏览器解释执行的，简称js，它能够让网页和用户有交互功能，增加良好的用户体验效果\n",
    "- 前段开发三大块：1. HTML：负责网页结构 2. css：负责网页样式 3. JavaScript：负责网页行为，比如网页与用户的交互效果"
   ]
  },
  {
   "cell_type": "markdown",
   "metadata": {},
   "source": [
    "### JavaScript的使用方式\n",
    "- 1. 行内式（主要用于事件）\n",
    "- 2. 内嵌式\n",
    "- 3. 外链式"
   ]
  },
  {
   "cell_type": "markdown",
   "metadata": {},
   "source": [
    "### 变量和数据类型\n",
    "- 1. 定义变量\n",
    "    - JavaScript是一种弱类型语言，也就是说不需要指定变量的类型，JavaScript的变量类型由它的值来决定，定义变量需要用关键字\"var\"，一条JavaScript语句应该以\";\"结尾\n",
    "    - 定义变量的语法格式\n",
    "        - var 变量名 = 值 `var iNum = 123;`    `var sTr = 'asd';`\n",
    "        - 同时定义多个变量可以用\",\"隔开，公用一个\"var\"关键字  `var iNum = 45, sTr = qwe, sCount = '68';`"
   ]
  },
  {
   "cell_type": "code",
   "execution_count": null,
   "metadata": {},
   "outputs": [],
   "source": []
  }
 ],
 "metadata": {
  "kernelspec": {
   "display_name": "Python 3",
   "language": "python",
   "name": "python3"
  },
  "language_info": {
   "codemirror_mode": {
    "name": "ipython",
    "version": 3
   },
   "file_extension": ".py",
   "mimetype": "text/x-python",
   "name": "python",
   "nbconvert_exporter": "python",
   "pygments_lexer": "ipython3",
   "version": "3.7.4"
  }
 },
 "nbformat": 4,
 "nbformat_minor": 4
}
