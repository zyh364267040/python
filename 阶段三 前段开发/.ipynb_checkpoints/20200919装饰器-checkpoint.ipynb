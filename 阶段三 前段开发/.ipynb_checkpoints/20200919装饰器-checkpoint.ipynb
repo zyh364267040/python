{
 "cells": [
  {
   "cell_type": "markdown",
   "metadata": {},
   "source": [
    "# 装饰器\n",
    "- 装饰器的定义\n",
    "    - 就是给已有函数增加额外功能的函数，它本质上就是一个闭包函数\n",
    "    - 特点：\n",
    "        - 1. 不修改已有函数的源代码\n",
    "        - 2. 不修改已有函数的调用方式\n",
    "        - 3. 给已有函数增加额外的功能\n",
    "- 装饰器的语法糖用法: @装饰器名称，同样可以完成对已有函数的装饰操作"
   ]
  },
  {
   "cell_type": "code",
   "execution_count": 3,
   "metadata": {},
   "outputs": [
    {
     "name": "stdout",
     "output_type": "stream",
     "text": [
      "装饰器执行了\n",
      "已添加登录验证\n",
      "发表评论\n"
     ]
    }
   ],
   "source": [
    "# 装饰器\n",
    "# 学习装饰器的目的：对已有函数进行额外的功能扩展，装饰器本质上是一个闭包函数，也就是说他也是一个函数嵌套\n",
    "\n",
    "# 装饰器的特点\n",
    "# 1. 不修改已有函数的源代码\n",
    "# 2. 不修改已有函数的调用方法\n",
    "# 3. 给已有的函数添加额外的功能\n",
    "\n",
    "# 定义装饰器\n",
    "def decorator(func): # 如果闭包函数的参数有且只有一个并且是函数类型，那么这个闭包函数称为装饰器\n",
    "    print(\"装饰器执行了\")\n",
    "    def inner():\n",
    "        # 在内部函数里面对已有函数进行装饰\n",
    "        print(\"已添加登录验证\")\n",
    "        func()\n",
    "    return inner\n",
    "\n",
    "# 装饰器的语法糖写法：@装饰器名称，装饰器的语法糖就是在装饰以后函数的时候写法更加简单\n",
    "@decorator # comment = decorator(comment) 装饰器语法糖对该代码进行了封装 comment = inner\n",
    "def comment():\n",
    "    print(\"发表评论\")\n",
    "    \n",
    "# 已添加登录验证\n",
    "# 发表评论\n",
    "\n",
    "# 调用装饰器对已有函数进行装饰， commnet = inner\n",
    "# comment = decorator(comment)\n",
    "\n",
    "# 调用方式不变\n",
    "comment()\n",
    "\n",
    "# 装饰器的执行时机：当当前模块加载完成以后，装饰器会立即执行，对已有函数进行装饰"
   ]
  },
  {
   "cell_type": "markdown",
   "metadata": {},
   "source": [
    "# 装饰器的使用\n",
    "- 装饰器的使用场景\n",
    "    - 1. 函数执行时间的统计\n",
    "    - 2. 输入日志信息\n",
    "- 装饰器的作用:\n",
    "    - 在不改变已有函数源代码及调用方式的前提下，对已有函数进行功能的扩展"
   ]
  },
  {
   "cell_type": "code",
   "execution_count": 20,
   "metadata": {},
   "outputs": [
    {
     "name": "stdout",
     "output_type": "stream",
     "text": [
      "4999950000\n",
      "循环100000次完成\n",
      "函数执行完成耗时： 0.019168853759765625\n"
     ]
    }
   ],
   "source": [
    "# 装饰器的使用\n",
    "import time\n",
    "\n",
    "\n",
    "# 定义装饰器\n",
    "def decorator(func):\n",
    "    def inner():\n",
    "        # 内部函数对已有函数进行装饰\n",
    "        # 获取时间距离1970-1-1 0:0:1的时间差\n",
    "        begin = time.time()\n",
    "        func()\n",
    "        end = time.time()\n",
    "        \n",
    "        result = end - begin\n",
    "        print(\"函数执行完成耗时：\", result)\n",
    "        \n",
    "    return inner\n",
    "\n",
    "@decorator # work = decorator(work), work = inner\n",
    "def work():\n",
    "    result = 0\n",
    "    for i in range(100000):\n",
    "        result += i\n",
    "    print(result)\n",
    "    print(\"循环100000次完成\")\n",
    "        \n",
    "work()"
   ]
  },
  {
   "cell_type": "markdown",
   "metadata": {},
   "source": [
    "# 通用的装饰器：可以装饰任意类型的函数"
   ]
  },
  {
   "cell_type": "code",
   "execution_count": 21,
   "metadata": {},
   "outputs": [
    {
     "name": "stdout",
     "output_type": "stream",
     "text": [
      "正在努力执行加法计算\n",
      "结果为： 3\n"
     ]
    }
   ],
   "source": [
    "# 装饰带有参数的函数\n",
    "# 定义装饰器\n",
    "def decorator(func):\n",
    "    # 使用装饰器装饰已有函数的时候，内部函数的类型和要装饰的已有函数的类型保持一致\n",
    "    def inner(a, b):\n",
    "        # 在内部函数对已有函数进行装饰\n",
    "        print(\"正在努力执行加法计算\")\n",
    "        func(a, b)\n",
    "        \n",
    "    return inner\n",
    "\n",
    "\n",
    "# 用装饰器语法糖方式装饰带有参数的函数\n",
    "@decorator # add_num = decorator(add_num), add_num = inner\n",
    "def add_num(num1, num2):\n",
    "    result = num1 + num2\n",
    "    print(\"结果为：\", result)\n",
    "    \n",
    "add_num(1, 2)"
   ]
  },
  {
   "cell_type": "code",
   "execution_count": 22,
   "metadata": {},
   "outputs": [
    {
     "name": "stdout",
     "output_type": "stream",
     "text": [
      "正在努力执行加法计算\n",
      "结果为： 3\n"
     ]
    }
   ],
   "source": [
    "# 装饰带有参数和返回值的函数\n",
    "def decorator(func):\n",
    "    # 使用装饰器装饰已有函数的时候，内部函数的类型和要装饰的已有函数的类型保持一致\n",
    "    def inner(a, b):\n",
    "        # 在内部函数对已有函数进行装饰\n",
    "        print(\"正在努力执行加法计算\")\n",
    "        num = func(a, b)\n",
    "        return num\n",
    "        \n",
    "    return inner\n",
    "\n",
    "\n",
    "# 用装饰器语法糖方式装饰带有参数的函数\n",
    "@decorator # add_num = decorator(add_num), add_num = inner\n",
    "def add_num(num1, num2):\n",
    "    result = num1 + num2\n",
    "    return result\n",
    "    \n",
    "result = add_num(1, 2)\n",
    "print(\"结果为：\", result)"
   ]
  },
  {
   "cell_type": "code",
   "execution_count": 25,
   "metadata": {},
   "outputs": [
    {
     "name": "stdout",
     "output_type": "stream",
     "text": [
      "正在努力执行加法计算\n",
      "结果为： 3\n"
     ]
    }
   ],
   "source": [
    "# 装饰带有不定长参数和返回值的函数\n",
    "# 该装饰器还可以成为通用的装饰器\n",
    "def decorator(func):\n",
    "    # 使用装饰器装饰已有函数的时候，内部函数的类型和要装饰的已有函数的类型保持一致\n",
    "    def inner(*args, **kwargs):\n",
    "        # 在内部函数对已有函数进行装饰\n",
    "        print(\"正在努力执行加法计算\")\n",
    "        \n",
    "        # *args:把元组里面的每一个元素，按照位置参数的方式进行传参\n",
    "        # **kwargs:把字典里面的每一个键值对，按照关键字的方式进行传参\n",
    "        # 这里对元组和字典进行拆包，仅限于结合不定长参数的函数调用\n",
    "        num = func(*args, **kwargs)\n",
    "        return num\n",
    "        \n",
    "    return inner\n",
    "\n",
    "\n",
    "# 用装饰器语法糖方式装饰带有参数的函数\n",
    "@decorator # add_num = decorator(add_num), add_num = inner\n",
    "def add_num(*args, **kwargs):\n",
    "    result = 0\n",
    "    for value in args:\n",
    "        result += value\n",
    "        \n",
    "    for value in kwargs.values():\n",
    "        result += value\n",
    "    \n",
    "    return result\n",
    "    \n",
    "result = add_num(1, 2)\n",
    "print(\"结果为：\", result)"
   ]
  },
  {
   "cell_type": "code",
   "execution_count": 26,
   "metadata": {},
   "outputs": [
    {
     "name": "stdout",
     "output_type": "stream",
     "text": [
      "正在努力执行加法计算\n",
      "哈哈\n"
     ]
    }
   ],
   "source": [
    "# 该装饰器还可以成为通用的装饰器\n",
    "def decorator(func):\n",
    "    # 使用装饰器装饰已有函数的时候，内部函数的类型和要装饰的已有函数的类型保持一致\n",
    "    def inner(*args, **kwargs):\n",
    "        # 在内部函数对已有函数进行装饰\n",
    "        print(\"正在努力执行加法计算\")\n",
    "        \n",
    "        # *args:把元组里面的每一个元素，按照位置参数的方式进行传参\n",
    "        # **kwargs:把字典里面的每一个键值对，按照关键字的方式进行传参\n",
    "        # 这里对元组和字典进行拆包，仅限于结合不定长参数的函数调用\n",
    "        num = func(*args, **kwargs)\n",
    "        return num\n",
    "        \n",
    "    return inner\n",
    "\n",
    "@decorator\n",
    "def show():\n",
    "    return \"哈哈\"\n",
    "\n",
    "result = show()\n",
    "print(result)"
   ]
  },
  {
   "cell_type": "markdown",
   "metadata": {},
   "source": [
    "# 多个装饰器的使用\n",
    "- 多个装饰器的装饰过程是: 离函数最近的装饰器先装饰，然后外面的装饰器再进行装饰，由内到外的装饰过程"
   ]
  },
  {
   "cell_type": "code",
   "execution_count": 29,
   "metadata": {},
   "outputs": [
    {
     "name": "stdout",
     "output_type": "stream",
     "text": [
      "make_p装饰器执行了\n",
      "make_div装饰器执行了\n",
      "<div><p>人生苦短，我用python!</p></div>\n"
     ]
    }
   ],
   "source": [
    "# 多个装饰器的使用\n",
    "# 定义装饰器\n",
    "def make_div(func):\n",
    "    print(\"make_div装饰器执行了\")\n",
    "    \n",
    "    def inner():\n",
    "        # 在内部函数对已有函数进行装饰\n",
    "        result = \"<div>\" + func() + \"</div>\"\n",
    "        return result\n",
    "        \n",
    "    return inner\n",
    "\n",
    "\n",
    "# 定义装饰器\n",
    "def make_p(func):\n",
    "    print(\"make_p装饰器执行了\")\n",
    "    \n",
    "    def inner():\n",
    "        # 在内部函数对已有函数进行装饰\n",
    "        result = \"<p>\" + func() + \"</p>\"\n",
    "        return result\n",
    "        \n",
    "    return inner\n",
    "\n",
    "# 多个装饰器的装饰过程：由内到外的一个装饰过程，先执行内部装饰器，在执行外部的装饰器\n",
    "# 原理剖析：content = make_div(make_p(content))\n",
    "# 分步拆解：content = make_p(content),内部装饰器装饰完成content = make_p.inner\n",
    "# content = make_div(make_p.inner)\n",
    "@make_div\n",
    "@make_p\n",
    "def content():\n",
    "    return \"人生苦短，我用python!\"\n",
    "\n",
    "\n",
    "result = content()\n",
    "print(result)"
   ]
  },
  {
   "cell_type": "markdown",
   "metadata": {},
   "source": [
    "# 带有参数的装饰器\n",
    "- 带有参数的装饰器介绍\n",
    "    - 带有参数的装饰器就是使用装饰器装饰函数的时候可以传入指定参数，语法格式: @装饰器(参数,...)\n",
    "    - 使用带有参数的装饰器，其实是在装饰器外面又包裹了一个函数，使用该函数接收参数，返回是装饰器，因为 @ 符号需要配合装饰器实例使用"
   ]
  },
  {
   "cell_type": "code",
   "execution_count": 34,
   "metadata": {},
   "outputs": [
    {
     "name": "stdout",
     "output_type": "stream",
     "text": [
      "正在努力执行加法计算\n",
      "3\n",
      "正在努力执行减法计算\n",
      "-3\n"
     ]
    }
   ],
   "source": [
    "# 带有参数的装饰器\n",
    "def return_decorator(flag):\n",
    "    # 装饰器，装饰器只能接收一个参数并且是函数\n",
    "    def decorator(func):\n",
    "        def inner(a, b):\n",
    "            if flag == \"+\":\n",
    "                print(\"正在努力执行加法计算\")\n",
    "            elif flag == \"-\":\n",
    "                print(\"正在努力执行减法计算\")\n",
    "            func(a, b)\n",
    "        return inner\n",
    "    # 当调用函数的时候可以返回一个装饰器decorator\n",
    "    return decorator\n",
    "\n",
    "\n",
    "# 加法计算\n",
    "@return_decorator(\"+\") # decorator = return_dacorator(\"+\"),@decorator => add_num = decorator(add_num)\n",
    "def add_num(a, b):\n",
    "    result = a + b\n",
    "    print(result)\n",
    "    \n",
    "    \n",
    "# 减法计算\n",
    "@return_decorator(\"-\")\n",
    "def sub_num(a, b):\n",
    "    result = a - b\n",
    "    print(result)\n",
    "    \n",
    "    \n",
    "add_num(1, 2)\n",
    "sub_num(1, 4)\n",
    "\n",
    "# 带有参数的装饰器，其实就是定义了一个函数，让函数接收参数，在函数内部返回的是一个装饰器"
   ]
  },
  {
   "cell_type": "markdown",
   "metadata": {},
   "source": [
    "# 类装饰器的使用\n",
    "- 想要让类的实例对象能够像函数一样进行调用，需要在类里面使用call方法，把类的实例变成可调用对象(callable)\n",
    "- 类装饰器装饰函数功能在call方法里面进行添加"
   ]
  },
  {
   "cell_type": "code",
   "execution_count": 36,
   "metadata": {},
   "outputs": [
    {
     "name": "stdout",
     "output_type": "stream",
     "text": [
      "课已讲完了\n",
      "快要下学啦\n"
     ]
    }
   ],
   "source": [
    "# 类装饰器：使用类装饰已有函数\n",
    "class MyDecorator(object):\n",
    "    def __init__(self, func):\n",
    "        self.func = func\n",
    "    \n",
    "    # 实现__call__这个方法，让对象变成可调用的对象，可调用的对象能够像函数一样使用\n",
    "    def __call__(self, *args, **kwargs):\n",
    "        # 对已有函数进行封装\n",
    "        print(\"课已讲完了\")\n",
    "        self.func()\n",
    "        \n",
    "        \n",
    "@MyDecorator # @MyDecorator => show = MyDecorator(show)\n",
    "def show():\n",
    "    print(\"快要下学啦\")\n",
    "    \n",
    "# 执行show 执行MyDecorator类创建实例对象 -> show() => 对象()\n",
    "show()\n",
    "\n",
    "\n",
    "# 扩展：函数之所以能够调用是因为函数内部使用了__call__"
   ]
  },
  {
   "cell_type": "code",
   "execution_count": 4,
   "metadata": {},
   "outputs": [
    {
     "name": "stdout",
     "output_type": "stream",
     "text": [
      "键已存在\n",
      "{'a': 1, 'b': 2, 'c': 3}\n",
      "添加成功\n",
      "{'a': 1, 'b': 2, 'c': 3, 'd': 4}\n"
     ]
    }
   ],
   "source": [
    "# 有一个 字典{'a':1,'b':2,'c':3},现在有一个这个需求：\n",
    "# 1).向字典中添加新的键值对，如果字典中的键，已经存在，则取消添加，打印提示：键已经存在。\n",
    "# 2).如果键不存在，则添加到字典中。（请使用装饰器来实现,顺便复习下*args和**kwargs的用法）\n",
    "\n",
    "dt = {'a':1,'b':2,'c':3}\n",
    "# 定义装饰器\n",
    "def decorator(func):\n",
    "    def inner(key, value):\n",
    "        for i in dt:\n",
    "            if key == i:\n",
    "                print(\"键已存在\")\n",
    "                print(dt)\n",
    "                break\n",
    "        else:\n",
    "            print(\"添加成功\")\n",
    "            func(key, value)\n",
    "    return inner\n",
    "\n",
    "\n",
    "@decorator\n",
    "def add_dict(key, value):\n",
    "    dt[key] = value\n",
    "    print(dt)\n",
    "\n",
    "    \n",
    "# 存在的键\n",
    "add_dict(\"a\", 5)\n",
    "# 不存在的键\n",
    "add_dict(\"d\", 4)"
   ]
  },
  {
   "cell_type": "code",
   "execution_count": null,
   "metadata": {},
   "outputs": [],
   "source": []
  }
 ],
 "metadata": {
  "kernelspec": {
   "display_name": "Python 3",
   "language": "python",
   "name": "python3"
  },
  "language_info": {
   "codemirror_mode": {
    "name": "ipython",
    "version": 3
   },
   "file_extension": ".py",
   "mimetype": "text/x-python",
   "name": "python",
   "nbconvert_exporter": "python",
   "pygments_lexer": "ipython3",
   "version": "3.7.4"
  }
 },
 "nbformat": 4,
 "nbformat_minor": 4
}
