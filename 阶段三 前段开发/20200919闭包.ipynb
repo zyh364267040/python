{
 "cells": [
  {
   "cell_type": "markdown",
   "metadata": {},
   "source": [
    "# 闭包\n",
    "- 闭包的定义:\n",
    "    - 在函数嵌套的前提下，内部函数使用了外部函数的变量，并且外部函数返回了内部函数，我们把这个使用外部函数变量的内部函数称为闭包\n",
    "- 闭包的构成条件\n",
    "    - 1. 在函数嵌套（函数里面在定义函数）的前提下\n",
    "    - 2. 内部函数使用了外部函数的变量（还包括外部函数的参数）\n",
    "    - 3. 外部函数返回内部函数\n",
    "- 闭包的作用\n",
    "    - 闭包可以保持外部函数内的变量，不会随着外部函数调用完而销毁\n",
    "    - 注意点：由于闭包引用了外部函数的变量，则外部函数的变量没有及时的释放，消耗内存"
   ]
  },
  {
   "cell_type": "code",
   "execution_count": 1,
   "metadata": {},
   "outputs": [
    {
     "name": "stdout",
     "output_type": "stream",
     "text": [
      "结果: 11\n",
      "结果: 20\n"
     ]
    }
   ],
   "source": [
    "# 闭包\n",
    "# 闭包的作用：可以保存外部函数的变量\n",
    "\n",
    "# 闭包的形成条件\n",
    "# 1. 函数嵌套\n",
    "# 2. 内部函数使用了外部函数的变量或者参数\n",
    "# 3. 外部函数返回内部函数，这个使用了外部函数变量的内部函数称为闭包\n",
    "\n",
    "# 1. 函数嵌套\n",
    "def func_out():\n",
    "    # 外部函数\n",
    "    num1 = 10\n",
    "    \n",
    "    def  func_inner(num2):\n",
    "        # 内部函数\n",
    "        # 2. 内部函数必须使用了外部函数的变量\n",
    "        result = num1  + num2\n",
    "        print(\"结果:\", result)\n",
    "        \n",
    "    # 3. 外部函数要返回内部函数，这个使用了外部函数变量的内部函数称为闭包\n",
    "    return func_inner\n",
    "\n",
    "# 获取闭包对象\n",
    "# 这个new_func就是闭包\n",
    "# 这里的new_func = func_inner\n",
    "new_func = func_out()\n",
    "# 执行闭包\n",
    "new_func(1)\n",
    "new_func(10)"
   ]
  },
  {
   "cell_type": "markdown",
   "metadata": {},
   "source": [
    "# 闭包的使用\n",
    "- 实现步骤说明\n",
    "    - 1. 定义外部函数接收不同的配置信息参数，参数是人名\n",
    "    - 2. 定义内部函数接收对话信息参数\n",
    "    - 3. 在内部函数里面把配置信息和对话信息进行拼接输出\n",
    "- 闭包案例说明:闭包还可以提高代码的可重用性，不需要再手动定义额外的功能函数。"
   ]
  },
  {
   "cell_type": "code",
   "execution_count": 2,
   "metadata": {},
   "outputs": [
    {
     "name": "stdout",
     "output_type": "stream",
     "text": [
      "4467531840\n",
      "4467532416\n",
      "tom:哥们，过来一下，让我打死你\n",
      "jeery:你傻呀！打死我都不去\n",
      "tom:过来吧！我不打死你\n",
      "jeery:谁信你呀\n"
     ]
    }
   ],
   "source": [
    "# 闭包的使用\n",
    "# 外部函数接收姓名参数\n",
    "def config_name(name):\n",
    "    # 内部函数保存外部函数的参数，并且完成数据显示的组成\n",
    "    def inner(msg):\n",
    "        print(name + \":\" + msg)\n",
    "        \n",
    "    print(id(inner))\n",
    "    # 外部函数要返回内部函数\n",
    "    return inner\n",
    "\n",
    "# 创建tom闭包实例（对象）\n",
    "tom = config_name(\"tom\")\n",
    "# 创建jeery闭包实例\n",
    "jeery = config_name(\"jeery\")\n",
    "# 如果执行tom闭包，因为已经保存的name参数，那么以后再输入的时候都是tom说：xxx\n",
    "tom(\"哥们，过来一下，让我打死你\")\n",
    "jeery(\"你傻呀！打死我都不去\")\n",
    "tom(\"过来吧！我不打死你\")\n",
    "jeery(\"谁信你呀\")"
   ]
  },
  {
   "cell_type": "markdown",
   "metadata": {},
   "source": [
    "# 修改闭包内使用的外部变量\n",
    "- 修改闭包内使用的外部函数变量使用 nonlocal 关键字来完成。"
   ]
  },
  {
   "cell_type": "code",
   "execution_count": 4,
   "metadata": {},
   "outputs": [
    {
     "name": "stdout",
     "output_type": "stream",
     "text": [
      "修改前的外部变量： 10\n",
      "30\n",
      "修改后的外部变量： 20\n",
      "30\n"
     ]
    }
   ],
   "source": [
    "# 修改闭包内使用的外部函数变量\n",
    "# 1. 函数嵌套\n",
    "def func_out():\n",
    "    # 外部函数的变量\n",
    "    num1 = 10\n",
    "    \n",
    "    def func_inner():\n",
    "        # 在闭包内修改外部函数的变量\n",
    "        # num1 = 20 本意是修改外部函数变量，其实在闭包内定义了一个局部变量\n",
    "        # 在闭包内修改外部函数的变量需要nonlocal关键字\n",
    "        nonlocal num1\n",
    "        num1 = 20\n",
    "        \n",
    "        # 2. 内部要使用外部函数的变量\n",
    "        result = num1 + 10\n",
    "        print(result)\n",
    "        \n",
    "    print(\"修改前的外部变量：\", num1)\n",
    "    func_inner()\n",
    "    print(\"修改后的外部变量：\", num1)\n",
    "    \n",
    "    # 3. 返回内部函数\n",
    "    return func_inner\n",
    "\n",
    "# 创建闭包对象\n",
    "new_func = func_out()\n",
    "new_func()"
   ]
  },
  {
   "cell_type": "code",
   "execution_count": null,
   "metadata": {},
   "outputs": [],
   "source": []
  }
 ],
 "metadata": {
  "kernelspec": {
   "display_name": "Python 3",
   "language": "python",
   "name": "python3"
  },
  "language_info": {
   "codemirror_mode": {
    "name": "ipython",
    "version": 3
   },
   "file_extension": ".py",
   "mimetype": "text/x-python",
   "name": "python",
   "nbconvert_exporter": "python",
   "pygments_lexer": "ipython3",
   "version": "3.8.5"
  }
 },
 "nbformat": 4,
 "nbformat_minor": 4
}
