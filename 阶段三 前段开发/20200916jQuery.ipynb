{
 "cells": [
  {
   "cell_type": "markdown",
   "metadata": {},
   "source": [
    "# jQuery"
   ]
  },
  {
   "cell_type": "markdown",
   "metadata": {},
   "source": [
    "### jquery的介绍\n",
    "- 定义\n",
    "    - jQuery是对JavaScript的封装，它是免费、开源的JavaScript函数库，jQuery 极大地简化了 JavaScript 编程。\n",
    "- 作用\n",
    "    - jQuery和JavaScript它们的作用一样，都是负责网页行为操作，增加网页和用户的交互效果的，只不过jQuery简化了JavaScript编程，jQuery实现交互效果更简单\n",
    "- 优点\n",
    "    - jQuery兼容了现在主流的浏览器，增加了程序员的开发效率。\n",
    "    - jQuery简化了 JavaScript 编程，代码编写更加简单。"
   ]
  },
  {
   "cell_type": "markdown",
   "metadata": {},
   "source": [
    "### jquery的用法\n",
    "- jQuery的入口函数\n",
    "    - 我们知道使用js获取标签元素，需要页面加载完成以后再获取，我们通过给onload事件属性设置了一个函数来获取标签元素，而jquery提供了ready函数来解决这个问题，保证获取标签元素没有问题，它的速度比原生的 window.onload 更快"
   ]
  },
  {
   "cell_type": "markdown",
   "metadata": {},
   "source": [
    "### jquery选择器\n",
    "- 种类\n",
    "    - 1. 标签选择器\n",
    "    - 2. 类选择器\n",
    "    - 3. id选择器\n",
    "    - 4. 层级选择器\n",
    "    - 5. 属性选择器\n",
    "- 说明:可以使用length属性来判断标签是否选择成功, 如果length大于0表示选择成功，否则选择失败。"
   ]
  },
  {
   "cell_type": "markdown",
   "metadata": {},
   "source": [
    "### 选择集过滤\n",
    "- 选择集过滤就是在选择标签的集合里面过滤自己需要的标签\n",
    "    - 选择集过滤可以使用has方法和eq方法来完成\n",
    "    - jquery给标签设置样式使用css方法\n",
    "- 选择集过滤的操作\n",
    "    - has(选择器名称)方法，表示选取包含指定选择器的标签\n",
    "    - eq(索引)方法，表示选取指定索引的标签"
   ]
  },
  {
   "cell_type": "markdown",
   "metadata": {},
   "source": [
    "### 选择集转移\n",
    "- 选择集转移就是以选择的标签为参照，然后获取转移后的标签\n",
    "- 选择集转移操作\n",
    "    - `$('#box').prev()`; 表示选择id是box元素的上一个的同级元素\n",
    "    - `$('#box').prevAll()`; 表示选择id是box元素的上面所有的同级元素\n",
    "    - `$('#box').next()`; 表示选择id是box元素的下一个的同级元素\n",
    "    - `$('#box').nextAll()`; 表示选择id是box元素的下面所有的同级元素\n",
    "    - `$('#box').parent()`; 表示选择id是box元素的父元素\n",
    "    - `$('#box').children()`; 表示选择id是box元素的所有子元素\n",
    "    - `$('#box').siblings()`; 表示选择id是box元素的其它同级元素\n",
    "    - `$('#box').find('.myClass')`; 表示选择id是box元素的class等于myClass的元素"
   ]
  },
  {
   "cell_type": "markdown",
   "metadata": {},
   "source": [
    "### 获取和设置元素内容\n",
    "- html方法的使用\n",
    "    - jquery中的html方法可以获取和设置标签的html内容\n",
    "    - 给指定标签追加html内容使用append方法"
   ]
  },
  {
   "cell_type": "markdown",
   "metadata": {},
   "source": [
    "### 获取和设置元素属性\n",
    "- prop方法的使用\n",
    "    - 之前使用css方法可以给标签设置样式属性，那么设置标签的其它属性可以使用prop方法了。\n",
    "    - 获取value属性和设置value属性还可以通过val方法来完成。"
   ]
  },
  {
   "cell_type": "markdown",
   "metadata": {},
   "source": [
    "### jquery事件\n",
    "- 常用事件\n",
    "    - click() 鼠标单击\n",
    "    - blur() 元素失去焦点\n",
    "    - focus() 元素获得焦点\n",
    "    - mouseover() 鼠标进入（进入子元素也触发）\n",
    "    - mouseout() 鼠标离开（离开子元素也触发）\n",
    "    - ready() DOM加载完成\n",
    "    - 说明:\n",
    "        - this指的是当前发生事件的对象，但是它是一个原生js对象\n",
    "        - $(this) 指的是当前发生事件的jquery对象"
   ]
  },
  {
   "cell_type": "markdown",
   "metadata": {},
   "source": [
    "### 事件代理\n",
    "- 事件代理介绍\n",
    "    - 事件代理就是利用事件冒泡的原理(事件冒泡就是事件会向它的父级一级一级传递),把事件加到父级上，通过判断事件来源，执行相应的子元素的操作，事件代理首先可以极大减少事件绑定次数，提高性能；其次可以让新加入的子元素也可以拥有相同的操作。\n",
    "    - 说明:\n",
    "        - 当点击子元素div，它的点击事件会向它父元素传递，也会触发了父元素的点击事件，这就是事件冒泡。\n",
    "- delegate方法参数说明:\n",
    "    - delegate(childSelector,event,function)\n",
    "        - childSelector: 子元素的选择器\n",
    "        - event: 事件名称，比如: 'click'\n",
    "        - function: 当事件触发执行的函数"
   ]
  },
  {
   "cell_type": "markdown",
   "metadata": {},
   "source": [
    "### JavaScript对象的介绍\n",
    "- JavaScript 中的所有事物都是对象：字符串、数值、数组、函数等都可以认为是对象，此外，JavaScript 允许自定义对象，对象可以拥有属性和方法\n",
    "- JavaScript创建对象操作\n",
    "    - 创建自定义javascript对象有两种方式:\n",
    "        - 通过顶级Object类型来实例化一个对象\n",
    "        - 通过对象字面量创建一个对象\n",
    "    - 说明:调用属性和方法的操作都是通过点语法的方式来完成，对象的创建推荐使用字面量方式，因为更加简单"
   ]
  },
  {
   "cell_type": "markdown",
   "metadata": {},
   "source": [
    "### json\n",
    "- json的介绍\n",
    "    - json是 JavaScript Object Notation 的首字母缩写，翻译过来就是javascript对象表示法，这里说的json就是类似于javascript对象的字符串，它同时是一种数据格式，目前这种数据格式比较流行，逐渐替换掉了传统的xml数据格式\n",
    "- json有两种格式：\n",
    "    - 对象格式\n",
    "        - 对象格式的json数据，使用一对大括号({})，大括号里面放入key:value形式的键值对，多个键值对使用逗号分隔。\n",
    "        - 格式说明:json中的(key)属性名称和字符串值需要用双引号引起来，用单引号或者不用引号会导致读取数据错误\n",
    "    - 数组格式\n",
    "        - 数组格式的json数据，使用一对中括号([])，中括号里面的数据使用逗号分隔\n",
    "- json数据转换成JavaScript对象\n",
    "    - json本质上是字符串，如果在js中操作json数据，可以将json字符串转化为JavaScript对象"
   ]
  },
  {
   "cell_type": "markdown",
   "metadata": {},
   "source": [
    "### ajax\n",
    "- ajax的介绍\n",
    "    - ajax 是 Asynchronous JavaScript and XML的简写，ajax一个前后台配合的技术，它可以让 javascript 发送异步的 http 请求，与后台通信进行数据的获取，ajax 最大的优点是实现局部刷新，ajax可以发送http请求，当获取到后台数据的时候更新页面显示数据实现局部刷新，在这里大家只需要记住，当前端页面想和后台服务器进行数据交互就可以使用ajax了\n",
    "    - 这里提示一下大家, 在html页面使用ajax需要在web服务器环境下运行, 一般向自己的web服务器发送ajax请求\n",
    "- ajax的使用\n",
    "    - jquery将它封装成了一个方法`$.ajax()`，我们可以直接用这个方法来执行ajax请求\n",
    "    - ajax方法的参数说明:\n",
    "        - url 请求地址\n",
    "        - type 请求方式，默认是'GET'，常用的还有'POST'\n",
    "        - dataType 设置返回的数据格式，常用的是'json'格式\n",
    "        - data 设置发送给服务器的数据，没有参数不需要设置\n",
    "        - success 设置请求成功后的回调函数\n",
    "        - error 设置请求失败后的回调函数\n",
    "        - async 设置是否异步，默认值是'true'，表示异步，一般不用写\n",
    "        - 同步和异步说明\n",
    "        - 同步是一个ajax请求完成另外一个才可以请求，需要等待上一个ajax请求完成，好比线程同步。\n",
    "        - 异步是多个ajax同时请求，不需要等待其它ajax请求完成， 好比线程异步。\n",
    "    - ajax的简写方式:\n",
    "        - `$.ajax按照请求方式可以简写成$.get或者$.post方式`\n",
    "    - `$.get和$.post`方法的参数说明:\n",
    "        - `$.get(url,data,success(data, status, xhr),dataType).error(func)`\n",
    "        - `$.post(url,data,success(data, status, xhr),dataType).error(func)`\n",
    "            - 1. url 请求地址\n",
    "            - 2. data 设置发送给服务器的数据，没有参数不需要设置\n",
    "            - 3. success 设置请求成功后的回调函数\n",
    "                - data 请求的结果数据\n",
    "                - status 请求的状态信息, 比如: \"success\"\n",
    "                - xhr 底层发送http请求XMLHttpRequest对象\n",
    "            - 4. dataType 设置返回的数据格式\n",
    "                - \"xml\"\n",
    "                - \"html\"\n",
    "                - \"text\"\n",
    "                - \"json\"\n",
    "            - 5. error 表示错误异常处理\n",
    "                - func 错误异常回调函数"
   ]
  },
  {
   "cell_type": "code",
   "execution_count": null,
   "metadata": {},
   "outputs": [],
   "source": []
  }
 ],
 "metadata": {
  "kernelspec": {
   "display_name": "Python 3",
   "language": "python",
   "name": "python3"
  },
  "language_info": {
   "codemirror_mode": {
    "name": "ipython",
    "version": 3
   },
   "file_extension": ".py",
   "mimetype": "text/x-python",
   "name": "python",
   "nbconvert_exporter": "python",
   "pygments_lexer": "ipython3",
   "version": "3.8.5"
  }
 },
 "nbformat": 4,
 "nbformat_minor": 4
}
