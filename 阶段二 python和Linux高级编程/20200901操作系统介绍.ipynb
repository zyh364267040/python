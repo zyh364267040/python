{
 "cells": [
  {
   "cell_type": "markdown",
   "metadata": {},
   "source": [
    "# 操作系统\n",
    "- 操作系统直接运行在计算机上的系统软件，它是控制硬件和支持软件运行的计算机程序\n",
    "- 作用：向下控制硬件向上支持软件的运行，具有承上启下的作用\n",
    "- Ubuntu操作系统属于Linux操作系统中的一种，免费的\n",
    "- Ubuntu操作系统窗口菜单条会隐藏，鼠标移动上去会显示，而Windows操作系统的窗口菜单条不会隐藏\n",
    "- Windows操作系统有可能会有多个盘符(C、D、E、F)\n",
    "- Ubuntu操作系统没有多个盘符，只有一个根目录(/)\n",
    "- Ubuntu操作系统比Windows操作系统运行更加稳定"
   ]
  },
  {
   "cell_type": "markdown",
   "metadata": {},
   "source": [
    "## Linux内核\n",
    "- Linux内核是操作系统内部**操作和控制硬件设备的核心程序**，他是由芬兰人**林纳斯**开发的(git也是由此人开发)\n",
    "- 真正操作和控制硬件是由内核来完成的，操作系统是基于内核开发出来的\n"
   ]
  },
  {
   "cell_type": "code",
   "execution_count": null,
   "metadata": {},
   "outputs": [],
   "source": []
  }
 ],
 "metadata": {
  "kernelspec": {
   "display_name": "Python 3",
   "language": "python",
   "name": "python3"
  },
  "language_info": {
   "codemirror_mode": {
    "name": "ipython",
    "version": 3
   },
   "file_extension": ".py",
   "mimetype": "text/x-python",
   "name": "python",
   "nbconvert_exporter": "python",
   "pygments_lexer": "ipython3",
   "version": "3.7.4"
  }
 },
 "nbformat": 4,
 "nbformat_minor": 4
}
