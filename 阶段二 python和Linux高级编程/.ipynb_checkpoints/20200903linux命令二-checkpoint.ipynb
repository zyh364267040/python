{
 "cells": [
  {
   "cell_type": "markdown",
   "metadata": {},
   "source": [
    "# Linux命令二"
   ]
  },
  {
   "cell_type": "markdown",
   "metadata": {},
   "source": [
    "### 查看文件内容命令\n",
    "- cat：查看小型文件\n",
    "    - cat命令结合重定向可以完成多个文件的合并\n",
    "- gedit：文件编辑命令，可以查看和编辑文件\n",
    "- more：分屏查看大型文件\n",
    "    - 当查看内容信息过长无法在一屏上显示时，可以使用more命令在终端分配显示文件内容\n",
    "    - 空格：显示下一屏信息\n",
    "    - 回车：显示下一行信息\n",
    "    - b：显示上一屏信息\n",
    "    - f：显示下一屏信息\n",
    "    - q：退出\n",
    "- （|）管道命令\n",
    "    - 管道就是存储终端数据的容器\n",
    "    - 管道（|）一般结合more命令使用，主要是分配查看终端显示内容"
   ]
  },
  {
   "cell_type": "markdown",
   "metadata": {},
   "source": [
    "### 软连接\n",
    "- 命令：ln -s 源文件路径（使用绝对路径）软连接\n",
    "- 类似于Windows下的快捷方式，当一个源文件的目录层级比较深，我们想要方便使用它可以给源文件创建一个软连接\n",
    "- 如果软连接和源文件不在同一目录，源文件要是用绝对路径，不能使用相对路径\n",
    "- 删除源文件则软连接失效\n",
    "- 可以给目录创建软连接"
   ]
  },
  {
   "cell_type": "markdown",
   "metadata": {},
   "source": [
    "### 硬链接\n",
    "- 类似于源文件的一个别名，也就是说这两个名字指向的是同一文件数据\n",
    "- 命令：ln 源文件路径 硬链接\n",
    "- 创建硬链接使用相对路径和绝对路径都可以\n",
    "- 删除源文件，硬链接还可以访问到数据\n",
    "- 创建硬链接，硬连接数会加1，删除源文件或者硬链接，硬链接数会减1\n",
    "- 创建软链接，硬链接数不会加1\n",
    "- 不能给目录创建硬链接\n",
    "- 硬链接数，就是文件数据被文件名使用的次数，好比引用数\n",
    "- 硬链接的作用是可以给重要文件创建硬链接，能够防止文件数据被误删\n",
    "- 删除源文件，软连接失效，但是硬链接依然可以使用"
   ]
  },
  {
   "cell_type": "markdown",
   "metadata": {},
   "source": [
    "### 文本搜索命令\n",
    "- 命令：grep \"aa\"(引号可以省略) hello.py\n",
    "    - -i：忽略大小写\n",
    "    - -n：显示匹配行号\n",
    "    - -v：显示不包含匹配文本的所有行\n",
    "- 结合正则表达式\n",
    "    - ^：以指定字符串开头 grep \"^a\" hello.py\n",
    "    - $：以指定字符串结尾 grep \"a$\" hello.py\n",
    "    - .：匹配一个非换行符的字符 grep \"t.o\" hello.py\n",
    "- grep命令还可以文本搜索管道中的内容，比如ls / | grep \"lib\""
   ]
  },
  {
   "cell_type": "markdown",
   "metadata": {},
   "source": [
    "### 查找文件命令\n",
    "- 命令：find 指定查找目录 -name \"文件名\"      在指定目录下查找文件（包括目录）\n",
    "- -name：根据文件名（包括目录名）字查找 find . -name \"11.txt\"\n",
    "- 通配符\n",
    "    - *：代表0个或多个任意字符\n",
    "    - ?：代表任意一个字符\n",
    "- 通配符不仅能结合find命令使用，还可以结合其他命令使用，比如：ls、mv、cp、rm等，这里需要注意只有find命令使用通配符需要加上引号\n"
   ]
  },
  {
   "cell_type": "code",
   "execution_count": null,
   "metadata": {},
   "outputs": [],
   "source": [
    "### 压缩和解压缩命令\n",
    "- "
   ]
  }
 ],
 "metadata": {
  "kernelspec": {
   "display_name": "Python 3",
   "language": "python",
   "name": "python3"
  },
  "language_info": {
   "codemirror_mode": {
    "name": "ipython",
    "version": 3
   },
   "file_extension": ".py",
   "mimetype": "text/x-python",
   "name": "python",
   "nbconvert_exporter": "python",
   "pygments_lexer": "ipython3",
   "version": "3.7.4"
  }
 },
 "nbformat": 4,
 "nbformat_minor": 4
}
