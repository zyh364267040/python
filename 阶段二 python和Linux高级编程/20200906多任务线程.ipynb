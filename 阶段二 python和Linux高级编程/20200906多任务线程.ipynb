{
 "cells": [
  {
   "cell_type": "markdown",
   "metadata": {},
   "source": [
    "# 多任务线程"
   ]
  },
  {
   "cell_type": "markdown",
   "metadata": {},
   "source": [
    "### 线程\n",
    "- 线程是实现多任务的另一种方式\n",
    "- 概念\n",
    "    - 线程是进程中执行代码的一个分支，每个执行分支（线程）要想工作执行代码需要cpu进行调度，也就是说线程是cpu调度的基本单位，每个进程至少都有一个线程，而这个线程就是我们通常说的主线程\n",
    "- 多线程可以完成多任务\n",
    "- 说明：程序启动默认会有一个主线程，程序员自己创建的线程可以称为子线程，多线程可以完成多任务"
   ]
  },
  {
   "cell_type": "markdown",
   "metadata": {},
   "source": [
    "### 多线程的使用\n",
    "- 导入线程模块\n",
    "    - import threading\n",
    "- 线程类 Thread 参数说明\n",
    "    - Thread([group[,target[,name[,args[,kwargs]]]]])\n",
    "        - group：线程组，目前只能使用None\n",
    "        - target：执行的目标任务名\n",
    "        - args：以元组的方式给执行任务传参\n",
    "        - kwargs：以字典的方式给执行任务传参\n",
    "        - name：线程名，一般不用设置\n",
    "- 启动线程使用 start 方法\n",
    "- 小结\n",
    "    - 导入线程模块\n",
    "        - import threading\n",
    "    - 创建子线程并指定执行的任务\n",
    "        - sub_thread = threading.Thread(target=任务名)\n",
    "    - 启动线程执行任务\n",
    "        - sub_thread.start()"
   ]
  },
  {
   "cell_type": "code",
   "execution_count": 1,
   "metadata": {},
   "outputs": [
    {
     "name": "stdout",
     "output_type": "stream",
     "text": [
      "main_thread: <_MainThread(MainThread, started 6768)>\n",
      "sing: <Thread(Thread-6, started 11420)>\n",
      "唱歌中...\n",
      "dance: <Thread(Thread-7, started 12556)>\n",
      "跳舞中...\n",
      "唱歌中...\n",
      "跳舞中...\n",
      "唱歌中...\n",
      "跳舞中...\n"
     ]
    }
   ],
   "source": [
    "# 1. 导入线程模块\n",
    "import threading\n",
    "import time\n",
    "\n",
    "\n",
    "def sing():\n",
    "    # 获取当前线程\n",
    "    current_thread = threading.current_thread()\n",
    "    print(\"sing:\", current_thread)\n",
    "    \n",
    "    for i in range(3):\n",
    "        print(\"唱歌中...\")\n",
    "        time.sleep(0.2)\n",
    "        \n",
    "        \n",
    "def dance():\n",
    "    # 获取当前线程\n",
    "    current_thread = threading.current_thread()\n",
    "    print(\"dance:\", current_thread)\n",
    "    \n",
    "    for i in range(3):\n",
    "        print(\"跳舞中...\")\n",
    "        time.sleep(0.2)\n",
    "\n",
    "\n",
    "if __name__ == \"__main__\":\n",
    "    \n",
    "    # 获取当前线程\n",
    "    current_thread = threading.current_thread()\n",
    "    print(\"main_thread:\", current_thread)\n",
    "    \n",
    "    # 2. 创建子线程\n",
    "    sing_thread = threading.Thread(target=sing)\n",
    "    dance_thread = threading.Thread(target=dance)\n",
    "    # 3. 启动子线程执行对应的任务\n",
    "    sing_thread.start()\n",
    "    dance_thread.start()"
   ]
  },
  {
   "cell_type": "markdown",
   "metadata": {},
   "source": [
    "### 线程执行带有参数的任务\n",
    "- Thread类执行任务并给任务传参有两种方式\n",
    "    - args表示以元组的方式给执行任务传参，一定要和参数的顺序保持一致\n",
    "    - kwargs表示以字典的方式给执行任务传参，字典中 key 一定要和参数名保持一致"
   ]
  },
  {
   "cell_type": "code",
   "execution_count": 5,
   "metadata": {},
   "outputs": [
    {
     "name": "stdout",
     "output_type": "stream",
     "text": [
      "name:李四 age:20\n",
      "name:王五 age:30\n"
     ]
    }
   ],
   "source": [
    "import threading\n",
    "\n",
    "\n",
    "def show_info(name, age):\n",
    "    print(f\"name:{name} age:{age}\")\n",
    "\n",
    "\n",
    "if __name__ == \"__main__\":\n",
    "    # 创建子线程\n",
    "    # 以元组方式传参，要保证元组里面元素的顺序和函数的参数顺序保持一致\n",
    "    sub_thread = threading.Thread(target=show_info, args=(\"李四\", 20))\n",
    "    # 启动线程执行对应的任务\n",
    "    sub_thread.start()\n",
    "    \n",
    "    # 以字典的方式传参，要保证字典里面的 kew 和函数的参数名保持一致\n",
    "    sub_thread = threading.Thread(target=show_info, kwargs={\"name\": \"王五\", \"age\": 30})\n",
    "    # 启动线程执行对应的任务\n",
    "    sub_thread.start()"
   ]
  },
  {
   "cell_type": "code",
   "execution_count": 7,
   "metadata": {},
   "outputs": [
    {
     "name": "stdout",
     "output_type": "stream",
     "text": [
      "<Thread(Thread-32, started 5328)>\n",
      "<Thread(Thread-29, started 13080)>\n",
      "<Thread(Thread-23, started 15492)>\n",
      "<Thread(Thread-27, started 11140)>\n",
      "<Thread(Thread-26, started 6656)>\n",
      "<Thread(Thread-20, started 14700)>\n",
      "<Thread(Thread-14, started 10168)>\n",
      "<Thread(Thread-33, started 2580)>\n",
      "<Thread(Thread-31, started 14928)>\n",
      "<Thread(Thread-17, started 1256)><Thread(Thread-19, started 14920)>\n",
      "<Thread(Thread-30, started 1568)>\n",
      "\n",
      "<Thread(Thread-16, started 2564)>\n",
      "<Thread(Thread-22, started 1160)>\n",
      "<Thread(Thread-21, started 4740)>\n",
      "<Thread(Thread-28, started 12808)>\n",
      "<Thread(Thread-18, started 7796)>\n",
      "<Thread(Thread-15, started 3792)>\n",
      "<Thread(Thread-24, started 10828)>\n",
      "<Thread(Thread-25, started 7940)>\n"
     ]
    }
   ],
   "source": [
    "# 线程之间执行是无序的\n",
    "import threading\n",
    "import time\n",
    "\n",
    "\n",
    "def task():\n",
    "    time.sleep(1)\n",
    "    # 获取当前线程\n",
    "    print(threading.current_thread())\n",
    "\n",
    "\n",
    "if __name__ == \"__main__\":\n",
    "    # 循环创建大量线程，测试线程之间执行是否无序\n",
    "    for i in range(20):\n",
    "        # 每循环一次创建一个子线程\n",
    "        sub_thread = threading.Thread(target=task)\n",
    "        # 启动子线程执行对应的任务\n",
    "        sub_thread.start()\n",
    "        \n",
    "    # 结论：线程之间执行是无序的，具体哪个线程先执行是由cpu调度决定的"
   ]
  },
  {
   "cell_type": "code",
   "execution_count": 8,
   "metadata": {},
   "outputs": [],
   "source": [
    "# 进程之间执行是无序的\n",
    "import multiprocessing\n",
    "import time\n",
    "\n",
    "\n",
    "def task():\n",
    "    time.sleep(1)\n",
    "    # 获取当前进程\n",
    "    print(multiprocessing.current_process())\n",
    "\n",
    "\n",
    "if __name__ == \"__main__\":\n",
    "    # 循环创建大量进程，测试进程之间执行是否无序\n",
    "    for i in range(20):\n",
    "        # 每循环一次创建一个子进程\n",
    "        sub_process = multiprocessing.Process(target=task)\n",
    "        # 启动子进程执行对应的任务\n",
    "        sub_process.start()\n",
    "        \n",
    "    # 结论：进程之间执行也是无序的，是由操作系统调度进程来决定的"
   ]
  },
  {
   "cell_type": "code",
   "execution_count": 2,
   "metadata": {},
   "outputs": [
    {
     "name": "stdout",
     "output_type": "stream",
     "text": [
      "任务执行中...\n",
      "任务执行中...\n",
      "任务执行中...\n",
      "任务执行中...\n",
      "任务执行中...\n",
      "任务执行中...\n",
      "任务执行中...\n",
      "任务执行中...\n",
      "over\n",
      "任务执行中...\n",
      "任务执行中...\n"
     ]
    }
   ],
   "source": [
    "# 主线程会等待所有的子线程执行结束再结束\n",
    "import threading\n",
    "import time\n",
    "\n",
    "\n",
    "def task():\n",
    "    while True:\n",
    "        print(\"任务执行中...\")\n",
    "        time.sleep(0.3)\n",
    "\n",
    "\n",
    "if __name__ == \"__main__\":\n",
    "    # 创建子线程\n",
    "    # daemon=True 表示创建的子线程守护主线程，主线程退出子线程直接销毁\n",
    "    # sub_thread = threading.Thread(target=task, daemon=True)\n",
    "    sub_thread = threading.Thread(target=task)\n",
    "    # 把子线程设置成为守护主线程\n",
    "    sub_thread.setDaemon(True)\n",
    "    sub_thread.start()\n",
    "    \n",
    "    # 主线程延时执行1秒钟\n",
    "    time.sleep(1)\n",
    "    print(\"over\")\n",
    "    \n",
    "# 结论：主线程会等待子线程执行结束再结束\n",
    "# 解决办法：把子线程设置成为守护主线程即可\n",
    "\n",
    "# jupyter中不会停止，在pycharm中没问题"
   ]
  },
  {
   "cell_type": "code",
   "execution_count": 4,
   "metadata": {},
   "outputs": [
    {
     "name": "stdout",
     "output_type": "stream",
     "text": [
      "add: 0\n",
      "add: 1\n",
      "add: 2\n",
      "添加数据完成: [0, 1, 2]\n",
      "read: [0, 1, 2]\n"
     ]
    }
   ],
   "source": [
    "# 线程之间共享全局变量\n",
    "import threading\n",
    "import time\n",
    "\n",
    "\n",
    "# 定义全局变量\n",
    "g_list = []\n",
    "\n",
    "\n",
    "# 添加数据的任务\n",
    "def add_data():\n",
    "    for i in range(3):\n",
    "        # 每循环一次把数据添加到全局变量\n",
    "        g_list.append(i)\n",
    "        print(\"add:\", i)\n",
    "        time.sleep(0.3)\n",
    "    \n",
    "    # 代码执行到此，说明添加数据完成\n",
    "    print(\"添加数据完成:\", g_list)\n",
    "    \n",
    "\n",
    "# 读取数据的任务\n",
    "def read_data():\n",
    "    print(\"read:\", g_list)\n",
    "\n",
    "\n",
    "if __name__ == \"__main__\":\n",
    "    # 创建添加数据的子线程\n",
    "    add_thread = threading.Thread(target=add_data)\n",
    "    # 创建读取数据的子线程\n",
    "    read_thread = threading.Thread(target=read_data)\n",
    "    \n",
    "    # 启动线程执行对应的任务\n",
    "    add_thread.start()\n",
    "    # 让当前线程（主线程）等待添加数据的子线程执行完成以后代码再继续执行\n",
    "    add_thread.join()\n",
    "    read_thread.start()\n",
    "\n",
    "# 结论：线程之间共享全局变量\n",
    "\n",
    "# 因为多线程在同一个进程里面，所以多线程可以共享全局变量"
   ]
  },
  {
   "cell_type": "code",
   "execution_count": 7,
   "metadata": {},
   "outputs": [
    {
     "name": "stdout",
     "output_type": "stream",
     "text": [
      "task1: 1000000\n",
      "task2: 2000000\n"
     ]
    }
   ],
   "source": [
    "# 线程之间共享全局变量数据出现错误问题\n",
    "import threading\n",
    "\n",
    "\n",
    "# 全局变量\n",
    "g_num = 0\n",
    "\n",
    "\n",
    "# 循环100万次执行的任务\n",
    "def tesk1():\n",
    "    for i in range(1000000):\n",
    "        # 每循环一次给全局变量加1\n",
    "        global g_num # 表示要声明修改全局变量的内存地址\n",
    "        g_num += 1\n",
    "    \n",
    "    # 代码执行到此说明数据计算完成\n",
    "    print(\"task1:\", g_num)\n",
    "    \n",
    "    \n",
    "# 循环100万次执行的任务\n",
    "def tesk2():\n",
    "    for i in range(1000000):\n",
    "        # 每循环一次给全局变量加1\n",
    "        global g_num # 表示要声明修改全局变量的内存地址\n",
    "        g_num += 1\n",
    "    \n",
    "    # 代码执行到此说明数据计算完成\n",
    "    print(\"task2:\", g_num)\n",
    "\n",
    "\n",
    "if __name__ == \"__main__\":\n",
    "    # 创建两个子线程\n",
    "    first_thread = threading.Thread(target=tesk1)\n",
    "    second_thread = threading.Thread(target=tesk2)\n",
    "    \n",
    "    # 启动线程执行任务\n",
    "    first_thread.start()\n",
    "    # 线程等待，让第一个线程先执行，然后在让第二个线程再执行，保证数据不会有问题\n",
    "    first_thread.join() # 主线程等待第一个子线程执行完成以后代码再继续往下执行\n",
    "    second_thread.start()"
   ]
  },
  {
   "cell_type": "markdown",
   "metadata": {},
   "source": [
    "### 互斥锁\n",
    "- 对共享数据进行锁定，保证同一时刻只能有一个线程去操作\n",
    "- 互斥锁是**多个线程一起去抢**，抢到锁的线程先执行，没有抢到锁的线程需要等待，等互斥锁使用完释放后，其他等待的线程再去抢这个锁\n",
    "- 互斥锁的使用\n",
    "    - threading模块中定义了Lock变量，这个变量本质上是一个函数，通过调用这个函数可以获取一把互斥锁"
   ]
  },
  {
   "cell_type": "code",
   "execution_count": 10,
   "metadata": {},
   "outputs": [
    {
     "name": "stdout",
     "output_type": "stream",
     "text": [
      "task1: 1000000\n",
      "task2: 2000000\n"
     ]
    }
   ],
   "source": [
    "# 互斥锁\n",
    "import threading\n",
    "\n",
    "\n",
    "# 全局变量\n",
    "g_num = 0\n",
    "\n",
    "\n",
    "# 创建互斥锁，Lock本质上是一个函数，通过调用函数可以创建一个互斥锁\n",
    "lock = threading.Lock()\n",
    "\n",
    "\n",
    "# 循环100万次执行的任务\n",
    "def tesk1():\n",
    "    # 上锁\n",
    "    lock.acquire()\n",
    "    for i in range(1000000):\n",
    "        # 每循环一次给全局变量加1\n",
    "        global g_num # 表示要声明修改全局变量的内存地址\n",
    "        g_num += 1\n",
    "    \n",
    "    # 代码执行到此说明数据计算完成\n",
    "    print(\"task1:\", g_num)\n",
    "    # 释放锁\n",
    "    lock.release()\n",
    "    \n",
    "    \n",
    "# 循环100万次执行的任务\n",
    "def tesk2():\n",
    "    # 上锁\n",
    "    lock.acquire()\n",
    "    for i in range(1000000):\n",
    "        # 每循环一次给全局变量加1\n",
    "        global g_num # 表示要声明修改全局变量的内存地址\n",
    "        g_num += 1\n",
    "    \n",
    "    # 代码执行到此说明数据计算完成\n",
    "    print(\"task2:\", g_num)\n",
    "    # 释放锁\n",
    "    lock.release()\n",
    "\n",
    "\n",
    "if __name__ == \"__main__\":\n",
    "    # 创建两个子线程\n",
    "    first_thread = threading.Thread(target=tesk1)\n",
    "    second_thread = threading.Thread(target=tesk2)\n",
    "    \n",
    "    # 启动线程执行任务\n",
    "    first_thread.start()\n",
    "    \n",
    "    second_thread.start()\n",
    "    \n",
    "# 互斥锁可以保证同一时刻只有一个线程去执行代码，能够保证全局变量的数据没有问题\n",
    "# 线程等待和互斥锁都是把多任务改成单任务去执行，保证了数据的准确性，但是执行性能会下降"
   ]
  },
  {
   "cell_type": "markdown",
   "metadata": {},
   "source": [
    "# 死锁\n",
    "- 一直等待对方释放锁的情景\n",
    "- 结果：会造成应用程序的停止响应，不能再处理其他任务了"
   ]
  },
  {
   "cell_type": "code",
   "execution_count": 12,
   "metadata": {},
   "outputs": [
    {
     "name": "stdout",
     "output_type": "stream",
     "text": [
      "1\n",
      "4\n",
      "6\n",
      "下标越界: 3\n",
      "下标越界: 4\n",
      "下标越界: 5\n",
      "下标越界: 6\n",
      "下标越界: 7\n",
      "下标越界: 8\n",
      "下标越界: 9\n"
     ]
    }
   ],
   "source": [
    "# 需求：多线程同时根据下标在列表中取值，要保证同一时刻只能有一个线程去取值\n",
    "import threading\n",
    "\n",
    "\n",
    "# 创建互斥锁\n",
    "lock = threading.Lock()\n",
    "\n",
    "\n",
    "def get_value(index):\n",
    "    # 上锁\n",
    "    lock.acquire()\n",
    "    my_list = [1, 4, 6]\n",
    "    # 判断下标是否越界\n",
    "    if index >= len(my_list):\n",
    "        print(\"下标越界:\", index)\n",
    "        # 取值不成功，也需要释放互斥锁，不要影响后面的线程去取值\n",
    "        # 锁需要在合适的地方进行释放，防止死锁\n",
    "        lock.release()\n",
    "        return\n",
    "        \n",
    "    # 根据下标取值\n",
    "    value = my_list[index]\n",
    "    print(value)\n",
    "    # 释放锁\n",
    "    lock.release()\n",
    "    \n",
    "    \n",
    "if __name__ == \"__main__\":\n",
    "    # 创建大量线程，同时执行根据下标取值的任务\n",
    "    for i in range(10):\n",
    "        # 每循环一次创建一个子线程\n",
    "        sub_thread = threading.Thread(target=get_value, args=(i,))\n",
    "        # 启动线程执行任务\n",
    "        sub_thread.start()"
   ]
  },
  {
   "cell_type": "markdown",
   "metadata": {},
   "source": [
    "### 进程和线程的对比（面试会问）\n",
    "- 关系对比\n",
    "    - 1. 线程是依附在进程里面的，没有进程就没有线程\n",
    "    - 2. 一个进程默认提供一条线程，进程可以创建多个线程\n",
    "- 区别对比\n",
    "    - 1. 进程之间不共享全局变量\n",
    "    - 2. 线程之间共享全局变量，但是要注意资源竞争的问题，解决办法：互斥锁或者线程同步\n",
    "    - 3. 创建进程的资源开销要比创建线程的资源开销要大\n",
    "    - 4. 进程是操作系统资源分配的基本单位，线程是cpu调度的基本单位\n",
    "    - 5. 线程不能够独立执行，必须依存在进程中\n",
    "    - 6. 多进程开发要比单进程多线程开发稳定性要强\n",
    "优缺点对比\n",
    "    - 进程优缺点\n",
    "        - 优点：可以用多核\n",
    "        - 缺点：资源开销大\n",
    "    - 线程优缺点\n",
    "        - 优点：资源开销小\n",
    "        - 缺点：不能使用多核\n",
    "- 小结\n",
    "    - 进程和线程都是完成多任务的一种方式\n",
    "    - 多进程要比多线程消耗的资源多，但是多进程开发比单进程多线程开发稳定性要强某个进程挂掉不会影响其他进程\n",
    "    - 多进程可以使用cpu的多核运行，多线程可以共享全局变量\n",
    "    - 线程不能单独执行必须依附在进程里面"
   ]
  },
  {
   "cell_type": "code",
   "execution_count": 16,
   "metadata": {},
   "outputs": [
    {
     "name": "stdout",
     "output_type": "stream",
     "text": [
      "task1: 1000000\n",
      "task2: 2000000\n"
     ]
    }
   ],
   "source": [
    "# 使用互斥锁完成2个线程对同一个全局变量各加100万次的操作\n",
    "import threading\n",
    "\n",
    "\n",
    "# 定义全局变量\n",
    "g_num = 0\n",
    "\n",
    "\n",
    "# 创建互斥锁\n",
    "lock = threading.Lock()\n",
    "\n",
    "\n",
    "def task1():\n",
    "    # 上锁\n",
    "    lock.acquire()\n",
    "    for i in range(1000000):\n",
    "        # 声明全局变量\n",
    "        global g_num\n",
    "        g_num += 1\n",
    "        \n",
    "    print(\"task1:\", g_num)\n",
    "    # 解锁\n",
    "    lock.release()\n",
    "    \n",
    "    \n",
    "def task2():\n",
    "    # 上锁\n",
    "    lock.acquire()\n",
    "    for i in range(1000000):\n",
    "        # 声明全局变量\n",
    "        global g_num\n",
    "        g_num += 1\n",
    "        \n",
    "    print(\"task2:\", g_num)\n",
    "    # 解锁\n",
    "    lock.release()\n",
    "\n",
    "\n",
    "if __name__ == \"__main__\":\n",
    "    # 创建子线程\n",
    "    first_thread = threading.Thread(target=task1)\n",
    "    second_thread = threading.Thread(target=task2)\n",
    "    \n",
    "    # 启动子线程\n",
    "    first_thread.start()\n",
    "    second_thread.start()"
   ]
  },
  {
   "cell_type": "code",
   "execution_count": 20,
   "metadata": {},
   "outputs": [
    {
     "name": "stdout",
     "output_type": "stream",
     "text": [
      "1000000\n",
      "2000000\n"
     ]
    }
   ],
   "source": [
    "# 使用互斥锁完成2个线程对同一个全局变量各加100万次的操作\n",
    "# 此为答案方法\n",
    "import threading\n",
    "\n",
    "\n",
    "# 创建互斥锁\n",
    "lock = threading.Lock()\n",
    "\n",
    "\n",
    "# 定义全局变量\n",
    "g_num = 0\n",
    "\n",
    "\n",
    "def task():\n",
    "    # 上锁\n",
    "    lock.acquire()\n",
    "    for i in range(1000000):\n",
    "        # 声明全局变量\n",
    "        global g_num\n",
    "        g_num += 1\n",
    "        \n",
    "    print(g_num)\n",
    "    # 解锁\n",
    "    lock.release()\n",
    "\n",
    "\n",
    "if __name__ == \"__main__\":\n",
    "    # 创建子线程\n",
    "    t1 = threading.Thread(target=task)\n",
    "    t2 = threading.Thread(target=task)\n",
    "    \n",
    "    # 启动子线程\n",
    "    t1.start()\n",
    "    t2.start()"
   ]
  },
  {
   "cell_type": "code",
   "execution_count": null,
   "metadata": {},
   "outputs": [],
   "source": []
  }
 ],
 "metadata": {
  "kernelspec": {
   "display_name": "Python 3",
   "language": "python",
   "name": "python3"
  },
  "language_info": {
   "codemirror_mode": {
    "name": "ipython",
    "version": 3
   },
   "file_extension": ".py",
   "mimetype": "text/x-python",
   "name": "python",
   "nbconvert_exporter": "python",
   "pygments_lexer": "ipython3",
   "version": "3.7.4"
  }
 },
 "nbformat": 4,
 "nbformat_minor": 4
}
