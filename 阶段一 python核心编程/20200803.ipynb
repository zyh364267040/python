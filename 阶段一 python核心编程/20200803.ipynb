{
 "cells": [
  {
   "cell_type": "code",
   "execution_count": 3,
   "metadata": {},
   "outputs": [],
   "source": [
    "# PythonDraw.py(蟒蛇绘制)\n",
    "\n",
    "import turtle as t\n",
    "\n",
    "t.setup(650, 350)\n",
    "t.penup()\n",
    "t.fd(-250)\n",
    "t.pendown()\n",
    "t.pensize(25)\n",
    "t.pencolor('red')\n",
    "t.seth(-40)\n",
    "for i in range(4):\n",
    "    t.circle(40, 80)\n",
    "    t.circle(-40, 80)\n",
    "t.circle(40, 80/2)\n",
    "t.fd(40)\n",
    "t.circle(16, 180)\n",
    "t.fd(40 * 2/3)\n",
    "t.done()"
   ]
  }
 ],
 "metadata": {
  "kernelspec": {
   "display_name": "Python 3",
   "language": "python",
   "name": "python3"
  },
  "language_info": {
   "codemirror_mode": {
    "name": "ipython",
    "version": 3
   },
   "file_extension": ".py",
   "mimetype": "text/x-python",
   "name": "python",
   "nbconvert_exporter": "python",
   "pygments_lexer": "ipython3",
   "version": "3.7.4"
  }
 },
 "nbformat": 4,
 "nbformat_minor": 4
}
