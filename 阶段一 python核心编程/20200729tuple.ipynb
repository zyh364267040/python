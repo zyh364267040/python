{
 "cells": [
  {
   "cell_type": "markdown",
   "metadata": {},
   "source": [
    "# 元组\n",
    "- 数据不可修改\n",
    "- 注意：如果定义的元组只有⼀个数据，那么这个数据后⾯也要添加逗号，否则数据类型为括号内数据的类型\n",
    "- 不支持修改，只支持查找"
   ]
  },
  {
   "cell_type": "markdown",
   "metadata": {},
   "source": [
    "- 按下标查找数据\n",
    "- index()：查找某个数据，如果数据存在返回对应的下标，否则报错，语法和列表、字符串的index⽅法相同\n",
    "- count()：统计某个数据在当前元组出现的次数\n",
    "- len()：统计元组中数据的个数"
   ]
  },
  {
   "cell_type": "code",
   "execution_count": 1,
   "metadata": {},
   "outputs": [
    {
     "name": "stdout",
     "output_type": "stream",
     "text": [
      "aa\n",
      "1\n",
      "1\n",
      "0\n",
      "4\n"
     ]
    }
   ],
   "source": [
    "t1 = ('aa', 'bb', 'cc', 'bb')\n",
    "\n",
    "# 1. 下标\n",
    "print(t1[0])\n",
    "\n",
    "# 2. index()\n",
    "print(t1.index('bb'))\n",
    "# print(t1.index('bbb'))   找不到，报错\n",
    "\n",
    "# 3. count()\n",
    "print(t1.count('aa'))\n",
    "print(t1.count('aaa'))\n",
    "\n",
    "# 4. len()\n",
    "print(len(t1))"
   ]
  },
  {
   "cell_type": "code",
   "execution_count": 2,
   "metadata": {},
   "outputs": [
    {
     "name": "stdout",
     "output_type": "stream",
     "text": [
      "['cc', 'bb']\n",
      "cc\n",
      "('aa', 'bb', ['Tom', 'bb'])\n"
     ]
    }
   ],
   "source": [
    "# 注意：元组内的直接数据如果修改则⽴即报错\n",
    "# 但是如果元组⾥⾯有列表，修改列表⾥⾯的数据则是⽀持的，故⾃觉很重要\n",
    "\n",
    "t1 = ('aa', 'bb', 'cc', 'bb')\n",
    "# t1[0] = 'aaa'  会报错\n",
    "      \n",
    "t2 = ('aa', 'bb', ['cc', 'bb'])\n",
    "print(t2[2])\n",
    "print(t2[2][0])\n",
    "t2[2][0] = 'Tom'\n",
    "print(t2)"
   ]
  },
  {
   "cell_type": "code",
   "execution_count": null,
   "metadata": {},
   "outputs": [],
   "source": []
  }
 ],
 "metadata": {
  "kernelspec": {
   "display_name": "Python 3",
   "language": "python",
   "name": "python3"
  },
  "language_info": {
   "codemirror_mode": {
    "name": "ipython",
    "version": 3
   },
   "file_extension": ".py",
   "mimetype": "text/x-python",
   "name": "python",
   "nbconvert_exporter": "python",
   "pygments_lexer": "ipython3",
   "version": "3.7.4"
  }
 },
 "nbformat": 4,
 "nbformat_minor": 4
}
