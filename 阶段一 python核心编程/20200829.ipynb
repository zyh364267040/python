{
 "cells": [
  {
   "cell_type": "markdown",
   "metadata": {},
   "source": [
    "# 异常\n",
    "- 语法\n",
    "    - try:\n",
    "        - 可能发生错误的代码\n",
    "    - except:\n",
    "        - 如果出现异常执行的代码\n",
    "    - else:\n",
    "        - 没有发生异常执行的代码\n",
    "    - finally:\n",
    "        - 无论是否异常都要执行的代码"
   ]
  },
  {
   "cell_type": "markdown",
   "metadata": {},
   "source": [
    "## 捕获指定异常\n",
    "- 语法\n",
    "    - try:\n",
    "        - 可能发生错误的代码\n",
    "    - except 异常类型:\n",
    "        - 如果捕获到该异常类型执行的代码\n",
    "- 注意\n",
    "    - 如果尝试执行的代码的异常类型和要捕获的异常类型不一致，则无法捕获异常\n",
    "    - 一般try下方只放一行尝试执行的代码"
   ]
  },
  {
   "cell_type": "code",
   "execution_count": 2,
   "metadata": {},
   "outputs": [
    {
     "name": "stdout",
     "output_type": "stream",
     "text": [
      "有错误\n"
     ]
    }
   ],
   "source": [
    "# 需求：尝试执行打印num，捕获异常类型NameError，如果捕获到这个异常类型，执行打印：有错误\n",
    "try:\n",
    "    print(num)\n",
    "except NameError:\n",
    "    print(\"有错误\")"
   ]
  },
  {
   "cell_type": "code",
   "execution_count": 3,
   "metadata": {},
   "outputs": [
    {
     "name": "stdout",
     "output_type": "stream",
     "text": [
      "有错误\n"
     ]
    }
   ],
   "source": [
    "# 捕获多个指定异常\n",
    "# 当捕获多个异常时，可以把要捕获的异常类型的名字，放到except后，并使用元组的方式进行书写\n",
    "try:\n",
    "    print(1/0)\n",
    "except (NameError, ZeroDivisionError):\n",
    "    print(\"有错误\")"
   ]
  },
  {
   "cell_type": "code",
   "execution_count": 4,
   "metadata": {},
   "outputs": [
    {
     "name": "stdout",
     "output_type": "stream",
     "text": [
      "division by zero\n"
     ]
    }
   ],
   "source": [
    "# 捕获异常描述信息\n",
    "try:\n",
    "    print(1/0)\n",
    "except (NameError, ZeroDivisionError) as result:\n",
    "    print(result)"
   ]
  },
  {
   "cell_type": "code",
   "execution_count": 6,
   "metadata": {},
   "outputs": [
    {
     "name": "stdout",
     "output_type": "stream",
     "text": [
      "name 'num' is not defined\n"
     ]
    }
   ],
   "source": [
    "# 捕获所有异常\n",
    "# Exception是所有程序异常类的父类\n",
    "# 尝试执行打印num，捕获Exception打印异常描述信息\n",
    "try:\n",
    "    print(num)\n",
    "except Exception as result:\n",
    "    print(result)"
   ]
  },
  {
   "cell_type": "code",
   "execution_count": 7,
   "metadata": {},
   "outputs": [
    {
     "name": "stdout",
     "output_type": "stream",
     "text": [
      "1\n",
      "我是else，是没有异常的时候执行的代码\n"
     ]
    }
   ],
   "source": [
    "# 异常的else\n",
    "# else表示的是如果没有异常要执行的代码\n",
    "try:\n",
    "    print(1)\n",
    "except Exception as result:\n",
    "    print(result)\n",
    "else:\n",
    "    print(\"我是else，是没有异常的时候执行的代码\")"
   ]
  },
  {
   "cell_type": "code",
   "execution_count": 9,
   "metadata": {},
   "outputs": [],
   "source": [
    "# 异常的finally\n",
    "# finally表示的是无论是否异常都要执行的代码，例如关闭文件\n",
    "# 需求：尝试以r打开文件，如果有异常以w打开这个文件，最终关闭文件\n",
    "try:\n",
    "    f = open(\"test.txt\", \"r\")\n",
    "except:\n",
    "    f = open(\"test.txt\", \"w\")\n",
    "finally:\n",
    "    f.close()"
   ]
  },
  {
   "cell_type": "code",
   "execution_count": 13,
   "metadata": {},
   "outputs": [
    {
     "name": "stdout",
     "output_type": "stream",
     "text": [
      "a\n",
      "\n",
      "b\n",
      "\n",
      "程序被意外终止\n"
     ]
    }
   ],
   "source": [
    "# 需求1：尝试只读打开test.txt文件存在读取内容，不存在提示用户\n",
    "# 需求2：读取内容，循环读取，当无内容的时候退出循环，如果用户意外终止，提示用户已经被意外终止\n",
    "import time\n",
    "try:\n",
    "    f = open(\"test.txt\")\n",
    "    # 尝试循环读取内容\n",
    "    try:\n",
    "        while True:\n",
    "            con = f.readline()\n",
    "            # 如果读取完成退出循环\n",
    "            if len(con) == 0:\n",
    "                break\n",
    "            time.sleep(2)\n",
    "            print(con)\n",
    "    except:\n",
    "        # 在命令提示符中如果按下Ctrl+c结束终止的键\n",
    "        # 在jupyter中按终止也可以捕获到异常\n",
    "        print(\"程序被意外终止\")\n",
    "    finally:\n",
    "        f.close()\n",
    "except:\n",
    "    print(\"该文件不存在\")"
   ]
  },
  {
   "cell_type": "code",
   "execution_count": 18,
   "metadata": {},
   "outputs": [
    {
     "name": "stdin",
     "output_type": "stream",
     "text": [
      "请输入密码: 1\n"
     ]
    },
    {
     "name": "stdout",
     "output_type": "stream",
     "text": [
      "您输入的密码长度是1,密码不能少于3.\n"
     ]
    },
    {
     "name": "stdin",
     "output_type": "stream",
     "text": [
      "请输入密码: 2\n"
     ]
    },
    {
     "name": "stdout",
     "output_type": "stream",
     "text": [
      "您输入的密码长度是1,密码不能少于3.\n"
     ]
    },
    {
     "name": "stdin",
     "output_type": "stream",
     "text": [
      "请输入密码: 111111\n"
     ]
    },
    {
     "name": "stdout",
     "output_type": "stream",
     "text": [
      "密码设置完成\n"
     ]
    }
   ],
   "source": [
    "# 自定义异常\n",
    "# 在python中，抛出自定义异常的语法为raise异常类对象\n",
    "# 需求：密码长度不足，则报异常(用户输入密码，如果输入的长度不足3位，则报错，即抛出自定义异常，并捕获该异常)\n",
    "# 1.自定义异常类，继承Exception，魔法方法有init和str(设置异常描述信息)\n",
    "class ShortInputError(Exception):\n",
    "    def __init__(self, lenght, min_len):\n",
    "        # 用户输入的密码长度\n",
    "        self.lenght = lenght\n",
    "        # 系统要求的最少长度\n",
    "        self.min_len = min_len\n",
    "        \n",
    "    # 设置异常描述信息\n",
    "    def __str__(self):\n",
    "        return f\"您输入的密码长度是{self.lenght},密码不能少于{self.min_len}.\"\n",
    "    \n",
    "\n",
    "def main():\n",
    "    # 2.抛出异常 尝试执行，用户输入密码，如果长度小于3，抛出异常\n",
    "    while True:\n",
    "        try:\n",
    "            password = input(\"请输入密码:\")\n",
    "            if len(password) < 3:\n",
    "                # 抛出异常类创建的对象\n",
    "                raise ShortInputError(len(password), 3)\n",
    "        # 3.捕获异常\n",
    "        except Exception as result:\n",
    "            print(result)\n",
    "        else:\n",
    "            print(\"密码设置完成\")\n",
    "            break\n",
    "\n",
    "main()"
   ]
  },
  {
   "cell_type": "code",
   "execution_count": 6,
   "metadata": {},
   "outputs": [
    {
     "name": "stdout",
     "output_type": "stream",
     "text": [
      "['d', 'c', 'b', 'a']\n"
     ]
    }
   ],
   "source": [
    "a = \"abcd\"\n",
    "b = sorted(a, reverse=True)\n",
    "print(b)"
   ]
  },
  {
   "cell_type": "code",
   "execution_count": 8,
   "metadata": {},
   "outputs": [
    {
     "name": "stdin",
     "output_type": "stream",
     "text": [
      "请输入密码: 123\n"
     ]
    },
    {
     "name": "stdout",
     "output_type": "stream",
     "text": [
      "密码长度应为6-20，且只能包含数字。\n"
     ]
    }
   ],
   "source": [
    "\"\"\"\n",
    "密码格式校验程序\n",
    "要求从键盘输入密码\n",
    "校验格式是否符合一下规则：\n",
    "密码长度6-20，并且只能包含数字\n",
    "如果符合，打印出“密码校验成功”，如果不符合，打印出不符合的原因\n",
    "\"\"\"\n",
    "password = input(\"请输入密码:\")\n",
    "if 6 <= len(password) <= 20 and (password.isdigit()):\n",
    "    print(\"密码校验成功\")\n",
    "else:\n",
    "    print(\"密码长度应为6-20，且只能包含数字。\")"
   ]
  },
  {
   "cell_type": "code",
   "execution_count": 9,
   "metadata": {},
   "outputs": [
    {
     "name": "stdin",
     "output_type": "stream",
     "text": [
      "请输入您的姓名: zhou\n",
      "请输入您的电话号码: 112\n",
      "请输入您的性别: nan \n"
     ]
    },
    {
     "name": "stdout",
     "output_type": "stream",
     "text": [
      "姓名长度为6-20.\n"
     ]
    },
    {
     "name": "stdin",
     "output_type": "stream",
     "text": [
      "请输入您的姓名: 1111111\n",
      "请输入您的电话号码: 11111111111\n",
      "请输入您的性别: 男\n"
     ]
    },
    {
     "name": "stdout",
     "output_type": "stream",
     "text": [
      "您的姓名为1111111,您的电话号码为11111111111,您的性别为男.\n"
     ]
    }
   ],
   "source": [
    "\"\"\"\n",
    "名片管理器v1.0 升级版，记录一张名片\n",
    "使用个三个变量来记录用户输入的信息，包含姓名、电话、性别\n",
    "姓名长度不是在6-20范围内，则提示错误\n",
    "电话号码长度不是11，则提示错误\n",
    "性别不是男或女，则提示错误\n",
    "所有信息校验通过后，打印名片信息，程序结束\n",
    "\"\"\"\n",
    "while True:\n",
    "    name = input(\"请输入您的姓名:\")\n",
    "    tel = input(\"请输入您的电话号码:\")\n",
    "    gender = input(\"请输入您的性别:\")\n",
    "    if len(name) < 6 or len(name) > 20:\n",
    "        print(\"姓名长度为6-20.\")\n",
    "    elif len(tel) != 11:\n",
    "        print(\"电话号码长度应为11位.\")\n",
    "    elif gender not in [\"男\", \"女\"]:\n",
    "        print(\"性别输入错误\")\n",
    "    else:\n",
    "        print(f\"您的姓名为{name},您的电话号码为{tel},您的性别为{gender}.\")\n",
    "        break"
   ]
  },
  {
   "cell_type": "code",
   "execution_count": 12,
   "metadata": {},
   "outputs": [
    {
     "name": "stdout",
     "output_type": "stream",
     "text": [
      "[1, 3, 3, 5, 5, 7, 7, 9, 9, 11]\n",
      "[1, 3, 3, 5, 5, 7, 7, 9, 9, 11]\n"
     ]
    }
   ],
   "source": [
    "# 编程实现 把一个元素全为数字的列表中的所有偶数加1\n",
    "li1 = [1, 2, 3, 4, 5, 6, 7, 8, 9, 10]\n",
    "for i in li1:\n",
    "    if i % 2 == 0:\n",
    "        li1[li1.index(i)] = i + 1\n",
    "    \n",
    "print(li1)\n",
    "# 以下为参考答案\n",
    "li1 = [1, 2, 3, 4, 5, 6, 7, 8, 9, 10]\n",
    "li2 = []\n",
    "for i in li1:\n",
    "    if i % 2 == 0:\n",
    "        li2.append(i + 1)\n",
    "    else:\n",
    "        li2.append(i)\n",
    "print(li2)"
   ]
  },
  {
   "cell_type": "code",
   "execution_count": 16,
   "metadata": {},
   "outputs": [
    {
     "name": "stdout",
     "output_type": "stream",
     "text": [
      "h:1 e:1 l:3 o:2 d:1 r:1 w:1\n"
     ]
    }
   ],
   "source": [
    "# 统计字符串中，各个字符的个数，\"hello world\" 字符串统计的结果为： h:1 e:1 l:3 o:2 d:1 r:1 w:1，使用程序实现\n",
    "str1 = \"hello world\"\n",
    "print(f\"h:{str1.count('h')} e:{str1.count('e')} l:{str1.count('l')} o:{str1.count('o')} d:{str1.count('d')} r:{str1.count('r')} w:{str1.count('w')}\")"
   ]
  },
  {
   "cell_type": "code",
   "execution_count": 48,
   "metadata": {},
   "outputs": [
    {
     "name": "stdout",
     "output_type": "stream",
     "text": [
      "办公室1,有1名老师,分别是:G \n",
      "办公室2,有4名老师,分别是:C D E H \n",
      "办公室3,有3名老师,分别是:A B F \n"
     ]
    }
   ],
   "source": [
    "\"\"\"\n",
    "使用列表嵌套，完成8名老师随机分配3个办公室\n",
    "提示：\n",
    "定义一个列表存放8位老师\n",
    "names = ['A','B','C','D','E','F','G','H']，\n",
    "定义一个列表用来保存3个办公室\n",
    "offices = [[],[],[]]\n",
    "\"\"\"\n",
    "import random\n",
    "\n",
    "teachers = [\"A\", \"B\", \"C\", \"D\", \"E\", \"F\", \"G\", \"H\"]\n",
    "offices = [[], [], []]\n",
    "\n",
    "for teacher in teachers:\n",
    "    offices[random.randint(0, 2)].append(teacher)\n",
    "    \n",
    "i = 0\n",
    "while i < 3:\n",
    "    print(f\"办公室{i + 1},有{len(offices[i])}名老师,分别是:\", end=\"\")\n",
    "    for j in offices[i]:\n",
    "        print(j, end=\" \")\n",
    "    print()\n",
    "    i += 1"
   ]
  },
  {
   "cell_type": "code",
   "execution_count": 52,
   "metadata": {},
   "outputs": [
    {
     "name": "stdout",
     "output_type": "stream",
     "text": [
      "没有这个文件\n"
     ]
    }
   ],
   "source": [
    "\"\"\"\n",
    "试使用异常处理还完成以下操作\n",
    "打开一个名为text的文本文件，不确定是否存在这个文件，\n",
    "逐行读取这个文件，打印出每一行的信息，\n",
    "如果在读取过程中出现任何问题，则捕获异常告知用户，\n",
    "最后无论如何都需要关闭掉文件\n",
    "\"\"\"\n",
    "try:\n",
    "    f = open(\"test.txt\")\n",
    "    try:\n",
    "        while True:\n",
    "            con = f.readline()\n",
    "            if len(con) == 0:\n",
    "                break\n",
    "            print(con)\n",
    "    except Exception as error:\n",
    "        print(f\"报错信息是{error}\")\n",
    "    finally:\n",
    "        print(\"关闭文件\")\n",
    "        f.close()\n",
    "except:\n",
    "    print(\"没有这个文件\")"
   ]
  },
  {
   "cell_type": "code",
   "execution_count": 55,
   "metadata": {},
   "outputs": [
    {
     "name": "stdin",
     "output_type": "stream",
     "text": [
      "请输入您的密码: 123\n"
     ]
    },
    {
     "name": "stdout",
     "output_type": "stream",
     "text": [
      "密码长度必须为8位以上,您的密码长度为3.\n"
     ]
    },
    {
     "name": "stdin",
     "output_type": "stream",
     "text": [
      "请输入您的密码: 234\n"
     ]
    },
    {
     "name": "stdout",
     "output_type": "stream",
     "text": [
      "密码长度必须为8位以上,您的密码长度为3.\n"
     ]
    },
    {
     "name": "stdin",
     "output_type": "stream",
     "text": [
      "请输入您的密码: sdfs\n"
     ]
    },
    {
     "name": "stdout",
     "output_type": "stream",
     "text": [
      "密码长度必须为8位以上,您的密码长度为4.\n"
     ]
    },
    {
     "name": "stdin",
     "output_type": "stream",
     "text": [
      "请输入您的密码: dfds\n"
     ]
    },
    {
     "name": "stdout",
     "output_type": "stream",
     "text": [
      "密码长度必须为8位以上,您的密码长度为4.\n"
     ]
    },
    {
     "name": "stdin",
     "output_type": "stream",
     "text": [
      "请输入您的密码: gfdhdsgfsdgf\n"
     ]
    },
    {
     "name": "stdout",
     "output_type": "stream",
     "text": [
      "您输入的密码是gfdhdsgfsdgf\n"
     ]
    }
   ],
   "source": [
    "\"\"\"\n",
    "按照如下的要求编写代码：\n",
    "定义 input_password 函数，提示用户输入密码\n",
    "如果用户输入长度 < 8，抛出异常\n",
    "如果用户输入长度 >=8，返回输入的密码\n",
    "\"\"\"\n",
    "class ShortInputError(Exception):\n",
    "    def __init__(self, lenght, min_len):\n",
    "        self.lenght = lenght\n",
    "        self.min_len = min_len\n",
    "        \n",
    "    def __str__(self):\n",
    "        return f\"密码长度必须为{self.min_len}位以上,您的密码长度为{self.lenght}.\"\n",
    "    \n",
    "    \n",
    "def inputPassword():\n",
    "    while True:\n",
    "        try:\n",
    "            input_password = input(\"请输入您的密码:\")\n",
    "            if len(input_password) < 8:\n",
    "                # 抛出异常\n",
    "                raise ShortInputError(len(input_password), 8)\n",
    "            else:\n",
    "                print(f\"您输入的密码是{input_password}\")\n",
    "                break\n",
    "        except Exception as error:\n",
    "            print(error)\n",
    "\n",
    "inputPassword()"
   ]
  },
  {
   "cell_type": "code",
   "execution_count": null,
   "metadata": {},
   "outputs": [],
   "source": []
  }
 ],
 "metadata": {
  "kernelspec": {
   "display_name": "Python 3",
   "language": "python",
   "name": "python3"
  },
  "language_info": {
   "codemirror_mode": {
    "name": "ipython",
    "version": 3
   },
   "file_extension": ".py",
   "mimetype": "text/x-python",
   "name": "python",
   "nbconvert_exporter": "python",
   "pygments_lexer": "ipython3",
   "version": "3.7.4"
  }
 },
 "nbformat": 4,
 "nbformat_minor": 4
}
