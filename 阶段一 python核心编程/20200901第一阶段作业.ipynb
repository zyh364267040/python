{
 "cells": [
  {
   "cell_type": "code",
   "execution_count": 3,
   "metadata": {},
   "outputs": [
    {
     "name": "stdout",
     "output_type": "stream",
     "text": [
      "8 8\n"
     ]
    }
   ],
   "source": [
    "# 目的: 当x*y = 64的时候退出循环\n",
    "x = 1\n",
    "# 用于控制跳出外循环的标志\n",
    "flag = False\n",
    "while x< 10:\n",
    "    y = 1\n",
    "    while y< 10:\n",
    "        if x * y == 64:\n",
    "            # 修改标志可以跳出外循环\n",
    "            flag = True\n",
    "            break\n",
    "        y += 1\n",
    "    # 检查表示是否可以跳出外循环\n",
    "    if flag:\n",
    "        break\n",
    "    x += 1\n",
    "print(x, y)"
   ]
  },
  {
   "cell_type": "code",
   "execution_count": null,
   "metadata": {},
   "outputs": [],
   "source": [
    "# 请同学实现一个可以递归删除指定目录下面的固定格式的文件的程序()\n",
    "# 示例： remove（myproject，'pyc'） , 表示删除myproject目录中的所有以pyc文件结尾的文件\n",
    "# 答案解析，以删除txt文件为例\n",
    "import os\n",
    "import sys\n",
    "\n",
    "# remove 出指定目录下面的指定后对文件，支持嵌套目录中的删除\n",
    "def remove(rdir,suffix):\n",
    "    if not os.path.isdir(rdir):\n",
    "        print(\"目录不存在,请核对!\")\n",
    "        \n",
    "    #1. 获取当前目录下面的所有文件夹以及文件\n",
    "    files = os.listdir(rdir)\n",
    "    # 记录当前的路径，也就是ridr路径，需要拼接完整路径\n",
    "    pwd = rdir\n",
    "    #2. 遍历所有文件，检查是否是以suffix结尾的文件，如果是执行删除\n",
    "    for tmp in files:\n",
    "        # 判断当前的是文件还是目录\n",
    "        # 拼接完成路径\n",
    "        obpath = os.path.join(pwd,tmp)\n",
    "        \n",
    "        if os.path.isfile(obpath):\n",
    "            #3. 判断文件是否是以suffix 结尾的文件\n",
    "            if obpath.endswith(suffix):\n",
    "                # 如果是则说明是我们要删除的文件\n",
    "                os.remove(obpath)\n",
    "        else:\n",
    "            #4. 如果是目录则递归调用删除\n",
    "            print(obpath)\n",
    "            remove(obpath,suffix)\n",
    "    \n",
    "\n",
    "if __name__ == \"__main__\":\n",
    "    remove(\"mytest\",\".txt\")"
   ]
  },
  {
   "cell_type": "code",
   "execution_count": 4,
   "metadata": {},
   "outputs": [
    {
     "name": "stdout",
     "output_type": "stream",
     "text": [
      "['192', '168', '1', '109']\n",
      "['192', '168', '1', '109']\n",
      "['192', '168', '2', '255']\n",
      "['192', '168', '100', '200']\n",
      "['192', '168', '1', '8600']\n",
      "['192', '168', '1', '199']\n",
      "['192', '168', '1', '500']\n",
      "['192', '168', '1', '50']\n",
      "['192', '168', '1', '50']\n",
      "[('192.168.1.109', 6000), ('192.168.2.255', 8000), ('192.168.100.200', 8080), ('192.168.1.199', 8000)]\n",
      "[('192.168.1.109', 6000), ('192.168.2.255', 8000), ('192.168.100.200', 8080), ('192.168.1.199', 8000)]\n"
     ]
    }
   ],
   "source": [
    "\"\"\"\n",
    "请按照下面的要求完成代码编写\n",
    "【难度有一些请同学们做好准备】假如现有一组爬虫爬取的数据，每个元素包含了一个IP地址域端口号，[(\"192.168.1.109\",6000),(\"192.168.1.109\",None),(\"192.168.2.255\",8000),(\"192.168.100.200\",8080),(\"192.168.1.8600\",6000),(\"192.168.1.199\",8000),(\"192.168.1.500\",6000),(\"192.168.1.50\",80000),(\"192.168.1.50\",'80000')]，里面的部分数据有错误，\n",
    "编写代码中可以考虑使用列表推导式\n",
    "提示:\n",
    "1.  ip地址192.168.1.205 由点号分割的4个整数范围是0~255，端口是大于1~65535的数字\n",
    "2.  可以借助函数方法、灵活使用列表推导式、字符串操作、逻辑运算 等\n",
    "要求： 请同学们，列表推导式以外不要使用循环\n",
    "\"\"\"\n",
    "# 答案解析\n",
    "#遍历IP和端口满足要求则是我们需要的\n",
    "li =  [(\"192.168.1.109\",6000),(\"192.168.1.109\",None),(\"192.168.2.255\",8000),(\"192.168.100.200\",8080),(\"192.168.1.8600\",6000),(\"192.168.1.199\",8000),(\"192.168.1.500\",6000),(\"192.168.1.50\",80000),(\"192.168.1.50\",'80000')]\n",
    "# 检查IP是否满足标准\n",
    "def ipok(ip):\n",
    "    # 分割IP地址，获取数字列表\n",
    "    ipli = ip.split('.')\n",
    "    print(ipli)\n",
    "    # 列表推导式，如果不符合对应字段设置False\n",
    "    tmp = [True if 0<int(num)<=255 else False for num in ipli ]\n",
    "    # 判断False与没有在里面，如果再里面说明Ip有问题\n",
    "    return not False in tmp\n",
    "\n",
    "# 检查端口是否满足规则\n",
    "def portok(port):\n",
    "    # 端口不能为None 且是整数，范围在0~65535直接\n",
    "    return port is not None and isinstance(port,int) and 0<port<65535\n",
    "    \n",
    "# 提取没有问题的ip 与端口\n",
    "hli = [item for item in li if ipok(item[0]) and portok(item[1])]\n",
    "print(hli)    \n",
    "                                                                                   \n",
    "# ========================我是华丽的分割线===============================\n",
    "#  终极合并版本\n",
    "hli = [item for item in li if (not False in [True if 0<int(num)<=255 else False for num in item[0].split('.') ]) and (item[1] is not None and isinstance(item[1],int) and 0<item[1]<65535)]\n",
    "print(hli)"
   ]
  },
  {
   "cell_type": "code",
   "execution_count": null,
   "metadata": {},
   "outputs": [],
   "source": [
    "\"\"\"\n",
    "题目：现在有2个类，一个是博主类一个是粉丝类，要求博主可以发表博客，博主提供查看博客的内容，博主可以提供粉丝关注功能，\n",
    "博主提供粉丝取消关注的功能，当博主更新状态的时候，粉丝可以得知博主的状态更新了！提供博客的评论功能，便于当新博客更新后，粉丝评论\n",
    "要求：\n",
    "1. 同学们百度关键词 `python 观察者模式`，查阅观察者模式相关的资料\n",
    "2. 同学们请使用观察者模式实现此案例\n",
    "3. 里面提供了2个类，其他的类需要同学自己抽取，方法也需要同学分析！\n",
    "4. 请同学们灵活使用基础所学内容\n",
    "5. 把关注博主的粉丝信息保存到文件中fans.info，以及博主发表的博客内容，博客对应的评论内容保存到 blogs.info\n",
    "   1. fans.info 格式 ： ['粉丝: 粉丝1', '粉丝: 粉丝2']\n",
    "   2. blogs.info 格式：\n",
    "      [{id:1,content:xxx,comments:[conment1,comment2]},xxx]  # 可以考虑使用推导式\n",
    "提醒： 实际开发也是这样的一个状态，可能是边查看资料边写代码，提前感受下！\n",
    "\"\"\""
   ]
  }
 ],
 "metadata": {
  "kernelspec": {
   "display_name": "Python 3",
   "language": "python",
   "name": "python3"
  },
  "language_info": {
   "codemirror_mode": {
    "name": "ipython",
    "version": 3
   },
   "file_extension": ".py",
   "mimetype": "text/x-python",
   "name": "python",
   "nbconvert_exporter": "python",
   "pygments_lexer": "ipython3",
   "version": "3.7.4"
  }
 },
 "nbformat": 4,
 "nbformat_minor": 4
}
