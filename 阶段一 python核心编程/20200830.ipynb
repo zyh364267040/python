{
 "cells": [
  {
   "cell_type": "code",
   "execution_count": 3,
   "metadata": {},
   "outputs": [
    {
     "name": "stdout",
     "output_type": "stream",
     "text": [
      "1\n",
      "name\n",
      "李四\n",
      "dict_keys(['name'])\n",
      "dict_values(['李四'])\n",
      "{}\n"
     ]
    }
   ],
   "source": [
    "\"\"\"\n",
    "存在字典 info = {'name':'张三'}， 简答该如何完成以下操作：\n",
    "1，修改name的值为李四\n",
    "2， 清空整个字典\n",
    "3， 测量键值对的个数\n",
    "4，获取字典中的所有key\n",
    "5， 获取字典的所有value\n",
    "\"\"\"\n",
    "info = {\"name\":\"张三\"}\n",
    "info[\"name\"] = \"李四\"\n",
    "\n",
    "num = len(info)\n",
    "print(num)\n",
    "\n",
    "for key in info.keys():\n",
    "    print(key)\n",
    "    \n",
    "for value in info.values():\n",
    "    print(value)\n",
    "    \n",
    "print(info.keys())\n",
    "print(info.values())\n",
    "    \n",
    "info.clear()\n",
    "print(info)"
   ]
  },
  {
   "cell_type": "code",
   "execution_count": 6,
   "metadata": {},
   "outputs": [
    {
     "name": "stdin",
     "output_type": "stream",
     "text": [
      "请输入您的姓名: zhou\n",
      "请输入您的年龄: 18\n",
      "请输入您的学号: 007\n",
      "请输入您的QQ号码: 123\n",
      "请输入您的微信: 234\n",
      "请输入您的住址: 天津\n"
     ]
    },
    {
     "name": "stdout",
     "output_type": "stream",
     "text": [
      "{'name': 'zhou', 'age': '18', 'stu_id': '007', 'qq': '123', 'wechat': '234', 'add': '天津'}\n"
     ]
    }
   ],
   "source": [
    "# 编程：使用字典来存储一个人的信息（姓名、年龄、学号、QQ、微信、住址等）\n",
    "# 这些信息来自 键盘的输入\n",
    "name = input(\"请输入您的姓名:\")\n",
    "age = input(\"请输入您的年龄:\")\n",
    "stu_id = input(\"请输入您的学号:\")\n",
    "qq = input(\"请输入您的QQ号码:\")\n",
    "wechat = input(\"请输入您的微信:\")\n",
    "add = input(\"请输入您的住址:\")\n",
    "\n",
    "info = {}\n",
    "info[\"name\"] = name\n",
    "info[\"age\"] = age\n",
    "info[\"stu_id\"] = stu_id\n",
    "info[\"qq\"] = qq\n",
    "info[\"wechat\"] = wechat\n",
    "info[\"add\"] = add\n",
    "print(info)"
   ]
  },
  {
   "cell_type": "code",
   "execution_count": 8,
   "metadata": {},
   "outputs": [
    {
     "name": "stdout",
     "output_type": "stream",
     "text": [
      "<class 'range'>\n"
     ]
    }
   ],
   "source": [
    "ls = range(1, 3)\n",
    "print(type(ls))"
   ]
  },
  {
   "cell_type": "code",
   "execution_count": 12,
   "metadata": {},
   "outputs": [
    {
     "name": "stdout",
     "output_type": "stream",
     "text": [
      "[1, 3, 2, 5, 6, 4, 8, 9]\n"
     ]
    }
   ],
   "source": [
    "# 现在有一个列表 li = [1, 1, 3, 2, 5, 6, 4, 8, 6, 4, 9, 8]\n",
    "# 请使用程序,去除重复的数字(不能使用set方法)\n",
    "li = [1, 1, 3, 2, 5, 6, 4, 8, 6, 4, 9, 8]\n",
    "li2 = []\n",
    "for i in li:\n",
    "    if i not in li2:\n",
    "        li2.append(i)\n",
    "        \n",
    "print(li2)"
   ]
  },
  {
   "cell_type": "code",
   "execution_count": 21,
   "metadata": {},
   "outputs": [
    {
     "name": "stdout",
     "output_type": "stream",
     "text": [
      "3479\n"
     ]
    }
   ],
   "source": [
    "# 已知字符串 s = \"aAsmr3idd4bgs7Dlsf9eAF\"\n",
    "# 将字符串中的数字取出，生成一个新的字符串。\n",
    "s = \"aAsmr3idd4bgs7Dlsf9eAF\"\n",
    "new_s = \"\"\n",
    "for i in s:\n",
    "    if i.isdigit():\n",
    "        new_s += i\n",
    "        \n",
    "print(new_s)"
   ]
  },
  {
   "cell_type": "code",
   "execution_count": 22,
   "metadata": {},
   "outputs": [
    {
     "name": "stdout",
     "output_type": "stream",
     "text": [
      "6hello2pyth3onniha4o\n"
     ]
    }
   ],
   "source": [
    "# 现有字符串 s = \"6hel@#$lo2 pyt \\nh3on ni\\t ha4o%$\" ，去掉所有不是字母和数字的字符，打印结果：\"请理以后的结果为：6hello2pyth3onniha4o\"\n",
    "s = \"6hel@#$lo2 pyt \\nh3on ni\\t ha4o%$\"\n",
    "new_s = \"\"\n",
    "for i in s:\n",
    "    if i.isalnum():\n",
    "        new_s += i\n",
    "        \n",
    "print(new_s)"
   ]
  },
  {
   "cell_type": "code",
   "execution_count": 23,
   "metadata": {},
   "outputs": [
    {
     "name": "stdout",
     "output_type": "stream",
     "text": [
      "(0, 'a')\n",
      "(1, 'b')\n",
      "(2, 'c')\n",
      "(3, 'd')\n"
     ]
    }
   ],
   "source": [
    "# 给定一个列表为chars = ['a', 'b', 'c', 'd']，请使用for循环实现带下标索引的遍历，结果为：\n",
    "# 0 a\n",
    "# 1 b\n",
    "# 2 c\n",
    "# 3 d\n",
    "\n",
    "chars = ['a', 'b', 'c', 'd']\n",
    "for i in enumerate(chars):\n",
    "    print(i)"
   ]
  },
  {
   "cell_type": "code",
   "execution_count": 25,
   "metadata": {},
   "outputs": [
    {
     "name": "stdout",
     "output_type": "stream",
     "text": [
      "[1, 2, 4, 5]\n"
     ]
    }
   ],
   "source": [
    "# 现有一个列表，li = [1,2,4,None,5,None] 使用推导式 仅保留数字\n",
    "li = [1,2,4,None,5,None]\n",
    "li = [i for i in li if str(i).isdigit()]\n",
    "print(li)"
   ]
  },
  {
   "cell_type": "code",
   "execution_count": null,
   "metadata": {},
   "outputs": [],
   "source": []
  }
 ],
 "metadata": {
  "kernelspec": {
   "display_name": "Python 3",
   "language": "python",
   "name": "python3"
  },
  "language_info": {
   "codemirror_mode": {
    "name": "ipython",
    "version": 3
   },
   "file_extension": ".py",
   "mimetype": "text/x-python",
   "name": "python",
   "nbconvert_exporter": "python",
   "pygments_lexer": "ipython3",
   "version": "3.7.7"
  }
 },
 "nbformat": 4,
 "nbformat_minor": 4
}
