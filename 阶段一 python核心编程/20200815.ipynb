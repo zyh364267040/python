{
 "cells": [
  {
   "cell_type": "code",
   "execution_count": 1,
   "metadata": {},
   "outputs": [
    {
     "name": "stdin",
     "output_type": "stream",
     "text": [
      "请输入您的年龄： 60\n"
     ]
    },
    {
     "name": "stdout",
     "output_type": "stream",
     "text": [
      "已经满60岁了，可以退休了\n"
     ]
    }
   ],
   "source": [
    "# 题干：用户输入年龄，如果年龄满60岁，输出：可以退休了。\n",
    "age = int(input(\"请输入您的年龄：\"))\n",
    "if age >= 60:\n",
    "    print(\"已经满60岁了，可以退休了\")"
   ]
  },
  {
   "cell_type": "code",
   "execution_count": 3,
   "metadata": {},
   "outputs": [
    {
     "name": "stdin",
     "output_type": "stream",
     "text": [
      "请输入您的年龄： 20\n"
     ]
    },
    {
     "name": "stdout",
     "output_type": "stream",
     "text": [
      "小伙子加油干\n"
     ]
    }
   ],
   "source": [
    "# 题干：用户输入年龄，如果年龄满60岁，输出：\"可以退休了\"， 否则，输出：\"小伙子，加油干！\"\n",
    "age = int(input(\"请输入您的年龄：\"))\n",
    "if age >= 60:\n",
    "    print(\"已经满60岁了，可以退休了\")\n",
    "else:\n",
    "    print(\"小伙子加油干\")"
   ]
  },
  {
   "cell_type": "code",
   "execution_count": 8,
   "metadata": {},
   "outputs": [
    {
     "name": "stdin",
     "output_type": "stream",
     "text": [
      "请输入您的年龄： 70\n"
     ]
    },
    {
     "name": "stdout",
     "output_type": "stream",
     "text": [
      "老年\n"
     ]
    }
   ],
   "source": [
    "\"\"\"\n",
    "用户输入年龄，按照如下标准书写程序，判断用户处于哪个年龄阶段，并提示：您的年龄是xx: 青少年/青年/中年/老年。\n",
    "\n",
    "年龄段划分标准：0-17岁（包含0、17）为青少年；18-34岁为青年；35-59为中年，满60为老年。\n",
    "\"\"\"\n",
    "age = int(input(\"请输入您的年龄：\"))\n",
    "if 0 <= age <= 17:\n",
    "    print(\"青少年\")\n",
    "elif 17 < age <= 34:\n",
    "    print(\"青年\")\n",
    "elif 34 < age <= 59:\n",
    "    print(\"中年\")\n",
    "elif age > 59:\n",
    "    print(\"老年\")"
   ]
  },
  {
   "cell_type": "code",
   "execution_count": 12,
   "metadata": {},
   "outputs": [
    {
     "name": "stdout",
     "output_type": "stream",
     "text": [
      "有票，请上车\n",
      "有座，请坐\n"
     ]
    }
   ],
   "source": [
    "\"\"\"\n",
    "坐公交：假设坐公交需要买票上车，书写程序要求如下：\n",
    "\n",
    "- 1. 如果有票则可以上车，否则不能上车\n",
    "- 2. 上车后，如果有座位可以坐下，否则不能坐下。\n",
    "\"\"\"\n",
    "# ticket取值为1表示有票，取值为0表示无票\n",
    "\n",
    "# seat取值为1表示有座位，取值为0表示无座位\n",
    "ticket = 1\n",
    "seat = 1\n",
    "\n",
    "if ticket == 1:\n",
    "    print(\"有票，请上车\")\n",
    "    if seat == 1:\n",
    "        print(\"有座，请坐\")\n",
    "    else:\n",
    "        print(\"无座，站着吧！\")\n",
    "else:\n",
    "    print(\"无票，不能上车\")"
   ]
  },
  {
   "cell_type": "code",
   "execution_count": 16,
   "metadata": {},
   "outputs": [
    {
     "name": "stdin",
     "output_type": "stream",
     "text": [
      "请输入验证码: qwer\n"
     ]
    },
    {
     "name": "stdout",
     "output_type": "stream",
     "text": [
      "验证码输入正确。\n"
     ]
    },
    {
     "name": "stdin",
     "output_type": "stream",
     "text": [
      "请输入您的用户名: aaa\n",
      "请输入您的密码: 1234\n"
     ]
    },
    {
     "name": "stdout",
     "output_type": "stream",
     "text": [
      "您输入的密码不正确。\n"
     ]
    }
   ],
   "source": [
    "\"\"\"\n",
    "制作用户登录系统：已知A用户注册的用户名为`aaa`，密码是`123456`。具体要求如下：\n",
    "\n",
    "登录时需要验证用户名、密码、验证码(固定验证码为`qwer`)。\n",
    "\n",
    "提示：系统先验证验证码是否正确，正确后再验证用户名和密码。\n",
    "\"\"\"\n",
    "user_name = \"aaa\"\n",
    "user_kewword = \"123456\"\n",
    "user_yzm = \"qwer\"\n",
    "\n",
    "input_yzm = input(\"请输入验证码:\")\n",
    "\n",
    "if input_yzm == user_yzm:\n",
    "    print(\"验证码输入正确。\")\n",
    "    \n",
    "    input_name = input(\"请输入您的用户名:\")\n",
    "    input_kewword = input(\"请输入您的密码:\")\n",
    "    \n",
    "    if input_name == user_name and input_kewword == user_kewword:\n",
    "        print(\"输入的用命名与密码正确，允许登录。\")\n",
    "    elif input_name != user_name:\n",
    "        print(\"您输入的用户名不正确。\")\n",
    "    elif input_kewword != user_kewword:\n",
    "        print(\"您输入的密码不正确。\")\n",
    "else:\n",
    "    print(\"您输入的验证码不正确\")"
   ]
  },
  {
   "cell_type": "code",
   "execution_count": 22,
   "metadata": {},
   "outputs": [
    {
     "name": "stdin",
     "output_type": "stream",
     "text": [
      "请输入验证码: qwer\n"
     ]
    },
    {
     "name": "stdout",
     "output_type": "stream",
     "text": [
      "验证码正确\n"
     ]
    },
    {
     "name": "stdin",
     "output_type": "stream",
     "text": [
      "请输入您的用户名: aaa\n",
      "请输入您的密码: 123456\n"
     ]
    },
    {
     "name": "stdout",
     "output_type": "stream",
     "text": [
      "输入的用命名与密码正确，允许登录。\n"
     ]
    }
   ],
   "source": [
    "while True:\n",
    "    user_name = \"aaa\"\n",
    "    user_kewword = \"123456\"\n",
    "    user_yzm = \"qwer\"\n",
    "\n",
    "    input_yzm = input(\"请输入验证码:\")\n",
    "\n",
    "    if input_yzm != user_yzm:\n",
    "        print(\"您输入的验证码不正确。\")\n",
    "        continue\n",
    "    print(\"验证码正确\")\n",
    "\n",
    "    input_name = input(\"请输入您的用户名:\")\n",
    "    input_kewword = input(\"请输入您的密码:\")\n",
    "\n",
    "    if input_name == user_name and input_kewword == user_kewword:\n",
    "        print(\"输入的用命名与密码正确，允许登录。\")\n",
    "        break\n",
    "    elif input_name != user_name:\n",
    "        print(\"您输入的用户名不正确。\")\n",
    "    elif input_kewword != user_kewword:\n",
    "        print(\"您输入的密码不正确。\")"
   ]
  },
  {
   "cell_type": "code",
   "execution_count": 37,
   "metadata": {},
   "outputs": [
    {
     "name": "stdin",
     "output_type": "stream",
     "text": [
      "请分别输入您的语文成绩、数学成绩、英语成绩用逗号隔开(范围0-100): 92, 98, 99\n"
     ]
    },
    {
     "name": "stdout",
     "output_type": "stream",
     "text": [
      "你的语文成绩为92,数学成绩为98,英语成绩为99,平均分为96.33。\n",
      "优秀\n"
     ]
    }
   ],
   "source": [
    "\"\"\"\n",
    "编写一段代码，要求依次输入语文、数学、英语三门课的成绩（输入范围0到100），\n",
    "\n",
    "如果三门成绩的平均分小于60，打印\"不及格\",\n",
    "\n",
    "如果平均分大于90, 打印优秀，\n",
    "\n",
    "其他则打印\"良\"。\n",
    "\"\"\"\n",
    "chinese, math, english = eval(input(\"请分别输入您的语文成绩、数学成绩、英语成绩用逗号隔开(范围0-100):\"))\n",
    "if 0 <= chinese <= 100 and 0 <= math <= 100 and 0 <= english <= 100:\n",
    "    score = (chinese + math + english)/3\n",
    "\n",
    "    print(f\"你的语文成绩为{chinese},数学成绩为{math},英语成绩为{english},平均分为{score:.2f}。\")\n",
    "\n",
    "    if score < 60:\n",
    "        print(\"不及格\")\n",
    "    elif score > 90:\n",
    "        print(\"优秀\")\n",
    "    else:\n",
    "        print(\"良\")\n",
    "else:\n",
    "    print(\"您输入的分数未在0-100范文内\")"
   ]
  },
  {
   "cell_type": "code",
   "execution_count": 41,
   "metadata": {},
   "outputs": [
    {
     "name": "stdin",
     "output_type": "stream",
     "text": [
      "请输入一个有效年份: 1900\n"
     ]
    },
    {
     "name": "stdout",
     "output_type": "stream",
     "text": [
      "1900年不是闰年\n"
     ]
    }
   ],
   "source": [
    "# 编写一段代码，需要输入要一个有效年份，判断该年份是否是闰年，如果是闰年，则打印“**xx年是闰年**”；否则打印“**xx年不是闰年**”\n",
    "# 第一种方法\n",
    "year = int(input(\"请输入一个有效年份:\"))\n",
    "if (year % 4 == 0 and year % 100 != 0) or year % 400 == 0:\n",
    "    print(f\"{year}年是闰年\")\n",
    "else:\n",
    "    print(f\"{year}年不是闰年\")"
   ]
  },
  {
   "cell_type": "code",
   "execution_count": 45,
   "metadata": {},
   "outputs": [
    {
     "name": "stdin",
     "output_type": "stream",
     "text": [
      "请输入一个有效年份: 2000\n"
     ]
    },
    {
     "name": "stdout",
     "output_type": "stream",
     "text": [
      "2000年是闰年\n"
     ]
    }
   ],
   "source": [
    "# 第二种方法\n",
    "year = int(input(\"请输入一个有效年份:\"))\n",
    "if year % 400 == 0:\n",
    "    print(f\"{year}年是闰年\")\n",
    "else:\n",
    "    print(f\"{year}年不是闰年\")"
   ]
  },
  {
   "cell_type": "code",
   "execution_count": 48,
   "metadata": {},
   "outputs": [
    {
     "name": "stdin",
     "output_type": "stream",
     "text": [
      "请输入您的身高(m)和体重(kg)(用逗号隔开): 1.75, 75\n"
     ]
    },
    {
     "name": "stdout",
     "output_type": "stream",
     "text": [
      "正常\n"
     ]
    }
   ],
   "source": [
    "# 输入一个人的身高(m)和体重(kg)，根据BMI公式（体重除以身高的平方）计算他的BMI指数。\n",
    "height, weight = eval(input(\"请输入您的身高(m)和体重(kg)(用逗号隔开):\"))\n",
    "bmi = weight/pow(height, 2)\n",
    "\n",
    "if bmi < 18.5:\n",
    "    print(\"过轻\")\n",
    "elif 18.5 <= bmi < 25:\n",
    "    print(\"正常\")\n",
    "elif 25 <= bmi < 28:\n",
    "    print(\"超重\")\n",
    "elif 28 <= bmi < 32:\n",
    "    print(\"肥胖\")\n",
    "elif bmi >= 32:\n",
    "    print(\"严重肥胖\")"
   ]
  },
  {
   "cell_type": "code",
   "execution_count": 49,
   "metadata": {},
   "outputs": [
    {
     "name": "stdout",
     "output_type": "stream",
     "text": [
      "hello world\n",
      "hello world\n",
      "hello world\n",
      "hello world\n",
      "hello world\n"
     ]
    }
   ],
   "source": [
    "# 使用循环打印5次 ``hello world ``\n",
    "i = 1\n",
    "while i <= 5:\n",
    "    print(\"hello world\")\n",
    "    i += 1"
   ]
  },
  {
   "cell_type": "code",
   "execution_count": 51,
   "metadata": {},
   "outputs": [
    {
     "name": "stdout",
     "output_type": "stream",
     "text": [
      "2550\n"
     ]
    }
   ],
   "source": [
    "# 计算1~100之间偶数的累积和（包含1和100）。\n",
    "i = 1\n",
    "sum = 0\n",
    "\n",
    "while i <= 100:\n",
    "    if i % 2 == 0:\n",
    "        sum += i\n",
    "    i += 1\n",
    "    \n",
    "print(sum)"
   ]
  },
  {
   "cell_type": "code",
   "execution_count": null,
   "metadata": {},
   "outputs": [],
   "source": []
  }
 ],
 "metadata": {
  "kernelspec": {
   "display_name": "Python 3",
   "language": "python",
   "name": "python3"
  },
  "language_info": {
   "codemirror_mode": {
    "name": "ipython",
    "version": 3
   },
   "file_extension": ".py",
   "mimetype": "text/x-python",
   "name": "python",
   "nbconvert_exporter": "python",
   "pygments_lexer": "ipython3",
   "version": "3.7.4"
  }
 },
 "nbformat": 4,
 "nbformat_minor": 4
}
