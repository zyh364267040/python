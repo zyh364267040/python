{
 "cells": [
  {
   "cell_type": "code",
   "execution_count": 1,
   "metadata": {},
   "outputs": [
    {
     "name": "stdout",
     "output_type": "stream",
     "text": [
      "120\n"
     ]
    }
   ],
   "source": [
    "# 使用 while 循环计算5!（5的阶乘）\n",
    "# 提示：\n",
    "# 1！等于 1\n",
    "# 2！等于 1*2\n",
    "# 3！等于 1*2*3\n",
    "# n！等于 1*2*3*...*n\n",
    "i = 1\n",
    "result = 1\n",
    "while i <= 5:\n",
    "    result *= i\n",
    "    i += 1\n",
    "    \n",
    "print(result)"
   ]
  },
  {
   "cell_type": "code",
   "execution_count": 2,
   "metadata": {},
   "outputs": [
    {
     "name": "stdout",
     "output_type": "stream",
     "text": [
      "120\n"
     ]
    }
   ],
   "source": [
    "# n的阶乘\n",
    "def jiecheng(n):\n",
    "    i = 1\n",
    "    result = 1\n",
    "    while i <= n:\n",
    "        result *= i\n",
    "        i += 1\n",
    "        \n",
    "    print(result)\n",
    "    \n",
    "jiecheng(5)"
   ]
  },
  {
   "cell_type": "code",
   "execution_count": 4,
   "metadata": {},
   "outputs": [
    {
     "name": "stdout",
     "output_type": "stream",
     "text": [
      "24\n"
     ]
    }
   ],
   "source": [
    "# n的阶乘，递归函数\n",
    "def jiecheng(n):\n",
    "    if n == 1:\n",
    "        return 1\n",
    "    else:\n",
    "        return n * jiecheng(n-1)\n",
    "        \n",
    "print(jiecheng(4))"
   ]
  },
  {
   "cell_type": "code",
   "execution_count": 7,
   "metadata": {},
   "outputs": [
    {
     "name": "stdout",
     "output_type": "stream",
     "text": [
      "刷碗太累了，我都刷了5个了，不刷了\n"
     ]
    }
   ],
   "source": [
    "# 晚饭后你负责刷掉家里的 10 个碗，当刷到第 5 个碗时停止刷碗\n",
    "i = 1\n",
    "while i <= 10:\n",
    "    if i == 5:\n",
    "        print(f\"刷碗太累了，我都刷了{i}个了，不刷了\")\n",
    "        break\n",
    "    i += 1"
   ]
  },
  {
   "cell_type": "code",
   "execution_count": 1,
   "metadata": {},
   "outputs": [
    {
     "name": "stdout",
     "output_type": "stream",
     "text": [
      "这是第5个碗了，这个碗太脏了，不刷了，扔了吧\n"
     ]
    }
   ],
   "source": [
    "# 晚饭后你负责刷掉家里的 10 个碗，当刷到第 5 个碗时跳过不刷，直接开始刷第 6 个碗\n",
    "i = 1\n",
    "while i <= 10:\n",
    "    if i == 5:\n",
    "        print(f\"这是第{i}个碗了，这个碗太脏了，不刷了，扔了吧\")\n",
    "        i += 1\n",
    "        continue\n",
    "    i += 1"
   ]
  },
  {
   "cell_type": "code",
   "execution_count": 2,
   "metadata": {},
   "outputs": [
    {
     "name": "stdout",
     "output_type": "stream",
     "text": [
      "I\n",
      "L\n",
      "o\n",
      "v\n",
      "e\n"
     ]
    }
   ],
   "source": [
    "# 使用 for 循环遍历字符串 \"ILoveYou\"，并打印每一个字符当字符串为 \"e\" 的时候终止循环\n",
    "str1 = \"ILoveYou\"\n",
    "for i in str1:\n",
    "    print(i)\n",
    "    if i == \"e\":\n",
    "        break"
   ]
  },
  {
   "cell_type": "code",
   "execution_count": 3,
   "metadata": {},
   "outputs": [
    {
     "name": "stdin",
     "output_type": "stream",
     "text": [
      "请输入用户名: 1\n",
      "请输入密码: 1\n"
     ]
    },
    {
     "name": "stdout",
     "output_type": "stream",
     "text": [
      "输入账户/密码有误，请重新输入\n"
     ]
    },
    {
     "name": "stdin",
     "output_type": "stream",
     "text": [
      "请输入用户名: python\n",
      "请输入密码: 123456\n"
     ]
    },
    {
     "name": "stdout",
     "output_type": "stream",
     "text": [
      "欢迎光临\n"
     ]
    }
   ],
   "source": [
    "# 编写代码模拟用户登陆。要求：用户名为 python，密码 123456，如果输入正确，打印“欢迎光临”，程序结束，如果输入错误，提示用户输入错误并重新输入（使用while循环即可）\n",
    "while True:\n",
    "    user_name = \"python\"\n",
    "    user_password = \"123456\"\n",
    "    str_name = input(\"请输入用户名:\")\n",
    "    str_password = input(\"请输入密码:\")\n",
    "    if user_name == str_name and user_password == str_password:\n",
    "        print(\"欢迎光临\")\n",
    "        break\n",
    "    else:\n",
    "        print(\"输入账户/密码有误，请重新输入\")"
   ]
  },
  {
   "cell_type": "code",
   "execution_count": 5,
   "metadata": {},
   "outputs": [
    {
     "name": "stdout",
     "output_type": "stream",
     "text": [
      "101为素数\n",
      "103为素数\n",
      "107为素数\n",
      "109为素数\n",
      "113为素数\n",
      "127为素数\n",
      "131为素数\n",
      "137为素数\n",
      "139为素数\n",
      "149为素数\n",
      "151为素数\n",
      "157为素数\n",
      "163为素数\n",
      "167为素数\n",
      "173为素数\n",
      "179为素数\n",
      "181为素数\n",
      "191为素数\n",
      "193为素数\n",
      "197为素数\n",
      "199为素数\n"
     ]
    }
   ],
   "source": [
    "# 求100-200(包括100和200)里面所有的素数\n",
    "# 提示：素数的特征是除了1和其本身能被整除，其它数都不能被整除的数\n",
    "for i in range(100, 201):\n",
    "    j = 2\n",
    "    while j < i:\n",
    "        if i % j == 0:\n",
    "            break\n",
    "        j += 1\n",
    "    else:\n",
    "        print(f\"{i}为素数\")"
   ]
  },
  {
   "cell_type": "code",
   "execution_count": 4,
   "metadata": {},
   "outputs": [
    {
     "name": "stdout",
     "output_type": "stream",
     "text": [
      "101是素数\n",
      "103是素数\n",
      "107是素数\n",
      "109是素数\n",
      "113是素数\n",
      "127是素数\n",
      "131是素数\n",
      "137是素数\n",
      "139是素数\n",
      "149是素数\n",
      "151是素数\n",
      "157是素数\n",
      "163是素数\n",
      "167是素数\n",
      "173是素数\n",
      "179是素数\n",
      "181是素数\n",
      "191是素数\n",
      "193是素数\n",
      "197是素数\n",
      "199是素数\n"
     ]
    }
   ],
   "source": [
    "# 没做出来，这是我偷看的答案\n",
    "i = 100\n",
    "while i < 201:\n",
    "\n",
    "    j = 2\n",
    "    while j < i:\n",
    "\n",
    "        if i % j == 0:\n",
    "            break\n",
    "        j+=1\n",
    "    else:\n",
    "        print(\"%d是素数\" % i)\n",
    "        \n",
    "    i+=1"
   ]
  },
  {
   "cell_type": "markdown",
   "metadata": {},
   "source": [
    "# 类属性和实例属性\n",
    "## 类属性\n",
    "- 类属性就是 类对象 所拥有的属性，它被 该类的所有实例对象 所共有\n",
    "- 类属性可以使用 类对象 或 实例对象 访问\n",
    "- 类属性的优点\n",
    "    - 记录的某项数据始终保持一致时，则定义类属性\n",
    "    - 实例属性要求每个对象为其单独开辟一分内存空间来记录数据，而类属性为全类所共有，仅占用一份内存，更加节省内存空间"
   ]
  },
  {
   "cell_type": "code",
   "execution_count": 11,
   "metadata": {},
   "outputs": [
    {
     "name": "stdout",
     "output_type": "stream",
     "text": [
      "10\n",
      "10\n",
      "10\n"
     ]
    }
   ],
   "source": [
    "# 1.定义类，定义类属性\n",
    "class Dog(object):\n",
    "    touth = 10\n",
    "    \n",
    "    \n",
    "# 2.创建对象\n",
    "wangcai = Dog()\n",
    "xiaohei = Dog()\n",
    "\n",
    "# 3.访问类属性：类和对象\n",
    "print(Dog.touth)\n",
    "print(wangcai.touth)\n",
    "print(xiaohei.touth)"
   ]
  },
  {
   "cell_type": "code",
   "execution_count": 13,
   "metadata": {},
   "outputs": [
    {
     "name": "stdout",
     "output_type": "stream",
     "text": [
      "20\n",
      "20\n",
      "20\n",
      "20\n",
      "200\n",
      "20\n"
     ]
    }
   ],
   "source": [
    "# 修改类属性\n",
    "# 类属性只能通过类对象修改，不能通过实例对象修改，如果通过实例对象修改类属性，表示的是创建了一个实例属性\n",
    "class Dog(object):\n",
    "    touth = 10\n",
    "    \n",
    "    \n",
    "wangcai = Dog()\n",
    "xiaohei = Dog()\n",
    "\n",
    "# 1.类修改属性 类.类属性 = 值\n",
    "Dog.touth = 20\n",
    "print(Dog.touth)\n",
    "print(wangcai.touth)\n",
    "print(xiaohei.touth)\n",
    "\n",
    "# 2.测试通过对象修改类属性\n",
    "wangcai.touth = 200\n",
    "\n",
    "print(Dog.touth)\n",
    "print(wangcai.touth)\n",
    "print(xiaohei.touth)"
   ]
  },
  {
   "cell_type": "code",
   "execution_count": 15,
   "metadata": {},
   "outputs": [
    {
     "name": "stdout",
     "output_type": "stream",
     "text": [
      "10\n"
     ]
    }
   ],
   "source": [
    "# 类方法\n",
    "# 特点：需要用装饰器@classmethod来标识其为leifangf\n",
    "# 1.定义类：私有类属性，类方法获取这个私有类属性\n",
    "class Dog(object):\n",
    "    __touth = 10\n",
    "    \n",
    "    # 定义类方法\n",
    "    @classmethod\n",
    "    def get_touth(cls):\n",
    "        return cls.__touth\n",
    "    \n",
    "    \n",
    "# 2.创建对象，调用类方法\n",
    "wangcai = Dog()\n",
    "print(wangcai.get_touth())"
   ]
  },
  {
   "cell_type": "code",
   "execution_count": 1,
   "metadata": {},
   "outputs": [
    {
     "name": "stdout",
     "output_type": "stream",
     "text": [
      "这是一个静态方法\n",
      "这是一个静态方法\n"
     ]
    }
   ],
   "source": [
    "# 静态方法\n",
    "# 特点：1.需要通过装饰器@staticmethod来进行装饰，静态方法既不需要传递类对象也不需要传递实例对象(没有形参self/cls)\n",
    "#      2.静态方法也能够通过 实例对象 和 类对象去访问\n",
    "# 使用场景：1.当方法中 既不需要使用实例对象(如实例对象，实例属性)，也不需要使用类对象(如类属性、类方法、创建实例等)时，定义静态方法\n",
    "#         2.取消不需要的参数传递，有利于减少不必要的内存占用和性能消耗\n",
    "# 1.定义类，定义静态方法\n",
    "class Dog(object):\n",
    "    @staticmethod\n",
    "    def info_print():\n",
    "        print(\"这是一个静态方法\")\n",
    "        \n",
    "        \n",
    "# 2.创建对象\n",
    "wangcai = Dog()\n",
    "\n",
    "# 3.调用静态方法：类 和 对象\n",
    "wangcai.info_print()\n",
    "\n",
    "Dog.info_print()"
   ]
  },
  {
   "cell_type": "markdown",
   "metadata": {},
   "source": [
    "# 在python中，面向对象的三大特性是什么？\n",
    "\n",
    "继承，封装，多态\n",
    "\n",
    "封装是指，一个类里面包含了多个函数和变量的代码\n",
    "继承是指：子类能够使用父类的方法和变量\n",
    "多态是指：父类变量能够引用子类对象，当子类对象重写了父类方法，则调用的是子类方法"
   ]
  },
  {
   "cell_type": "code",
   "execution_count": 10,
   "metadata": {},
   "outputs": [
    {
     "name": "stdout",
     "output_type": "stream",
     "text": [
      "10\n"
     ]
    }
   ],
   "source": [
    "# 定义一个父类:这个类中需要有私有属性,公有属性,类属性,魔法方法, 类方法, 实例方法,静态方法,\n",
    "# 定义一个子类,继承父类,然后在子类中获取到父类的私有属性,并打印出来\n",
    "\n",
    "class Father(object):\n",
    "    # 私有属性\n",
    "    __touth1 = 10\n",
    "    \n",
    "    # 公有属性\n",
    "    touth2 = 20\n",
    "    \n",
    "    # 类属性\n",
    "    def __init__(self):\n",
    "        self.name = \"father\"\n",
    "        self.gender = \"man\"\n",
    "        \n",
    "    # 魔法方法\n",
    "    def __str__(self):\n",
    "        return \"这是一个练习的父类\"\n",
    "    \n",
    "    # 类方法\n",
    "    @classmethod\n",
    "    def get_touth(cls):\n",
    "        return cls.__touth1\n",
    "    \n",
    "    # 实例方法\n",
    "    def touth3(self):\n",
    "        pass\n",
    "    \n",
    "    # 静态方法\n",
    "    @staticmethod\n",
    "    def info_print():\n",
    "        print(\"我是静态方法\")\n",
    "    \n",
    "    \n",
    "class Son(Father):\n",
    "    pass\n",
    "\n",
    "son = Son()\n",
    "print(son.get_touth())"
   ]
  },
  {
   "cell_type": "markdown",
   "metadata": {},
   "source": [
    "# 类属性和实例属性的定义，以及如何修改?\n",
    "\n",
    "A.定义：类属性：直接跟在类名后面定义的属性，或在定义类时，直接写在类里的属性是类属性；实例属性：直接跟在实例名后面定义的属性是实例属性\n",
    "\n",
    "B.修改：类属性只能通过类对象修改，使用类名跟上类属性名的方式进行修改；实例属性只对实例对象可见，因此实例属性只能通过实例对象修改"
   ]
  },
  {
   "cell_type": "markdown",
   "metadata": {},
   "source": [
    "# 请简要描述，__init__、 __str__、 __new__这些魔法方法的含义和注意点?\n",
    "1. 在init中定义的属性都是实例属性,init方法的作用是初始化这个类,\n",
    "在类实例化这个成对象的时候,这个对象就会携带着init中的属性\n",
    "2. str方法必须有返回值,且返回值的类型必须是字符串, str方法的作用是\n",
    "当类实例化成对象的时候,打印这个对象,就会调用str方法,并输出str方法的返回值\n",
    "3. new方法的返回值是一个对象,new方法的作用就是生成一个对象,这也就是为什么\n",
    "一个类可以实例化出来一个对象了,其原因就是调用了父类的这个new方法"
   ]
  },
  {
   "cell_type": "code",
   "execution_count": 19,
   "metadata": {},
   "outputs": [
    {
     "name": "stdout",
     "output_type": "stream",
     "text": [
      "还没熟不能添加调料\n",
      "红薯已经烤了2分钟,现在的状态是生的,调料有[]\n",
      "还没熟不能添加调料\n",
      "红薯已经烤了4分钟,现在的状态是半生不熟,调料有[]\n",
      "已经熟了,您添加的调料是面酱\n",
      "红薯已经烤了6分钟,现在的状态是烤熟了,调料有['面酱']\n",
      "已经烤糊了，别吃了扔了吧！\n",
      "红薯已经烤了8分钟,现在的状态是烤糊了,调料有['面酱']\n"
     ]
    }
   ],
   "source": [
    "# 烤红薯\n",
    "class SweetPotato(object):\n",
    "    def __init__(self):\n",
    "        # 烤红薯的时间\n",
    "        self.cook_time = 0\n",
    "        # 红薯的状态\n",
    "        self.state = \"生的\"\n",
    "        # 给红薯添加调料\n",
    "        self.taste = []\n",
    "        \n",
    "    def cook(self, time, taste):\n",
    "        # 烤红薯的时间进行累加\n",
    "        self.cook_time += time\n",
    "        if 0 <= self.cook_time < 3:\n",
    "            self.state = \"生的\"\n",
    "            print(\"还没熟不能添加调料\")\n",
    "        elif 3 <= self.cook_time < 5:\n",
    "            self.state = \"半生不熟\"\n",
    "            print(\"还没熟不能添加调料\")\n",
    "        elif 5 <= self.cook_time < 8:\n",
    "            self.state = \"烤熟了\"\n",
    "            print(f\"已经熟了,您添加的调料是{taste}\")\n",
    "            # 烤熟了，可以添加调料了\n",
    "            self.taste.append(taste)\n",
    "        elif self.cook_time >= 8:\n",
    "            self.state = \"烤糊了\"\n",
    "            print(\"已经烤糊了，别吃了扔了吧！\")\n",
    "            \n",
    "    def __str__(self):\n",
    "        return f\"红薯已经烤了{self.cook_time}分钟,现在的状态是{self.state},调料有{self.taste}\"\n",
    "            \n",
    "            \n",
    "hongshu = SweetPotato()\n",
    "hongshu.cook(2, \"酱油\")\n",
    "print(hongshu)\n",
    "\n",
    "hongshu.cook(2, \"辣椒\")\n",
    "print(hongshu)\n",
    "\n",
    "hongshu.cook(2, \"面酱\")\n",
    "print(hongshu)\n",
    "\n",
    "hongshu.cook(2, \"孜然\")\n",
    "print(hongshu)"
   ]
  },
  {
   "cell_type": "code",
   "execution_count": 26,
   "metadata": {},
   "outputs": [
    {
     "name": "stdout",
     "output_type": "stream",
     "text": [
      "已经搬进去了双人床\n",
      "房子坐落在北京,共有面积1000,现剩余的面积500,现有家具['双人床']\n",
      "已经搬进去了沙发\n",
      "房子坐落在北京,共有面积1000,现剩余的面积200,现有家具['双人床', '沙发']\n",
      "现在房子的剩余面积是200,桌子的面积是300,搬不进去了.\n",
      "房子坐落在北京,共有面积1000,现剩余的面积200,现有家具['双人床', '沙发']\n"
     ]
    }
   ],
   "source": [
    "# 搬家具\n",
    "class Furniture(object):\n",
    "    def __init__(self, name, area):\n",
    "        # 家具的名字\n",
    "        self.name = name\n",
    "        # 家具的占地面积\n",
    "        self.area = area\n",
    "        \n",
    "\n",
    "class House(object):\n",
    "    def __init__(self, address, area):\n",
    "        # 房子坐落位置\n",
    "        self.address = address\n",
    "        # 房子的面积\n",
    "        self.area = area\n",
    "        # 房子剩余面积\n",
    "        self.free_area = area\n",
    "        # 房子内的家具\n",
    "        self.furniture = []\n",
    "        \n",
    "    def add_furniture(self, furniture):\n",
    "        # 判断家具的面积与剩余面积，剩余面积大能搬进去\n",
    "        if self.free_area > furniture.area:\n",
    "            print(f\"已经搬进去了{furniture.name}\")\n",
    "            self.furniture.append(furniture.name)\n",
    "            self.free_area -= furniture.area\n",
    "        else:\n",
    "            print(f\"现在房子的剩余面积是{self.free_area},{furniture.name}的面积是{furniture.area},搬不进去了.\")\n",
    "        \n",
    "    def __str__(self):\n",
    "        return f\"房子坐落在{self.address},共有面积{self.area},现剩余的面积{self.free_area},现有家具{self.furniture}\"\n",
    "\n",
    "    \n",
    "bed = Furniture(\"双人床\", 500)\n",
    "sofa = Furniture(\"沙发\", 300)\n",
    "desk = Furniture(\"桌子\", 300)\n",
    "\n",
    "home = House(\"北京\", 1000)\n",
    "home.add_furniture(bed)\n",
    "print(home)\n",
    "\n",
    "home.add_furniture(sofa)\n",
    "print(home)\n",
    "\n",
    "home.add_furniture(desk)\n",
    "print(home)"
   ]
  },
  {
   "cell_type": "code",
   "execution_count": 45,
   "metadata": {},
   "outputs": [
    {
     "name": "stdout",
     "output_type": "stream",
     "text": [
      "电脑正常运行中...\n",
      "cpu的使用寿命还有9年,disk的使用寿命还有4年,mem的使用寿命还有5年.\n",
      "cpu到了年限了，更换新的吧...\n",
      "cpu的使用寿命还有9年,disk的使用寿命还有4年,mem的使用寿命还有5年.\n",
      "disk已更换\n",
      "电脑正常运行中...\n",
      "cpu的使用寿命还有6年,disk的使用寿命还有2年,mem的使用寿命还有3年.\n"
     ]
    }
   ],
   "source": [
    "# 创建一个电脑类，电脑包含了CPU 、硬盘、内存、3个属性\n",
    "# 电脑类可以运行，当运行的时候零件寿命减少\n",
    "# 创建一个零件类，里面包含了零件名字，寿命、以及剩余寿命\n",
    "# 参考搬家具的案例以及靠地瓜案例\n",
    "# 支持零件寿命到了更换零件（可选）\n",
    "\n",
    "# 零件类\n",
    "class Components(object):\n",
    "    def __init__(self, name, life):\n",
    "        self.name = name\n",
    "        self.life = life\n",
    "        self.free_life = life\n",
    "        \n",
    "    def __str__(self):\n",
    "        return f\"零件{self.name},已经使用了{self.life}年,还可以用{self.free_life}年.\"\n",
    "        \n",
    "\n",
    "# 电脑类\n",
    "class Computer(object):\n",
    "    def __init__(self, cpu, disk, mem, name=\"Dell\"):\n",
    "        self.name = name\n",
    "        self.cpu = cpu\n",
    "        self.disk = disk\n",
    "        self.mem = mem\n",
    "        \n",
    "    def run(self, time):\n",
    "        if self.cpu.free_life < time:\n",
    "            print(\"cpu到了年限了，更换新的吧...\")\n",
    "        elif self.disk.free_life < time:\n",
    "            print(\"硬盘到了年限了，更换新的吧...\")\n",
    "        elif self.mem.free_life < time:\n",
    "            print(\"内存到了年限了，更换新的吧...\")\n",
    "        else:\n",
    "            print(\"电脑正常运行中...\")\n",
    "            self.cpu.free_life -= time\n",
    "            self.disk.free_life -= time\n",
    "            self.mem.free_life -= time\n",
    "        print(f\"cpu的使用寿命还有{self.cpu.free_life}年,disk的使用寿命还有{self.disk.free_life}年,mem的使用寿命还有{self.mem.free_life}年.\")\n",
    "        \n",
    "    def update(self, new_components, type_components):\n",
    "        if type_components == \"cpu\":\n",
    "            self.cpu = new_components\n",
    "        elif type_components == \"disk\":\n",
    "            self.cpu = new_components\n",
    "        elif type_components == \"mem\":\n",
    "            self.cpu = new_components\n",
    "        else:\n",
    "            print(\"不支持的零件\")\n",
    "            return\n",
    "        print(f\"{type_components}已更换\")\n",
    "            \n",
    "\n",
    "cpu = Components(\"i7处理器\", 10)\n",
    "disk = Components(\"希捷硬盘\", 5)\n",
    "mem = Components(\"三星内存\", 6)\n",
    "\n",
    "dell = Computer(cpu, disk, mem)\n",
    "dell.run(1)\n",
    "dell.run(10)\n",
    "\n",
    "disk2 = Components(\"三星硬盘\", 8)\n",
    "dell.update(disk2, \"disk\")\n",
    "dell.run(2)"
   ]
  },
  {
   "cell_type": "code",
   "execution_count": null,
   "metadata": {},
   "outputs": [],
   "source": []
  }
 ],
 "metadata": {
  "kernelspec": {
   "display_name": "Python 3",
   "language": "python",
   "name": "python3"
  },
  "language_info": {
   "codemirror_mode": {
    "name": "ipython",
    "version": 3
   },
   "file_extension": ".py",
   "mimetype": "text/x-python",
   "name": "python",
   "nbconvert_exporter": "python",
   "pygments_lexer": "ipython3",
   "version": "3.7.4"
  }
 },
 "nbformat": 4,
 "nbformat_minor": 4
}
