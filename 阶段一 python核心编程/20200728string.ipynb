{
 "cells": [
  {
   "cell_type": "markdown",
   "metadata": {},
   "source": [
    "# 下标"
   ]
  },
  {
   "cell_type": "code",
   "execution_count": 1,
   "metadata": {},
   "outputs": [
    {
     "name": "stdout",
     "output_type": "stream",
     "text": [
      "abcdefg\n",
      "a\n",
      "b\n"
     ]
    }
   ],
   "source": [
    "str1 = 'abcdefg'\n",
    "print(str1)\n",
    "\n",
    "# 数据在程序运行过程中存储在内存\n",
    "# ? 得到数据a字符， 得到数据b字符 -- 使用字符串中某个特定的数据\n",
    "# 这些字符数据从0开始书序分配一个编号 -- 使用这个编号精确找到某个字符数据 -- 下标或索引或索引值\n",
    "# str1[下标]\n",
    "\n",
    "print(str1[0])\n",
    "print(str1[1])"
   ]
  },
  {
   "cell_type": "markdown",
   "metadata": {},
   "source": [
    "# 切片"
   ]
  },
  {
   "cell_type": "code",
   "execution_count": 5,
   "metadata": {},
   "outputs": [
    {
     "name": "stdout",
     "output_type": "stream",
     "text": [
      "234\n",
      "24\n",
      "234\n",
      "01234\n",
      "2345678\n",
      "012345678\n",
      "876543210\n",
      "567\n",
      "567\n",
      "\n",
      "876\n"
     ]
    }
   ],
   "source": [
    "# 序列名[开始位置的下标:结束为止的下标:步长]\n",
    "\n",
    "str1 = '012345678'\n",
    "print(str1[2:5:1])\n",
    "print(str1[2:5:2])\n",
    "print(str1[2:5])\n",
    "print(str1[:5]) # 如果不写开始，默认从0开始选取\n",
    "print(str1[2:]) # 如果不写结束，表示选取到最后\n",
    "print(str1[:]) # 如果不写开始和结束，表示选取所有\n",
    "\n",
    "# 负数测试\n",
    "print(str1[::-1]) # 如果步长为负数，表示倒序选取\n",
    "print(str1[-4:-1]) # 下标-1表示最后一个数据，依次向前类推\n",
    "\n",
    "# 终极测试\n",
    "print(str1[-4:-1:1])\n",
    "print(str1[-4:-1:-1]) # 不能选取出数据:从-4开始到-1结束，选取方向为从左到右，但-1步长:从右向左选取\n",
    "# 如果选取方向（下标开始到结束的方向） 和 步长方向冲突，则无法选取数据\n",
    "print(str1[-1:-4:-1])"
   ]
  },
  {
   "cell_type": "markdown",
   "metadata": {},
   "source": [
    "# 查找"
   ]
  },
  {
   "cell_type": "markdown",
   "metadata": {},
   "source": [
    "# find\n",
    "- find(): 检查某个子串是否包含在这个字符串中，如果在返回这个子串开始的位置下标，否则则返回-1\n",
    "- 字符串序列.find(子串,开始位置下标,结束位置下标)\n",
    "- 注意:开始和结束位置下标可以省略，表示在整个字符串序列中查找\n",
    "- rfind():和find()功能相同，但查找方向为右侧开始"
   ]
  },
  {
   "cell_type": "code",
   "execution_count": 7,
   "metadata": {},
   "outputs": [
    {
     "name": "stdout",
     "output_type": "stream",
     "text": [
      "12\n",
      "23\n",
      "-1\n"
     ]
    }
   ],
   "source": [
    "mystr = 'hello world and itcast and itheima and Python'\n",
    "\n",
    "print(mystr.find('and'))\n",
    "print(mystr.find('and', 15, 30))\n",
    "print(mystr.find('ands')) # ands子串不存在，返回-1"
   ]
  },
  {
   "cell_type": "markdown",
   "metadata": {},
   "source": [
    "# index\n",
    "- index():检测某个字串是否包含在这个字符串中，如果在返回这个子串开始的位置下标，否则则报异常\n",
    "- 字符串序列.index(子串,开始位置下标,结束位置下标)\n",
    "- 注意:开始和结束位置下标可以省略，表示在整个字符串序列中查找\n",
    "- rindex():和index()功能相同，但查找方向为右侧开始"
   ]
  },
  {
   "cell_type": "code",
   "execution_count": 8,
   "metadata": {},
   "outputs": [
    {
     "name": "stdout",
     "output_type": "stream",
     "text": [
      "12\n",
      "23\n"
     ]
    },
    {
     "ename": "ValueError",
     "evalue": "substring not found",
     "output_type": "error",
     "traceback": [
      "\u001b[1;31m---------------------------------------------------------------------------\u001b[0m",
      "\u001b[1;31mValueError\u001b[0m                                Traceback (most recent call last)",
      "\u001b[1;32m<ipython-input-8-a075d5e3742e>\u001b[0m in \u001b[0;36m<module>\u001b[1;34m\u001b[0m\n\u001b[0;32m      1\u001b[0m \u001b[0mprint\u001b[0m\u001b[1;33m(\u001b[0m\u001b[0mmystr\u001b[0m\u001b[1;33m.\u001b[0m\u001b[0mindex\u001b[0m\u001b[1;33m(\u001b[0m\u001b[1;34m'and'\u001b[0m\u001b[1;33m)\u001b[0m\u001b[1;33m)\u001b[0m\u001b[1;33m\u001b[0m\u001b[1;33m\u001b[0m\u001b[0m\n\u001b[0;32m      2\u001b[0m \u001b[0mprint\u001b[0m\u001b[1;33m(\u001b[0m\u001b[0mmystr\u001b[0m\u001b[1;33m.\u001b[0m\u001b[0mindex\u001b[0m\u001b[1;33m(\u001b[0m\u001b[1;34m'and'\u001b[0m\u001b[1;33m,\u001b[0m \u001b[1;36m15\u001b[0m\u001b[1;33m,\u001b[0m \u001b[1;36m30\u001b[0m\u001b[1;33m)\u001b[0m\u001b[1;33m)\u001b[0m\u001b[1;33m\u001b[0m\u001b[1;33m\u001b[0m\u001b[0m\n\u001b[1;32m----> 3\u001b[1;33m \u001b[0mprint\u001b[0m\u001b[1;33m(\u001b[0m\u001b[0mmystr\u001b[0m\u001b[1;33m.\u001b[0m\u001b[0mindex\u001b[0m\u001b[1;33m(\u001b[0m\u001b[1;34m'ands'\u001b[0m\u001b[1;33m)\u001b[0m\u001b[1;33m)\u001b[0m \u001b[1;31m# 如果index查找子串不存在，报错\u001b[0m\u001b[1;33m\u001b[0m\u001b[1;33m\u001b[0m\u001b[0m\n\u001b[0m",
      "\u001b[1;31mValueError\u001b[0m: substring not found"
     ]
    }
   ],
   "source": [
    "mystr = 'hello world and itcast and itheima and Python'\n",
    "print(mystr.index('and'))\n",
    "print(mystr.index('and', 15, 30))\n",
    "print(mystr.index('ands')) # 如果index查找子串不存在，报错"
   ]
  },
  {
   "cell_type": "markdown",
   "metadata": {},
   "source": [
    "# count\n",
    "- count():返回某个子串在字符串中出现的次数\n",
    "- 字符串序列.count(子串，开始位置下标，结束位置下标)\n",
    "- 注意:开始和结束位置下标可以省略，表示在整个字符串序列中查找"
   ]
  },
  {
   "cell_type": "code",
   "execution_count": 1,
   "metadata": {},
   "outputs": [
    {
     "name": "stdout",
     "output_type": "stream",
     "text": [
      "1\n",
      "3\n",
      "0\n"
     ]
    }
   ],
   "source": [
    "mystr = 'hello world and itcast and itheima and Python'\n",
    "print(mystr.count('and', 15, 30))\n",
    "print(mystr.count('and'))\n",
    "print(mystr.count('ands')) # 找不到子串返回0"
   ]
  },
  {
   "cell_type": "markdown",
   "metadata": {},
   "source": [
    "# 修改"
   ]
  },
  {
   "cell_type": "markdown",
   "metadata": {},
   "source": [
    "# reolace(): 替换\n",
    "- replace(旧子串,新子串,替换次数)\n",
    "- 替换次数如果大于查出子串出现次数，则替换次数为该子串出现次数\n",
    "- 注意:数据按照是否能直接修改分为 可变类型 和 不可变类型 两种。字符串类型的数据修改的时候不能改变原有字符串，属于不能直接修改数据的类型即是不可变类型。"
   ]
  },
  {
   "cell_type": "code",
   "execution_count": 10,
   "metadata": {},
   "outputs": [
    {
     "name": "stdout",
     "output_type": "stream",
     "text": [
      "hello world and itcast and itheima and Python\n",
      "hello world he itcast he itheima he Python\n",
      "hello world he itcast and itheima and Python\n",
      "hello world he itcast he itheima he Python\n"
     ]
    }
   ],
   "source": [
    "mystr = 'hello world and itcast and itheima and Python'\n",
    "\n",
    "# replace() 把and换成he \n",
    "# 说明replace函数有返回值.返回值是修改后的字符串\n",
    "new_str1 = mystr.replace('and', 'he')\n",
    "new_str2 = mystr.replace('and', 'he', 1)\n",
    "# 替换次数如果超出子串出现的次数，表示替换所有这个子串\n",
    "new_str3 = mystr.replace('and', 'he', 10)\n",
    "print(mystr)\n",
    "print(new_str1)\n",
    "print(new_str2)\n",
    "print(new_str3)\n",
    "\n",
    "# 调用了replace函数后，发现原有字符串的数据并没有做到修改，修改后的数据是replace函数的返回值\n",
    "# 说明字符串是不可变数据类型\n",
    "# 数据是否可以改变划分为 可变类型 和 不可变类型"
   ]
  },
  {
   "cell_type": "markdown",
   "metadata": {},
   "source": [
    "# split(): 按照指定字符分割字符串\n",
    "- 字符串序列.solitary(分割字符,num)\n",
    "- 注意:num表示的是分割字符出现的次数，即将来返回数据个数为num+1个\n",
    "- 注意:如果分割字符是原有字符串中的子串，分割后则丢失该子串"
   ]
  },
  {
   "cell_type": "code",
   "execution_count": 12,
   "metadata": {},
   "outputs": [
    {
     "name": "stdout",
     "output_type": "stream",
     "text": [
      "['hello world ', ' itcast ', ' itheima ', ' Python']\n",
      "['hello world ', ' itcast ', ' itheima and Python']\n"
     ]
    }
   ],
   "source": [
    "# split() -- 分割,返回一个列表,丢是分割字符\n",
    "\n",
    "mystr = 'hello world and itcast and itheima and Python'\n",
    "list1 = mystr.split('and')\n",
    "list2 = mystr.split('and', 2)\n",
    "print(list1)\n",
    "print(list2)"
   ]
  },
  {
   "cell_type": "markdown",
   "metadata": {},
   "source": [
    "# join():用一个字符或子串合并字符串，即是将多个字符串合并为一个新的字符串\n",
    "- 字符或子串.join(多字符串组成的序列)"
   ]
  },
  {
   "cell_type": "code",
   "execution_count": 13,
   "metadata": {},
   "outputs": [
    {
     "name": "stdout",
     "output_type": "stream",
     "text": [
      "aa...bb...cc\n"
     ]
    }
   ],
   "source": [
    "# join() -- 合并列表里面的字符串数据为一个大字符串\n",
    "mylist = ['aa', 'bb', 'cc']\n",
    "\n",
    "# aa...bb...cc\n",
    "new_str = '...'.join(mylist)\n",
    "print(new_str)"
   ]
  },
  {
   "cell_type": "markdown",
   "metadata": {},
   "source": [
    "- capitalize()：将字符串第⼀个字符转换成⼤写。\n",
    "    -注意：capitalize()函数转换后，只字符串第⼀个字符⼤写，其他的字符全都⼩写。\n",
    "- title()：将字符串每个单词⾸字⺟转换成⼤写。\n",
    "- lower()：将字符串中⼤写转⼩写。\n",
    "- upper()：将字符串中⼩写转⼤写。"
   ]
  },
  {
   "cell_type": "code",
   "execution_count": 3,
   "metadata": {},
   "outputs": [
    {
     "name": "stdout",
     "output_type": "stream",
     "text": [
      "Asdd hjkf\n"
     ]
    }
   ],
   "source": [
    "a = \"asdD hJkf\"\n",
    "b = a.capitalize()\n",
    "print(b)"
   ]
  },
  {
   "cell_type": "code",
   "execution_count": 15,
   "metadata": {},
   "outputs": [
    {
     "name": "stdout",
     "output_type": "stream",
     "text": [
      "Hello world and itcast and itheima and python\n",
      "Hello World And Itcast And Itheima And Python\n",
      "HELLO WORLD AND ITCAST AND ITHEIMA AND PYTHON\n",
      "hello world and itcast and itheima and python\n"
     ]
    }
   ],
   "source": [
    "mystr = 'hello world and itcast and itheima and Python'\n",
    "\n",
    "# capitalize() 字符串首字母大写\n",
    "new_str = mystr.capitalize()\n",
    "print(new_str)\n",
    "\n",
    "# title(): 字符串中每个单词首字母大写\n",
    "new_str = mystr.title()\n",
    "print(new_str)\n",
    "\n",
    "# upper(): 小写转大写\n",
    "new_str = mystr.upper()\n",
    "print(new_str)\n",
    "\n",
    "# loeer(): 大写转小写\n",
    "new_str = mystr.lower()\n",
    "print(new_str)"
   ]
  },
  {
   "cell_type": "markdown",
   "metadata": {},
   "source": [
    "# 删除空白\n",
    "- lstrip\n",
    "- rstrip\n",
    "- strip"
   ]
  },
  {
   "cell_type": "code",
   "execution_count": 16,
   "metadata": {},
   "outputs": [
    {
     "name": "stdout",
     "output_type": "stream",
     "text": [
      "    hello world and itcast and itheima and Python    \n",
      "hello world and itcast and itheima and Python    \n",
      "    hello world and itcast and itheima and Python\n",
      "hello world and itcast and itheima and Python\n"
     ]
    }
   ],
   "source": [
    "mystr = '    hello world and itcast and itheima and Python    '\n",
    "print(mystr)\n",
    "\n",
    "# 1. lstrip(): 删除左侧空白字符\n",
    "new_str = mystr.lstrip()\n",
    "print(new_str)\n",
    "\n",
    "# 2. rsprit(): 删除右侧空白字符\n",
    "new_str = mystr.rstrip()\n",
    "print(new_str)\n",
    "\n",
    "# 3. sprit(): 删除两侧空白字符\n",
    "new_str = mystr.strip()\n",
    "print(new_str)"
   ]
  },
  {
   "cell_type": "markdown",
   "metadata": {},
   "source": [
    "# 字符串对齐\n",
    "- ljust\n",
    "- rjust\n",
    "- center"
   ]
  },
  {
   "cell_type": "code",
   "execution_count": 19,
   "metadata": {},
   "outputs": [
    {
     "name": "stdout",
     "output_type": "stream",
     "text": [
      "hello     \n",
      "hello.....\n"
     ]
    }
   ],
   "source": [
    "# ljust()：返回⼀个原字符串左对⻬,并使⽤指定字符(默认空格)填充⾄对应⻓度 的新字符串\n",
    "# 字符串序列.ljust(⻓度, 填充字符)\n",
    "\n",
    "mystr = 'hello'\n",
    "print(mystr.ljust(10))\n",
    "print(mystr.ljust(10, '.'))"
   ]
  },
  {
   "cell_type": "code",
   "execution_count": 21,
   "metadata": {},
   "outputs": [
    {
     "name": "stdout",
     "output_type": "stream",
     "text": [
      "     hello\n",
      ".....hello\n"
     ]
    }
   ],
   "source": [
    "# rjust()：返回⼀个原字符串右对⻬,并使⽤指定字符(默认空格)填充⾄对应⻓度 的新字符串，语法和ljust()相同。\n",
    "\n",
    "mystr = 'hello'\n",
    "print(mystr.rjust(10))\n",
    "print(mystr.rjust(10, '.'))"
   ]
  },
  {
   "cell_type": "code",
   "execution_count": 23,
   "metadata": {},
   "outputs": [
    {
     "name": "stdout",
     "output_type": "stream",
     "text": [
      "  hello   \n",
      "..hello...\n"
     ]
    }
   ],
   "source": [
    "# center()：返回⼀个原字符串居中对⻬,并使⽤指定字符(默认空格)填充⾄对应⻓度 的新字符串，语法和ljust()相同。\n",
    "\n",
    "mystr = 'hello'\n",
    "print(mystr.center(10))\n",
    "print(mystr.center(10, '.'))"
   ]
  },
  {
   "cell_type": "markdown",
   "metadata": {},
   "source": [
    "# 判断\n",
    "- startswith(): 判断字符串是否以某个字串开头\n",
    "- endswith(): 判断字符串是否以某个字串结尾\n",
    "- isalpha(): 如果字符串⾄少有⼀个字符并且所有字符都是字⺟则返回 True, 否则返回 False\n",
    "- isdigit(): 如果字符串只包含数字则返回 True 否则返回 False\n",
    "- isalnum(): 如果字符串⾄少有⼀个字符并且所有字符都是字⺟或数字则返 回 True,否则返回False\n",
    "- isspace(): 如果字符串中只包含空⽩，则返回 True，否则返回 False"
   ]
  },
  {
   "cell_type": "code",
   "execution_count": 24,
   "metadata": {},
   "outputs": [
    {
     "name": "stdout",
     "output_type": "stream",
     "text": [
      "True\n",
      "True\n",
      "False\n"
     ]
    }
   ],
   "source": [
    "mystr = 'hello world and itcast and itheima and Python'\n",
    "\n",
    "# startswith(): 判断字符串是否以某个字串开头\n",
    "print(mystr.startswith('hello'))\n",
    "print(mystr.startswith('hel'))\n",
    "print(mystr.startswith('hels'))"
   ]
  },
  {
   "cell_type": "code",
   "execution_count": 25,
   "metadata": {},
   "outputs": [
    {
     "name": "stdout",
     "output_type": "stream",
     "text": [
      "True\n",
      "True\n",
      "False\n"
     ]
    }
   ],
   "source": [
    "mystr = 'hello world and itcast and itheima and Python'\n",
    "\n",
    "# endswith(): 判断字符串是否以某个字串结尾\n",
    "print(mystr.endswith('Python'))\n",
    "print(mystr.endswith('hon'))\n",
    "print(mystr.endswith('Pythons'))"
   ]
  },
  {
   "cell_type": "code",
   "execution_count": 26,
   "metadata": {},
   "outputs": [
    {
     "name": "stdout",
     "output_type": "stream",
     "text": [
      "False\n"
     ]
    }
   ],
   "source": [
    "# isalpha()：如果字符串⾄少有⼀个字符并且所有字符都是字⺟则返回 True, 否则返回 False\n",
    "\n",
    "mystr = 'hello world and itcast and itheima and Python'\n",
    "print(mystr.isalpha())"
   ]
  },
  {
   "cell_type": "code",
   "execution_count": 28,
   "metadata": {},
   "outputs": [
    {
     "name": "stdout",
     "output_type": "stream",
     "text": [
      "False\n",
      "True\n"
     ]
    }
   ],
   "source": [
    "# isdigit()：如果字符串只包含数字则返回 True 否则返回 False\n",
    "\n",
    "mystr = 'hello world and itcast and itheima and Python'\n",
    "print(mystr.isdigit())\n",
    "mystr1 = '123456'\n",
    "print(mystr1.isdigit())"
   ]
  },
  {
   "cell_type": "code",
   "execution_count": 29,
   "metadata": {},
   "outputs": [
    {
     "name": "stdout",
     "output_type": "stream",
     "text": [
      "True\n",
      "False\n",
      "False\n"
     ]
    }
   ],
   "source": [
    "# isalnum()：如果字符串⾄少有⼀个字符并且所有字符都是字⺟或数字则返回 True,否则返回False\n",
    "\n",
    "mystr = 'hello world and itcast and itheima and Python'\n",
    "mystr1 = '123456'\n",
    "print(mystr1.isalnum())\n",
    "print(mystr.isalnum())\n",
    "mystr2 = 'abc123456'\n",
    "print(mystr2.isdigit())\n",
    "print（"
   ]
  },
  {
   "cell_type": "code",
   "execution_count": 30,
   "metadata": {},
   "outputs": [
    {
     "name": "stdout",
     "output_type": "stream",
     "text": [
      "False\n",
      "True\n"
     ]
    }
   ],
   "source": [
    "# isspace()：如果字符串中只包含空⽩，则返回 True，否则返回 False\n",
    "\n",
    "mystr = 'hello world and itcast and itheima and Python'\n",
    "print(mystr.isspace())\n",
    "mystr3 = '    '\n",
    "print(mystr3.isspace())"
   ]
  }
 ],
 "metadata": {
  "kernelspec": {
   "display_name": "Python 3",
   "language": "python",
   "name": "python3"
  },
  "language_info": {
   "codemirror_mode": {
    "name": "ipython",
    "version": 3
   },
   "file_extension": ".py",
   "mimetype": "text/x-python",
   "name": "python",
   "nbconvert_exporter": "python",
   "pygments_lexer": "ipython3",
   "version": "3.7.4"
  }
 },
 "nbformat": 4,
 "nbformat_minor": 4
}
