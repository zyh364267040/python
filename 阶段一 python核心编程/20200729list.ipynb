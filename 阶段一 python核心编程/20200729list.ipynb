{
 "cells": [
  {
   "cell_type": "markdown",
   "metadata": {},
   "source": [
    "# 列表"
   ]
  },
  {
   "cell_type": "markdown",
   "metadata": {},
   "source": [
    "# 下标"
   ]
  },
  {
   "cell_type": "code",
   "execution_count": 1,
   "metadata": {},
   "outputs": [
    {
     "name": "stdout",
     "output_type": "stream",
     "text": [
      "['Tom', 'lily', 'Rose']\n",
      "Tom\n",
      "lily\n",
      "Rose\n"
     ]
    }
   ],
   "source": [
    "name_list = ['Tom', 'lily', 'Rose']\n",
    "\n",
    "print(name_list)\n",
    "print(name_list[0])\n",
    "print(name_list[1])\n",
    "print(name_list[2])"
   ]
  },
  {
   "cell_type": "markdown",
   "metadata": {},
   "source": [
    "# 查找"
   ]
  },
  {
   "cell_type": "markdown",
   "metadata": {},
   "source": [
    "# index(): \n",
    "- 返回指定数据所在位置的下标\n",
    "- 注意:如果查找的数据不存在则报错"
   ]
  },
  {
   "cell_type": "code",
   "execution_count": 4,
   "metadata": {},
   "outputs": [
    {
     "name": "stdout",
     "output_type": "stream",
     "text": [
      "0\n"
     ]
    },
    {
     "ename": "ValueError",
     "evalue": "'Toms' is not in list",
     "output_type": "error",
     "traceback": [
      "\u001b[1;31m---------------------------------------------------------------------------\u001b[0m",
      "\u001b[1;31mValueError\u001b[0m                                Traceback (most recent call last)",
      "\u001b[1;32m<ipython-input-4-9c0d62394b6b>\u001b[0m in \u001b[0;36m<module>\u001b[1;34m\u001b[0m\n\u001b[0;32m      2\u001b[0m \u001b[1;33m\u001b[0m\u001b[0m\n\u001b[0;32m      3\u001b[0m \u001b[0mprint\u001b[0m\u001b[1;33m(\u001b[0m\u001b[0mname_list\u001b[0m\u001b[1;33m.\u001b[0m\u001b[0mindex\u001b[0m\u001b[1;33m(\u001b[0m\u001b[1;34m'Tom'\u001b[0m\u001b[1;33m)\u001b[0m\u001b[1;33m)\u001b[0m\u001b[1;33m\u001b[0m\u001b[1;33m\u001b[0m\u001b[0m\n\u001b[1;32m----> 4\u001b[1;33m \u001b[0mprint\u001b[0m\u001b[1;33m(\u001b[0m\u001b[0mname_list\u001b[0m\u001b[1;33m.\u001b[0m\u001b[0mindex\u001b[0m\u001b[1;33m(\u001b[0m\u001b[1;34m'Toms'\u001b[0m\u001b[1;33m)\u001b[0m\u001b[1;33m)\u001b[0m\u001b[1;33m\u001b[0m\u001b[1;33m\u001b[0m\u001b[0m\n\u001b[0m",
      "\u001b[1;31mValueError\u001b[0m: 'Toms' is not in list"
     ]
    }
   ],
   "source": [
    "name_list = ['Tom', 'lily', 'Rose']\n",
    "\n",
    "print(name_list.index('Tom'))\n",
    "print(name_list.index('Toms'))"
   ]
  },
  {
   "cell_type": "markdown",
   "metadata": {},
   "source": [
    "# count():\n",
    "- 统计指定数据在当前列表中出现的次数"
   ]
  },
  {
   "cell_type": "code",
   "execution_count": 6,
   "metadata": {},
   "outputs": [
    {
     "name": "stdout",
     "output_type": "stream",
     "text": [
      "1\n",
      "0\n"
     ]
    }
   ],
   "source": [
    "name_list = ['Tom', 'lily', 'Rose']\n",
    "\n",
    "print(name_list.count('Tom'))\n",
    "print(name_list.count('Toms'))"
   ]
  },
  {
   "cell_type": "markdown",
   "metadata": {},
   "source": [
    "# len():\n",
    "- 访问列表长度，及列表中数据的个数"
   ]
  },
  {
   "cell_type": "code",
   "execution_count": 7,
   "metadata": {},
   "outputs": [
    {
     "name": "stdout",
     "output_type": "stream",
     "text": [
      "3\n"
     ]
    }
   ],
   "source": [
    "name_list = ['Tom', 'lily', 'Rose']\n",
    "\n",
    "print(len(name_list))"
   ]
  },
  {
   "cell_type": "markdown",
   "metadata": {},
   "source": [
    "# 判断是否存在\n",
    "- in: 判断指定数据在某个列表序列，如果在返回True，否则返回False\n",
    "- not in: 判断指定数据在某个列表序列，如果不在返回True，否则返回False"
   ]
  },
  {
   "cell_type": "code",
   "execution_count": 8,
   "metadata": {},
   "outputs": [
    {
     "name": "stdout",
     "output_type": "stream",
     "text": [
      "True\n",
      "False\n",
      "False\n",
      "True\n"
     ]
    }
   ],
   "source": [
    "name_list = ['Tom', 'lily', 'Rose']\n",
    "\n",
    "print('Tom' in name_list)\n",
    "print('Toms' in name_list)\n",
    "\n",
    "print('Tom' not in name_list)\n",
    "print('Toms' not in name_list)"
   ]
  },
  {
   "cell_type": "code",
   "execution_count": 1,
   "metadata": {},
   "outputs": [
    {
     "name": "stdin",
     "output_type": "stream",
     "text": [
      "请输入您的用户名： tom\n"
     ]
    },
    {
     "name": "stdout",
     "output_type": "stream",
     "text": [
      "您输入的名字是tom，可以注册\n"
     ]
    }
   ],
   "source": [
    "name_list = ['Tom', 'lily', 'Rose']\n",
    "\n",
    "name = input('请输入您的用户名：')\n",
    "if name in name_list:\n",
    "    print(f'您输入的名字是{name}，该用户名已经存在')\n",
    "else:\n",
    "    print(f'您输入的名字是{name}，可以注册')"
   ]
  },
  {
   "cell_type": "markdown",
   "metadata": {},
   "source": [
    "# 增加"
   ]
  },
  {
   "cell_type": "markdown",
   "metadata": {},
   "source": [
    "# append(): \n",
    "- 列表结尾追加数据\n",
    "- 列表追加数据的时候，直接在原列表⾥⾯追加了指定数据，即修改了原列表，故列表为可变类型数据\n",
    "- 如果append()追加的数据是⼀个序列，则追加整个序列到列表"
   ]
  },
  {
   "cell_type": "code",
   "execution_count": 15,
   "metadata": {},
   "outputs": [
    {
     "name": "stdout",
     "output_type": "stream",
     "text": [
      "['Tom', 'lily', 'Rose', 'xiaoming']\n",
      "['Tom', 'lily', 'Rose', 'xiaoming', ['xiaohong', 'xiaoli']]\n"
     ]
    }
   ],
   "source": [
    "name_list = ['Tom', 'lily', 'Rose']\n",
    "\n",
    "name_list.append('xiaoming')\n",
    "print(name_list)\n",
    "\n",
    "name_list.append(['xiaohong', 'xiaoli'])\n",
    "print(name_list)"
   ]
  },
  {
   "cell_type": "markdown",
   "metadata": {},
   "source": [
    "# extend():\n",
    "- 列表结尾追加数据，如果数据是⼀个序列，则将这个序列的数据逐⼀添加到列表"
   ]
  },
  {
   "cell_type": "code",
   "execution_count": 2,
   "metadata": {},
   "outputs": [
    {
     "name": "stdout",
     "output_type": "stream",
     "text": [
      "['Tom', 'lily', 'Rose', 'x', 'i', 'a', 'o', 'm', 'i', 'n', 'g']\n",
      "['Tom', 'lily', 'Rose', 'xiaohong', 'xiaoli']\n"
     ]
    }
   ],
   "source": [
    "name_list = ['Tom', 'lily', 'Rose']\n",
    "\n",
    "name_list.extend('xiaoming')\n",
    "print(name_list)\n",
    "\n",
    "name_list = ['Tom', 'lily', 'Rose']\n",
    "name_list.extend(['xiaohong', 'xiaoli'])\n",
    "print(name_list)"
   ]
  },
  {
   "cell_type": "markdown",
   "metadata": {},
   "source": [
    "# insert():\n",
    "- 指定位置新增数据\n",
    "- 列表序列.insert(位置下标, 数据)"
   ]
  },
  {
   "cell_type": "code",
   "execution_count": 23,
   "metadata": {},
   "outputs": [
    {
     "name": "stdout",
     "output_type": "stream",
     "text": [
      "['Tom', 'xiaoming', 'lily', 'Rose']\n"
     ]
    }
   ],
   "source": [
    "name_list = ['Tom', 'lily', 'Rose']\n",
    "\n",
    "name_list.insert(1, 'xiaoming')\n",
    "print(name_list)"
   ]
  },
  {
   "cell_type": "code",
   "execution_count": 20,
   "metadata": {},
   "outputs": [
    {
     "name": "stdout",
     "output_type": "stream",
     "text": [
      "Help on method_descriptor:\n",
      "\n",
      "insert(self, index, object, /)\n",
      "    Insert object before index.\n",
      "\n"
     ]
    }
   ],
   "source": [
    "help(list.insert)"
   ]
  },
  {
   "cell_type": "markdown",
   "metadata": {},
   "source": [
    "# 删除"
   ]
  },
  {
   "cell_type": "markdown",
   "metadata": {},
   "source": [
    "# del\n",
    "- 删除列表\n",
    "- 删除指定数据"
   ]
  },
  {
   "cell_type": "code",
   "execution_count": 25,
   "metadata": {},
   "outputs": [
    {
     "ename": "NameError",
     "evalue": "name 'name_list' is not defined",
     "output_type": "error",
     "traceback": [
      "\u001b[1;31m---------------------------------------------------------------------------\u001b[0m",
      "\u001b[1;31mNameError\u001b[0m                                 Traceback (most recent call last)",
      "\u001b[1;32m<ipython-input-25-d8701e5502da>\u001b[0m in \u001b[0;36m<module>\u001b[1;34m\u001b[0m\n\u001b[0;32m      1\u001b[0m \u001b[0mname_list\u001b[0m \u001b[1;33m=\u001b[0m \u001b[1;33m[\u001b[0m\u001b[1;34m'Tom'\u001b[0m\u001b[1;33m,\u001b[0m \u001b[1;34m'lily'\u001b[0m\u001b[1;33m,\u001b[0m \u001b[1;34m'Rose'\u001b[0m\u001b[1;33m]\u001b[0m\u001b[1;33m\u001b[0m\u001b[1;33m\u001b[0m\u001b[0m\n\u001b[0;32m      2\u001b[0m \u001b[1;32mdel\u001b[0m \u001b[0mname_list\u001b[0m\u001b[1;33m\u001b[0m\u001b[1;33m\u001b[0m\u001b[0m\n\u001b[1;32m----> 3\u001b[1;33m \u001b[0mprint\u001b[0m\u001b[1;33m(\u001b[0m\u001b[0mname_list\u001b[0m\u001b[1;33m)\u001b[0m\u001b[1;33m\u001b[0m\u001b[1;33m\u001b[0m\u001b[0m\n\u001b[0m\u001b[0;32m      4\u001b[0m \u001b[1;33m\u001b[0m\u001b[0m\n\u001b[0;32m      5\u001b[0m \u001b[0mname_list\u001b[0m \u001b[1;33m=\u001b[0m \u001b[1;33m[\u001b[0m\u001b[1;34m'Tom'\u001b[0m\u001b[1;33m,\u001b[0m \u001b[1;34m'lily'\u001b[0m\u001b[1;33m,\u001b[0m \u001b[1;34m'Rose'\u001b[0m\u001b[1;33m]\u001b[0m\u001b[1;33m\u001b[0m\u001b[1;33m\u001b[0m\u001b[0m\n",
      "\u001b[1;31mNameError\u001b[0m: name 'name_list' is not defined"
     ]
    }
   ],
   "source": [
    "name_list = ['Tom', 'lily', 'Rose']\n",
    "del name_list\n",
    "print(name_list)"
   ]
  },
  {
   "cell_type": "code",
   "execution_count": 26,
   "metadata": {},
   "outputs": [
    {
     "ename": "NameError",
     "evalue": "name 'name_list' is not defined",
     "output_type": "error",
     "traceback": [
      "\u001b[1;31m---------------------------------------------------------------------------\u001b[0m",
      "\u001b[1;31mNameError\u001b[0m                                 Traceback (most recent call last)",
      "\u001b[1;32m<ipython-input-26-66943f1ef9c7>\u001b[0m in \u001b[0;36m<module>\u001b[1;34m\u001b[0m\n\u001b[0;32m      1\u001b[0m \u001b[0mname_list\u001b[0m \u001b[1;33m=\u001b[0m \u001b[1;33m[\u001b[0m\u001b[1;34m'Tom'\u001b[0m\u001b[1;33m,\u001b[0m \u001b[1;34m'lily'\u001b[0m\u001b[1;33m,\u001b[0m \u001b[1;34m'Rose'\u001b[0m\u001b[1;33m]\u001b[0m\u001b[1;33m\u001b[0m\u001b[1;33m\u001b[0m\u001b[0m\n\u001b[0;32m      2\u001b[0m \u001b[1;32mdel\u001b[0m\u001b[1;33m(\u001b[0m\u001b[0mname_list\u001b[0m\u001b[1;33m)\u001b[0m\u001b[1;33m\u001b[0m\u001b[1;33m\u001b[0m\u001b[0m\n\u001b[1;32m----> 3\u001b[1;33m \u001b[0mprint\u001b[0m\u001b[1;33m(\u001b[0m\u001b[0mname_list\u001b[0m\u001b[1;33m)\u001b[0m\u001b[1;33m\u001b[0m\u001b[1;33m\u001b[0m\u001b[0m\n\u001b[0m",
      "\u001b[1;31mNameError\u001b[0m: name 'name_list' is not defined"
     ]
    }
   ],
   "source": [
    "name_list = ['Tom', 'lily', 'Rose']\n",
    "del(name_list)\n",
    "print(name_list)"
   ]
  },
  {
   "cell_type": "code",
   "execution_count": 27,
   "metadata": {},
   "outputs": [
    {
     "name": "stdout",
     "output_type": "stream",
     "text": [
      "['lily', 'Rose']\n"
     ]
    }
   ],
   "source": [
    "name_list = ['Tom', 'lily', 'Rose']\n",
    "del name_list[0]\n",
    "print(name_list)"
   ]
  },
  {
   "cell_type": "markdown",
   "metadata": {},
   "source": [
    "# pop():\n",
    "- 删除指定下标的数据，如果不指定下标，默认删除最后一个数据\n",
    "- 无论是按照下标还是删除最后一个，pop函数都会返回这个被删除的数据"
   ]
  },
  {
   "cell_type": "code",
   "execution_count": 28,
   "metadata": {},
   "outputs": [
    {
     "name": "stdout",
     "output_type": "stream",
     "text": [
      "Rose\n",
      "['Tom', 'lily']\n",
      "lily\n",
      "['Tom']\n"
     ]
    }
   ],
   "source": [
    "name_list = ['Tom', 'lily', 'Rose']\n",
    "\n",
    "pop_list = name_list.pop()\n",
    "print(pop_list)\n",
    "print(name_list)\n",
    "\n",
    "pop_list = name_list.pop(1)\n",
    "print(pop_list)\n",
    "print(name_list)"
   ]
  },
  {
   "cell_type": "markdown",
   "metadata": {},
   "source": [
    "# remove():\n",
    "- 移除列表中某个数据的第一个匹配项"
   ]
  },
  {
   "cell_type": "code",
   "execution_count": 30,
   "metadata": {},
   "outputs": [
    {
     "name": "stdout",
     "output_type": "stream",
     "text": [
      "['Tom', 'lily']\n"
     ]
    }
   ],
   "source": [
    "name_list = ['Tom', 'lily', 'Rose']\n",
    "\n",
    "name_list.remove('Rose')\n",
    "print(name_list)"
   ]
  },
  {
   "cell_type": "markdown",
   "metadata": {},
   "source": [
    "# clear():\n",
    "- 清空列表"
   ]
  },
  {
   "cell_type": "code",
   "execution_count": 31,
   "metadata": {},
   "outputs": [
    {
     "name": "stdout",
     "output_type": "stream",
     "text": [
      "[]\n"
     ]
    }
   ],
   "source": [
    "name_list = ['Tom', 'lily', 'Rose']\n",
    "\n",
    "name_list.clear()\n",
    "print(name_list)"
   ]
  },
  {
   "cell_type": "markdown",
   "metadata": {},
   "source": [
    "# 修改"
   ]
  },
  {
   "cell_type": "code",
   "execution_count": 32,
   "metadata": {},
   "outputs": [
    {
     "name": "stdout",
     "output_type": "stream",
     "text": [
      "['Tom', 'xiaoming', 'Rose']\n"
     ]
    }
   ],
   "source": [
    "# 修改制定下标的数据\n",
    "\n",
    "name_list = ['Tom', 'lily', 'Rose']\n",
    "name_list[1] = 'xiaoming'\n",
    "print(name_list)"
   ]
  },
  {
   "cell_type": "code",
   "execution_count": 33,
   "metadata": {},
   "outputs": [
    {
     "name": "stdout",
     "output_type": "stream",
     "text": [
      "[2, 7, 8, 6, 5, 1]\n"
     ]
    }
   ],
   "source": [
    "# reverse():  逆序\n",
    "\n",
    "list1 = [1, 5, 6, 8, 7, 2]\n",
    "list1.reverse()\n",
    "print(list1)"
   ]
  },
  {
   "cell_type": "code",
   "execution_count": 34,
   "metadata": {},
   "outputs": [
    {
     "name": "stdout",
     "output_type": "stream",
     "text": [
      "[1, 2, 5, 6, 7, 8]\n",
      "[8, 7, 6, 5, 2, 1]\n",
      "[1, 2, 5, 6, 7, 8]\n"
     ]
    }
   ],
   "source": [
    "# sort(): 排序: reverse=True降序 和 reverse=False升序（默认）\n",
    "\n",
    "list1 = [1, 5, 6, 8, 7, 2]\n",
    "list1.sort()\n",
    "print(list1)\n",
    "\n",
    "list1.sort(reverse=True)\n",
    "print(list1)\n",
    "\n",
    "list1.sort(reverse=False)\n",
    "print(list1)"
   ]
  },
  {
   "cell_type": "markdown",
   "metadata": {},
   "source": [
    "# 复制"
   ]
  },
  {
   "cell_type": "code",
   "execution_count": 35,
   "metadata": {},
   "outputs": [
    {
     "name": "stdout",
     "output_type": "stream",
     "text": [
      "['Tom', 'lily', 'Rose']\n",
      "['Tom', 'lily', 'Rose']\n"
     ]
    }
   ],
   "source": [
    "# copy():\n",
    "name_list = ['Tom', 'lily', 'Rose']\n",
    "list1 = name_list.copy()\n",
    "print(list1)\n",
    "print(name_list)"
   ]
  },
  {
   "cell_type": "markdown",
   "metadata": {},
   "source": [
    "# 遍历"
   ]
  },
  {
   "cell_type": "code",
   "execution_count": 36,
   "metadata": {},
   "outputs": [
    {
     "name": "stdout",
     "output_type": "stream",
     "text": [
      "Tom\n",
      "lily\n",
      "Rose\n"
     ]
    }
   ],
   "source": [
    "# while循环\n",
    "name_list = ['Tom', 'lily', 'Rose']\n",
    "\n",
    "i = 0\n",
    "while i < len(name_list):\n",
    "    print(name_list[i])\n",
    "    i += 1"
   ]
  },
  {
   "cell_type": "code",
   "execution_count": 37,
   "metadata": {},
   "outputs": [
    {
     "name": "stdout",
     "output_type": "stream",
     "text": [
      "Tom\n",
      "lily\n",
      "Rose\n"
     ]
    }
   ],
   "source": [
    "# for循环\n",
    "name_list = ['Tom', 'lily', 'Rose']\n",
    "\n",
    "for i in name_list:\n",
    "    print(i)"
   ]
  },
  {
   "cell_type": "markdown",
   "metadata": {},
   "source": [
    "# 列表嵌套"
   ]
  },
  {
   "cell_type": "code",
   "execution_count": 38,
   "metadata": {},
   "outputs": [
    {
     "name": "stdout",
     "output_type": "stream",
     "text": [
      "['Tom', 'Lily', 'Rose']\n",
      "Lily\n"
     ]
    }
   ],
   "source": [
    "name_list = [['Tom', 'Lily', 'Rose'], ['xiaoming', 'xiaowang', 'xiaoli'], ['张三', '李四', '王五']]\n",
    "print(name_list[0])\n",
    "print(name_list[0][1])"
   ]
  },
  {
   "cell_type": "code",
   "execution_count": 78,
   "metadata": {},
   "outputs": [
    {
     "name": "stdout",
     "output_type": "stream",
     "text": [
      "办公室1的人数是3,老师分别是：\n",
      "D\n",
      "F\n",
      "H\n",
      "办公室2的人数是3,老师分别是：\n",
      "A\n",
      "B\n",
      "G\n",
      "办公室3的人数是2,老师分别是：\n",
      "C\n",
      "E\n"
     ]
    }
   ],
   "source": [
    "# 随机分配办公室\n",
    "# 需求: 8位老师， 3个办公室， 将8位老师随机分配到3个办公室\n",
    "\"\"\"\n",
    "步骤:\n",
    "1. 准备数据\n",
    "    1.1 8位老师 -- 列表\n",
    "    1.2 3个办公室 -- 列表嵌套\n",
    "    \n",
    "2. 分配老师到办公室\n",
    "    随机分配\n",
    "    就是把老师的名字写入到办公室列表 -- 办公室列表追加老师名字数据\n",
    "\n",
    "3. 验证是否分配成功\n",
    "    打印办公室详细信息: 每个办公室的人数和对应的老师名字\n",
    "\"\"\"\n",
    "\n",
    "import random\n",
    "\n",
    "# 1. 准备数据\n",
    "teachers = ['A', 'B', 'C', 'D', 'E', 'F', 'G', 'H']\n",
    "offices = [[], [], []]\n",
    "\n",
    "# 2. 分配老师到办公室 -- 取到每个老师放到办公室列表 -- 遍历老师列表数据\n",
    "for name in teachers:\n",
    "    # 列表追加数据 -- append(选中) extend insert\n",
    "    # xx[0] -- 不能指定是具体某个下标 -- 随机\n",
    "    num = random.randint(0, 2)\n",
    "    offices[num].append(name)\n",
    "    # print(num)\n",
    "\n",
    "# print(offices)\n",
    "\n",
    "# 为了更贴合生活， 把各个办公室子列表加一个办公室编号1, 2, 3\n",
    "# 3. 验证是否分配成功\n",
    "i = 1\n",
    "for office in offices:\n",
    "    # 打印办公室人数 -- 子列表数据的个数 len()\n",
    "    print(f'办公室{i}的人数是{len(office)},老师分别是：')\n",
    "    # 打印老师的名字\n",
    "    # print() -- 每个子列表里面的名字个数不一定 -- 遍历 -- 子列表\n",
    "    for name in office:\n",
    "        print(name)\n",
    "    i +=1"
   ]
  },
  {
   "cell_type": "code",
   "execution_count": 79,
   "metadata": {},
   "outputs": [
    {
     "name": "stdout",
     "output_type": "stream",
     "text": [
      "[[], ['A', 'C', 'E', 'F', 'H'], ['B', 'D', 'G']]\n",
      "办公室1的老师为0人，分别为：\n",
      "办公室2的老师为5人，分别为：\n",
      "A\n",
      "C\n",
      "E\n",
      "F\n",
      "H\n",
      "办公室3的老师为3人，分别为：\n",
      "B\n",
      "D\n",
      "G\n"
     ]
    }
   ],
   "source": [
    "# 自己练习\n",
    "from random import randrange\n",
    "\n",
    "teachers = ['A', 'B', 'C', 'D', 'E', 'F', 'G', 'H']\n",
    "offices = [[], [], []]\n",
    "\n",
    "for teacher in teachers:\n",
    "    num = randrange(0, 3)\n",
    "    offices[num].append(teacher)\n",
    "\n",
    "print(offices)\n",
    "\n",
    "i = 1\n",
    "for office in offices:\n",
    "    print(f'办公室{i}的老师为{len(office)}人，分别为：')\n",
    "    for name in office:\n",
    "        print(name)\n",
    "    i +=1"
   ]
  },
  {
   "cell_type": "code",
   "execution_count": 11,
   "metadata": {},
   "outputs": [
    {
     "name": "stdout",
     "output_type": "stream",
     "text": [
      "[['A', 'B', 'C', 'D', 'E', 'F'], ['G', 'H'], []]\n",
      "办公室1共有老师6人，分别是:\n",
      "A\n",
      "B\n",
      "C\n",
      "D\n",
      "E\n",
      "F\n",
      "办公室2共有老师2人，分别是:\n",
      "G\n",
      "H\n",
      "办公室3共有老师0人，分别是:\n"
     ]
    }
   ],
   "source": [
    "# 随机分配办公室\n",
    "# 需求: 8位老师， 3个办公室， 将8位老师随机分配到3个办公室\n",
    "import random\n",
    "offices = [[], [], []]\n",
    "teachers = [\"A\", \"B\", \"C\", \"D\", \"E\", \"F\", \"G\", \"H\"]\n",
    "\n",
    "for teacher in teachers:\n",
    "    offices[random.randrange(0, 3)].append(teacher)\n",
    "print(offices)\n",
    "j = 1\n",
    "while j < 4:\n",
    "    print(f\"办公室{j}共有老师{len(offices[j-1])}人，分别是:\")\n",
    "    for i in offices[j-1]:\n",
    "        print(i)\n",
    "    j += 1"
   ]
  }
 ],
 "metadata": {
  "kernelspec": {
   "display_name": "Python 3",
   "language": "python",
   "name": "python3"
  },
  "language_info": {
   "codemirror_mode": {
    "name": "ipython",
    "version": 3
   },
   "file_extension": ".py",
   "mimetype": "text/x-python",
   "name": "python",
   "nbconvert_exporter": "python",
   "pygments_lexer": "ipython3",
   "version": "3.7.4"
  }
 },
 "nbformat": 4,
 "nbformat_minor": 4
}
