{
 "cells": [
  {
   "cell_type": "markdown",
   "metadata": {},
   "source": [
    "# 函数"
   ]
  },
  {
   "cell_type": "code",
   "execution_count": 3,
   "metadata": {},
   "outputs": [
    {
     "name": "stdout",
     "output_type": "stream",
     "text": [
      "恭喜您登陆成功\n",
      "显示余额\n",
      "存款\n",
      "取款\n",
      "您的余额是100000000\n",
      "显示余额\n",
      "存款\n",
      "取款\n",
      "取款100元\n",
      "显示余额\n",
      "存款\n",
      "取款\n"
     ]
    }
   ],
   "source": [
    "def sel_func():\n",
    "    print('显示余额')\n",
    "    print('存款')\n",
    "    print('取款')\n",
    "    \n",
    "print('恭喜您登陆成功')\n",
    "sel_func()\n",
    "\n",
    "print('您的余额是100000000')\n",
    "sel_func()\n",
    "\n",
    "print('取款100元')\n",
    "sel_func()"
   ]
  },
  {
   "cell_type": "code",
   "execution_count": 4,
   "metadata": {},
   "outputs": [
    {
     "name": "stdout",
     "output_type": "stream",
     "text": [
      "3\n"
     ]
    }
   ],
   "source": [
    "def add_num(a, b):\n",
    "    result = a + b\n",
    "    print(result)\n",
    "    \n",
    "add_num(1, 2)"
   ]
  },
  {
   "cell_type": "code",
   "execution_count": 5,
   "metadata": {},
   "outputs": [
    {
     "name": "stdout",
     "output_type": "stream",
     "text": [
      "I OK\n",
      "烟\n"
     ]
    }
   ],
   "source": [
    "def buy():\n",
    "    print('I OK')\n",
    "    return '烟'\n",
    "    print('OK')\n",
    "\n",
    "good = buy()\n",
    "print(good)"
   ]
  },
  {
   "cell_type": "markdown",
   "metadata": {},
   "source": [
    "### return 作用\n",
    "1. 负责函数返回值\n",
    "2. 退出当前函数： 导致return下方的所有代码（函数体内部）不执行"
   ]
  },
  {
   "cell_type": "markdown",
   "metadata": {},
   "source": [
    "## 函数说明文档\n",
    "- 查看使用help(函数名)"
   ]
  },
  {
   "cell_type": "code",
   "execution_count": 6,
   "metadata": {},
   "outputs": [
    {
     "name": "stdout",
     "output_type": "stream",
     "text": [
      "Help on function sum_num1 in module __main__:\n",
      "\n",
      "sum_num1(a, b)\n",
      "    求和函数\n",
      "\n"
     ]
    }
   ],
   "source": [
    "def sum_num1(a, b):\n",
    "    \"\"\"求和函数\"\"\"\n",
    "    return a + b\n",
    "\n",
    "help(sum_num1)"
   ]
  },
  {
   "cell_type": "code",
   "execution_count": 7,
   "metadata": {},
   "outputs": [
    {
     "name": "stdout",
     "output_type": "stream",
     "text": [
      "Help on function sum_num2 in module __main__:\n",
      "\n",
      "sum_num2(a, b)\n",
      "    求和函数sum_num2\n",
      "    在paycharm中会分别出现参数a, 参数b 和 返回值的备注\n",
      "\n"
     ]
    }
   ],
   "source": [
    "# 说明文档高级使用\n",
    "\n",
    "def sum_num2(a, b):\n",
    "    \"\"\"\n",
    "    求和函数sum_num2\n",
    "    在paycharm中会分别出现参数a, 参数b 和 返回值的备注\n",
    "    \"\"\"\n",
    "    return a + b\n",
    "\n",
    "help(sum_num2)"
   ]
  },
  {
   "cell_type": "code",
   "execution_count": 8,
   "metadata": {},
   "outputs": [
    {
     "name": "stdout",
     "output_type": "stream",
     "text": [
      "--------------------\n",
      "\n"
     ]
    },
    {
     "name": "stdin",
     "output_type": "stream",
     "text": [
      "请输入您要打印的直线行数 5\n"
     ]
    },
    {
     "name": "stdout",
     "output_type": "stream",
     "text": [
      "--------------------\n",
      "--------------------\n",
      "--------------------\n",
      "--------------------\n",
      "--------------------\n"
     ]
    }
   ],
   "source": [
    "# 打印一条直线\n",
    "\n",
    "def print_line():\n",
    "    print('-' * 20)\n",
    "    \n",
    "print_line()\n",
    "\n",
    "print()\n",
    "\n",
    "# 打印多条直线\n",
    "def print_lines(num):\n",
    "    i = 0\n",
    "    while i < num:\n",
    "        print_line()\n",
    "        i += 1\n",
    "        \n",
    "print_lines(num = int(input('请输入您要打印的直线行数')))"
   ]
  },
  {
   "cell_type": "code",
   "execution_count": 9,
   "metadata": {},
   "outputs": [
    {
     "name": "stdout",
     "output_type": "stream",
     "text": [
      "6\n"
     ]
    },
    {
     "data": {
      "text/plain": [
       "2.0"
      ]
     },
     "execution_count": 9,
     "metadata": {},
     "output_type": "execute_result"
    }
   ],
   "source": [
    "# 求三个数之和\n",
    "def sum_num(a, b, c):\n",
    "    return a + b + c\n",
    "\n",
    "result = sum_num(1, 2, 3)\n",
    "print(result)\n",
    "\n",
    "# 求三个数的平均值\n",
    "def average_num(a, b, c):\n",
    "    sumResult = sum_num(a, b, c)\n",
    "    return sumResult / 3\n",
    "\n",
    "average_num(1, 2, 3)"
   ]
  },
  {
   "cell_type": "code",
   "execution_count": 33,
   "metadata": {},
   "outputs": [
    {
     "name": "stdout",
     "output_type": "stream",
     "text": [
      "(0, 10, 21, 29)\n"
     ]
    }
   ],
   "source": [
    "# 定义函数findall，要求返回符合要求的所有位置的起始下标，如字符串\"helloworldhellopythonhelloc++hellojava\"，\n",
    "# 需要找出里面所有的\"hello\"的位置，返回的格式是一个元组，即：(0,10,21,29)\n",
    "str1 = \"helloworldhellopythonhelloc++hellojava\"\n",
    "\n",
    "\n",
    "def findall():\n",
    "    ls = []\n",
    "    i = 0\n",
    "    while True:\n",
    "        num = str1.find(\"hello\", i)\n",
    "        if num != -1:\n",
    "            ls.append(num)\n",
    "            i = num + 5\n",
    "        else:\n",
    "            return tuple(ls)    \n",
    "        \n",
    "\n",
    "print(findall())"
   ]
  },
  {
   "cell_type": "code",
   "execution_count": 38,
   "metadata": {},
   "outputs": [
    {
     "name": "stdout",
     "output_type": "stream",
     "text": [
      "15\n"
     ]
    }
   ],
   "source": [
    "# 定义一个函数 sum_test 接收一个参数 n ，在函数中计算 1 + 2 + 3 + ... + n 的值，并打印结果\n",
    "def sum_test(n):\n",
    "    i = 1\n",
    "    result = 0\n",
    "    while True:\n",
    "        if i <= n:\n",
    "            result += i\n",
    "            i += 1\n",
    "        else:\n",
    "            break\n",
    "    return result\n",
    "\n",
    "            \n",
    "print(sum_test(5))"
   ]
  },
  {
   "cell_type": "code",
   "execution_count": 40,
   "metadata": {},
   "outputs": [
    {
     "data": {
      "text/plain": [
       "10"
      ]
     },
     "execution_count": 40,
     "metadata": {},
     "output_type": "execute_result"
    }
   ],
   "source": [
    "# 递归函数\n",
    "def sum_test(n):\n",
    "    if n == 1:\n",
    "        return 1\n",
    "    else:\n",
    "        return n + sum_test(n-1)\n",
    "    \n",
    "\n",
    "sum_test(4)"
   ]
  },
  {
   "cell_type": "code",
   "execution_count": null,
   "metadata": {},
   "outputs": [],
   "source": []
  }
 ],
 "metadata": {
  "kernelspec": {
   "display_name": "Python 3",
   "language": "python",
   "name": "python3"
  },
  "language_info": {
   "codemirror_mode": {
    "name": "ipython",
    "version": 3
   },
   "file_extension": ".py",
   "mimetype": "text/x-python",
   "name": "python",
   "nbconvert_exporter": "python",
   "pygments_lexer": "ipython3",
   "version": "3.7.4"
  }
 },
 "nbformat": 4,
 "nbformat_minor": 4
}
