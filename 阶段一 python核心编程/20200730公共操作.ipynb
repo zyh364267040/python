{
 "cells": [
  {
   "cell_type": "markdown",
   "metadata": {},
   "source": [
    "# 公共操作"
   ]
  },
  {
   "cell_type": "markdown",
   "metadata": {},
   "source": [
    "## 运算符"
   ]
  },
  {
   "cell_type": "markdown",
   "metadata": {},
   "source": [
    "### +  合并\n",
    "- 支持的容器类型: 字符串、列表、元组"
   ]
  },
  {
   "cell_type": "code",
   "execution_count": 1,
   "metadata": {},
   "outputs": [
    {
     "name": "stdout",
     "output_type": "stream",
     "text": [
      "aabb\n",
      "[1, 2, 10, 20]\n",
      "(1, 2, 10, 20)\n"
     ]
    }
   ],
   "source": [
    "str1 = 'aa'\n",
    "str2 = 'bb'\n",
    "\n",
    "list1 = [1, 2]\n",
    "list2 = [10, 20]\n",
    "\n",
    "t1 = (1, 2)\n",
    "t2 = (10, 20)\n",
    "\n",
    "dict1 = {'name', 'Python'}\n",
    "dict2 = {'age', 30}\n",
    "\n",
    "print(str1 + str2)\n",
    "print(list1 + list2)\n",
    "print(t1 + t2)\n",
    "# print(str1 + str2) 报错，字典不支持合并"
   ]
  },
  {
   "cell_type": "markdown",
   "metadata": {},
   "source": [
    "### * 复制\n",
    "- 支持的容器类型: 字符串、列表、元组"
   ]
  },
  {
   "cell_type": "code",
   "execution_count": 2,
   "metadata": {},
   "outputs": [
    {
     "name": "stdout",
     "output_type": "stream",
     "text": [
      "aaaaa\n",
      "----------\n",
      "['hello', 'hello', 'hello', 'hello', 'hello']\n",
      "worldworldworldworldworld\n"
     ]
    }
   ],
   "source": [
    "str1 = 'a'\n",
    "list1 = ['hello']\n",
    "t1 = ('world')\n",
    "\n",
    "print(str1 * 5)\n",
    "\n",
    "print('-' * 10)\n",
    "\n",
    "print(list1 * 5)\n",
    "\n",
    "print(t1 * 5)"
   ]
  },
  {
   "cell_type": "markdown",
   "metadata": {},
   "source": [
    "### in\n",
    "### not in\n",
    "- 支持的容器类型: 字符串、列表、元组、字典"
   ]
  },
  {
   "cell_type": "code",
   "execution_count": 3,
   "metadata": {},
   "outputs": [
    {
     "name": "stdout",
     "output_type": "stream",
     "text": [
      "True\n",
      "False\n",
      "True\n",
      "False\n",
      "True\n",
      "False\n",
      "True\n",
      "False\n",
      "True\n",
      "False\n"
     ]
    }
   ],
   "source": [
    "str1 = 'abcd'\n",
    "list1 = [10, 20, 30, 40]\n",
    "t1 = (100, 200, 300, 400)\n",
    "dict1 = {'name': 'Python', 'age': 30}\n",
    "\n",
    "print('a' in str1)\n",
    "print('a' not in str1)\n",
    "\n",
    "print(10 in list1)\n",
    "print(10 not in list1)\n",
    "\n",
    "print(100 in t1)\n",
    "print(100 not in t1)\n",
    "\n",
    "print('name' in dict1)\n",
    "print('name' not in dict1)\n",
    "print('name' in dict1.keys())\n",
    "print('name' in dict1.values())"
   ]
  },
  {
   "cell_type": "markdown",
   "metadata": {},
   "source": [
    "# 公共方法"
   ]
  },
  {
   "cell_type": "markdown",
   "metadata": {},
   "source": [
    "## len()\n",
    "- 计算容器中元素个数"
   ]
  },
  {
   "cell_type": "code",
   "execution_count": 4,
   "metadata": {},
   "outputs": [
    {
     "name": "stdout",
     "output_type": "stream",
     "text": [
      "7\n",
      "5\n",
      "5\n",
      "5\n",
      "2\n"
     ]
    }
   ],
   "source": [
    "str1 = 'abcdefg'\n",
    "list1 = [10, 20, 30, 40, 50]\n",
    "t1 = (10, 20, 30, 40, 50)\n",
    "s1 = {10, 20, 30, 40, 50}\n",
    "dict1 = {'name': 'Tom', 'age': 18}\n",
    "\n",
    "print(len(str1))\n",
    "print(len(list1))\n",
    "print(len(t1))\n",
    "print(len(s1))\n",
    "print(len(dict1))"
   ]
  },
  {
   "cell_type": "markdown",
   "metadata": {},
   "source": [
    "## del del()\n",
    "- 删除"
   ]
  },
  {
   "cell_type": "code",
   "execution_count": 5,
   "metadata": {},
   "outputs": [
    {
     "name": "stdout",
     "output_type": "stream",
     "text": [
      "[20, 30, 40, 50]\n",
      "[30, 40, 50]\n",
      "{'age': 18}\n"
     ]
    }
   ],
   "source": [
    "str1 = 'abcdefg'\n",
    "list1 = [10, 20, 30, 40, 50]\n",
    "t1 = (10, 20, 30, 40, 50)\n",
    "s1 = {10, 20, 30, 40, 50}\n",
    "dict1 = {'name': 'Tom', 'age': 18}\n",
    "\n",
    "# del str1\n",
    "# print(str1)\n",
    "\n",
    "del list1[0]\n",
    "print(list1)\n",
    "\n",
    "del(list1[0])\n",
    "print(list1)\n",
    "\n",
    "# del(t1)\n",
    "# print(t1)\n",
    "\n",
    "# del s1\n",
    "# print(s1)\n",
    "\n",
    "del dict1['name']\n",
    "print(dict1)"
   ]
  },
  {
   "cell_type": "markdown",
   "metadata": {},
   "source": [
    "## max()\n",
    "- 返回容器中元素最大值\n",
    "## min()\n",
    "- 返回容器中元素最小值"
   ]
  },
  {
   "cell_type": "code",
   "execution_count": 6,
   "metadata": {},
   "outputs": [
    {
     "name": "stdout",
     "output_type": "stream",
     "text": [
      "g\n",
      "50\n",
      "a\n",
      "10\n"
     ]
    }
   ],
   "source": [
    "str1 = 'abcdefg'\n",
    "list1 = [10, 20, 30, 40, 50]\n",
    "\n",
    "print(max(str1))\n",
    "print(max(list1))\n",
    "\n",
    "print(min(str1))\n",
    "print(min(list1))"
   ]
  },
  {
   "cell_type": "markdown",
   "metadata": {},
   "source": [
    "## range(start, end, step)\n",
    "- 生成从start到end的数字，步长为step，供for循环使用\n",
    "- range（）生成的序列不包含end数字\n",
    "- 如果不写开始，默认从0开始\n",
    "- 如果不写步长，默认为1"
   ]
  },
  {
   "cell_type": "code",
   "execution_count": 7,
   "metadata": {},
   "outputs": [
    {
     "name": "stdout",
     "output_type": "stream",
     "text": [
      "1\n",
      "2\n",
      "3\n",
      "4\n",
      "5\n",
      "6\n",
      "7\n",
      "8\n",
      "9\n",
      "1\n",
      "3\n",
      "5\n",
      "7\n",
      "9\n",
      "0\n",
      "1\n",
      "2\n",
      "3\n",
      "4\n",
      "5\n",
      "6\n",
      "7\n",
      "8\n",
      "9\n"
     ]
    }
   ],
   "source": [
    "for i in range(1, 10, 1):\n",
    "    print(i)\n",
    "\n",
    "for i in range(1, 10, 2):\n",
    "    print(i)\n",
    "    \n",
    "for i in range(10):\n",
    "    print(i)"
   ]
  },
  {
   "cell_type": "markdown",
   "metadata": {},
   "source": [
    "## enumerate(可遍历对象, start=0)\n",
    "- 函数⽤于将⼀个可遍历的数据对象(如列表、元组或字符串)组合为⼀个索引序列，同时列出数据和数据下标，⼀般⽤在 for 循环当中\n",
    "- start参数⽤来设置遍历数据的下标的起始值，默认为0"
   ]
  },
  {
   "cell_type": "code",
   "execution_count": 8,
   "metadata": {},
   "outputs": [
    {
     "name": "stdout",
     "output_type": "stream",
     "text": [
      "(0, 'a')\n",
      "(1, 'b')\n",
      "(2, 'c')\n",
      "(3, 'd')\n",
      "(4, 'e')\n",
      "(1, 'a')\n",
      "(2, 'b')\n",
      "(3, 'c')\n",
      "(4, 'd')\n",
      "(5, 'e')\n"
     ]
    }
   ],
   "source": [
    "list1 = ['a', 'b', 'c', 'd', 'e']\n",
    "\n",
    "# enumerate 返回结果是元组，元组第一个数据是元迭代对象的数据对应的下标，元组第二个数据是原迭代对象的数据\n",
    "\n",
    "for i in enumerate(list1):\n",
    "    print(i)\n",
    "    \n",
    "for i in enumerate(list1, start=1):\n",
    "    print(i)"
   ]
  },
  {
   "cell_type": "markdown",
   "metadata": {},
   "source": [
    "## 容器类型转换"
   ]
  },
  {
   "cell_type": "code",
   "execution_count": 9,
   "metadata": {},
   "outputs": [
    {
     "name": "stdout",
     "output_type": "stream",
     "text": [
      "(10, 20, 30, 20, 40, 50)\n",
      "(200, 100, 500, 300)\n",
      "[200, 100, 500, 300]\n",
      "['a', 'b', 'c', 'd', 'e']\n",
      "{40, 10, 50, 20, 30}\n",
      "{'c', 'a', 'd', 'b', 'e'}\n"
     ]
    }
   ],
   "source": [
    "list1 = [10, 20, 30, 20, 40, 50]\n",
    "s1 = {100, 300, 200, 500}\n",
    "t1 = ('a', 'b', 'c', 'd', 'e')\n",
    "\n",
    "# tuple(): 转换成元组\n",
    "print(tuple(list1))\n",
    "print(tuple(s1))\n",
    "\n",
    "# list(): 转换成列表\n",
    "print(list(s1))\n",
    "print(list(t1))\n",
    "\n",
    "# set(): 转换成集合\n",
    "print(set(list1))\n",
    "print(set(t1))"
   ]
  },
  {
   "cell_type": "code",
   "execution_count": null,
   "metadata": {},
   "outputs": [],
   "source": []
  }
 ],
 "metadata": {
  "kernelspec": {
   "display_name": "Python 3",
   "language": "python",
   "name": "python3"
  },
  "language_info": {
   "codemirror_mode": {
    "name": "ipython",
    "version": 3
   },
   "file_extension": ".py",
   "mimetype": "text/x-python",
   "name": "python",
   "nbconvert_exporter": "python",
   "pygments_lexer": "ipython3",
   "version": "3.7.4"
  }
 },
 "nbformat": 4,
 "nbformat_minor": 4
}
