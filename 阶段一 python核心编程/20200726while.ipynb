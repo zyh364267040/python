{
 "cells": [
  {
   "cell_type": "markdown",
   "metadata": {},
   "source": [
    "# while循环"
   ]
  },
  {
   "cell_type": "code",
   "execution_count": 8,
   "metadata": {},
   "outputs": [
    {
     "name": "stdout",
     "output_type": "stream",
     "text": [
      "循环\n",
      "循环\n",
      "循环\n",
      "循环\n",
      "循环\n",
      "任务结束\n"
     ]
    }
   ],
   "source": [
    "# 体验循环\n",
    "\"\"\"\n",
    "while 条件：\n",
    "    条件成立要重复执行的代码\n",
    "    ......\n",
    "\"\"\"\n",
    "i = 0\n",
    "while i < 5:\n",
    "    i += 1\n",
    "    print('循环')\n",
    "\n",
    "print('任务结束')"
   ]
  },
  {
   "cell_type": "markdown",
   "metadata": {},
   "source": [
    "# 循环应用1之1-100累加和"
   ]
  },
  {
   "cell_type": "code",
   "execution_count": 9,
   "metadata": {},
   "outputs": [
    {
     "name": "stdout",
     "output_type": "stream",
     "text": [
      "5050\n"
     ]
    }
   ],
   "source": [
    "# 需求： 1-100数字累加和 -- 1 + 2 + 3 + 4...+ 100 = 结果，打印结果\n",
    "\"\"\"\n",
    "1. 准备做加法运算的数据1-100增量为1\n",
    "2. 准备变量保存将来运算的结果\n",
    "3. 循环做加法运算\n",
    "4. 打印结果\n",
    "5. 验证结果正确性\n",
    "\"\"\"\n",
    "\n",
    "# 准备数据\n",
    "i = 1\n",
    "\n",
    "# 结果变量\n",
    "result = 0\n",
    "# 循环\n",
    "while i <= 100:\n",
    "    # 加法运算 前两个数的结果 + 第三个数 -- 每计算一次加法则更新一次result变量值\n",
    "    result = result + i # 等价 result += i\n",
    "    i += 1\n",
    "    \n",
    "# 打印最终结果\n",
    "print(result)"
   ]
  },
  {
   "cell_type": "code",
   "execution_count": 30,
   "metadata": {},
   "outputs": [
    {
     "name": "stdout",
     "output_type": "stream",
     "text": [
      "2550\n"
     ]
    }
   ],
   "source": [
    "# 1-100的偶数相加\n",
    "i = 1\n",
    "result = 0\n",
    "\n",
    "while i <= 100:\n",
    "    if i % 2 == 0:\n",
    "        result += i\n",
    "    i += 1\n",
    "    \n",
    "print(result)"
   ]
  },
  {
   "cell_type": "code",
   "execution_count": 1,
   "metadata": {},
   "outputs": [
    {
     "name": "stdout",
     "output_type": "stream",
     "text": [
      "2550\n"
     ]
    }
   ],
   "source": [
    "# 1-100的偶数相加\n",
    "i = 0\n",
    "result = 0\n",
    "\n",
    "while i <= 100:\n",
    "    result += i\n",
    "    i += 2\n",
    "    \n",
    "print(result)"
   ]
  },
  {
   "cell_type": "markdown",
   "metadata": {},
   "source": [
    "# break"
   ]
  },
  {
   "cell_type": "code",
   "execution_count": 2,
   "metadata": {},
   "outputs": [
    {
     "name": "stdout",
     "output_type": "stream",
     "text": [
      "吃了1个苹果\n",
      "吃了2个苹果\n",
      "吃了3个苹果\n",
      "吃饱了，不吃了\n"
     ]
    }
   ],
   "source": [
    "# break： 当某些条件成立，退出整个循环\n",
    "# 循环吃5个苹果，吃完第3个吃饱了，第4 和 5 不吃了（不执行） -- == 4 或 > 3\n",
    "\n",
    "i = 1\n",
    "while i <= 5:\n",
    "    if i == 4:\n",
    "        print('吃饱了，不吃了')\n",
    "        break\n",
    "    print(f'吃了{i}个苹果')\n",
    "    i += 1"
   ]
  },
  {
   "cell_type": "markdown",
   "metadata": {},
   "source": [
    "# continue"
   ]
  },
  {
   "cell_type": "code",
   "execution_count": 3,
   "metadata": {},
   "outputs": [
    {
     "name": "stdout",
     "output_type": "stream",
     "text": [
      "吃了1个苹果\n",
      "吃了2个苹果\n",
      "吃出一个大虫子，这个苹果不吃了\n",
      "吃了4个苹果\n",
      "吃了5个苹果\n"
     ]
    }
   ],
   "source": [
    "# continue： 当条件成立，退出当前一次循环， 继而执行下一次循环\n",
    "# 吃5个苹果 -- 循环；吃到第3个吃出一个虫子，第三个不吃了，没吃饱，继续吃第4和5个苹果 -- 只有第三个不吃\n",
    "i = 1\n",
    "while i <= 5:\n",
    "    if i == 3:\n",
    "        print('吃出一个大虫子，这个苹果不吃了')\n",
    "        # 如果使用continue，在continue之前一定要修改计数器，否则进入死循环\n",
    "        i += 1\n",
    "        continue\n",
    "    print(f'吃了{i}个苹果')\n",
    "    i += 1"
   ]
  },
  {
   "cell_type": "code",
   "execution_count": 4,
   "metadata": {},
   "outputs": [
    {
     "name": "stdout",
     "output_type": "stream",
     "text": [
      "媳妇儿，我错了\n",
      "媳妇儿，我错了\n",
      "媳妇儿，我错了\n",
      "刷晚饭的碗\n",
      "一套惩罚结束\n",
      "---------------\n",
      "媳妇儿，我错了\n",
      "媳妇儿，我错了\n",
      "媳妇儿，我错了\n",
      "刷晚饭的碗\n",
      "一套惩罚结束\n",
      "---------------\n",
      "媳妇儿，我错了\n",
      "媳妇儿，我错了\n",
      "媳妇儿，我错了\n",
      "刷晚饭的碗\n",
      "一套惩罚结束\n",
      "---------------\n"
     ]
    }
   ],
   "source": [
    "# while循环嵌套\n",
    "\"\"\"\n",
    "1. 循环打印3次媳妇儿，我错了\n",
    "2. 今天刷晚饭的碗\n",
    "3. 上面是一套惩罚，这一套惩罚要重复执行3天 -- 一套惩罚要重复执行 -- 放到一个while循环里面\n",
    "\"\"\"\n",
    "\n",
    "j = 0\n",
    "while j < 3:\n",
    "    i = 0\n",
    "    while i < 3:\n",
    "        print('媳妇儿，我错了')\n",
    "        i += 1\n",
    "    print('刷晚饭的碗')\n",
    "    print('一套惩罚结束')\n",
    "    print('-' * 15)\n",
    "    j += 1"
   ]
  },
  {
   "cell_type": "code",
   "execution_count": 5,
   "metadata": {},
   "outputs": [
    {
     "name": "stdout",
     "output_type": "stream",
     "text": [
      "* * * * * \n",
      "* * * * * \n",
      "* * * * * \n",
      "* * * * * \n",
      "* * * * * \n"
     ]
    }
   ],
   "source": [
    "\"\"\"\n",
    "1. 打印1个星星\n",
    "2. 一行5个； 循环 -- 5个星星在一行显示\n",
    "3. 打印5行星星； 循环 -- 一行5个\n",
    "\"\"\"\n",
    "j = 0\n",
    "while j < 5:\n",
    "    # 一行星星开始\n",
    "    i = 0\n",
    "    while i < 5:\n",
    "        print('*', end = ' ')\n",
    "        i += 1\n",
    "    # 一行星星结束； 换行显示下一行\n",
    "    print()\n",
    "    j += 1"
   ]
  },
  {
   "cell_type": "code",
   "execution_count": 6,
   "metadata": {},
   "outputs": [
    {
     "name": "stdout",
     "output_type": "stream",
     "text": [
      "* \n",
      "* * \n",
      "* * * \n",
      "* * * * \n",
      "* * * * * \n"
     ]
    }
   ],
   "source": [
    "# 三角形：每行星星的个数和行号数相等\n",
    "j = 0\n",
    "while j < 5:\n",
    "    # 一行星星开始\n",
    "    i = 0\n",
    "    while i <= j: # 此为老师的写法，我思考后写为 while i < j + 1:\n",
    "        print('*', end = ' ')\n",
    "        i += 1\n",
    "    # 一行星星结束； 换行显示下一行\n",
    "    print()\n",
    "    j += 1"
   ]
  },
  {
   "cell_type": "code",
   "execution_count": 7,
   "metadata": {},
   "outputs": [
    {
     "name": "stdout",
     "output_type": "stream",
     "text": [
      "1 * 1 = 1\t\n",
      "1 * 2 = 2\t2 * 2 = 4\t\n",
      "1 * 3 = 3\t2 * 3 = 6\t3 * 3 = 9\t\n",
      "1 * 4 = 4\t2 * 4 = 8\t3 * 4 = 12\t4 * 4 = 16\t\n",
      "1 * 5 = 5\t2 * 5 = 10\t3 * 5 = 15\t4 * 5 = 20\t5 * 5 = 25\t\n",
      "1 * 6 = 6\t2 * 6 = 12\t3 * 6 = 18\t4 * 6 = 24\t5 * 6 = 30\t6 * 6 = 36\t\n",
      "1 * 7 = 7\t2 * 7 = 14\t3 * 7 = 21\t4 * 7 = 28\t5 * 7 = 35\t6 * 7 = 42\t7 * 7 = 49\t\n",
      "1 * 8 = 8\t2 * 8 = 16\t3 * 8 = 24\t4 * 8 = 32\t5 * 8 = 40\t6 * 8 = 48\t7 * 8 = 56\t8 * 8 = 64\t\n",
      "1 * 9 = 9\t2 * 9 = 18\t3 * 9 = 27\t4 * 9 = 36\t5 * 9 = 45\t6 * 9 = 54\t7 * 9 = 63\t8 * 9 = 72\t9 * 9 = 81\t\n"
     ]
    }
   ],
   "source": [
    "# 九九乘法表\n",
    "# 多行多个乘法表达式 x * x = x*x\n",
    "\n",
    "\"\"\"\n",
    "1. 打印一个乘法表达式:x * x = x*x\n",
    "2. 一行打印多个表达式 -- 一行表达式的个数和行号数相等 -- 循环: 一个表达式 -- 不换行\n",
    "3. 打印多行表达式 -- 循环: 一行表达式 -- 换行\n",
    "\n",
    "**** 一行表达式的个数和行号数相等\n",
    "\"\"\"\n",
    "\n",
    "j = 1\n",
    "while j <= 9:\n",
    "    # 一行的表达式开始\n",
    "    i = 1\n",
    "    while i <= j:\n",
    "        print(f'{i} * {j} = {i*j}', end = '\\t')\n",
    "        i += 1\n",
    "    # 一行的表达式结束\n",
    "    print()\n",
    "    j += 1"
   ]
  },
  {
   "cell_type": "code",
   "execution_count": null,
   "metadata": {},
   "outputs": [],
   "source": []
  }
 ],
 "metadata": {
  "kernelspec": {
   "display_name": "Python 3",
   "language": "python",
   "name": "python3"
  },
  "language_info": {
   "codemirror_mode": {
    "name": "ipython",
    "version": 3
   },
   "file_extension": ".py",
   "mimetype": "text/x-python",
   "name": "python",
   "nbconvert_exporter": "python",
   "pygments_lexer": "ipython3",
   "version": "3.7.4"
  }
 },
 "nbformat": 4,
 "nbformat_minor": 4
}
