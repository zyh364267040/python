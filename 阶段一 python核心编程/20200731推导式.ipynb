{
 "cells": [
  {
   "cell_type": "markdown",
   "metadata": {},
   "source": [
    "# 列表推导式"
   ]
  },
  {
   "cell_type": "markdown",
   "metadata": {},
   "source": [
    "## 创建有规律列表"
   ]
  },
  {
   "cell_type": "code",
   "execution_count": 7,
   "metadata": {},
   "outputs": [
    {
     "name": "stdout",
     "output_type": "stream",
     "text": [
      "[0, 1, 2, 3, 4, 5, 6, 7, 8, 9]\n"
     ]
    }
   ],
   "source": [
    "# while循环\n",
    "\n",
    "list1 = []\n",
    "\n",
    "i = 0\n",
    "while i < 10:\n",
    "    list1.append(i)\n",
    "    i += 1\n",
    "    \n",
    "print(list1)"
   ]
  },
  {
   "cell_type": "code",
   "execution_count": 8,
   "metadata": {},
   "outputs": [
    {
     "name": "stdout",
     "output_type": "stream",
     "text": [
      "[0, 1, 2, 3, 4, 5, 6, 7, 8, 9]\n"
     ]
    }
   ],
   "source": [
    "# for循环\n",
    "\n",
    "list1 = []\n",
    "\n",
    "for i in range(10):\n",
    "    list1.append(i)\n",
    "    \n",
    "print(list1)"
   ]
  },
  {
   "cell_type": "code",
   "execution_count": 10,
   "metadata": {},
   "outputs": [
    {
     "name": "stdout",
     "output_type": "stream",
     "text": [
      "[0, 1, 2, 3, 4, 5, 6, 7, 8, 9]\n"
     ]
    }
   ],
   "source": [
    "# 列表推导式实现\n",
    "\n",
    "list1 = [i for i in range(10)]\n",
    "print(list1)"
   ]
  },
  {
   "cell_type": "markdown",
   "metadata": {},
   "source": [
    "## 带if的列表推导式"
   ]
  },
  {
   "cell_type": "code",
   "execution_count": 14,
   "metadata": {},
   "outputs": [
    {
     "name": "stdout",
     "output_type": "stream",
     "text": [
      "[0, 2, 4, 6, 8]\n",
      "[0, 2, 4, 6, 8]\n",
      "[0, 2, 4, 6, 8]\n"
     ]
    }
   ],
   "source": [
    "# 需求: 0-10偶数数据的列表\n",
    "# 简单列表推导式range步长\n",
    "\n",
    "list1 = [i for i in range(0, 10, 2)]\n",
    "print(list1)\n",
    "\n",
    "# for循环加if创建有规律的列表\n",
    "\n",
    "list2 = []\n",
    "for i in range(10):\n",
    "    if i % 2 == 0:\n",
    "        list2.append(i)\n",
    "        \n",
    "print(list2)\n",
    "\n",
    "# 把for循环配合if的代码 改写 带if的列表推导式\n",
    "\n",
    "list3 = [i for i in range(10) if i % 2 == 0]\n",
    "print(list3)"
   ]
  },
  {
   "cell_type": "markdown",
   "metadata": {},
   "source": [
    "## 多个for实现列表推导式"
   ]
  },
  {
   "cell_type": "code",
   "execution_count": 17,
   "metadata": {},
   "outputs": [
    {
     "name": "stdout",
     "output_type": "stream",
     "text": [
      "[(1, 0), (1, 1), (1, 2), (2, 0), (2, 1), (2, 2)]\n",
      "[(1, 0), (1, 1), (1, 2), (2, 0), (2, 1), (2, 2)]\n"
     ]
    }
   ],
   "source": [
    "# [(1, 0), (1, 1), (1, 2), (2, 0), (2, 1), (2, 2)]\n",
    "\n",
    "list1 = []\n",
    "for i in range(1, 3):\n",
    "    for j in range(3):\n",
    "        list1.append((i, j))\n",
    "        \n",
    "print(list1)\n",
    "\n",
    "list2 = [(i, j) for i in range(1, 3) for j in range(3)]\n",
    "print(list2)"
   ]
  },
  {
   "cell_type": "markdown",
   "metadata": {},
   "source": [
    "## 字典推导式"
   ]
  },
  {
   "cell_type": "code",
   "execution_count": 18,
   "metadata": {},
   "outputs": [
    {
     "name": "stdout",
     "output_type": "stream",
     "text": [
      "{1: 1, 2: 4, 3: 9, 4: 16, 5: 25}\n"
     ]
    }
   ],
   "source": [
    "# 创建字典 key是1-5的数字，v是这个数字的平方\n",
    "dict1 = {i: i**2 for i in range(1, 6)}\n",
    "print(dict1)"
   ]
  },
  {
   "cell_type": "markdown",
   "metadata": {},
   "source": [
    "## 合并列表为字典"
   ]
  },
  {
   "cell_type": "code",
   "execution_count": 22,
   "metadata": {},
   "outputs": [
    {
     "name": "stdout",
     "output_type": "stream",
     "text": [
      "{'name': 'zhou', 'age': 18, 'gender': 'man'}\n"
     ]
    }
   ],
   "source": [
    "list1 = ['name', 'age', 'gender']\n",
    "list2 = ['zhou', 18, 'man']\n",
    "\n",
    "dict1 = {list1[i]: list2[i] for i in range(len(list1))}\n",
    "print(dict1)\n",
    "\n",
    "# 总结：\n",
    "# 1. 如果两个列表数据个数相同， len统计任何一个列表的长度都可以\n",
    "# 2. 如果两个列表数据个数不同， len统计数据多的列表数据个数会报错，len统计数据少的列表数据个数不会报错"
   ]
  },
  {
   "cell_type": "markdown",
   "metadata": {},
   "source": [
    "## 提取字典中的数据"
   ]
  },
  {
   "cell_type": "code",
   "execution_count": 27,
   "metadata": {},
   "outputs": [
    {
     "name": "stdout",
     "output_type": "stream",
     "text": [
      "{'MBP': 268, 'DELL': 201}\n"
     ]
    }
   ],
   "source": [
    "counts = {'MBP': 268, 'HP': 125, 'DELL': 201, 'Lenovo': 199, 'acer': 99}\n",
    "\n",
    "dict1 = {key: value for key, value in counts.items() if value >= 200}\n",
    "print(dict1)"
   ]
  },
  {
   "cell_type": "markdown",
   "metadata": {},
   "source": [
    "## 集合推导式"
   ]
  },
  {
   "cell_type": "code",
   "execution_count": 29,
   "metadata": {},
   "outputs": [
    {
     "name": "stdout",
     "output_type": "stream",
     "text": [
      "{1, 4}\n"
     ]
    }
   ],
   "source": [
    "list1 = [1, 1, 2]\n",
    "\n",
    "set = {i**2 for i in list1}\n",
    "print(set)\n",
    "# 集合有去重功能"
   ]
  },
  {
   "cell_type": "markdown",
   "metadata": {},
   "source": [
    "# 总结\n",
    "- 列表推导式\n",
    "    - [xx for xx in range()]\n",
    "- 字典推导式\n",
    "    - {xx1: xx2 for ... in ...}\n",
    "- 集合推导式\n",
    "    - {xx for xx in ...}    "
   ]
  }
 ],
 "metadata": {
  "kernelspec": {
   "display_name": "Python 3",
   "language": "python",
   "name": "python3"
  },
  "language_info": {
   "codemirror_mode": {
    "name": "ipython",
    "version": 3
   },
   "file_extension": ".py",
   "mimetype": "text/x-python",
   "name": "python",
   "nbconvert_exporter": "python",
   "pygments_lexer": "ipython3",
   "version": "3.7.4"
  }
 },
 "nbformat": 4,
 "nbformat_minor": 4
}
