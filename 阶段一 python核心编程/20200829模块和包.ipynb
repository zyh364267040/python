{
 "cells": [
  {
   "cell_type": "markdown",
   "metadata": {},
   "source": [
    "# 模块\n",
    "## 导入模块\n",
    "- 方法\n",
    "    - import 模块名\n",
    "    - from 模块名 import 功能名\n",
    "    - from 模块名 import *\n",
    "    - import 模块名 as 别名\n",
    "    - from 模块名 import 功能名 as 别名"
   ]
  },
  {
   "cell_type": "code",
   "execution_count": 1,
   "metadata": {},
   "outputs": [
    {
     "name": "stdout",
     "output_type": "stream",
     "text": [
      "3.0\n"
     ]
    }
   ],
   "source": [
    "# 需求：math模块下sqrt() 开平方计算\n",
    "\"\"\"\n",
    "1.导入模块\n",
    "2.测试是否导入成功，调用该模块内的sqrt功能\n",
    "\"\"\"\n",
    "# 方法一：import 模块名，模块名.功能\n",
    "import math\n",
    "print(math.sqrt(9))"
   ]
  },
  {
   "cell_type": "code",
   "execution_count": 3,
   "metadata": {},
   "outputs": [
    {
     "name": "stdout",
     "output_type": "stream",
     "text": [
      "3.0\n"
     ]
    }
   ],
   "source": [
    "# 方法二：from 模块名 import 功能1, 功能2...\n",
    "from math import sqrt\n",
    "print(sqrt(9))"
   ]
  },
  {
   "cell_type": "code",
   "execution_count": 4,
   "metadata": {},
   "outputs": [
    {
     "name": "stdout",
     "output_type": "stream",
     "text": [
      "3.0\n"
     ]
    }
   ],
   "source": [
    "# 方法三：from 模块名 import *\n",
    "from math import *\n",
    "print(sqrt(9))"
   ]
  },
  {
   "cell_type": "code",
   "execution_count": 7,
   "metadata": {},
   "outputs": [
    {
     "name": "stdout",
     "output_type": "stream",
     "text": [
      "hello\n",
      "hello\n"
     ]
    }
   ],
   "source": [
    "# 需求：运行后暂停2秒打印hello\n",
    "\"\"\"\n",
    "1.导入time模块或导入time模块的sleep功能\n",
    "2.调用功能\n",
    "3.打印hello\n",
    "\"\"\"\n",
    "# 1.模块别名\n",
    "import time as tt\n",
    "tt.sleep(2)\n",
    "print(\"hello\")\n",
    "\n",
    "# 2.功能别名\n",
    "from time import sleep as sl\n",
    "sl(2)\n",
    "print(\"hello\")"
   ]
  },
  {
   "cell_type": "markdown",
   "metadata": {},
   "source": [
    "## 制作模块\n",
    "- 在python中，每个python文件都可以作为一个模块，模块的名字就是文件的名字。\n",
    "- 自定义模块名必须要符合标识符命名规则"
   ]
  },
  {
   "cell_type": "code",
   "execution_count": 15,
   "metadata": {},
   "outputs": [
    {
     "name": "stdout",
     "output_type": "stream",
     "text": [
      "2\n"
     ]
    }
   ],
   "source": [
    "# 1.定义模块\n",
    "# 新建一个python文件，命名为my_module1.py，并定义testA函数。\n",
    "def testA(a, b):\n",
    "    print(a + b)\n",
    "    \n",
    "# 2.测试模块\n",
    "# 在实际开发中，当一个开发人员编写完一个模块后，为了让模块能够在项目中达到想要的结果，这个开发人员会自行在py文件中添加一些测试信息\n",
    "# 此时，无论是当前文件，还是其他已经导入了该模块的文件，在运行的时候都会自动执行testA函数的调用\n",
    "# 解决办法如下：\n",
    "# __name__是系统变量，是模块的标识符，值：如果是在自身模块中值是__main__，否则是当前的模块的名字\n",
    "if __name__ == \"__main__\":\n",
    "    testA(1, 1)"
   ]
  },
  {
   "cell_type": "code",
   "execution_count": 16,
   "metadata": {},
   "outputs": [
    {
     "name": "stdout",
     "output_type": "stream",
     "text": [
      "2\n"
     ]
    }
   ],
   "source": [
    "# 3.调用模块\n",
    "import my_module1\n",
    "my_module1.testA(1, 1)"
   ]
  },
  {
   "cell_type": "markdown",
   "metadata": {},
   "source": [
    "## 模块定位顺序\n",
    "- 当导入一个模块，python解释器对模块位置的搜索顺序是：\n",
    "    - 当前目录\n",
    "    - 如果不在当前目录，python则搜索在shell变量PYTHONPATH下的每个目录\n",
    "    - 如果都找不到，python会查看默认路径\n",
    "- 注意\n",
    "    - 自己的文件名不要和已有模块重复，否则导致模块功能无法使用\n",
    "    - 使用from 模块名 import 功能 的时候，如果功能名字重复，调用到的是最后定义或导入的功能"
   ]
  },
  {
   "cell_type": "markdown",
   "metadata": {},
   "source": [
    "# __all__\n",
    "- 如果一个模块文件中有__all__变量，当使用from xx import *导入时，只能导入这个列表中的元素\n",
    "- 只有all列表里面的功能才能导入"
   ]
  },
  {
   "cell_type": "markdown",
   "metadata": {},
   "source": [
    "# 包\n",
    "- 包将有联系的模块组织在一起，即放到同一文件夹下，并且在这个文件夹创建一个名字为__init__.py文件，那么这个文件夹就称之为包。"
   ]
  },
  {
   "cell_type": "code",
   "execution_count": null,
   "metadata": {},
   "outputs": [],
   "source": [
    "# 制作包\n",
    "\"\"\"\n",
    "[New]-[Python Package]-输入包名-[Ok]-新建功能模块（有联系的模块\n",
    "注意：新建包后，包内会自动创建__init__.py文件，这个文件控制着报的导入行为\n",
    "\"\"\""
   ]
  },
  {
   "cell_type": "code",
   "execution_count": null,
   "metadata": {},
   "outputs": [],
   "source": [
    "# 导入包\n",
    "# 方法一\n",
    "\"\"\"\n",
    "1.导入\n",
    "import 包名.模块名\n",
    "2.调用功能\n",
    "包名.模块名.功能()\n",
    "\"\"\"\n",
    "\n",
    "# 方法二\n",
    "# 注意：必须设置__init__.py文件里的__all__ = []列表，添加的是允许导入的模块\n",
    "\"\"\"\n",
    "1.导入\n",
    "from 包名 import *\n",
    "2.调用功能\n",
    "模块名.目标\n",
    "\"\"\""
   ]
  },
  {
   "cell_type": "code",
   "execution_count": null,
   "metadata": {},
   "outputs": [],
   "source": [
    "\"\"\"\n",
    "请同学自定义模块名字mypackage\n",
    "包中包含2个属性一个 IP地址 192.168.100.100 字符串，一个port 端口 8000 int类型\n",
    "分别使用三种方式 导入使用此模块 \n",
    "\"\"\""
   ]
  }
 ],
 "metadata": {
  "kernelspec": {
   "display_name": "Python 3",
   "language": "python",
   "name": "python3"
  },
  "language_info": {
   "codemirror_mode": {
    "name": "ipython",
    "version": 3
   },
   "file_extension": ".py",
   "mimetype": "text/x-python",
   "name": "python",
   "nbconvert_exporter": "python",
   "pygments_lexer": "ipython3",
   "version": "3.7.7"
  }
 },
 "nbformat": 4,
 "nbformat_minor": 4
}
