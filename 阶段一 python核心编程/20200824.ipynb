{
 "cells": [
  {
   "cell_type": "code",
   "execution_count": 9,
   "metadata": {},
   "outputs": [
    {
     "name": "stdout",
     "output_type": "stream",
     "text": [
      "6\n"
     ]
    }
   ],
   "source": [
    "# 递归数字累加和\n",
    "def sumNums(n):\n",
    "    if n == 1:\n",
    "        return 1\n",
    "    return n + sumNums(n-1)\n",
    "\n",
    "\n",
    "print(sumNums(3))"
   ]
  },
  {
   "cell_type": "markdown",
   "metadata": {},
   "source": [
    "# 匿名函数 也叫lambda表达式\n",
    "- 语法:lambda 参数列表:返回值/表达式/函数调用\n",
    "- lambda的参数列表和def定义函数的参数列表写法和作用完全相同"
   ]
  },
  {
   "cell_type": "code",
   "execution_count": 6,
   "metadata": {},
   "outputs": [
    {
     "name": "stdout",
     "output_type": "stream",
     "text": [
      "50\n"
     ]
    }
   ],
   "source": [
    "print( (lambda: 50)() )"
   ]
  },
  {
   "cell_type": "code",
   "execution_count": 7,
   "metadata": {},
   "outputs": [
    {
     "name": "stdout",
     "output_type": "stream",
     "text": [
      "100\n"
     ]
    }
   ],
   "source": [
    "f1 = lambda: 100\n",
    "print(f1())"
   ]
  },
  {
   "cell_type": "code",
   "execution_count": 8,
   "metadata": {},
   "outputs": [
    {
     "name": "stdout",
     "output_type": "stream",
     "text": [
      "10\n"
     ]
    }
   ],
   "source": [
    "# 1.一个参数写法\n",
    "f2 = lambda a: a\n",
    "print(f2(10))"
   ]
  },
  {
   "cell_type": "code",
   "execution_count": 3,
   "metadata": {},
   "outputs": [
    {
     "name": "stdout",
     "output_type": "stream",
     "text": [
      "3\n"
     ]
    }
   ],
   "source": [
    "# 2.多个参数写法\n",
    "f3 = lambda a, b: a + b\n",
    "print(f3(1, 2))"
   ]
  },
  {
   "cell_type": "code",
   "execution_count": 4,
   "metadata": {},
   "outputs": [
    {
     "name": "stdout",
     "output_type": "stream",
     "text": [
      "130\n",
      "60\n"
     ]
    }
   ],
   "source": [
    "f3 = lambda a, b, c=100: a + b + c\n",
    "print(f3(10, 20))\n",
    "print(f3(10, 20, 30))"
   ]
  },
  {
   "cell_type": "code",
   "execution_count": 1,
   "metadata": {},
   "outputs": [
    {
     "name": "stdout",
     "output_type": "stream",
     "text": [
      "(10, 20, 30)\n"
     ]
    }
   ],
   "source": [
    "# 不定长参数 *args **kwargs\n",
    "f4 = lambda *args: args # 收集位置参数，返回元组\n",
    "print(f4(10, 20, 30))"
   ]
  },
  {
   "cell_type": "code",
   "execution_count": 2,
   "metadata": {},
   "outputs": [
    {
     "name": "stdout",
     "output_type": "stream",
     "text": [
      "{'name': 'zhou', 'age': 18}\n"
     ]
    }
   ],
   "source": [
    "f5 = lambda **kwargs: kwargs # 收集关键字参数，返回字典\n",
    "print(f5(name=\"zhou\", age=18))"
   ]
  },
  {
   "cell_type": "markdown",
   "metadata": {},
   "source": [
    "# 列表推导式\n",
    "- 在python，列表和字典，集合都有推导式写法\n",
    "- 作用：快速生成有规律的列表或字典，控制有规律的列表或字典\n",
    "- 如果是列表推导式，写法就是把for循环的代码放到[]里面，去掉冒号和换行\n",
    "- 语法:[数据for循环]"
   ]
  },
  {
   "cell_type": "code",
   "execution_count": 10,
   "metadata": {},
   "outputs": [
    {
     "name": "stdout",
     "output_type": "stream",
     "text": [
      "[1, 2, 3, 4, 5, 6, 7, 8, 9, 10]\n"
     ]
    }
   ],
   "source": [
    "list1 = [i for i in range(1, 11)]\n",
    "print(list1)"
   ]
  },
  {
   "cell_type": "code",
   "execution_count": 12,
   "metadata": {},
   "outputs": [
    {
     "name": "stdout",
     "output_type": "stream",
     "text": [
      "[0, 2, 4, 6, 8, 10]\n"
     ]
    }
   ],
   "source": [
    "list2 = [i for i in range(0, 11, 2)]\n",
    "print(list2)"
   ]
  },
  {
   "cell_type": "code",
   "execution_count": 14,
   "metadata": {},
   "outputs": [
    {
     "name": "stdout",
     "output_type": "stream",
     "text": [
      "[0, 2, 4, 6, 8, 10]\n"
     ]
    }
   ],
   "source": [
    "list3 = [i for i in range(11) if i % 2 == 0]\n",
    "print(list3)"
   ]
  },
  {
   "cell_type": "code",
   "execution_count": 16,
   "metadata": {},
   "outputs": [
    {
     "name": "stdout",
     "output_type": "stream",
     "text": [
      "[(1, 0), (1, 1), (1, 2), (2, 0), (2, 1), (2, 2)]\n"
     ]
    }
   ],
   "source": [
    "# 列表推导式 -- for循环嵌套写法\n",
    "list4 = [(i, j) for i in range(1, 3) for j in range(3)]\n",
    "print(list4)"
   ]
  },
  {
   "cell_type": "markdown",
   "metadata": {},
   "source": [
    "# 字典推导式\n",
    "- 语法:{key: value for 循环}"
   ]
  },
  {
   "cell_type": "code",
   "execution_count": 18,
   "metadata": {},
   "outputs": [
    {
     "name": "stdout",
     "output_type": "stream",
     "text": [
      "{0: 0, 1: 1, 2: 4, 3: 9, 4: 16, 5: 25, 6: 36, 7: 49, 8: 64, 9: 81}\n"
     ]
    }
   ],
   "source": [
    "# 数字: 数字**2\n",
    "dict1 = {i: i**2 for i in range(10)}\n",
    "print(dict1)"
   ]
  },
  {
   "cell_type": "code",
   "execution_count": 19,
   "metadata": {},
   "outputs": [
    {
     "name": "stdout",
     "output_type": "stream",
     "text": [
      "{'name': 'zhou', 'age': 18, 'gender': 'nan'}\n"
     ]
    }
   ],
   "source": [
    "# 1.合并2个列表为字典:保证2个列表长度一致，如果列表长度不一致，以长度小的为基准\n",
    "list1 = [\"name\", \"age\", \"gender\"]\n",
    "list2 = [\"zhou\", 18, \"nan\"]\n",
    "dict2 = {list1[i]: list2[i] for i in range(len(list1))}\n",
    "print(dict2)"
   ]
  },
  {
   "cell_type": "code",
   "execution_count": 20,
   "metadata": {},
   "outputs": [
    {
     "name": "stdout",
     "output_type": "stream",
     "text": [
      "{'MBP': 500, 'alienware': 500, 'lenovo': 400}\n"
     ]
    }
   ],
   "source": [
    "# 2.筛选字典中满足一定条件的键值对\n",
    "dict3 = {\"MBP\": 500, \"hp\": 300, \"alienware\": 500, \"sz\": 200, \"lenovo\": 400, \"Dell\": 350}\n",
    "# 提取出价格大于等于400的 -- 形成一个新的字典（key, value) -- items()\n",
    "# 遍历,判断:value值>=400\n",
    "dict4 = {key: value for key, value in dict3.items() if value >= 400}\n",
    "print(dict4)"
   ]
  },
  {
   "cell_type": "markdown",
   "metadata": {},
   "source": [
    "# 文件基本操作\n",
    "- \"w\"访问模式 只写\n",
    "    - 1.如果文件存在，直接打开，如果文件不存在，创建这个文件\n",
    "    - 2.覆盖写入 \n",
    "    - 文件写入write():要求写入的数据必须是字符串(文件内的所有内容计算机存储的数据类型都是字符串)\n",
    "- \"r\"访问模式 只读\n",
    "    - 如果文件不存在，报错\n",
    "    - 如果省略了访问模式，表示r模式打开\n",
    "    - read(): 小括号填写数字表示读取数据个数，如果留空，表示读取所有\n",
    "    - readline(): 读取一行数据\n",
    "    - readlines(): 读取所有，返回一个列表，列表的每个数据是文件的每行数据\n",
    "- \"w+\" \"r+\" 可读可写\n",
    "- seek() 改变指针位置 0:表示开头 1:表示当前位置 2:表示结尾\n",
    "- \"a\" \"a+\" 追加/可读可写追加 文件指针在最后"
   ]
  },
  {
   "cell_type": "code",
   "execution_count": 23,
   "metadata": {},
   "outputs": [],
   "source": [
    "# 1.打开\n",
    "# open(\"目标打开的文件\",\"访问模式\",encoding=\"utf-8\"):创建一个文件对象，用变量保存\n",
    "# 访问模式:就是打开文件的目的，如果为了读取打开r(read);如果是为了写入打开w(write)\n",
    "# utf-8:国际编码,万国码:支持所有国家的语言文字及标点\n",
    "f = open(\"1.txt\", \"w\", encoding=\"utf-8\")\n",
    "\n",
    "# 2.读取或写入数据\n",
    "# 写入数据write(数据)\n",
    "f.write(\"zhou\")\n",
    "f.write(\"我是汉字\")\n",
    "\n",
    "# 3.关闭:否则占用内存\n",
    "f.close()"
   ]
  },
  {
   "cell_type": "code",
   "execution_count": 24,
   "metadata": {},
   "outputs": [
    {
     "name": "stdout",
     "output_type": "stream",
     "text": [
      "[1, 3, 5]\n"
     ]
    }
   ],
   "source": [
    "\"\"\"\n",
    "num = [1,1,2,3,4,4,5]\n",
    "已知列表num， 完成列表num的去重，并使用一行代码完成num列表奇数的筛选\n",
    "\"\"\"\n",
    "num = [1, 1, 2, 3, 4, 4, 5]\n",
    "num = list(set(num))\n",
    "num = [i for i in num if i % 2 == 1]\n",
    "print(num)"
   ]
  },
  {
   "cell_type": "code",
   "execution_count": 25,
   "metadata": {},
   "outputs": [
    {
     "name": "stdout",
     "output_type": "stream",
     "text": [
      "人生苦短，我用python.\n"
     ]
    }
   ],
   "source": [
    "\"\"\"\n",
    "新建一个文件，写入“人生苦短，我用Python”\n",
    "然后将这个文件中的数据读取出来，打印到控制台\n",
    "\"\"\"\n",
    "f = open(\"test.txt\", \"w+\", encoding=\"utf-8\")\n",
    "f.write(\"人生苦短，我用python.\")\n",
    "f.seek(0)\n",
    "cos = f.read()\n",
    "print(cos)\n",
    "f.close()"
   ]
  },
  {
   "cell_type": "code",
   "execution_count": 26,
   "metadata": {},
   "outputs": [
    {
     "name": "stdout",
     "output_type": "stream",
     "text": [
      "[6, 8]\n"
     ]
    }
   ],
   "source": [
    "\"\"\"\n",
    "已知代码材料：\n",
    "num = [1,3,5,6,7,8]\n",
    "需求1：使用列表推导式将num 列表中的偶数筛选出来\n",
    "\"\"\"\n",
    "num = [1, 3, 5, 6, 7, 8]\n",
    "num = [i for i in num if i % 2 == 0]\n",
    "print(num)"
   ]
  },
  {
   "cell_type": "code",
   "execution_count": 28,
   "metadata": {},
   "outputs": [
    {
     "name": "stdin",
     "output_type": "stream",
     "text": [
      "请输入任意字符: 1\n",
      "请输入任意字符: 2\n",
      "请输入任意字符: 3\n",
      "请输入任意字符: 4\n",
      "请输入任意字符: 5\n",
      "请输入任意字符: 6\n",
      "请输入任意字符: 7\n",
      "请输入任意字符: 8\n",
      "请输入任意字符: 9\n",
      "请输入任意字符: a\n",
      "请输入任意字符: a\n",
      "请输入任意字符: s\n",
      "请输入任意字符: d\n",
      "请输入任意字符: f\n",
      "请输入任意字符: g\n",
      "请输入任意字符: h\n",
      "请输入任意字符: j\n",
      "请输入任意字符: #\n"
     ]
    }
   ],
   "source": [
    "# 从键盘输入一些字符，逐个把它们写到磁盘文件上，直到输入一个 # 为止。\n",
    "f = open(\"4.txt\", \"w\", encoding=\"utf-8\")\n",
    "\n",
    "while True:\n",
    "    input_str = input(\"请输入任意字符:\")\n",
    "\n",
    "    if input_str == \"#\":\n",
    "        break\n",
    "    else:\n",
    "        f.write(input_str)\n",
    "        \n",
    "f.close()"
   ]
  },
  {
   "cell_type": "code",
   "execution_count": 31,
   "metadata": {},
   "outputs": [
    {
     "name": "stdin",
     "output_type": "stream",
     "text": [
      "请输入一个字符串: sdjgndfhjksg\n"
     ]
    }
   ],
   "source": [
    "# 从键盘输入一个字符串，将小写字母全部转换成大写字母，然后输出到一个磁盘文件”test”中保存。\n",
    "input_str = input(\"请输入一个字符串:\")\n",
    "input_str = input_str.upper()\n",
    "\n",
    "f = open(\"test1.txt\", \"w\", encoding=\"utf-8\")\n",
    "\n",
    "f.write(input_str)\n",
    "\n",
    "f.close()"
   ]
  },
  {
   "cell_type": "code",
   "execution_count": 48,
   "metadata": {},
   "outputs": [
    {
     "name": "stdin",
     "output_type": "stream",
     "text": [
      "请输入星期数字(1-7): 8\n"
     ]
    },
    {
     "name": "stdout",
     "output_type": "stream",
     "text": [
      "输入格式错误.\n"
     ]
    }
   ],
   "source": [
    "\"\"\"\n",
    "4. 设计一个程序:\n",
    "1-7七个数字，分别代表周一到周日，\n",
    "如果输入的数字是1，输出“今天是周一”\n",
    "如果输入的数字是2，输出“今天是周二”\n",
    "如果输入的数字是3，输出“今天是周三”\n",
    "如果输入的数字是4，输出“今天是周四”\n",
    "如果输入的数字是5，输出“今天是周五”\n",
    "如果输入的数字是6或7，输出“今天是周末\n",
    "”\"\"\"\n",
    "str = \"一二三四五\"\n",
    "week = eval(input(\"请输入星期数字(1-7):\"))\n",
    "if week in [6, 7]:\n",
    "    print(\"今天是周末\")\n",
    "elif week in [1, 2, 3, 4, 5]:\n",
    "    print(f\"今天是周{str[week-1]}\")\n",
    "else:\n",
    "    print(\"输入格式错误.\")"
   ]
  },
  {
   "cell_type": "code",
   "execution_count": null,
   "metadata": {},
   "outputs": [],
   "source": []
  }
 ],
 "metadata": {
  "kernelspec": {
   "display_name": "Python 3",
   "language": "python",
   "name": "python3"
  },
  "language_info": {
   "codemirror_mode": {
    "name": "ipython",
    "version": 3
   },
   "file_extension": ".py",
   "mimetype": "text/x-python",
   "name": "python",
   "nbconvert_exporter": "python",
   "pygments_lexer": "ipython3",
   "version": "3.7.4"
  }
 },
 "nbformat": 4,
 "nbformat_minor": 4
}
