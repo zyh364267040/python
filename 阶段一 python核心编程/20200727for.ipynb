{
 "cells": [
  {
   "cell_type": "markdown",
   "metadata": {},
   "source": [
    "# for循环快速体验"
   ]
  },
  {
   "cell_type": "code",
   "execution_count": 24,
   "metadata": {},
   "outputs": [
    {
     "name": "stdout",
     "output_type": "stream",
     "text": [
      "z\n",
      "h\n",
      "o\n",
      "u\n"
     ]
    }
   ],
   "source": [
    "\"\"\"\n",
    "for 临时变量 in 序列：\n",
    "    重复执行的代码\n",
    "    ......\n",
    "\"\"\"\n",
    "\n",
    "\"\"\"\n",
    "1. 准备一个数据序列\n",
    "2. for\n",
    "\"\"\"\n",
    "\n",
    "str1 = 'zhou'\n",
    "for i in str1:\n",
    "    print(i)"
   ]
  },
  {
   "cell_type": "markdown",
   "metadata": {},
   "source": [
    "# break"
   ]
  },
  {
   "cell_type": "code",
   "execution_count": 1,
   "metadata": {},
   "outputs": [
    {
     "name": "stdout",
     "output_type": "stream",
     "text": [
      "z\n",
      "h\n",
      "o后面不打印\n"
     ]
    }
   ],
   "source": [
    "str1 = 'zhou'\n",
    "for i in str1:\n",
    "    if i == 'o':\n",
    "        print('o后面不打印')\n",
    "        break\n",
    "    print(i)"
   ]
  },
  {
   "cell_type": "markdown",
   "metadata": {},
   "source": [
    "# continue"
   ]
  },
  {
   "cell_type": "code",
   "execution_count": 26,
   "metadata": {},
   "outputs": [
    {
     "name": "stdout",
     "output_type": "stream",
     "text": [
      "z\n",
      "h\n",
      "不打印o\n",
      "u\n"
     ]
    }
   ],
   "source": [
    "str1 = 'zhou'\n",
    "for i in str1:\n",
    "    if i == 'o':\n",
    "        print('不打印o')\n",
    "        continue\n",
    "    print(i)"
   ]
  },
  {
   "cell_type": "markdown",
   "metadata": {},
   "source": [
    "# while...else"
   ]
  },
  {
   "cell_type": "code",
   "execution_count": 27,
   "metadata": {},
   "outputs": [
    {
     "name": "stdout",
     "output_type": "stream",
     "text": [
      "媳妇我错了\n",
      "媳妇我错了\n",
      "媳妇我错了\n",
      "媳妇我错了\n",
      "媳妇我错了\n",
      "媳妇儿原谅我了，真高兴呐。哈哈哈哈\n"
     ]
    }
   ],
   "source": [
    "# 需求: 道歉5遍媳妇儿我错了，完成之后执行媳妇儿原谅我了\n",
    "\"\"\"\n",
    "1. 书写道歉的循环\n",
    "2. 循环正常结束要执行的代码 -- else\n",
    "\"\"\"\n",
    "\n",
    "i = 1\n",
    "while i <= 5:\n",
    "    print('媳妇我错了')\n",
    "    i += 1\n",
    "else:\n",
    "    print('媳妇儿原谅我了，真高兴呐。哈哈哈哈')"
   ]
  },
  {
   "cell_type": "markdown",
   "metadata": {},
   "source": [
    "# while...else之break"
   ]
  },
  {
   "cell_type": "code",
   "execution_count": 30,
   "metadata": {},
   "outputs": [
    {
     "name": "stdout",
     "output_type": "stream",
     "text": [
      "媳妇我错了\n",
      "媳妇我错了\n"
     ]
    }
   ],
   "source": [
    "i = 1\n",
    "while i <= 5:\n",
    "    if i == 3:\n",
    "        break\n",
    "    print('媳妇我错了')\n",
    "    i += 1\n",
    "else:\n",
    "    print('媳妇儿原谅我了，真高兴呐。哈哈哈哈')"
   ]
  },
  {
   "cell_type": "code",
   "execution_count": 31,
   "metadata": {},
   "outputs": [
    {
     "name": "stdout",
     "output_type": "stream",
     "text": [
      "媳妇我错了\n",
      "媳妇我错了\n",
      "媳妇儿原谅我了，真高兴呐。哈哈哈哈\n"
     ]
    }
   ],
   "source": [
    "i = 1\n",
    "while i <= 5:\n",
    "    if i == 3:\n",
    "        break\n",
    "    print('媳妇我错了')\n",
    "    i += 1\n",
    "print('媳妇儿原谅我了，真高兴呐。哈哈哈哈')"
   ]
  },
  {
   "cell_type": "markdown",
   "metadata": {},
   "source": [
    "# while...else之continue\n",
    "- 因为continue是退出当前一次循环，继续下一次循环，所以该循环在continue控制下是可以正常结束的，当循环结束后，则执行了else缩进的代码。"
   ]
  },
  {
   "cell_type": "code",
   "execution_count": 2,
   "metadata": {},
   "outputs": [
    {
     "name": "stdout",
     "output_type": "stream",
     "text": [
      "媳妇我错了\n",
      "媳妇我错了\n",
      "媳妇我错了\n",
      "媳妇我错了\n",
      "媳妇儿原谅我了，真高兴呐。哈哈哈哈\n"
     ]
    }
   ],
   "source": [
    "i = 1\n",
    "while i <= 5:\n",
    "    if i == 3:\n",
    "        i +=1\n",
    "        continue\n",
    "    print('媳妇我错了')\n",
    "    i += 1\n",
    "else:\n",
    "    print('媳妇儿原谅我了，真高兴呐。哈哈哈哈')"
   ]
  },
  {
   "cell_type": "markdown",
   "metadata": {},
   "source": [
    "# for...else"
   ]
  },
  {
   "cell_type": "code",
   "execution_count": 4,
   "metadata": {},
   "outputs": [
    {
     "name": "stdout",
     "output_type": "stream",
     "text": [
      "z\n",
      "h\n",
      "o\n",
      "u\n",
      "循环正常结束执行的else的代码\n"
     ]
    }
   ],
   "source": [
    "str1 = 'zhou'\n",
    "for i in str1:\n",
    "    print(i)\n",
    "else:\n",
    "    print('循环正常结束执行的else的代码')"
   ]
  },
  {
   "cell_type": "markdown",
   "metadata": {},
   "source": [
    "# for...else之break和continue"
   ]
  },
  {
   "cell_type": "code",
   "execution_count": 6,
   "metadata": {},
   "outputs": [
    {
     "name": "stdout",
     "output_type": "stream",
     "text": [
      "z\n",
      "h\n"
     ]
    }
   ],
   "source": [
    "str1 = 'zhou'\n",
    "for i in str1:\n",
    "    if i == 'o':\n",
    "        break\n",
    "    print(i)\n",
    "else:\n",
    "    print('循环正常结束执行的else的代码')"
   ]
  },
  {
   "cell_type": "code",
   "execution_count": 7,
   "metadata": {},
   "outputs": [
    {
     "name": "stdout",
     "output_type": "stream",
     "text": [
      "z\n",
      "h\n",
      "u\n",
      "循环正常结束执行的else的代码\n"
     ]
    }
   ],
   "source": [
    "str1 = 'zhou'\n",
    "for i in str1:\n",
    "    if i == 'o':\n",
    "        continue\n",
    "    print(i)\n",
    "else:\n",
    "    print('循环正常结束执行的else的代码')"
   ]
  }
 ],
 "metadata": {
  "kernelspec": {
   "display_name": "Python 3",
   "language": "python",
   "name": "python3"
  },
  "language_info": {
   "codemirror_mode": {
    "name": "ipython",
    "version": 3
   },
   "file_extension": ".py",
   "mimetype": "text/x-python",
   "name": "python",
   "nbconvert_exporter": "python",
   "pygments_lexer": "ipython3",
   "version": "3.7.4"
  }
 },
 "nbformat": 4,
 "nbformat_minor": 4
}
