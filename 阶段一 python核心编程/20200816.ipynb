{
 "cells": [
  {
   "cell_type": "code",
   "execution_count": 1,
   "metadata": {},
   "outputs": [
    {
     "name": "stdout",
     "output_type": "stream",
     "text": [
      "* * * * * \n",
      "* * * * * \n",
      "* * * * * \n",
      "* * * * * \n",
      "* * * * * \n"
     ]
    }
   ],
   "source": [
    "# while循环嵌套正方形\n",
    "\n",
    "j = 1\n",
    "while j <= 5:\n",
    "    \n",
    "    i = 1\n",
    "    while i <= 5:\n",
    "        print(\"*\", end=\" \")\n",
    "        i += 1\n",
    "    print()\n",
    "    j += 1"
   ]
  },
  {
   "cell_type": "code",
   "execution_count": 2,
   "metadata": {},
   "outputs": [
    {
     "name": "stdout",
     "output_type": "stream",
     "text": [
      "* \n",
      "* * \n",
      "* * * \n",
      "* * * * \n",
      "* * * * * \n"
     ]
    }
   ],
   "source": [
    "# while循环嵌套三角形\n",
    "\n",
    "j = 1\n",
    "while j <= 5:\n",
    "    \n",
    "    i = 1\n",
    "    while i <= j:\n",
    "        print(\"*\", end=\" \")\n",
    "        i += 1\n",
    "    print()\n",
    "    j += 1"
   ]
  },
  {
   "cell_type": "code",
   "execution_count": 1,
   "metadata": {},
   "outputs": [
    {
     "name": "stdout",
     "output_type": "stream",
     "text": [
      "5050\n"
     ]
    }
   ],
   "source": [
    "# 使用while循环计算1~100的累加和（包含1和100）\n",
    "\n",
    "sum = 0\n",
    "i = 1\n",
    "while i <= 100:\n",
    "    sum += i\n",
    "    i += 1\n",
    "print(sum)"
   ]
  },
  {
   "cell_type": "code",
   "execution_count": 2,
   "metadata": {},
   "outputs": [
    {
     "name": "stdout",
     "output_type": "stream",
     "text": [
      "* \n",
      "* * \n",
      "* * * \n",
      "* * * * \n",
      "* * * * * \n"
     ]
    }
   ],
   "source": [
    "# 使用while嵌套循环打印三角形\n",
    "\n",
    "j = 1\n",
    "while j <= 5:\n",
    "    i = 1\n",
    "    while i <= j:\n",
    "        print(\"*\", end=\" \")\n",
    "        i += 1\n",
    "    print()\n",
    "    j += 1"
   ]
  },
  {
   "cell_type": "code",
   "execution_count": 6,
   "metadata": {},
   "outputs": [
    {
     "name": "stdin",
     "output_type": "stream",
     "text": [
      "请输入您的用户名: pyth\n",
      "请输入您的密码: 123456\n"
     ]
    },
    {
     "name": "stdout",
     "output_type": "stream",
     "text": [
      "您输入的用户名不正确\n"
     ]
    },
    {
     "name": "stdin",
     "output_type": "stream",
     "text": [
      "请输入您的用户名: python\n",
      "请输入您的密码: 1234\n"
     ]
    },
    {
     "name": "stdout",
     "output_type": "stream",
     "text": [
      "您输入的密码不正确\n"
     ]
    },
    {
     "name": "stdin",
     "output_type": "stream",
     "text": [
      "请输入您的用户名: py\n",
      "请输入您的密码: 1\n"
     ]
    },
    {
     "name": "stdout",
     "output_type": "stream",
     "text": [
      "您输入的用户名与密码均不正确\n"
     ]
    },
    {
     "name": "stdin",
     "output_type": "stream",
     "text": [
      "请输入您的用户名: python\n",
      "请输入您的密码: 123456\n"
     ]
    },
    {
     "name": "stdout",
     "output_type": "stream",
     "text": [
      "输入正确，您输入的用户名是python,您输入的密码是123456\n"
     ]
    }
   ],
   "source": [
    "# 编写代码模拟用户登陆。要求：用户名为 python，密码 123456\n",
    "# 如果输入正确，打印“欢迎光临”，程序结束，如果输入错误，提示用户输入错误并重新输入\n",
    "\n",
    "name = \"python\"\n",
    "pwd = \"123456\"\n",
    "\n",
    "while True:\n",
    "    user_name = input(\"请输入您的用户名:\")\n",
    "    user_pwd = input(\"请输入您的密码:\")\n",
    "    if name == user_name and pwd == user_pwd:\n",
    "        print(\"输入正确\")\n",
    "        break\n",
    "    elif name != user_name and pwd == user_pwd:\n",
    "        print(\"您输入的用户名不正确\")\n",
    "    elif name == user_name and pwd != user_pwd:\n",
    "        print(\"您输入的密码不正确\")\n",
    "    else:\n",
    "        print(\"您输入的用户名与密码均不正确\")"
   ]
  },
  {
   "cell_type": "code",
   "execution_count": 8,
   "metadata": {},
   "outputs": [
    {
     "name": "stdout",
     "output_type": "stream",
     "text": [
      "1\n",
      "2\n",
      "3\n",
      "4\n",
      "5\n",
      "6\n",
      "哈~\n",
      "8\n",
      "9\n",
      "10\n",
      "11\n",
      "12\n",
      "13\n",
      "哈~\n",
      "15\n",
      "16\n",
      "17\n",
      "18\n",
      "19\n",
      "20\n",
      "哈~\n",
      "22\n",
      "23\n",
      "24\n",
      "25\n",
      "26\n",
      "27\n",
      "哈~\n",
      "29\n",
      "30\n",
      "31\n",
      "32\n",
      "33\n",
      "34\n",
      "哈~\n",
      "36\n",
      "37\n",
      "38\n",
      "39\n",
      "40\n",
      "41\n",
      "哈~\n",
      "43\n",
      "44\n",
      "45\n",
      "46\n",
      "47\n",
      "48\n",
      "哈~\n",
      "50\n",
      "51\n",
      "52\n",
      "53\n",
      "54\n",
      "55\n",
      "哈~\n",
      "57\n",
      "58\n",
      "59\n",
      "60\n",
      "61\n",
      "62\n",
      "哈~\n",
      "64\n",
      "65\n",
      "66\n",
      "67\n",
      "68\n",
      "69\n",
      "哈~\n",
      "71\n",
      "72\n",
      "73\n",
      "74\n",
      "75\n",
      "76\n",
      "哈~\n",
      "78\n",
      "79\n",
      "80\n",
      "81\n",
      "82\n",
      "83\n",
      "哈~\n",
      "85\n",
      "86\n",
      "87\n",
      "88\n",
      "89\n",
      "90\n",
      "哈~\n",
      "92\n",
      "93\n",
      "94\n",
      "95\n",
      "96\n",
      "97\n",
      "哈~\n",
      "99\n",
      "100\n"
     ]
    }
   ],
   "source": [
    "# 设计“过7游戏”的程序, 打印出1-100之间除了7和7的倍数之外的所有数字\n",
    "# 如果遇见7和7的倍数则打印“哈~”跳过本次循环。\n",
    "\n",
    "i = 1\n",
    "while i <= 100:\n",
    "    if i % 7 == 0:\n",
    "        print(\"哈~\")\n",
    "        i += 1\n",
    "        continue\n",
    "    print(i)\n",
    "    i += 1"
   ]
  },
  {
   "cell_type": "code",
   "execution_count": 13,
   "metadata": {},
   "outputs": [
    {
     "name": "stdout",
     "output_type": "stream",
     "text": [
      "找到了\n"
     ]
    }
   ],
   "source": [
    "\"\"\"\n",
    "已知变量如下：\n",
    "a = \"itheima\"\n",
    "从键盘上输入一个字母，判断此字母 是否在变量 a 中，如果在则输出 找到了， 如果不在 则输出 查无此字母\n",
    "\"\"\"\n",
    "\n",
    "a = \"itheima\"\n",
    "for j in a:\n",
    "    if j == \"i\":\n",
    "        print(\"找到了\")\n",
    "        break\n",
    "else:\n",
    "    print(\"查无此字母\")"
   ]
  },
  {
   "cell_type": "code",
   "execution_count": 16,
   "metadata": {},
   "outputs": [
    {
     "name": "stdin",
     "output_type": "stream",
     "text": [
      "请输入任意字符串: sdbfsd sdjfius sdfhuiq\n"
     ]
    },
    {
     "name": "stdout",
     "output_type": "stream",
     "text": [
      "s\n",
      "d\n",
      "b\n",
      "f\n",
      "s\n",
      "d\n",
      "s\n",
      "d\n",
      "j\n",
      "f\n",
      "i\n",
      "u\n",
      "s\n",
      "s\n",
      "d\n",
      "f\n",
      "h\n",
      "u\n",
      "i\n"
     ]
    }
   ],
   "source": [
    "# 要求用户输入一个字符串，遍历当前字符串并打印，如果遇见“q”,则跳出循环。如果遇见“ ”（空格）则跳过当前输出。\n",
    "\n",
    "a = input(\"请输入任意字符串:\")\n",
    "for i in a:\n",
    "    if i == \"q\":\n",
    "        break\n",
    "    elif i == \" \":\n",
    "        continue\n",
    "    print(i)"
   ]
  },
  {
   "cell_type": "code",
   "execution_count": 23,
   "metadata": {},
   "outputs": [
    {
     "name": "stdin",
     "output_type": "stream",
     "text": [
      "请输入需要计算累计和的数字： w\n"
     ]
    },
    {
     "name": "stdout",
     "output_type": "stream",
     "text": [
      "请输入正确数字\n"
     ]
    },
    {
     "name": "stdin",
     "output_type": "stream",
     "text": [
      "请输入需要计算累计和的数字： 3\n"
     ]
    },
    {
     "name": "stdout",
     "output_type": "stream",
     "text": [
      "6\n"
     ]
    }
   ],
   "source": [
    "# 使用for循环计算从0到用户输入的值的累加和\n",
    "\n",
    "while True:\n",
    "    try:\n",
    "        j = eval(input(\"请输入需要计算累计和的数字：\"))\n",
    "        sum = 0\n",
    "        for i in range(j+1):\n",
    "            sum += i\n",
    "        print(sum)\n",
    "        break\n",
    "    except:\n",
    "        print(\"请输入正确数字\")"
   ]
  },
  {
   "cell_type": "code",
   "execution_count": 29,
   "metadata": {},
   "outputs": [
    {
     "name": "stdin",
     "output_type": "stream",
     "text": [
      "请输入用户名: q\n",
      "请输入密码: q\n"
     ]
    },
    {
     "name": "stdout",
     "output_type": "stream",
     "text": [
      "用户名要求长度5-15位,密码要求长度6-20位\n"
     ]
    }
   ],
   "source": [
    "\"\"\"\n",
    "获取用户输入的用户名和密码，用户名要求长度5-15位，密码要求 6-20位，\n",
    "如果不满足条件打印出对应的提示信息(比如：用户名不符合，打印出 用户名要求长度5-15位)，\n",
    "如果满足条件，输出用户输入的用户名密码，格式如下：\n",
    "您输入的用户名是：xxx，密码为：xxxxxxx\n",
    "\"\"\"\n",
    "\n",
    "user_name = input(\"请输入用户名:\")\n",
    "user_pwd = input(\"请输入密码:\")\n",
    "if 5 <= len(user_name) <= 15 and 6 <= len(user_pwd) <= 20:\n",
    "    print(f\"您输入的用户名是{user_name},密码为{user_pwd}\")\n",
    "elif (len(user_name) < 5 or len(user_name) > 15) and 6 <= len(user_pwd) <= 20:\n",
    "    print(\"用户名要求长度5-15位\")\n",
    "elif 5 <= len(user_name) <= 15 and (len(user_pwd) < 6 or len(user_pwd) > 20):\n",
    "    print(\"密码要求长度6-20位\")\n",
    "elif (len(user_name) < 5 or len(user_name) > 15) and (len(user_pwd) < 6 or len(user_pwd) > 20):\n",
    "      print(\"用户名要求长度5-15位,密码要求长度6-20位\")"
   ]
  },
  {
   "cell_type": "code",
   "execution_count": 30,
   "metadata": {},
   "outputs": [
    {
     "name": "stdout",
     "output_type": "stream",
     "text": [
      "鲁迅说:\"我没有说过这句话\"\n",
      "鲁迅说:\"我没有说过这句话\"\n",
      "鲁迅说:\"我没有说过这句话\"\n",
      "鲁迅说:\"我没有说过这句话\"\n"
     ]
    }
   ],
   "source": [
    "\"\"\"\n",
    "如果需要使用变量保存以下字符串，我们该如何书写代码\n",
    "鲁迅说:\"我没有说过这句话\"\n",
    "\"\"\"\n",
    "\n",
    "str1 = '鲁迅说:\"我没有说过这句话\"'\n",
    "str2 = \"鲁迅说:\\\"我没有说过这句话\\\"\"\n",
    "str3 = \"\"\"鲁迅说:\\\"我没有说过这句话\\\"\"\"\"\n",
    "str4 = '''鲁迅说:\"我没有说过这句话\"'''\n",
    "print(str1)\n",
    "print(str2)\n",
    "print(str3)\n",
    "print(str4)"
   ]
  },
  {
   "cell_type": "code",
   "execution_count": 32,
   "metadata": {},
   "outputs": [
    {
     "name": "stdin",
     "output_type": "stream",
     "text": [
      "请输入您的姓名: z\n",
      "请输入您的年龄: 1\n",
      "请输入您的爱好: w\n"
     ]
    },
    {
     "name": "stdout",
     "output_type": "stream",
     "text": [
      "您的姓名是z,您的年龄是1,您的爱好是w.\n"
     ]
    }
   ],
   "source": [
    "\"\"\"\n",
    "做一个简单的用户信息管理系统：\n",
    "提示用户依次输入姓名，年龄和爱好\n",
    "并且在输入完成之后，一次性将用户输入的数据展示出来\n",
    "\"\"\"\n",
    "\n",
    "name = \"\"\n",
    "age = \"\"\n",
    "love = \"\"\n",
    "\n",
    "name = input(\"请输入您的姓名:\")\n",
    "age = input(\"请输入您的年龄:\")\n",
    "love = input(\"请输入您的爱好:\")\n",
    "print(\"您的姓名是%s,您的年龄是%s,您的爱好是%s.\" % (name, age, love))"
   ]
  },
  {
   "cell_type": "code",
   "execution_count": 33,
   "metadata": {},
   "outputs": [
    {
     "name": "stdout",
     "output_type": "stream",
     "text": [
      "ceg\n"
     ]
    }
   ],
   "source": [
    "\"\"\"\n",
    "现有字符串如下，请使用切片提取出ceg\n",
    "words = \"abcdefghi\"\n",
    "\"\"\"\n",
    "\n",
    "words = \"abcdefghi\"\n",
    "print(words[-7: -1: 2])"
   ]
  },
  {
   "cell_type": "code",
   "execution_count": null,
   "metadata": {},
   "outputs": [],
   "source": []
  }
 ],
 "metadata": {
  "kernelspec": {
   "display_name": "Python 3",
   "language": "python",
   "name": "python3"
  },
  "language_info": {
   "codemirror_mode": {
    "name": "ipython",
    "version": 3
   },
   "file_extension": ".py",
   "mimetype": "text/x-python",
   "name": "python",
   "nbconvert_exporter": "python",
   "pygments_lexer": "ipython3",
   "version": "3.7.4"
  }
 },
 "nbformat": 4,
 "nbformat_minor": 4
}
