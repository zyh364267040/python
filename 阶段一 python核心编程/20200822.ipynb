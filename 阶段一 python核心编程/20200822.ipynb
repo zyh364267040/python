{
 "cells": [
  {
   "cell_type": "code",
   "execution_count": 17,
   "metadata": {},
   "outputs": [
    {
     "name": "stdout",
     "output_type": "stream",
     "text": [
      "----------系统功能如下----------\n",
      "1.添加学生\n",
      "2.删除学生\n",
      "3.修改学生\n",
      "4.查询学生\n",
      "5.显示所有学生\n",
      "6.退出系统\n"
     ]
    },
    {
     "name": "stdin",
     "output_type": "stream",
     "text": [
      "请输入您需要的功能的编号： 1\n",
      "请输入学号： 1\n",
      "请输入姓名： 1\n",
      "请输入手机号 1\n"
     ]
    },
    {
     "name": "stdout",
     "output_type": "stream",
     "text": [
      "{'id': '1', 'name': '1', 'tel': '1'}\n",
      "[{'id': '1', 'name': '1', 'tel': '1'}]\n",
      "----------系统功能如下----------\n",
      "1.添加学生\n",
      "2.删除学生\n",
      "3.修改学生\n",
      "4.查询学生\n",
      "5.显示所有学生\n",
      "6.退出系统\n"
     ]
    },
    {
     "name": "stdin",
     "output_type": "stream",
     "text": [
      "请输入您需要的功能的编号： 6\n"
     ]
    },
    {
     "name": "stdout",
     "output_type": "stream",
     "text": [
      "已经退出系统，欢迎下次使用！\n"
     ]
    }
   ],
   "source": [
    "# 一。功能可以重复使用 -- 功能代码放到while True,当用户输入6终止循环\n",
    "\n",
    "# 打印提示信息的函数\n",
    "def info_print():\n",
    "    print(\"----------系统功能如下----------\")\n",
    "    print(\"1.添加学生\")\n",
    "    print(\"2.删除学生\")\n",
    "    print(\"3.修改学生\")\n",
    "    print(\"4.查询学生\")\n",
    "    print(\"5.显示所有学生\")\n",
    "    print(\"6.退出系统\")\n",
    "    \n",
    "# 系统学生数据：多个学生，每个学生信息包括学号，姓名，手机号\n",
    "# 最终数据格式：[{学号:1, 姓名:zhou, 手机号:111}, {}, {}]\n",
    "# 这个学生数据，添加，删除，修改都需要操作 -- 学生数据定义再全局\n",
    "student_list = [] # 因为此时系统没有学生\n",
    "\n",
    "# 添加学生函数\n",
    "def add_student():\n",
    "    # 1.输入学生信息：序号，姓名，手机号\n",
    "    user_id = input(\"请输入学号：\")\n",
    "    user_name = input(\"请输入姓名：\")\n",
    "    user_tel = input(\"请输入手机号\")\n",
    "    \n",
    "    # ---------- 多做一步：学号不允许重复，如果学号重复：字典新增数据，列表新增数据的代码不要执行\n",
    "    # aigebianli\n",
    "    global student_list\n",
    "    for i in student_list:\n",
    "        if i[\"id\"] == user_id:\n",
    "            print(\"学号不允许重复\")\n",
    "            return\n",
    "    \n",
    "    # 2.构造学生信息的字典 {id:1, name:zhou, tel:111}\n",
    "    # 2.1 定义一个空字典\n",
    "    student_dict = {}\n",
    "    \n",
    "    # 2.2 空字典新增键值对 字典变量[key] = zhi\n",
    "    student_dict[\"id\"] = user_id\n",
    "    student_dict[\"name\"] = user_name\n",
    "    student_dict[\"tel\"] = user_tel\n",
    "    print(student_dict)\n",
    "    \n",
    "    # 3.把学生信息的子弹追加到列表student_list:列表新增数据 append - 全局变量列表修改数据\n",
    "    # global\n",
    "    # global student_list\n",
    "    student_list.append(student_dict)\n",
    "    print(student_list)\n",
    "    \n",
    "# 删除学生函数\n",
    "def del_student():\n",
    "    # 用户输入想要删除的学生(标准：哪个数据不重复)，系统查找这个学生，找到则删除，否则提示未找到，重新输入想要删除的学生\n",
    "    # 1. 用户输入想要删除的学生的学号\n",
    "    del_id = input(\"请输入要删除的学生学号:\")\n",
    "    \n",
    "    # 2. 在系统数据中查找这个学生的学号是否存在，如果存在则删除，否则提示不存在（便利完整个列表都没有找到这个学号）\n",
    "    # 便利完成后都没有找到和del_id相等的学号的学生则提示不存在 -- 循环正常结束执行的代码\n",
    "    #[{学号:1, 姓名:zhou, 手机号:111}, {}, {}]\n",
    "    global student_list\n",
    "    for i in student_list:\n",
    "        if i[\"id\"] == del_id:\n",
    "            # 删除字典 -- 列表中的字典i -- 列表删除数据 pop() remove()\n",
    "            student_list.remove(i)\n",
    "            print(student_list)\n",
    "            # 系统学号不重复，如果删除了一个学生，无需再向后遍历 -- 终止掉\n",
    "            break\n",
    "    else:\n",
    "        print(\"该学号对应的学生不存在.\")\n",
    "\n",
    "# 修改学生函数\n",
    "def modify_student():\n",
    "    # 1. 用户输入目标学生学号\n",
    "    modify_id = input(\"请输入要修改学生的学号:\")\n",
    "    \n",
    "    # 2. 遍历学生列表，查看学生是否存在，存在修改姓名和手机号信息，否则提示不存在\n",
    "    global student_list\n",
    "    for i in student_list:\n",
    "        if i[\"id\"] == modify_id:\n",
    "            i[\"name\"] = input(\"请输入该学生修改后的姓名:\")\n",
    "            i[\"tel\"] = input(\"请输入该学生修改后的手机号\")\n",
    "            print(student_list)\n",
    "            break\n",
    "    else:\n",
    "        print(\"该学号对应的学生不存在\")\n",
    "        \n",
    "# 查询一位学生信息函数\n",
    "def search_student():\n",
    "    # 1. 用户输入要查询的学生的学号\n",
    "    search_id = input(\"请输入您要查询的学生的学号:\")\n",
    "    \n",
    "    # 2. 遍历学生列表，如果学生存在，打印信息，否则，学生不存在\n",
    "    for i in student_list:\n",
    "        if i[\"id\"] == search_id:\n",
    "            # 引号嵌套\n",
    "            print(f\"该学生的学号是{i['id']},姓名是{i['name']},手机号是{i['tel']}\")\n",
    "            break\n",
    "    else:\n",
    "        print(\"该学生不存在\")\n",
    "        \n",
    "# 显示所有学生信息函数\n",
    "def all_student():\n",
    "    print(\"学号\\t姓名\\t手机号\")\n",
    "    # [{学号:1, 姓名:zhou, 手机号:111}, {}, {}]\n",
    "    for i in student_list:\n",
    "        print(f\"{i['id']}\\t{i['name']}\\t{i['tel']}\")\n",
    "    \n",
    "while True:\n",
    "    # 1.打印提示信息：打印的信息较多，定义函数，在这调用\n",
    "    info_print()\n",
    "    \n",
    "    # 2.用户输入功能编号\n",
    "    num = int(input(\"请输入您需要的功能的编号：\"))\n",
    "    \n",
    "    #3.根据用户输入的功能编号，系统执行不同的功能\n",
    "    # 如果用户输入1执行添加，如果永华输入2执行删除，如果用户输入3执行修改...\n",
    "    if num == 1:\n",
    "        # print(\"添加学生\")\n",
    "        add_student()\n",
    "    elif num == 2:\n",
    "        # print(\"删除学生\")\n",
    "        del_student()\n",
    "    elif num == 3:\n",
    "        # print(\"修改学生\")\n",
    "        modify_student()\n",
    "    elif num == 4:\n",
    "        # print(\"查询学生\")\n",
    "        search_student()\n",
    "    elif num == 5:\n",
    "        # print(\"显示所有学生\")\n",
    "        all_student()\n",
    "    elif num == 6:\n",
    "        print(\"已经退出系统，欢迎下次使用！\")\n",
    "        break"
   ]
  },
  {
   "cell_type": "code",
   "execution_count": 20,
   "metadata": {},
   "outputs": [
    {
     "name": "stdin",
     "output_type": "stream",
     "text": [
      "请输入任意字符串: xfdhsfh343j  jhkdfhs4k\n"
     ]
    },
    {
     "name": "stdout",
     "output_type": "stream",
     "text": [
      "(16, 4, 2, 0)\n"
     ]
    }
   ],
   "source": [
    "\"\"\"\n",
    "从键盘获取输入的字符串\n",
    "编写函数，统计字符串中有几个字母，几个数字，几个空格，几个其他字符，并返回结果\n",
    "训练提示\n",
    "使用到的字符串判断方法：1、str.isdigit()   # 判断字符是否为数字\n",
    "                    2、str.isalpha()  # 判断字符是否为字母\n",
    "                    3、str.isspace()   #  判断字符是否为空格\n",
    "\"\"\"\n",
    "\n",
    "str1 = input(\"请输入任意字符串:\")\n",
    "def judge_str(str2):\n",
    "    letter = digit = space = other = 0\n",
    "    for i in str1:\n",
    "        if i.isalpha():\n",
    "            letter += 1\n",
    "        elif i.isdigit():\n",
    "            digit += 1\n",
    "        elif i.isspace():\n",
    "            space += 1\n",
    "        else:\n",
    "            other += 1\n",
    "    return letter, digit, space, other\n",
    "\n",
    "num = judge_str(str2)\n",
    "print(num)"
   ]
  },
  {
   "cell_type": "code",
   "execution_count": 2,
   "metadata": {},
   "outputs": [
    {
     "name": "stdout",
     "output_type": "stream",
     "text": [
      "0 500 500\n",
      "200 375 425\n",
      "375 200 425\n",
      "500 0 500\n"
     ]
    }
   ],
   "source": [
    "\"\"\"\n",
    "设计程序，计算0到1000内的三个数a、b、c，a+b+c=1000且 a的平方+b的平方=c的平方\n",
    "求a、b、c可以取的值有哪些\n",
    "\"\"\"\n",
    "\n",
    "list1 = []\n",
    "list2 = []\n",
    "for a in range(1001):\n",
    "    for b in range(1001):\n",
    "        for c in range(1001):\n",
    "            if (a + b + c == 1000) and (a ** 2 +b ** 2 == c ** 2):\n",
    "#                 list1.append(a)\n",
    "#                 list1.append(b)\n",
    "#                 list1.append(c)\n",
    "#             list2.append(list1)\n",
    "# print(list2)\n",
    "                print(a, b, c)"
   ]
  },
  {
   "cell_type": "code",
   "execution_count": 6,
   "metadata": {},
   "outputs": [
    {
     "name": "stdout",
     "output_type": "stream",
     "text": [
      "0 500 500\n",
      "200 375 425\n",
      "375 200 425\n",
      "500 0 500\n"
     ]
    }
   ],
   "source": [
    "list1 = []\n",
    "list2 = []\n",
    "for a in range(1001):\n",
    "    for b in range(1001 - a):\n",
    "        c = 1000 - a - b\n",
    "        if a ** 2 + b ** 2 == c ** 2:\n",
    "            print(a, b, c)\n",
    "#             list1.append(a)\n",
    "#             list1.append(b)\n",
    "#             list1.append(c)\n",
    "#         list2.append(list1)\n",
    "# print(list2)"
   ]
  },
  {
   "cell_type": "code",
   "execution_count": 5,
   "metadata": {},
   "outputs": [
    {
     "name": "stdout",
     "output_type": "stream",
     "text": [
      "[[1, 2, 3]]\n"
     ]
    }
   ],
   "source": [
    "list1 = []\n",
    "list2 = []\n",
    "a = 1\n",
    "b = 2\n",
    "c = 3\n",
    "list1.append(a)\n",
    "list1.append(b)\n",
    "list1.append(c)\n",
    "list2.append(list1)\n",
    "print(list2)"
   ]
  },
  {
   "cell_type": "code",
   "execution_count": 8,
   "metadata": {},
   "outputs": [
    {
     "name": "stdout",
     "output_type": "stream",
     "text": [
      "{'welcome': 2, 'to': 2, 'itcast': 1, 'Python': 2, 'is': 1, 'very': 1, 'cool': 1}\n"
     ]
    }
   ],
   "source": [
    "\"\"\"\n",
    "设计一个函数，计算形参中单词的频率（即单词出现的次数）\n",
    "函数的返回值为字典类型`{'单词1':次数, '单词2':次数}`\n",
    "如`'welcome to itcast welcome to Python Python is very cool'`,\n",
    "返回内容为：\n",
    "`{'welcome': 2, 'to': 2, 'itcast': 1, 'Python': 2, 'is': 1, 'very': 1, 'cool': 1}`\n",
    "\"\"\"\n",
    "\n",
    "dict1 = {}\n",
    "def word(str1):\n",
    "    list1 = str1.split(\" \")\n",
    "    for i in list1:\n",
    "        num = list1.count(i)\n",
    "        dict1[i] = num\n",
    "    print(dict1)\n",
    "\n",
    "str2 = 'welcome to itcast welcome to Python Python is very cool'\n",
    "word(str2)"
   ]
  },
  {
   "cell_type": "code",
   "execution_count": 9,
   "metadata": {},
   "outputs": [
    {
     "name": "stdout",
     "output_type": "stream",
     "text": [
      "[1, 3, 5]\n"
     ]
    }
   ],
   "source": [
    "\"\"\"\n",
    "num = [1,1,2,3,4,4,5]\n",
    "已知列表num， 完成列表num的去重，并使用一行代码完成num列表奇数的筛选\n",
    "\"\"\"\n",
    "\n",
    "num = [1, 1, 2, 3, 4, 4, 5]\n",
    "list1 = list(set(num))\n",
    "list1 = [i for i in list1 if i % 2 == 1]\n",
    "print(list1)"
   ]
  },
  {
   "cell_type": "code",
   "execution_count": null,
   "metadata": {},
   "outputs": [],
   "source": []
  }
 ],
 "metadata": {
  "kernelspec": {
   "display_name": "Python 3",
   "language": "python",
   "name": "python3"
  },
  "language_info": {
   "codemirror_mode": {
    "name": "ipython",
    "version": 3
   },
   "file_extension": ".py",
   "mimetype": "text/x-python",
   "name": "python",
   "nbconvert_exporter": "python",
   "pygments_lexer": "ipython3",
   "version": "3.7.4"
  }
 },
 "nbformat": 4,
 "nbformat_minor": 4
}
