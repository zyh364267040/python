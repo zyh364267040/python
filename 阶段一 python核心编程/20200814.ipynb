{
 "cells": [
  {
   "cell_type": "code",
   "execution_count": 1,
   "metadata": {},
   "outputs": [
    {
     "name": "stdout",
     "output_type": "stream",
     "text": [
      "姓名: TOM,  年龄：18, 体重: 66.60公斤\n",
      "姓名: TOM,  年龄：18, 体重: 66.60公斤\n",
      "姓名: TOM,  年龄：18, 体重: 66.6公斤\n"
     ]
    }
   ],
   "source": [
    "# 已知用户姓名、年龄、体重数据，要求在控制台格式化输出用户信息，例如：姓名: TOM,  年龄：18, 体重: 66.6公斤。\n",
    "name = \"TOM\"\n",
    "age = 18\n",
    "weight = 66.6\n",
    "print(\"姓名: %s,  年龄：%d, 体重: %.2f公斤\" % (name, age, weight))\n",
    "print(f\"姓名: {name},  年龄：{age}, 体重: {weight:.2f}公斤\")\n",
    "print(\"姓名: {},  年龄：{}, 体重: {}公斤\".format(name, age, weight))"
   ]
  },
  {
   "cell_type": "code",
   "execution_count": 3,
   "metadata": {},
   "outputs": [
    {
     "name": "stdin",
     "output_type": "stream",
     "text": [
      "请输入您的用户名 1\n",
      "请输入您的密码 2\n"
     ]
    },
    {
     "name": "stdout",
     "output_type": "stream",
     "text": [
      "您输入的用户名是1，您输入的密码是2。\n"
     ]
    }
   ],
   "source": [
    "# 用户登录系统：用户输入用户名和密码， 并控制台格式化输出用户输入的用户名和密码。\n",
    "user_name = input(\"请输入您的用户名\")\n",
    "user_kewword = int(input(\"请输入您的密码\"))\n",
    "print(\"您输入的用户名是%s，您输入的密码是%d。\" % (user_name, user_kewword))"
   ]
  },
  {
   "cell_type": "code",
   "execution_count": 8,
   "metadata": {},
   "outputs": [
    {
     "name": "stdin",
     "output_type": "stream",
     "text": [
      "请输入一个整数： 2\n",
      "请再输入一个整数： 3\n"
     ]
    },
    {
     "name": "stdout",
     "output_type": "stream",
     "text": [
      "两个数字计算结果为5\n"
     ]
    }
   ],
   "source": [
    "\"\"\"\n",
    "书写程序，制作一个加法计算器。\n",
    "用户依次输入2个整数，系统自动进行加法运算，并打印结果。\n",
    "\"\"\"\n",
    "a = int(input(\"请输入一个整数：\"))\n",
    "b = int(input(\"请再输入一个整数：\"))\n",
    "print(f\"两个数字计算结果为{a + b}\")"
   ]
  },
  {
   "cell_type": "code",
   "execution_count": 10,
   "metadata": {},
   "outputs": [
    {
     "name": "stdin",
     "output_type": "stream",
     "text": [
      "请输入购买苹果的斤数： 1.2\n",
      "请输入购买橘子的斤数： 2.3\n"
     ]
    },
    {
     "name": "stdout",
     "output_type": "stream",
     "text": [
      "您够买苹果和橘子的总价为19.42\n"
     ]
    }
   ],
   "source": [
    "\"\"\"\n",
    "开发程序：购物车功能。\n",
    "已知A网站苹果和橘子两种水果单价(具体如下)，用户根据自己的需求输入斤数， 系统计算总价并打印结果。\n",
    "``` python\n",
    "# 水果单价\n",
    "apple_price = 6.6\n",
    "orange_price = 5\n",
    "```\n",
    "\"\"\"\n",
    "apple_price = 6.6\n",
    "orange_price = 5\n",
    "apple_weight = float(input(\"请输入购买苹果的斤数：\"))\n",
    "orange_weight = float(input(\"请输入购买橘子的斤数：\"))\n",
    "all_price = apple_price * apple_weight + orange_price * orange_weight\n",
    "print(\"您够买苹果和橘子的总价为%.2f\" % all_price)"
   ]
  },
  {
   "cell_type": "code",
   "execution_count": null,
   "metadata": {},
   "outputs": [],
   "source": []
  }
 ],
 "metadata": {
  "kernelspec": {
   "display_name": "Python 3",
   "language": "python",
   "name": "python3"
  },
  "language_info": {
   "codemirror_mode": {
    "name": "ipython",
    "version": 3
   },
   "file_extension": ".py",
   "mimetype": "text/x-python",
   "name": "python",
   "nbconvert_exporter": "python",
   "pygments_lexer": "ipython3",
   "version": "3.7.4"
  }
 },
 "nbformat": 4,
 "nbformat_minor": 4
}
