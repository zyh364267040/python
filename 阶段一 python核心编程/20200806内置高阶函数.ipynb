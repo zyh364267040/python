{
 "cells": [
  {
   "cell_type": "markdown",
   "metadata": {},
   "source": [
    "# 高阶函数\n",
    "- 把函数作为参数传入"
   ]
  },
  {
   "cell_type": "code",
   "execution_count": 6,
   "metadata": {},
   "outputs": [
    {
     "name": "stdout",
     "output_type": "stream",
     "text": [
      "10\n"
     ]
    }
   ],
   "source": [
    "# abs() 绝对值\n",
    "print(abs(-10))"
   ]
  },
  {
   "cell_type": "code",
   "execution_count": 5,
   "metadata": {},
   "outputs": [
    {
     "name": "stdout",
     "output_type": "stream",
     "text": [
      "1\n",
      "2\n"
     ]
    }
   ],
   "source": [
    "# round() 四舍五入\n",
    "print(round(1.2))\n",
    "print(round(1.9))"
   ]
  },
  {
   "cell_type": "code",
   "execution_count": 7,
   "metadata": {},
   "outputs": [
    {
     "name": "stdout",
     "output_type": "stream",
     "text": [
      "3.0\n",
      "6\n",
      "2\n"
     ]
    }
   ],
   "source": [
    "# 需求: 任意两个数字，先进行数字处理（绝对值或四舍五入）在计算求和\n",
    "\n",
    "# 1. 写法一\n",
    "def add_num(a, b):\n",
    "    # 绝对值\n",
    "    return abs(a) + abs(b)\n",
    "\n",
    "result1 = add_num(-1.1, 1.9)\n",
    "print(result1)\n",
    "\n",
    "# 2. 写法二： 高阶函数： f是第三个参数，用来接收将来传入的函数\n",
    "def sun_num(a, b, f):\n",
    "    return f(a) + f(b)\n",
    "\n",
    "result2 = sun_num(-1, 5, abs)\n",
    "print(result2)\n",
    "\n",
    "result3 = sun_num(1.1, 1.3, round)\n",
    "print(result3)"
   ]
  },
  {
   "cell_type": "markdown",
   "metadata": {},
   "source": [
    "## 内置高阶函数"
   ]
  },
  {
   "cell_type": "markdown",
   "metadata": {},
   "source": [
    "### map()\n",
    "- map(func, list) 将传入的函数变量func作用到lst变量的每个元素中，并将结果组成新得迭代器返回"
   ]
  },
  {
   "cell_type": "code",
   "execution_count": 11,
   "metadata": {},
   "outputs": [
    {
     "name": "stdout",
     "output_type": "stream",
     "text": [
      "<map object at 0x000001F0F7FDD208>\n",
      "[1, 4, 9, 16, 25]\n"
     ]
    }
   ],
   "source": [
    "# 1. 准备列表\n",
    "list1 = [1, 2, 3, 4, 5]\n",
    "\n",
    "# 2. 定义函数\n",
    "def func(x):\n",
    "    return pow(x, 2)\n",
    "\n",
    "# 3. 调用函数\n",
    "result = map(func, list1)\n",
    "\n",
    "# 4. 检验成果\n",
    "print(result)\n",
    "print(list(result))"
   ]
  },
  {
   "cell_type": "markdown",
   "metadata": {},
   "source": [
    "### reduce()\n",
    "- reduce(func, lst) 其中func必须有两个参数。每次func计算的结果继续和序列的下一个元素做累积计算"
   ]
  },
  {
   "cell_type": "code",
   "execution_count": 13,
   "metadata": {},
   "outputs": [
    {
     "name": "stdout",
     "output_type": "stream",
     "text": [
      "15\n"
     ]
    }
   ],
   "source": [
    "# 1. 导入模块\n",
    "from functools import reduce\n",
    "\n",
    "# 2. 准备列表\n",
    "list1 = [1, 2, 3, 4, 5]\n",
    "\n",
    "# 3. 定义函数\n",
    "def func(a, b):\n",
    "    return a + b\n",
    "\n",
    "# 4. 调用 reduce ,作用: 功能函数计算的结果和序列的下一个数据做累计计算\n",
    "result = reduce(func, list1)\n",
    "print(result)"
   ]
  },
  {
   "cell_type": "markdown",
   "metadata": {},
   "source": [
    "### filter\n",
    "- filter(func, lst) 函数用于过滤序列，过滤掉不符合条件的元素，返回一个filter对象。如果要转换为列表，可以使用list()来转换"
   ]
  },
  {
   "cell_type": "code",
   "execution_count": 14,
   "metadata": {},
   "outputs": [
    {
     "name": "stdout",
     "output_type": "stream",
     "text": [
      "<filter object at 0x000001F0F7FE9608>\n",
      "[2, 4, 6, 8, 10]\n"
     ]
    }
   ],
   "source": [
    "# 1. 准备列表\n",
    "list1 = [1, 2, 3, 4, 5, 6, 7, 8, 9, 10]\n",
    "\n",
    "# 2. 定义函数\n",
    "def func(x):\n",
    "    return x % 2 == 0\n",
    "\n",
    "# 3. 调用filter\n",
    "result = filter(func, list1)\n",
    "\n",
    "# 4. 检验结果\n",
    "print(result)\n",
    "print(list(result))"
   ]
  },
  {
   "cell_type": "code",
   "execution_count": 4,
   "metadata": {},
   "outputs": [
    {
     "name": "stdout",
     "output_type": "stream",
     "text": [
      "[1, 4, 3, 8, 5, 12]\n"
     ]
    }
   ],
   "source": [
    "# 使用map方法，把列 li = [1,2,3,4,5,6] 中偶数 乘以2 ,非偶数不变，并返回新列表\n",
    "li = [1, 2, 3, 4, 5, 6]\n",
    "\n",
    "\n",
    "def func(i):\n",
    "    if i % 2 == 0:\n",
    "        return i * 2\n",
    "    else:\n",
    "        return i\n",
    "    \n",
    "    \n",
    "result = map(func, li)\n",
    "print(list(result))"
   ]
  },
  {
   "cell_type": "code",
   "execution_count": 9,
   "metadata": {},
   "outputs": [
    {
     "name": "stdout",
     "output_type": "stream",
     "text": [
      "9\n"
     ]
    }
   ],
   "source": [
    "# 使用reduce 方法对li = [1,2,3,4,5,6] 中的奇数部分进行累加\n",
    "import functools\n",
    "\n",
    "\n",
    "li = [1,2,3,4,5,6]\n",
    "\n",
    "\n",
    "def func(a, b):\n",
    "    if b % 2 == 1:\n",
    "        return a + b\n",
    "    else:\n",
    "        return a\n",
    "    \n",
    "result = functools.reduce(func, li)\n",
    "print(result)"
   ]
  },
  {
   "cell_type": "code",
   "execution_count": 12,
   "metadata": {},
   "outputs": [
    {
     "name": "stdout",
     "output_type": "stream",
     "text": [
      "[1, 2, 3, 5]\n"
     ]
    }
   ],
   "source": [
    "# 使用filter方法 去除 li = [1,2,None,3,None,5]  中的None 保留数字\n",
    "li = [1,2,None,3,None,5]\n",
    "\n",
    "\n",
    "def func(x):\n",
    "    if x != None:\n",
    "        return x\n",
    "    \n",
    "    \n",
    "result = filter(func, li)\n",
    "print(list(result))"
   ]
  },
  {
   "cell_type": "code",
   "execution_count": null,
   "metadata": {},
   "outputs": [],
   "source": []
  }
 ],
 "metadata": {
  "kernelspec": {
   "display_name": "Python 3",
   "language": "python",
   "name": "python3"
  },
  "language_info": {
   "codemirror_mode": {
    "name": "ipython",
    "version": 3
   },
   "file_extension": ".py",
   "mimetype": "text/x-python",
   "name": "python",
   "nbconvert_exporter": "python",
   "pygments_lexer": "ipython3",
   "version": "3.7.4"
  }
 },
 "nbformat": 4,
 "nbformat_minor": 4
}
