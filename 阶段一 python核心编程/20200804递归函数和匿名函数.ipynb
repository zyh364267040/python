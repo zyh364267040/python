{
 "cells": [
  {
   "cell_type": "markdown",
   "metadata": {},
   "source": [
    "# 递归\n",
    "- 特点\n",
    "    - 函数内部自己调用自己\n",
    "    - 必须有出口"
   ]
  },
  {
   "cell_type": "code",
   "execution_count": 1,
   "metadata": {},
   "outputs": [
    {
     "name": "stdout",
     "output_type": "stream",
     "text": [
      "10\n"
     ]
    }
   ],
   "source": [
    "def numbers_add(num):\n",
    "    if num == 1:\n",
    "        return 1\n",
    "    return num + numbers_add(num - 1)\n",
    "\n",
    "print(numbers_add(4))"
   ]
  },
  {
   "cell_type": "markdown",
   "metadata": {},
   "source": [
    "# lambda\n",
    "- 如果一个函数有⼀个返回值，并且只有⼀句代码，可以使⽤ lambda简化\n",
    "- lambda表达式的参数可有可⽆，函数的参数在lambda表达式中完全适⽤\n",
    "- lambda函数能接收任何数量的参数但只能返回⼀个表达式的值"
   ]
  },
  {
   "cell_type": "code",
   "execution_count": 2,
   "metadata": {},
   "outputs": [
    {
     "name": "stdout",
     "output_type": "stream",
     "text": [
      "100\n",
      "<function <lambda> at 0x000002505E9308B8>\n",
      "100\n"
     ]
    }
   ],
   "source": [
    "# 需求:  函数 返回值100\n",
    "\n",
    "# 1.函数\n",
    "def fn1():\n",
    "    return 100\n",
    "\n",
    "result = fn1()\n",
    "print(result)\n",
    "\n",
    "# 2.lambda 匿名函数\n",
    "# lambda 参数列表: 表达式\n",
    "fn2 = lambda: 100\n",
    "\n",
    "print(fn2)  # lambda 内存地址\n",
    "# 100返回值 调用函数\n",
    "print(fn2())"
   ]
  },
  {
   "cell_type": "code",
   "execution_count": 3,
   "metadata": {},
   "outputs": [
    {
     "name": "stdout",
     "output_type": "stream",
     "text": [
      "3\n",
      "5\n"
     ]
    }
   ],
   "source": [
    "# 需求: 计算任意两个数字的累加和\n",
    "\n",
    "# 1. 函数\n",
    "def add(a, b):\n",
    "    return a + b\n",
    "\n",
    "result = add(1, 2)\n",
    "print(result)\n",
    "\n",
    "# 2. lambda\n",
    "fn1 = lambda a, b: a + b\n",
    "print(fn1(2, 3))"
   ]
  },
  {
   "cell_type": "markdown",
   "metadata": {},
   "source": [
    "## lambda的参数形式"
   ]
  },
  {
   "cell_type": "code",
   "execution_count": 4,
   "metadata": {},
   "outputs": [
    {
     "name": "stdout",
     "output_type": "stream",
     "text": [
      "100\n"
     ]
    }
   ],
   "source": [
    "# 1. 无参数\n",
    "\n",
    "fn1 = lambda: 100\n",
    "print(fn1())"
   ]
  },
  {
   "cell_type": "code",
   "execution_count": 5,
   "metadata": {},
   "outputs": [
    {
     "name": "stdout",
     "output_type": "stream",
     "text": [
      "hello world\n"
     ]
    }
   ],
   "source": [
    "# 2. 一个参数\n",
    "\n",
    "fn2 = lambda a: a\n",
    "print(fn2(\"hello world\"))"
   ]
  },
  {
   "cell_type": "code",
   "execution_count": 6,
   "metadata": {},
   "outputs": [
    {
     "name": "stdout",
     "output_type": "stream",
     "text": [
      "130\n",
      "230\n"
     ]
    }
   ],
   "source": [
    "# 3. 默认参数/缺省参数\n",
    "fn3 = lambda a, b, c=100: a + b + c\n",
    "print(fn3(10, 20))\n",
    "print(fn3(10, 20, 200))"
   ]
  },
  {
   "cell_type": "code",
   "execution_count": 7,
   "metadata": {},
   "outputs": [
    {
     "name": "stdout",
     "output_type": "stream",
     "text": [
      "(10, 20)\n",
      "(10, 20, 30, 40)\n",
      "(10,)\n"
     ]
    }
   ],
   "source": [
    "# 3. 可变参数: *args\n",
    "# 这里可变参数传入到lambda之后，返回值为元组\n",
    "\n",
    "fn4 = lambda *args: args\n",
    "print(fn4(10, 20))\n",
    "print(fn4(10, 20, 30, 40))\n",
    "print(fn4(10))"
   ]
  },
  {
   "cell_type": "code",
   "execution_count": 8,
   "metadata": {},
   "outputs": [
    {
     "name": "stdout",
     "output_type": "stream",
     "text": [
      "{'name': 'Python'}\n",
      "{'name': 'Python', 'age': 20}\n"
     ]
    }
   ],
   "source": [
    "# 4. 可变参数 **kwargs\n",
    "\n",
    "fn5 = lambda **kwargs: kwargs\n",
    "print(fn5(name='Python'))\n",
    "print(fn5(name='Python', age=20))"
   ]
  },
  {
   "cell_type": "code",
   "execution_count": 9,
   "metadata": {},
   "outputs": [
    {
     "name": "stdout",
     "output_type": "stream",
     "text": [
      "1000\n"
     ]
    }
   ],
   "source": [
    "# 带判断的lambda\n",
    "\n",
    "fn1 = lambda a, b: a if a > b else b\n",
    "print(fn1(1000, 500))"
   ]
  },
  {
   "cell_type": "code",
   "execution_count": 2,
   "metadata": {},
   "outputs": [
    {
     "name": "stdout",
     "output_type": "stream",
     "text": [
      "[{'name': 'Jack', 'age': 22}, {'name': 'Rose', 'age': 19}, {'name': 'Tom', 'age': 20}]\n",
      "[{'name': 'Tom', 'age': 20}, {'name': 'Rose', 'age': 19}, {'name': 'Jack', 'age': 22}]\n",
      "[{'name': 'Rose', 'age': 19}, {'name': 'Tom', 'age': 20}, {'name': 'Jack', 'age': 22}]\n"
     ]
    }
   ],
   "source": [
    "# 列表数据排序\n",
    "\n",
    "students = [{\"name\":\"Tom\", \"age\": 20}, {\"name\": \"Rose\", \"age\": 19}, {\"name\": \"Jack\", \"age\": 22}]\n",
    "\n",
    "# 1. 按name值升序排列\n",
    "students.sort(key = lambda x: x[\"name\"])\n",
    "print(students)\n",
    "\n",
    "# 2. 按name值降序排列\n",
    "students.sort(key = lambda x: x[\"name\"], reverse=True)\n",
    "print(students)\n",
    "\n",
    "# 3. 按age值升序排列\n",
    "students.sort(key = lambda x: x[\"age\"])\n",
    "print(students)"
   ]
  },
  {
   "cell_type": "code",
   "execution_count": null,
   "metadata": {},
   "outputs": [],
   "source": []
  }
 ],
 "metadata": {
  "kernelspec": {
   "display_name": "Python 3",
   "language": "python",
   "name": "python3"
  },
  "language_info": {
   "codemirror_mode": {
    "name": "ipython",
    "version": 3
   },
   "file_extension": ".py",
   "mimetype": "text/x-python",
   "name": "python",
   "nbconvert_exporter": "python",
   "pygments_lexer": "ipython3",
   "version": "3.7.4"
  }
 },
 "nbformat": 4,
 "nbformat_minor": 4
}
