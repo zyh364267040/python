{
 "cells": [
  {
   "cell_type": "markdown",
   "metadata": {},
   "source": [
    "# 函数二\n",
    "## 局部变量\n",
    "- 所谓局部变量是定义在函数体内部的变量，即只在函数体内部⽣效\n",
    "- 作⽤：在函数体内部，临时保存数据，即当函数调⽤完成后，则销毁局部变量"
   ]
  },
  {
   "cell_type": "code",
   "execution_count": 25,
   "metadata": {},
   "outputs": [
    {
     "name": "stdout",
     "output_type": "stream",
     "text": [
      "100\n"
     ]
    }
   ],
   "source": [
    "def tastA():\n",
    "    a = 100\n",
    "    print(a)\n",
    "    \n",
    "tastA()\n",
    "\n",
    "# print(a)  会报错"
   ]
  },
  {
   "cell_type": "markdown",
   "metadata": {},
   "source": [
    "## 全局变量\n",
    "- 所谓全局变量，指的是在函数体内、外都能⽣效的变量"
   ]
  },
  {
   "cell_type": "code",
   "execution_count": 27,
   "metadata": {},
   "outputs": [
    {
     "name": "stdout",
     "output_type": "stream",
     "text": [
      "100\n",
      "100\n",
      "100\n"
     ]
    }
   ],
   "source": [
    "a = 100\n",
    "\n",
    "print(a)\n",
    "\n",
    "def tastA():\n",
    "    print(a)\n",
    "    \n",
    "def tastB():\n",
    "    print(a)\n",
    "    \n",
    "tastA()\n",
    "tastB()"
   ]
  },
  {
   "cell_type": "code",
   "execution_count": 28,
   "metadata": {},
   "outputs": [
    {
     "name": "stdout",
     "output_type": "stream",
     "text": [
      "100\n",
      "100\n",
      "200\n",
      "100\n"
     ]
    }
   ],
   "source": [
    "# 局部变量修改没有改变全局变量\n",
    "a = 100\n",
    "\n",
    "print(a)\n",
    "\n",
    "def tastA():\n",
    "    print(a)\n",
    "    \n",
    "def tastB():\n",
    "    a = 200 # 如果直接修改 a=200，此时的a是局部变量\n",
    "    # 因为在全局位置(B函数调用后)打印a得到的不是200而是100\n",
    "    print(a)\n",
    "    \n",
    "tastA()\n",
    "tastB()\n",
    "\n",
    "print(a)"
   ]
  },
  {
   "cell_type": "code",
   "execution_count": 29,
   "metadata": {},
   "outputs": [
    {
     "name": "stdout",
     "output_type": "stream",
     "text": [
      "100\n",
      "100\n",
      "200\n",
      "200\n"
     ]
    }
   ],
   "source": [
    "# 局部变量修改改变全局变量\n",
    "a = 100\n",
    "\n",
    "print(a)\n",
    "\n",
    "def tastA():\n",
    "    print(a)\n",
    "    \n",
    "def tastB():\n",
    "    # 想要修改全局变量a,值是200\n",
    "    global a # 声明a为全局变量\n",
    "    a = 200\n",
    "    print(a)\n",
    "    \n",
    "tastA()\n",
    "tastB()\n",
    "\n",
    "print(a)"
   ]
  },
  {
   "cell_type": "markdown",
   "metadata": {},
   "source": [
    "### 总结\n",
    "1. 如果在函数体里面直接把变量a=200赋值,此时的a不是全局变量的修改,而是相当于在函数内部声明了一个新的局部变量\n",
    "2. 函数体内部修改全局变量: 先global声明a为全局变量，然后再变量重新赋值"
   ]
  },
  {
   "cell_type": "code",
   "execution_count": 30,
   "metadata": {},
   "outputs": [
    {
     "name": "stdout",
     "output_type": "stream",
     "text": [
      "0\n",
      "0\n",
      "100\n",
      "100\n"
     ]
    }
   ],
   "source": [
    "glo_num = 0\n",
    "\n",
    "def tast1():\n",
    "    global glo_num\n",
    "    glo_num = 100\n",
    "    \n",
    "def tast2():\n",
    "    print(glo_num)\n",
    "    \n",
    "print(glo_num)\n",
    "tast2()\n",
    "tast1()\n",
    "tast2()\n",
    "print(glo_num)"
   ]
  },
  {
   "cell_type": "markdown",
   "metadata": {},
   "source": [
    "### 返回值作为参数传递"
   ]
  },
  {
   "cell_type": "code",
   "execution_count": 31,
   "metadata": {},
   "outputs": [
    {
     "name": "stdout",
     "output_type": "stream",
     "text": [
      "50\n",
      "50\n"
     ]
    }
   ],
   "source": [
    "def tast1():\n",
    "    return 50\n",
    "\n",
    "def tast2(num):\n",
    "    print(num)\n",
    "    \n",
    "result = tast1()\n",
    "print(result)\n",
    "\n",
    "tast2(result)"
   ]
  },
  {
   "cell_type": "markdown",
   "metadata": {},
   "source": [
    "# 一个函数多个返回值"
   ]
  },
  {
   "cell_type": "code",
   "execution_count": 34,
   "metadata": {},
   "outputs": [
    {
     "name": "stdout",
     "output_type": "stream",
     "text": [
      "(1, 2)\n"
     ]
    }
   ],
   "source": [
    "def return_num():\n",
    "    return 1, 2 # 返回的是元组\n",
    "\n",
    "result = return_num()\n",
    "print(result)"
   ]
  },
  {
   "cell_type": "markdown",
   "metadata": {},
   "source": [
    "### return后面可以直接书写 元组 列表 字典，返回多个值"
   ]
  },
  {
   "cell_type": "code",
   "execution_count": 35,
   "metadata": {},
   "outputs": [
    {
     "name": "stdout",
     "output_type": "stream",
     "text": [
      "(10, 20)\n"
     ]
    }
   ],
   "source": [
    "def return_num():\n",
    "    return (10, 20)\n",
    "\n",
    "result = return_num()\n",
    "print(result)"
   ]
  },
  {
   "cell_type": "code",
   "execution_count": 36,
   "metadata": {},
   "outputs": [
    {
     "name": "stdout",
     "output_type": "stream",
     "text": [
      "[100, 200]\n"
     ]
    }
   ],
   "source": [
    "def return_num():\n",
    "    return [100, 200]\n",
    "\n",
    "result = return_num()\n",
    "print(result)"
   ]
  },
  {
   "cell_type": "code",
   "execution_count": 37,
   "metadata": {},
   "outputs": [
    {
     "name": "stdout",
     "output_type": "stream",
     "text": [
      "{'name': 'Python', 'age': 30}\n"
     ]
    }
   ],
   "source": [
    "def return_num():\n",
    "    return {'name': 'Python', 'age': 30}\n",
    "\n",
    "result = return_num()\n",
    "print(result)"
   ]
  },
  {
   "cell_type": "markdown",
   "metadata": {},
   "source": [
    "## 函数的参数\n",
    "### 位置参数\n",
    "- 调用函数时根据函数定义的参数位置来传递参数\n",
    "- 传递和定义参数的顺序及个数必须一致"
   ]
  },
  {
   "cell_type": "code",
   "execution_count": 2,
   "metadata": {},
   "outputs": [
    {
     "name": "stdout",
     "output_type": "stream",
     "text": [
      "您的姓名是Tom,您的年龄是20,您的性别是男.\n"
     ]
    }
   ],
   "source": [
    "def user_info(name, age, gender):\n",
    "    print(f'您的姓名是{name},您的年龄是{age},您的性别是{gender}.')\n",
    "    \n",
    "user_info('Tom', 20, '男')"
   ]
  },
  {
   "cell_type": "markdown",
   "metadata": {},
   "source": [
    "### 关键字参数\n",
    "- 函数调用,通过\"键=值\"形式加以指定。可以让函数更加清晰、容易使用，同时也清除了参数的顺序需求\n",
    "- 函数调用时，如果有位置参数时，位置参数必须在关键字参数的前面，但关键字参数之间不存在先后顺序"
   ]
  },
  {
   "cell_type": "code",
   "execution_count": 3,
   "metadata": {},
   "outputs": [
    {
     "name": "stdout",
     "output_type": "stream",
     "text": [
      "您的姓名是Rose,您的年龄是20,您的性别是女.\n",
      "您的姓名是小明,您的年龄是20,您的性别是男.\n"
     ]
    }
   ],
   "source": [
    "def user_info(name, age, gender):\n",
    "    print(f'您的姓名是{name},您的年龄是{age},您的性别是{gender}.')\n",
    "    \n",
    "user_info('Rose', age=20, gender='女')\n",
    "user_info('小明', gender='男', age=20)"
   ]
  },
  {
   "cell_type": "markdown",
   "metadata": {},
   "source": [
    "### 缺省参数\n",
    "- 也叫默认参数，用于定义函数，为参数提供默认值，调用函数时可不传该默认参数的值\n",
    "- 所有位置参数必须出现在默认参数前，包括函数定义的调用\n",
    "- 函数调用时，如果为缺省参数传值则修改默认参数值；否则使用这个默认值"
   ]
  },
  {
   "cell_type": "code",
   "execution_count": 5,
   "metadata": {},
   "outputs": [
    {
     "name": "stdout",
     "output_type": "stream",
     "text": [
      "您的姓名是Tom,您的年龄是20,您的性别是男.\n",
      "您的姓名是Rose,您的年龄是20,您的性别是女.\n"
     ]
    }
   ],
   "source": [
    "def user_info(name, age, gender='男'):\n",
    "    print(f'您的姓名是{name},您的年龄是{age},您的性别是{gender}.')\n",
    "    \n",
    "user_info('Tom', 20) # 没有为缺省参数传值，表示使用默认值\n",
    "user_info('Rose', 20, '女') # 为缺省参数传值，使用这个值，即表示 修改了默认值"
   ]
  },
  {
   "cell_type": "markdown",
   "metadata": {},
   "source": [
    "### 不定长参数\n",
    "- 也叫可变参数。用于不确定调用的时候会传递多少个参数（不传参也可以）的场景。此时，可用包裹位置参数，或者包裹关键字参数，来进行参数传递，会显得非常方便\n",
    "1. 包裹位置传递\n",
    "2. 包裹关键字传递\n",
    "- 传进的所有参数都会被args变量收集，他会根据传进参数的位置合并为一个元组（tuple），args是元组类型，这就是包裹位置传递\n",
    "- 无论是包裹位置传递还是包裹关键字传递，都是一个组包的过程"
   ]
  },
  {
   "cell_type": "code",
   "execution_count": 6,
   "metadata": {},
   "outputs": [
    {
     "name": "stdout",
     "output_type": "stream",
     "text": [
      "('Tom',)\n",
      "('Tom', 20)\n",
      "()\n"
     ]
    }
   ],
   "source": [
    "# 接收所有位置参数，返回一个元组\n",
    "def user_info(*args):\n",
    "    print(args)\n",
    "    \n",
    "user_info('Tom')\n",
    "user_info('Tom', 20)\n",
    "user_info()"
   ]
  },
  {
   "cell_type": "code",
   "execution_count": 7,
   "metadata": {},
   "outputs": [
    {
     "name": "stdout",
     "output_type": "stream",
     "text": [
      "{}\n",
      "{'name': 'Tom'}\n",
      "{'name': 'Tom', 'age': 20}\n"
     ]
    }
   ],
   "source": [
    "# 收集所有关键字参数，返回一个字典\n",
    "def user_info(**kwargs):\n",
    "    print(kwargs)\n",
    "    \n",
    "user_info()\n",
    "user_info(name='Tom')\n",
    "user_info(name='Tom', age=20)"
   ]
  },
  {
   "cell_type": "markdown",
   "metadata": {},
   "source": [
    "### 拆包：元组"
   ]
  },
  {
   "cell_type": "code",
   "execution_count": 8,
   "metadata": {},
   "outputs": [
    {
     "name": "stdout",
     "output_type": "stream",
     "text": [
      "(100, 200)\n",
      "100\n",
      "200\n"
     ]
    }
   ],
   "source": [
    "def return_num():\n",
    "    return 100, 200\n",
    "\n",
    "result = return_num()\n",
    "print(result)\n",
    "\n",
    "num1, num2 = return_num()\n",
    "print(num1)\n",
    "print(num2)"
   ]
  },
  {
   "cell_type": "markdown",
   "metadata": {},
   "source": [
    "### 拆包：字典"
   ]
  },
  {
   "cell_type": "code",
   "execution_count": 9,
   "metadata": {},
   "outputs": [
    {
     "name": "stdout",
     "output_type": "stream",
     "text": [
      "name\n",
      "age\n",
      "TOM\n",
      "20\n"
     ]
    }
   ],
   "source": [
    "dict1 = {'name': 'TOM', 'age': 20}\n",
    "\n",
    "a, b = dict1\n",
    "# 变量存储的是key值\n",
    "print(a)\n",
    "print(b)\n",
    "\n",
    "print(dict1[a])\n",
    "print(dict1[b])"
   ]
  },
  {
   "cell_type": "markdown",
   "metadata": {},
   "source": [
    "### 交换变量的值"
   ]
  },
  {
   "cell_type": "code",
   "execution_count": 10,
   "metadata": {},
   "outputs": [
    {
     "name": "stdout",
     "output_type": "stream",
     "text": [
      "1\n",
      "2\n",
      "2\n",
      "1\n"
     ]
    }
   ],
   "source": [
    "a, b = 1, 2\n",
    "\n",
    "print(a)\n",
    "print(b)\n",
    "\n",
    "a, b = b, a\n",
    "\n",
    "print(a)\n",
    "print(b)"
   ]
  },
  {
   "cell_type": "markdown",
   "metadata": {},
   "source": [
    "## 可变和不可变类型\n",
    "- 可变类型\n",
    "    - 列表\n",
    "    - 字典\n",
    "    - 集合\n",
    "- 不可变类型\n",
    "    - 整形\n",
    "    - 浮点型\n",
    "    - 字符串\n",
    "    - 元组"
   ]
  },
  {
   "cell_type": "code",
   "execution_count": 13,
   "metadata": {},
   "outputs": [
    {
     "data": {
      "text/plain": [
       "(1, 1)"
      ]
     },
     "execution_count": 13,
     "metadata": {},
     "output_type": "execute_result"
    }
   ],
   "source": [
    "# 使用不定长参数定义一个函数max_min，接受的参数类型是数值，最终返回这些数中的最大值和最小值\n",
    "def max_min(*args):\n",
    "    ls = []\n",
    "    for i in args:\n",
    "        ls.append(i)\n",
    "        \n",
    "    return max(ls), min(ls)\n",
    "\n",
    "\n",
    "max_min(1)"
   ]
  },
  {
   "cell_type": "code",
   "execution_count": 14,
   "metadata": {},
   "outputs": [
    {
     "name": "stdout",
     "output_type": "stream",
     "text": [
      "(1, 2, 3, 4, 5)\n",
      "<class 'tuple'>\n",
      "(5, 1)\n"
     ]
    }
   ],
   "source": [
    "def max_min(*args):\n",
    "    print(args)\n",
    "    print(type(args))\n",
    "    return max(args), min(args)\n",
    "\n",
    "\n",
    "result = max_min(1, 2, 3, 4, 5)\n",
    "\n",
    "print(result)"
   ]
  },
  {
   "cell_type": "code",
   "execution_count": null,
   "metadata": {},
   "outputs": [],
   "source": []
  }
 ],
 "metadata": {
  "kernelspec": {
   "display_name": "Python 3",
   "language": "python",
   "name": "python3"
  },
  "language_info": {
   "codemirror_mode": {
    "name": "ipython",
    "version": 3
   },
   "file_extension": ".py",
   "mimetype": "text/x-python",
   "name": "python",
   "nbconvert_exporter": "python",
   "pygments_lexer": "ipython3",
   "version": "3.7.4"
  }
 },
 "nbformat": 4,
 "nbformat_minor": 4
}
