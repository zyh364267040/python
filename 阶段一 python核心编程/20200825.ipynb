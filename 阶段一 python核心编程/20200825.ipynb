{
 "cells": [
  {
   "cell_type": "code",
   "execution_count": 2,
   "metadata": {},
   "outputs": [
    {
     "name": "stdout",
     "output_type": "stream",
     "text": [
      "* \n",
      "* * \n",
      "* * * \n",
      "* * * * \n",
      "* * * * * \n"
     ]
    }
   ],
   "source": [
    "lenght = 5\n",
    "for i in range(lenght):\n",
    "    for j in range(i + 1):\n",
    "        print(\"*\", end=\" \")\n",
    "    print()"
   ]
  },
  {
   "cell_type": "code",
   "execution_count": 1,
   "metadata": {},
   "outputs": [
    {
     "name": "stdout",
     "output_type": "stream",
     "text": [
      "* * * * * \n",
      "* * * * * \n",
      "* * * * * \n",
      "* * * * * \n",
      "* * * * * \n"
     ]
    }
   ],
   "source": [
    "lenght = 5\n",
    "for i in range(lenght):\n",
    "    for j in range(lenght):\n",
    "        print(\"*\", end=\" \")\n",
    "    print()"
   ]
  },
  {
   "cell_type": "code",
   "execution_count": 3,
   "metadata": {},
   "outputs": [
    {
     "name": "stdin",
     "output_type": "stream",
     "text": [
      "请输入您要备份的文件的名字: 1.txt\n"
     ]
    },
    {
     "name": "stdout",
     "output_type": "stream",
     "text": [
      "1\n",
      "1\n",
      ".txt\n",
      "1-[备份].txt\n"
     ]
    }
   ],
   "source": [
    "# 文件备份\n",
    "# 需求：用户输入一个文件名，程序实现备份\n",
    "# 1.txt，备份的文件 1-[备份].txt：源文件和备份文件的内容是一模一样的\n",
    "\n",
    "# 1.用户输入目标文件名\n",
    "user_file_name = input(\"请输入您要备份的文件的名字:\")\n",
    "\n",
    "# 2.文件基本操作3个步骤\n",
    "# 2.0 准备备份的文件名，在下一步能直接打开\n",
    "# 1.txt,备份的文件1-[备份].txt\n",
    "#aa.bb.txt -- rfind(),rindex() -- 从右侧开始查找\n",
    "index = user_file_name.index(\".\")\n",
    "print(index)\n",
    "# 点前面的\n",
    "print(user_file_name[: index])\n",
    "# 点后面的\n",
    "print(user_file_name[index:])\n",
    "# 备份文件名\n",
    "new_file_name = user_file_name[: index] + \"-[备份]\" + user_file_name[index:]\n",
    "print(new_file_name)\n",
    "\n",
    "# 2.1 打开：open(文件名)\n",
    "old_f = open(user_file_name, \"r\", encoding=\"utf-8\")\n",
    "new_f = open(new_file_name, \"w\", encoding=\"utf-8\")\n",
    "\n",
    "# 2.2 源文件读取数据，备份文件写入数据\n",
    "# con = old_f.read()\n",
    "# new_f.write(con)\n",
    "# 二进制打开都可以备份电影或音乐，假设有20个G电影需要备份\n",
    "# 循环读取写入，当读取的数据没有了(con 长度=0)，终止循环\n",
    "while True:\n",
    "    con = old_f.read(1024)\n",
    "    if con == 0:\n",
    "        break\n",
    "    new_f.write(con)\n",
    "\n",
    "# 2.3 关闭，先打开的后关闭\n",
    "new_f.close()\n",
    "old_f.close()"
   ]
  },
  {
   "cell_type": "markdown",
   "metadata": {},
   "source": [
    "# 文件和文件夹操作\n",
    "- 基于os模块使用\n",
    "- rename(源文件名，新文件名): 重命名(文件和文件夹)\n",
    "- remove(文件名): 删除文件\n",
    "- mkdir(文件夹名): 创建文件夹\n",
    "- rmdir(文件名): 删除文件夹\n",
    "- getcwd(): 获取当前目录路径\n",
    "- chdir(): 改变目录路径\n",
    "- listdir(): 获取某个路径的所有文件夹名，返回一个列表"
   ]
  },
  {
   "cell_type": "code",
   "execution_count": 12,
   "metadata": {},
   "outputs": [
    {
     "name": "stdout",
     "output_type": "stream",
     "text": [
      "['[黑马python]-[黑马python]-20200824.ipynb', '[黑马python]-[黑马python]-20200819.ipynb', '[黑马python]-[黑马python]-.ipynb_checkpoints', '[黑马python]-[黑马python]-4.txt', '[黑马python]-[黑马python]-笔记', '[黑马python]-[黑马python]-1.txt', '[黑马python]-[黑马python]-20200822.ipynb', '[黑马python]-[黑马python]-20200818.ipynb', '[黑马python]-[黑马python]-20200825.ipynb', '[黑马python]-[黑马python]-20200821.ipynb', '[黑马python]-[黑马python]-.DS_Store', '[黑马python]-[黑马python]-test1.txt', '[黑马python]-20200825.ipynb', '[黑马python]-[黑马python]-1-[备份].txt', '[黑马python]-[黑马python]-20200823.ipynb', '[黑马python]-[黑马python]-test.txt', '[黑马python]-.ipynb_checkpoints', '[黑马python]-[黑马python]-作业', '[黑马python]-[黑马python]-20200816.ipynb', '.ipynb_checkpoints', '[黑马python]-[黑马python]-20200815xt.ipynb', '[黑马python]-[黑马python]-20200814xt.ipynb', '20200825.ipynb']\n",
      "[黑马python]-[黑马python]-20200824.ipynb\n",
      "[黑马python]-[黑马python]-20200819.ipynb\n",
      "[黑马python]-[黑马python]-.ipynb_checkpoints\n",
      "[黑马python]-[黑马python]-4.txt\n",
      "[黑马python]-[黑马python]-笔记\n",
      "[黑马python]-[黑马python]-1.txt\n",
      "[黑马python]-[黑马python]-20200822.ipynb\n",
      "[黑马python]-[黑马python]-20200818.ipynb\n",
      "[黑马python]-[黑马python]-20200825.ipynb\n",
      "[黑马python]-[黑马python]-20200821.ipynb\n",
      "[黑马python]-[黑马python]-.DS_Store\n",
      "[黑马python]-[黑马python]-test1.txt\n",
      "[黑马python]-20200825.ipynb\n",
      "[黑马python]-[黑马python]-1-[备份].txt\n",
      "[黑马python]-[黑马python]-20200823.ipynb\n",
      "[黑马python]-[黑马python]-test.txt\n",
      "[黑马python]-.ipynb_checkpoints\n",
      "[黑马python]-[黑马python]-作业\n",
      "[黑马python]-[黑马python]-20200816.ipynb\n",
      ".ipynb_checkpoints\n",
      "[黑马python]-[黑马python]-20200815xt.ipynb\n",
      "[黑马python]-[黑马python]-20200814xt.ipynb\n",
      "20200825.ipynb\n"
     ]
    }
   ],
   "source": [
    "# 批量文件重命名(添加)\n",
    "# 当前目录中所有文件一次性重命名，rename(原文件名，新文件名)\n",
    "# 1.获取目录下所有文件名\n",
    "import os\n",
    "file_list = os.listdir()\n",
    "# print(file_list)\n",
    "\n",
    "# 2.为每一个文件组合一个新名字 [黑马python]-xxx\n",
    "for i in file_list:\n",
    "    # print(i)\n",
    "    new_name = \"[黑马python]-\" + i\n",
    "    \n",
    "    # 3.rename()\n",
    "    os.rename(i, new_name)"
   ]
  },
  {
   "cell_type": "code",
   "execution_count": 22,
   "metadata": {},
   "outputs": [
    {
     "name": "stdin",
     "output_type": "stream",
     "text": [
      "请输入功能编号：(1表示添加字符前缀；2表示删除字符前缀) 2\n"
     ]
    },
    {
     "ename": "OSError",
     "evalue": "[Errno 66] Directory not empty: '[黑马python]-[黑马python]-.ipynb_checkpoints' -> '[黑马python]-.ipynb_checkpoints'",
     "output_type": "error",
     "traceback": [
      "\u001b[0;31m---------------------------------------------------------------------------\u001b[0m",
      "\u001b[0;31mOSError\u001b[0m                                   Traceback (most recent call last)",
      "\u001b[0;32m<ipython-input-22-a2c9da99185d>\u001b[0m in \u001b[0;36m<module>\u001b[0;34m\u001b[0m\n\u001b[1;32m     12\u001b[0m     \u001b[0;32melif\u001b[0m \u001b[0muser_num\u001b[0m \u001b[0;34m==\u001b[0m \u001b[0;36m2\u001b[0m\u001b[0;34m:\u001b[0m\u001b[0;34m\u001b[0m\u001b[0;34m\u001b[0m\u001b[0m\n\u001b[1;32m     13\u001b[0m         \u001b[0mnew_name\u001b[0m \u001b[0;34m=\u001b[0m \u001b[0mi\u001b[0m\u001b[0;34m[\u001b[0m\u001b[0mlen\u001b[0m\u001b[0;34m(\u001b[0m\u001b[0;34m\"[黑马python]-\"\u001b[0m\u001b[0;34m)\u001b[0m\u001b[0;34m:\u001b[0m\u001b[0;34m]\u001b[0m\u001b[0;34m\u001b[0m\u001b[0;34m\u001b[0m\u001b[0m\n\u001b[0;32m---> 14\u001b[0;31m     \u001b[0mos\u001b[0m\u001b[0;34m.\u001b[0m\u001b[0mrename\u001b[0m\u001b[0;34m(\u001b[0m\u001b[0mi\u001b[0m\u001b[0;34m,\u001b[0m \u001b[0mnew_name\u001b[0m\u001b[0;34m)\u001b[0m\u001b[0;34m\u001b[0m\u001b[0;34m\u001b[0m\u001b[0m\n\u001b[0m",
      "\u001b[0;31mOSError\u001b[0m: [Errno 66] Directory not empty: '[黑马python]-[黑马python]-.ipynb_checkpoints' -> '[黑马python]-.ipynb_checkpoints'"
     ]
    }
   ],
   "source": [
    "# 需求二：让用户输入功能编号：1表示添加字符前缀；2表示删除字符前缀\n",
    "user_num = int(input(\"请输入功能编号：(1表示添加字符前缀；2表示删除字符前缀)\"))\n",
    "\n",
    "# 如果用户输入1执行添加功能；如果用户输入2执行删除功能 - 都得遍历到当前目录的所有文件\n",
    "import os\n",
    "file_list = os.listdir()\n",
    "# print(file_list)\n",
    "\n",
    "for i in file_list:\n",
    "    if user_num == 1:\n",
    "        new_name = \"[黑马python]-\" + i\n",
    "    elif user_num == 2:\n",
    "        new_name = i[len(\"[黑马python]-\"):]\n",
    "    os.rename(i, new_name)"
   ]
  },
  {
   "cell_type": "code",
   "execution_count": 3,
   "metadata": {},
   "outputs": [],
   "source": [
    "\"\"\"\n",
    "创建一个新项目中新创建一个名字py文件夹\n",
    "进入py文件夹中创建5个文件，文件名分别为python-06基础班-1.txt\n",
    "python-06基础班-2.txt，python-06基础班-3.txt\n",
    "python-06基础班-4.txt，python-06基础班-5.txt\n",
    "然后将py文件夹中的所有文件都改名为[黑马]python-06基础班-1.txt\n",
    "[黑马]python-06基础班-2.txt，[黑马]python-06基础班-3.txt\n",
    "[黑马]python-06基础班-4.txt，[黑马]python-06基础班-5.txt\n",
    "\"\"\"\n",
    "import os\n",
    "\n",
    "os.mkdir(\"py\")\n",
    "# os.chdir(py) 可直接将路径改为py文件夹中\n",
    "os.chdir(\"py\")\n",
    "\n",
    "for i in range(1, 6):\n",
    "    f = open(f\"python-06基础班-{i}.txt\", \"w\", encoding=\"utf-8\")\n",
    "    f.close()\n",
    "\n",
    "file_list = os.listdir()\n",
    "for file in file_list:\n",
    "    new_name = \"[黑马]\" + file\n",
    "    os.rename(file, new_name)"
   ]
  },
  {
   "cell_type": "code",
   "execution_count": 13,
   "metadata": {},
   "outputs": [],
   "source": [
    "# 编写一段代码以完成两份文件之间的备份\n",
    "import os\n",
    "\n",
    "os.mkdir(\"python基础班\")\n",
    "os.chdir(\"python基础班\")\n",
    "\n",
    "f1 = open(\"gai_lun.txt\", \"w\", encoding=\"utf-8\")\n",
    "f1.write(\"德玛西亚！人在塔在！\")\n",
    "f1.close()\n",
    "\n",
    "f2 = open(\"gai_lun.txt\", \"r\", encoding=\"utf-8\")\n",
    "con = f2.read()\n",
    "f3 = open(\"gai_lun副本.txt\", \"w\", encoding=\"utf-8\")\n",
    "f3.write(con)\n",
    "f3.close()\n",
    "f2.close()"
   ]
  },
  {
   "cell_type": "code",
   "execution_count": null,
   "metadata": {},
   "outputs": [],
   "source": []
  }
 ],
 "metadata": {
  "kernelspec": {
   "display_name": "Python 3",
   "language": "python",
   "name": "python3"
  },
  "language_info": {
   "codemirror_mode": {
    "name": "ipython",
    "version": 3
   },
   "file_extension": ".py",
   "mimetype": "text/x-python",
   "name": "python",
   "nbconvert_exporter": "python",
   "pygments_lexer": "ipython3",
   "version": "3.7.4"
  }
 },
 "nbformat": 4,
 "nbformat_minor": 4
}
