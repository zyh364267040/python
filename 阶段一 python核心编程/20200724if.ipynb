{
 "cells": [
  {
   "cell_type": "markdown",
   "metadata": {},
   "source": [
    "# 体验if语句"
   ]
  },
  {
   "cell_type": "code",
   "execution_count": 1,
   "metadata": {},
   "outputs": [
    {
     "name": "stdout",
     "output_type": "stream",
     "text": [
      "条件成立执行的代码1\n",
      "条件成立执行的代码2\n",
      "这个代码执行吗？\n"
     ]
    }
   ],
   "source": [
    "\"\"\"\n",
    "if 条件:\n",
    "    条件成立执行的代码1\n",
    "    ......\n",
    "\"\"\"\n",
    "\n",
    "if True:\n",
    "    print('条件成立执行的代码1')\n",
    "    print('条件成立执行的代码2')\n",
    "\n",
    "if False:\n",
    "    print('条件成立执行的代码3')\n",
    "    print('条件成立执行的代码4')\n",
    "\n",
    "# 注意: 在这个下方的没有加缩进的代码，不属于if语句块，即和条件成立与否无关\n",
    "print('这个代码执行吗？')"
   ]
  },
  {
   "cell_type": "code",
   "execution_count": 2,
   "metadata": {},
   "outputs": [
    {
     "name": "stdout",
     "output_type": "stream",
     "text": [
      "已经成年，可以上网\n"
     ]
    }
   ],
   "source": [
    "# 网吧上网（简单版）\n",
    "# 分析: 年龄大于等于18，输出:已经成年，可以上网 -- 准备年龄的数据和18作比较\n",
    "age = 20\n",
    "\n",
    "if age >= 18:\n",
    "    print('已经成年，可以上网')"
   ]
  },
  {
   "cell_type": "code",
   "execution_count": 3,
   "metadata": {},
   "outputs": [
    {
     "name": "stdin",
     "output_type": "stream",
     "text": [
      "请输入您的年龄： 18\n"
     ]
    },
    {
     "name": "stdout",
     "output_type": "stream",
     "text": [
      "您输入的年龄是18,已经成年，可以上网\n"
     ]
    }
   ],
   "source": [
    "# 网吧上网（实用版）\n",
    "# 系统可以用户输入年龄，用这个年龄做条件判断\n",
    "\"\"\"\n",
    "1. 用户输入\n",
    "2. 保存用户输入的年龄\n",
    "3. if\n",
    "注意：input接收到的数据是str，不能和18做判断 -- int转换类型\n",
    "\"\"\"\n",
    "\n",
    "age = int(input('请输入您的年龄：'))\n",
    "\n",
    "if age >= 18:\n",
    "    print(f'您输入的年龄是{age},已经成年，可以上网')"
   ]
  },
  {
   "cell_type": "code",
   "execution_count": 4,
   "metadata": {},
   "outputs": [
    {
     "name": "stdin",
     "output_type": "stream",
     "text": [
      "请输入您的年龄： 18\n"
     ]
    },
    {
     "name": "stdout",
     "output_type": "stream",
     "text": [
      "您输入的年龄是18,已经成年，可以上网\n"
     ]
    }
   ],
   "source": [
    "# 网吧上网（进阶版）\n",
    "# 系统可以用户输入年龄，用这个年龄做条件判断\n",
    "\"\"\"\n",
    "1. 用户输入\n",
    "2. 保存用户输入的年龄\n",
    "3. if\n",
    "注意：input接收到的数据是str，不能和18做判断 -- int转换类型\n",
    "\"\"\"\n",
    "\n",
    "age = int(input('请输入您的年龄：'))\n",
    "\n",
    "if age >= 18:\n",
    "    print(f'您输入的年龄是{age},已经成年，可以上网')\n",
    "else:\n",
    "    print(f'您输入的年龄是{age}，小朋友，回家写作业去')"
   ]
  },
  {
   "cell_type": "code",
   "execution_count": 5,
   "metadata": {},
   "outputs": [
    {
     "name": "stdin",
     "output_type": "stream",
     "text": [
      "请输入您的年龄： 18\n"
     ]
    },
    {
     "name": "stdout",
     "output_type": "stream",
     "text": [
      "您输入的年龄是18,已经成年，可以上网\n"
     ]
    }
   ],
   "source": [
    "while True:\n",
    "    age = int(input('请输入您的年龄：'))\n",
    "    if (age < 0) or (age > 120):\n",
    "        print('年龄有误，请重新输入年龄')\n",
    "        continue\n",
    "    elif age >= 18:\n",
    "        print(f'您输入的年龄是{age},已经成年，可以上网')\n",
    "    else:\n",
    "        print(f'您输入的年龄是{age}，小朋友，回家写作业去')\n",
    "    break"
   ]
  },
  {
   "cell_type": "code",
   "execution_count": 6,
   "metadata": {},
   "outputs": [
    {
     "name": "stdin",
     "output_type": "stream",
     "text": [
      "请输入您的年龄： 18\n"
     ]
    },
    {
     "name": "stdout",
     "output_type": "stream",
     "text": [
      "您输入的年龄是18, 合法\n"
     ]
    }
   ],
   "source": [
    "# 多重判断（工作年龄）\n",
    "\"\"\"\n",
    "需求：\n",
    "    如果年龄小于18，为童工，不合法；\n",
    "    如果年龄18-60岁之间，为合法工作年龄；\n",
    "    如果年龄大于60为退休年龄。\n",
    "\"\"\"\n",
    "\"\"\"\n",
    "步骤：\n",
    "    1. 用户输入自己的年龄，保存变量 -- str；\n",
    "    2. if做判断 elif\n",
    "    3. 输出提示信息：您输入的年龄是x，合法与否\n",
    "\"\"\"\n",
    "\n",
    "age = int(input('请输入您的年龄：'))\n",
    "\n",
    "# 童工\n",
    "if age < 18:\n",
    "    print(f'您输入的年龄是{age}, 童工')\n",
    "\n",
    "# 18-60 合法\n",
    "elif (age >= 18) and (age <= 60):\n",
    "# 上面代码可以化简为 18 <= age <= 60\n",
    "    print(f'您输入的年龄是{age}, 合法')\n",
    "\n",
    "# 大于60 退休\n",
    "elif age > 60:\n",
    "    print(f'您输入的年龄是{age}, 退休年龄')"
   ]
  },
  {
   "cell_type": "code",
   "execution_count": 7,
   "metadata": {},
   "outputs": [
    {
     "name": "stdout",
     "output_type": "stream",
     "text": [
      "土豪，请上车\n",
      "有空座，坐下了\n"
     ]
    }
   ],
   "source": [
    "# if嵌套（坐公交）\n",
    "# 坐公交： 如果有钱可以上车， 没有钱， 不能上车； 如果上车了，判断是否能坐下 -- 是否有空座位\n",
    "\"\"\"\n",
    " 1. 准备将来要做判断的数据： 钱和座位\n",
    " 2. 判断是否有钱： 上车 和 不能上车\n",
    " 3. 上车了： 判断是否能坐下： 有空座位 和 无空座位\n",
    "\"\"\"\n",
    "    \n",
    "money = 1\n",
    "seat = 1\n",
    "\n",
    "if money == 1:\n",
    "    print('土豪，请上车')\n",
    "    # 判断是否能坐下\n",
    "    if seat == 1:\n",
    "        print('有空座，坐下了')\n",
    "    else:\n",
    "        print('没有空座，站着等...')\n",
    "else:\n",
    "    print('朋友，没带钱，跟着跑，跑快点')"
   ]
  },
  {
   "cell_type": "code",
   "execution_count": 8,
   "metadata": {},
   "outputs": [
    {
     "name": "stdin",
     "output_type": "stream",
     "text": [
      "您是否带够乘坐公交的钱，未带够请输入\"0\",带够了请输入非零数字： 1\n"
     ]
    },
    {
     "name": "stdout",
     "output_type": "stream",
     "text": [
      "土豪，请上车...\n"
     ]
    },
    {
     "name": "stdin",
     "output_type": "stream",
     "text": [
      "车内有几个座位： 1\n"
     ]
    },
    {
     "name": "stdout",
     "output_type": "stream",
     "text": [
      "有1个座位，坐下了\n"
     ]
    }
   ],
   "source": [
    "money = int(input('您是否带够乘坐公交的钱，未带够请输入\"0\",带够了请输入非零数字：'))\n",
    "\n",
    "if money:\n",
    "    print('土豪，请上车...')\n",
    "    seat = int(input('车内有几个座位：'))\n",
    "    if seat:\n",
    "        print(f'有{seat}个座位，坐下了')\n",
    "    else:\n",
    "        print('没有空座，站着等...')\n",
    "else:\n",
    "    print('朋友，没带钱，跟着跑，跑快点...')"
   ]
  },
  {
   "cell_type": "code",
   "execution_count": 9,
   "metadata": {},
   "outputs": [
    {
     "name": "stdin",
     "output_type": "stream",
     "text": [
      "请出拳(0--石头；1--剪刀；2--布): 1\n"
     ]
    },
    {
     "name": "stdout",
     "output_type": "stream",
     "text": [
      "平局,别走，再来一局\n"
     ]
    }
   ],
   "source": [
    "# 综合案例-猜拳游戏\n",
    "\"\"\"\n",
    "1. 出拳\n",
    "    玩家：手动输入\n",
    "    电脑：1. 固定；2. 随机\n",
    "2. 判断输赢\n",
    "    2.1 玩家获胜\n",
    "    2.2 平局\n",
    "    2.3 电脑获胜\n",
    "\"\"\"\n",
    "# 老师的例子中用的是randint()\n",
    "from random import randrange\n",
    "\n",
    "# 1. 出拳\n",
    "# 玩家\n",
    "player = int(input('请出拳(0--石头；1--剪刀；2--布):'))\n",
    "# 电脑\n",
    "computer = randrange(0, 3)\n",
    "\n",
    "# 2. 判断输赢\n",
    "# 玩家获胜\n",
    "if ((player == 0) and (computer == 1)) or ((player == 1) and (computer == 2)) or ((player == 2) and (computer ==0)):\n",
    "    print('玩家获胜，哈哈哈哈')\n",
    "# 平局\n",
    "elif player == computer:\n",
    "    print('平局,别走，再来一局')\n",
    "else:\n",
    "    print('电脑获胜')"
   ]
  },
  {
   "cell_type": "code",
   "execution_count": 10,
   "metadata": {},
   "outputs": [
    {
     "name": "stdin",
     "output_type": "stream",
     "text": [
      "请出拳（0--石头；1--剪刀；2--布）： 1\n"
     ]
    },
    {
     "name": "stdout",
     "output_type": "stream",
     "text": [
      "平局，再来一次\n"
     ]
    },
    {
     "name": "stdin",
     "output_type": "stream",
     "text": [
      "请出拳（0--石头；1--剪刀；2--布）： 1\n"
     ]
    },
    {
     "name": "stdout",
     "output_type": "stream",
     "text": [
      "玩家获胜，哈哈哈哈\n"
     ]
    }
   ],
   "source": [
    "from random import randint\n",
    "\n",
    "while True:\n",
    "    player = int(input('请出拳（0--石头；1--剪刀；2--布）：'))\n",
    "    computer = randint(0, 2)\n",
    "    if player == computer:\n",
    "        print('平局，再来一次')\n",
    "        continue\n",
    "    elif ((player == 0) and (computer == 1) or (player == 1) and (computer == 2) or (player == 2) and (computer == 0) ):\n",
    "        print('玩家获胜，哈哈哈哈')\n",
    "    else:\n",
    "        print('电脑获胜')\n",
    "    break"
   ]
  },
  {
   "cell_type": "markdown",
   "metadata": {},
   "source": [
    "# 三目运算符\n",
    "三元表达式/三元运算符"
   ]
  },
  {
   "cell_type": "code",
   "execution_count": 11,
   "metadata": {},
   "outputs": [
    {
     "name": "stdout",
     "output_type": "stream",
     "text": [
      "2\n"
     ]
    }
   ],
   "source": [
    "\"\"\"\n",
    "语法\n",
    "条件成立执行的表达式 if 条件 else 条件不成立的表达式\n",
    "\"\"\"\n",
    "\n",
    "a = 1\n",
    "b = 2\n",
    "\n",
    "c = a if a > b else b\n",
    "print(c)"
   ]
  },
  {
   "cell_type": "code",
   "execution_count": 12,
   "metadata": {},
   "outputs": [
    {
     "name": "stdout",
     "output_type": "stream",
     "text": [
      "4\n"
     ]
    }
   ],
   "source": [
    "# 需求: 有两个变量， 比较大小，如果变量1大于变量2执行变量1-变量2；否则变量2-变量1\n",
    "\n",
    "aa = 10\n",
    "bb = 6\n",
    "cc = aa - bb if aa > bb else bb - aa\n",
    "print(cc)"
   ]
  },
  {
   "cell_type": "code",
   "execution_count": null,
   "metadata": {},
   "outputs": [],
   "source": []
  }
 ],
 "metadata": {
  "kernelspec": {
   "display_name": "Python 3",
   "language": "python",
   "name": "python3"
  },
  "language_info": {
   "codemirror_mode": {
    "name": "ipython",
    "version": 3
   },
   "file_extension": ".py",
   "mimetype": "text/x-python",
   "name": "python",
   "nbconvert_exporter": "python",
   "pygments_lexer": "ipython3",
   "version": "3.7.4"
  }
 },
 "nbformat": 4,
 "nbformat_minor": 4
}
