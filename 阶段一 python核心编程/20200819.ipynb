{
 "cells": [
  {
   "cell_type": "code",
   "execution_count": 36,
   "metadata": {},
   "outputs": [
    {
     "name": "stdout",
     "output_type": "stream",
     "text": [
      "{}\n",
      "{'name': '张三'}\n",
      "张三\n",
      "{'name': '李四'}\n",
      "{}\n",
      "{}\n",
      "1\n",
      "neme\n",
      "age\n",
      "张三\n",
      "18\n",
      "neme:张三\n",
      "age:18\n",
      "最大的是66,最小的是1.\n"
     ]
    }
   ],
   "source": [
    "info = dict()\n",
    "print(info)\n",
    "\n",
    "info[\"name\"] = \"张三\"\n",
    "print(info)\n",
    "\n",
    "print(info[\"name\"])\n",
    "\n",
    "info[\"name\"] = \"李四\"\n",
    "print(info)\n",
    "\n",
    "del info[\"name\"]\n",
    "print(info)\n",
    "\n",
    "info = {\"name\": \"张三\"}\n",
    "info.clear()\n",
    "print(info)\n",
    "\n",
    "info = {\"name\": \"张三\"}\n",
    "del info\n",
    "# print(info)\n",
    "\n",
    "info = {\"name\": \"张三\"}\n",
    "print(len(info))\n",
    "\n",
    "info = {\"neme\": \"张三\", \"age\": 18}\n",
    "for key in info.keys():\n",
    "    print(key)\n",
    "    \n",
    "info = {\"neme\": \"张三\", \"age\": 18}\n",
    "for value in info.values():\n",
    "    print(value)\n",
    "    \n",
    "info = {\"neme\": \"张三\", \"age\": 18}\n",
    "for key, value in info.items():\n",
    "    print(f\"{key}:{value}\")\n",
    "    \n",
    "list1 = [22, 44, 66, 1]\n",
    "print(f\"最大的是{max(list1)},最小的是{min(list1)}.\")"
   ]
  },
  {
   "cell_type": "code",
   "execution_count": 37,
   "metadata": {},
   "outputs": [
    {
     "name": "stdout",
     "output_type": "stream",
     "text": [
      "alisi\n",
      "('alisi',)\n",
      "alisi\n"
     ]
    }
   ],
   "source": [
    "\"\"\"\n",
    "现有：``tuple1 = (\"tom\",\"kaisa\",\"alisi\",\"xiaoming\",\"songshu\")``\n",
    "我想获得“alisi”这个内容，你能否想到三种方法来做？\n",
    "\"\"\"\n",
    "\n",
    "tuple1 = (\"tom\",\"kaisa\",\"alisi\",\"xiaoming\",\"songshu\")\n",
    "str1 = tuple1[2]\n",
    "print(str1)\n",
    "\n",
    "str2 = tuple1[2: 3]\n",
    "print(str2)\n",
    "\n",
    "for i in tuple1:\n",
    "    if i == \"alisi\":\n",
    "        str3 = i\n",
    "print(str3)    "
   ]
  },
  {
   "cell_type": "code",
   "execution_count": 38,
   "metadata": {},
   "outputs": [
    {
     "name": "stdout",
     "output_type": "stream",
     "text": [
      "5\n"
     ]
    }
   ],
   "source": [
    "\"\"\"\n",
    "有如下元组：\n",
    "``typle1 = (\"tom\",\"kaisa\",\"alisi\",\"xiaoming\",\"songshu\")``\n",
    "求出他的长度\n",
    "\"\"\"\n",
    "\n",
    "typle1 = (\"tom\",\"kaisa\",\"alisi\",\"xiaoming\",\"songshu\")\n",
    "num = len(tuple1)\n",
    "print(num)"
   ]
  },
  {
   "cell_type": "code",
   "execution_count": 42,
   "metadata": {},
   "outputs": [
    {
     "name": "stdout",
     "output_type": "stream",
     "text": [
      "('tom', 'kaisa', 'alisi', ['xiaoming', 'songshu'])\n",
      "['tom', 'kaisa', 'alisi', ['xiaoming', 'songshu', 'python']]\n"
     ]
    }
   ],
   "source": [
    "\"\"\"\n",
    "``name_list =[\"tom\",\"kaisa\",\"alisi\",[\"xiaoming\",\"songshu\"]]``\n",
    "现在有个要求，将最外层的列表转换成元组存储，里面的小列表不变；\n",
    "并且向小列表中添加一个元素“python”\n",
    "\"\"\"\n",
    "\n",
    "name_list =[\"tom\",\"kaisa\",\"alisi\",[\"xiaoming\",\"songshu\"]]\n",
    "\n",
    "new_tuple = tuple(name_list)\n",
    "print(new_tuple)\n",
    "\n",
    "name_list[3].append(\"python\")\n",
    "print(name_list)"
   ]
  },
  {
   "cell_type": "code",
   "execution_count": 43,
   "metadata": {},
   "outputs": [
    {
     "name": "stdout",
     "output_type": "stream",
     "text": [
      "{'name': 'chuanzhi'}\n"
     ]
    }
   ],
   "source": [
    "\"\"\"\n",
    "现有字典``dict1 = {'name':'python'}``，将键为``'name'的值更改为'chuanzhi'``\n",
    "\"\"\"\n",
    "\n",
    "dict1 = {'name':'python'}\n",
    "dict1[\"name\"] = \"chuanzhi\"\n",
    "print(dict1)"
   ]
  },
  {
   "cell_type": "code",
   "execution_count": 47,
   "metadata": {},
   "outputs": [
    {
     "name": "stdout",
     "output_type": "stream",
     "text": [
      "{'name': 'chuanzhi'}\n",
      "{}\n"
     ]
    }
   ],
   "source": [
    "\"\"\"\n",
    "现有字典``dict1 = {'name':'chuanzhi','age':18}``\n",
    "  要求：\n",
    "\n",
    "​\t1.删除age：18这个键值对\n",
    "\n",
    "​\t2.将整个字典里面的所有键值对，清空\n",
    "\"\"\"\n",
    "\n",
    "dict1 = {'name':'chuanzhi','age':18}\n",
    "\n",
    "del dict1[\"age\"]\n",
    "print(dict1)\n",
    "\n",
    "dict1.clear()\n",
    "print(dict1)"
   ]
  },
  {
   "cell_type": "code",
   "execution_count": 49,
   "metadata": {},
   "outputs": [
    {
     "name": "stdout",
     "output_type": "stream",
     "text": [
      "name\n",
      "age\n",
      "chuanzhi\n",
      "18\n",
      "name : chuanzhi\n",
      "age : 18\n"
     ]
    }
   ],
   "source": [
    "\"\"\"\n",
    "现有字典``dict1 = {'name':'chuanzhi','age':18}``\n",
    "要求：\n",
    "\n",
    "​\t1.使用循环将字典中所有的键输出到屏幕上\n",
    "​    2.使用循环将字典中所有的键输出到屏幕上\n",
    "​    3.使用循环将字典中所有的键值对输出到屏幕上\n",
    "​      输出方式：  \n",
    "\n",
    "​\t\t\t\tname：chuanzhi\n",
    "​                 age:18\n",
    "\"\"\"\n",
    "\n",
    "dict1 = {'name':'chuanzhi','age':18}\n",
    "\n",
    "for key in dict1.keys():\n",
    "    print(key)\n",
    "    \n",
    "for value in dict1.values():\n",
    "    print(value)\n",
    "    \n",
    "for key, value in dict1.items():\n",
    "    print(key, \":\", value)"
   ]
  },
  {
   "cell_type": "code",
   "execution_count": 29,
   "metadata": {},
   "outputs": [
    {
     "name": "stdout",
     "output_type": "stream",
     "text": [
      "能\n"
     ]
    }
   ],
   "source": [
    "\"\"\"\n",
    "有这样的一个列表\n",
    "product = [\n",
    "    {\"name\": \"电脑\", \"price\": 7000},\n",
    "    {\"name\": \"鼠标\", \"price\": 30},\n",
    "    {\"name\": \"usb电动小风扇\", \"price\": 20},\n",
    "    {\"name\": \"遮阳伞\", \"price\": 50},\n",
    "]\n",
    "然后小明一共有8000块钱，那么他能不能买下这所有商品？\n",
    "如果能，请输出“能”，否则输出“不能”\n",
    "\"\"\"\n",
    "product = [\n",
    "    {\"name\": \"电脑\", \"price\": 7000},\n",
    "    {\"name\": \"鼠标\", \"price\": 30},\n",
    "    {\"name\": \"usb电动小风扇\", \"price\": 20},\n",
    "    {\"name\": \"遮阳伞\", \"price\": 50},\n",
    "]\n",
    "\n",
    "all_price = 0\n",
    "for i in product:\n",
    "    for key, value in i.items():\n",
    "        if key == \"price\":\n",
    "            all_price += value\n",
    "\n",
    "if all_price <= 8000:\n",
    "    print(\"能\")\n",
    "else:\n",
    "    print(\"不能\")"
   ]
  },
  {
   "cell_type": "code",
   "execution_count": 31,
   "metadata": {},
   "outputs": [
    {
     "name": "stdout",
     "output_type": "stream",
     "text": [
      "7100\n",
      "能\n"
     ]
    }
   ],
   "source": [
    "product = [\n",
    "    {\"name\": \"电脑\", \"price\": 7000},\n",
    "    {\"name\": \"鼠标\", \"price\": 30},\n",
    "    {\"name\": \"usb电动小风扇\", \"price\": 20},\n",
    "    {\"name\": \"遮阳伞\", \"price\": 50},\n",
    "]\n",
    "\n",
    "all_price = 0\n",
    "for i in product:\n",
    "    j = i[\"price\"]\n",
    "    all_price += j\n",
    "\n",
    "if all_price <= 8000:\n",
    "    print(\"能\")\n",
    "else:\n",
    "    print(\"不能\")"
   ]
  },
  {
   "cell_type": "code",
   "execution_count": 33,
   "metadata": {},
   "outputs": [
    {
     "name": "stdout",
     "output_type": "stream",
     "text": [
      "我在跑步\n",
      "管住嘴，迈开腿\n"
     ]
    }
   ],
   "source": [
    "\"\"\"\n",
    "定义一个简单的函数run，函数的功能是输出\"我在跑步\" \n",
    "以及 “管住嘴，迈开腿”，并调用此函数。\n",
    "\"\"\"\n",
    "\n",
    "def run():\n",
    "    print(\"我在跑步\")\n",
    "    print(\"管住嘴，迈开腿\")\n",
    "    \n",
    "run()"
   ]
  },
  {
   "cell_type": "code",
   "execution_count": 35,
   "metadata": {},
   "outputs": [],
   "source": [
    "\"\"\"\n",
    "在第一题中，我们已经用函数run实现了一些功能，如果我们想run函数做的操作执行1000遍，怎么实现代码？\n",
    "\"\"\"\n",
    "\n",
    "def run():\n",
    "    print(\"我在跑步\")\n",
    "    print(\"管住嘴，迈开腿\")\n",
    "\n",
    "# 此处有1000遍run()\n",
    "# for i in range(1000):\n",
    "#     run()"
   ]
  },
  {
   "cell_type": "code",
   "execution_count": 39,
   "metadata": {},
   "outputs": [
    {
     "data": {
      "text/plain": [
       "4"
      ]
     },
     "execution_count": 39,
     "metadata": {},
     "output_type": "execute_result"
    }
   ],
   "source": [
    "\"\"\"\n",
    "定义一个函数max，接受的参数类型是数值，最终返回两个数中的最大值\n",
    "\"\"\"\n",
    "\n",
    "def max(a, b):\n",
    "    max_num = a if a > b else b\n",
    "    return max_num\n",
    "\n",
    "max(3, 4)"
   ]
  },
  {
   "cell_type": "code",
   "execution_count": 42,
   "metadata": {},
   "outputs": [],
   "source": [
    "\"\"\"\n",
    "定义一个函数 sum_random 接收二个参数 m, n ，在函数中计算 m + n 的值，并打印结果，要求 m 和 n 是 1 -- 100 之间的数\n",
    "\"\"\"\n",
    "\n",
    "def sum_random(m, n):\n",
    "    if 1 <= m <= 100 and 1 <= n <= 100:\n",
    "        sum_num = m + n\n",
    "    else:\n",
    "        print(\"输入错误\")\n",
    "        \n",
    "sum_random(12, 20)"
   ]
  },
  {
   "cell_type": "code",
   "execution_count": null,
   "metadata": {},
   "outputs": [],
   "source": []
  }
 ],
 "metadata": {
  "kernelspec": {
   "display_name": "Python 3",
   "language": "python",
   "name": "python3"
  },
  "language_info": {
   "codemirror_mode": {
    "name": "ipython",
    "version": 3
   },
   "file_extension": ".py",
   "mimetype": "text/x-python",
   "name": "python",
   "nbconvert_exporter": "python",
   "pygments_lexer": "ipython3",
   "version": "3.7.4"
  }
 },
 "nbformat": 4,
 "nbformat_minor": 4
}
