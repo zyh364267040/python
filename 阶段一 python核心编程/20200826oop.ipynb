{
 "cells": [
  {
   "cell_type": "markdown",
   "metadata": {},
   "source": [
    "# 面向对象\n",
    "- 面向对象就是将编程当成是一个事物，对外界来说，事物是直接使用的，不用去管它内部的情况。而编程就是设置事物能够做什么事\n",
    "- 类和对象的关系：用类去创建一个对象"
   ]
  },
  {
   "cell_type": "markdown",
   "metadata": {},
   "source": [
    "## 类\n",
    "- 类是对一系列具有相同特征和行为的事物的统称，是一个抽象的概念，不是真实存在的事物\n",
    "- 特征即是属性\n",
    "- 行为即是方法\n",
    "- 类是用来创建对象的\n",
    "- 注意：先有类，再有对象\n",
    "- 语法\n",
    "    - class 类名():\n",
    "        - 代码\n",
    "- 遵循大驼峰命名习惯\n",
    "- 创建对象\n",
    "    - 语法\n",
    "        - 对象名 = 类名()"
   ]
  },
  {
   "cell_type": "code",
   "execution_count": 3,
   "metadata": {},
   "outputs": [
    {
     "name": "stdout",
     "output_type": "stream",
     "text": [
      "<__main__.Washer object at 0x000001949F9733C8>\n",
      "能洗衣服\n"
     ]
    }
   ],
   "source": [
    "# 体验面向对象\n",
    "# 需求：洗衣机，功能：能洗衣服\n",
    "# 1.定义洗衣机类\n",
    "\"\"\"\n",
    "class 类():\n",
    "    代码\n",
    "\"\"\"\n",
    "\n",
    "class Washer():\n",
    "    def wash(self):\n",
    "        print(\"能洗衣服\")\n",
    "        \n",
    "# 2.创建对象\n",
    "# 对象名 = 类名()\n",
    "haier = Washer()\n",
    "\n",
    "# 3.验证成果\n",
    "# 打印haier对象\n",
    "print(haier)\n",
    "\n",
    "# 使用wash功能 -- 实例方法/对象方法 -- 对象名.Wash()\n",
    "haier.wash()"
   ]
  },
  {
   "cell_type": "code",
   "execution_count": 4,
   "metadata": {},
   "outputs": [
    {
     "name": "stdout",
     "output_type": "stream",
     "text": [
      "<__main__.Washer object at 0x00000194A18506C8>\n",
      "洗衣服\n",
      "<__main__.Washer object at 0x00000194A18506C8>\n"
     ]
    }
   ],
   "source": [
    "# self指的是调用该函数的对象\n",
    "# 类：洗衣机 功能：洗衣服\n",
    "class Washer():\n",
    "    def wash(self):\n",
    "        print(\"洗衣服\")\n",
    "        print(self)\n",
    "        \n",
    "haier = Washer()\n",
    "print(haier)\n",
    "\n",
    "haier.wash()\n",
    "\n",
    "# 由于打印对象和打印self得到的内存地址相同，所以self指的是调用该函数的对象"
   ]
  },
  {
   "cell_type": "code",
   "execution_count": 5,
   "metadata": {},
   "outputs": [
    {
     "name": "stdout",
     "output_type": "stream",
     "text": [
      "洗衣服\n",
      "<__main__.Washer object at 0x00000194A18AFD08>\n",
      "洗衣服\n",
      "<__main__.Washer object at 0x00000194A18B2888>\n"
     ]
    }
   ],
   "source": [
    "# 一个类可以创建多个对象；多个对象都调用函数的时候，self地址不相同\n",
    "class Washer():\n",
    "    def wash(self):\n",
    "        print(\"洗衣服\")\n",
    "        print(self)\n",
    "        \n",
    "haier1 = Washer()\n",
    "haier1.wash()\n",
    "\n",
    "haier2 = Washer()\n",
    "haier2.wash()"
   ]
  },
  {
   "cell_type": "code",
   "execution_count": 9,
   "metadata": {},
   "outputs": [
    {
     "name": "stdout",
     "output_type": "stream",
     "text": [
      "洗衣机的宽度是400\n",
      "洗衣机的高度是500\n"
     ]
    }
   ],
   "source": [
    "# 属性即是特征\n",
    "# 类外面添加和获取对象的属性\n",
    "class Washer():\n",
    "    def wash():\n",
    "        print(\"洗衣服\")\n",
    "        \n",
    "haier1 = Washer()\n",
    "\n",
    "# 添加属性 对象名.属性名 = 值\n",
    "haier1.width = 400\n",
    "haier1.height = 500\n",
    "\n",
    "# 获取属性 对象名.属性名\n",
    "print(f\"洗衣机的宽度是{haier1.width}\")\n",
    "print(f\"洗衣机的高度是{haier1.height}\")"
   ]
  },
  {
   "cell_type": "code",
   "execution_count": 11,
   "metadata": {},
   "outputs": [
    {
     "name": "stdout",
     "output_type": "stream",
     "text": [
      "洗衣机的宽度是400\n",
      "洗衣机的高度是500\n"
     ]
    }
   ],
   "source": [
    "# 类里面获取对象属性\n",
    "class Washer():\n",
    "    def wash(self):\n",
    "        print(\"洗衣服\")\n",
    "        \n",
    "    # 获取实例属性\n",
    "    def print_info(self):\n",
    "        # self.属性名\n",
    "        print(f\"洗衣机的宽度是{self.width}\")\n",
    "        print(f\"洗衣机的高度是{self.height}\")\n",
    "        \n",
    "haier = Washer()\n",
    "\n",
    "# 添加属性\n",
    "haier.width = 400\n",
    "haier.height = 500\n",
    "\n",
    "# 对象调用实例方法\n",
    "haier.print_info()"
   ]
  },
  {
   "cell_type": "markdown",
   "metadata": {},
   "source": [
    "## 魔法方法"
   ]
  },
  {
   "cell_type": "code",
   "execution_count": 14,
   "metadata": {},
   "outputs": [
    {
     "name": "stdout",
     "output_type": "stream",
     "text": [
      "洗衣机的宽度是500\n",
      "洗衣机的高度是800\n"
     ]
    }
   ],
   "source": [
    "# __init__() 方法\n",
    "# 作用：初始化对象\n",
    "# __init__() 方法，在创建一个对象时默认被调用，不需要手动调用\n",
    "# __init__() 中的self参数，不需要开发者传递，python解释器会自动把当前的对象引用传递过去\n",
    "class Washer():\n",
    "    def __init__(self):\n",
    "        # 添加实例属性\n",
    "        self.width = 500\n",
    "        self.height = 800\n",
    "        \n",
    "    def print_info(self):\n",
    "        print(f\"洗衣机的宽度是{self.width}\")\n",
    "        print(f\"洗衣机的高度是{self.height}\")\n",
    "        \n",
    "haier = Washer()\n",
    "\n",
    "haier.print_info()"
   ]
  },
  {
   "cell_type": "code",
   "execution_count": 18,
   "metadata": {},
   "outputs": [
    {
     "name": "stdout",
     "output_type": "stream",
     "text": [
      "洗衣机的宽度是10,洗衣机的高度是20.\n",
      "洗衣机的宽度是100,洗衣机的高度是200.\n"
     ]
    }
   ],
   "source": [
    "# 带参数的__init__\n",
    "class Washer():\n",
    "    def __init__(self, width, height):\n",
    "        self.width = width\n",
    "        self.height = height\n",
    "        \n",
    "    def print_info(self):\n",
    "        print(f\"洗衣机的宽度是{self.width},洗衣机的高度是{self.height}.\")\n",
    "        \n",
    "haier1 = Washer(10, 20)\n",
    "haier1.print_info()\n",
    "\n",
    "haier2 = Washer(100, 200)\n",
    "haier2.print_info()"
   ]
  },
  {
   "cell_type": "code",
   "execution_count": 19,
   "metadata": {},
   "outputs": [
    {
     "name": "stdout",
     "output_type": "stream",
     "text": [
      "解释说明，类的说明或对象状态的说明\n"
     ]
    }
   ],
   "source": [
    "# __str__() 方法\n",
    "class Washer():\n",
    "    def __init__(self):\n",
    "        self.width = 300\n",
    "        \n",
    "    def __str__(self):\n",
    "        return \"解释说明，类的说明或对象状态的说明\"\n",
    "    \n",
    "haier = Washer()\n",
    "print(haier)"
   ]
  },
  {
   "cell_type": "code",
   "execution_count": 1,
   "metadata": {},
   "outputs": [],
   "source": [
    "# __del__() 方法\n",
    "class Washer():\n",
    "    def __init__(self):\n",
    "        self.width = 300\n",
    "        \n",
    "    def __del__(self):\n",
    "        print(\"对象已经删除\")\n",
    "        \n",
    "haier = Washer()"
   ]
  },
  {
   "cell_type": "code",
   "execution_count": 7,
   "metadata": {},
   "outputs": [],
   "source": [
    "# python中如何定义一个类的格式\n",
    "class 类名():\n",
    "    pass"
   ]
  },
  {
   "cell_type": "code",
   "execution_count": 4,
   "metadata": {},
   "outputs": [
    {
     "name": "stdout",
     "output_type": "stream",
     "text": [
      "跑步\n"
     ]
    }
   ],
   "source": [
    "# 请在类中定义一个方法，并执行该方法(比如：人会跑run)\n",
    "class Sport():\n",
    "    def run(self):\n",
    "        print(\"跑步\")\n",
    "        \n",
    "people = Sport()\n",
    "people.run()"
   ]
  },
  {
   "cell_type": "code",
   "execution_count": 6,
   "metadata": {},
   "outputs": [
    {
     "name": "stdout",
     "output_type": "stream",
     "text": [
      "阿里巴巴\n",
      "万达集团\n"
     ]
    }
   ],
   "source": [
    "# 定义一个People类，使用People类，创建一个mayun对象后，添加company属性，值是\"阿里巴巴\"；创建一个wangjianlin对象，添加company属性，值是\"万达集团\"\n",
    "class People():\n",
    "    def sport(self):\n",
    "        print(\"run\")\n",
    "        \n",
    "mayun = People()\n",
    "mayun.company = \"阿里巴巴\"\n",
    "\n",
    "print(mayun.company)\n",
    "\n",
    "wangjianlin = People()\n",
    "wangjianlin.company = \"万达集团\"\n",
    "\n",
    "print(wangjianlin.company)"
   ]
  },
  {
   "cell_type": "code",
   "execution_count": 10,
   "metadata": {},
   "outputs": [
    {
     "name": "stdout",
     "output_type": "stream",
     "text": [
      "葫芦娃\n",
      "黑猫警长\n"
     ]
    }
   ],
   "source": [
    "# 定义一个电脑类,电脑有品牌,有价格,能放电影。分别创建2个对象\"联想电脑\" 和 \"苹果电脑\"。\n",
    "# 调用放电影的动作,联想电脑播放 电影\"葫芦娃\"，苹果电脑播放\"黑猫警长\"。\n",
    "class Computer():\n",
    "    def __init__(self, make, price):\n",
    "        self.make = make\n",
    "        self.price = price\n",
    "        \n",
    "    def playMoive(self, moive):\n",
    "        print(moive)\n",
    "        \n",
    "lenovo = Computer(\"联想电脑\", 7000)\n",
    "lenovo.playMoive(\"葫芦娃\")\n",
    "\n",
    "apple = Computer(\"苹果电脑\", 10000)\n",
    "apple.playMoive(\"黑猫警长\")"
   ]
  },
  {
   "cell_type": "code",
   "execution_count": 8,
   "metadata": {},
   "outputs": [
    {
     "name": "stdout",
     "output_type": "stream",
     "text": [
      "red 10\n",
      "orange 20\n",
      "green 30\n"
     ]
    }
   ],
   "source": [
    "# 定义一个水果类，然后通过水果类，创建苹果对象、橘子对象、西瓜对象并分别添加属性:颜色和价格\n",
    "class Fruits():\n",
    "    def __init__(self, color, price):\n",
    "        self.color = color\n",
    "        self.price = price\n",
    "        \n",
    "apple = Fruits(\"red\", 10)\n",
    "print(apple.color, apple.price)\n",
    "\n",
    "orange = Fruits(\"orange\", 20)\n",
    "print(orange.color, orange.price)\n",
    "\n",
    "watermelon = Fruits(\"green\", 30)\n",
    "print(watermelon.color, watermelon.price)"
   ]
  },
  {
   "cell_type": "code",
   "execution_count": 11,
   "metadata": {},
   "outputs": [
    {
     "name": "stdout",
     "output_type": "stream",
     "text": [
      "BMW_X9的颜色是white,马力为200,型号是X9\n",
      "fast\n",
      "AUDI_A9的颜色是black,马力为300,型号是A9\n",
      "fast\n"
     ]
    }
   ],
   "source": [
    "# 定义一个汽车类，并在类中定义一个move方法，然后分别创建BMW_X9、AUDI_A9对象，并添加颜色、马力、型号等属性，\n",
    "# 然后分别打印出属性值、调用move方法（使用__init__方法完成属性赋值）\n",
    "class Car():\n",
    "    def __init__(self, color, horsepower, model):\n",
    "        self.color = color\n",
    "        self.horsepower = horsepower\n",
    "        self.model = model\n",
    "        \n",
    "    def move(self):\n",
    "        print(\"fast\")\n",
    "        \n",
    "BMW_X9 = Car(\"white\", \"200\", \"X9\")\n",
    "print(F\"BMW_X9的颜色是{BMW_X9.color},马力为{BMW_X9.horsepower},型号是{BMW_X9.model}\")\n",
    "BMW_X9.move()\n",
    "      \n",
    "AUDI_A9 = Car(\"black\", \"300\", \"A9\")\n",
    "print(F\"AUDI_A9的颜色是{AUDI_A9.color},马力为{AUDI_A9.horsepower},型号是{AUDI_A9.model}\")\n",
    "AUDI_A9.move()"
   ]
  },
  {
   "cell_type": "code",
   "execution_count": 18,
   "metadata": {},
   "outputs": [
    {
     "name": "stdout",
     "output_type": "stream",
     "text": [
      "这个地瓜被烤的时间是0,状态是生的,调料有[].\n",
      "这个地瓜被烤的时间是2,状态是生的,调料有['suger'].\n",
      "这个地瓜被烤的时间是4,状态是半生不熟,调料有['suger', '辣椒面儿'].\n"
     ]
    }
   ],
   "source": [
    "# 烤地瓜\n",
    "# 1.定义类：初始化属性、被烤和添加调料的方法，显示对象信息的str\n",
    "class SweetPotato():\n",
    "    def __init__(self):\n",
    "        # 被烤的时间\n",
    "        self.cook_time = 0\n",
    "        # 地瓜的状态\n",
    "        self.cook_state = \"生的\"\n",
    "        # 调料列表\n",
    "        self.condiments = []\n",
    "        \n",
    "    def cook(self, time):\n",
    "        \"\"\"烤地瓜方法\"\"\"\n",
    "        # 1.先计算地瓜整体烤过的时间\n",
    "        self.cook_time  += time\n",
    "        # 2.用整体烤过的时间在判断地瓜的状态\n",
    "        if 0 <= self.cook_time < 3:\n",
    "            # 生的\n",
    "            self.cook_state = \"生的\"\n",
    "        elif 3 <= self.cook_time < 5:\n",
    "            # 半生不熟\n",
    "            self.cook_state = \"半生不熟\"\n",
    "        elif 5 <= self.cook_time < 8:\n",
    "            # 熟了\n",
    "            self.coon_state = \"熟了\"\n",
    "        elif self.cook_time >= 8:\n",
    "            # 烤糊了\n",
    "            self.cook_state = \"烤糊了\"\n",
    "            \n",
    "    def add_condiments(self, condiments):\n",
    "        # 用户意愿的调料追加到调料列表\n",
    "        self.condiments.append(condiments)\n",
    "\n",
    "    def __str__(self):\n",
    "        return f\"这个地瓜被烤的时间是{self.cook_time},状态是{self.cook_state},调料有{self.condiments}.\"\n",
    "        \n",
    "# 2.创建对象并调用对应的实例方法\n",
    "digua1 = SweetPotato()\n",
    "\n",
    "print(digua1)\n",
    "\n",
    "digua1.cook(2)\n",
    "digua1.add_condiments(\"suger\")\n",
    "print(digua1)\n",
    "\n",
    "digua1.cook(2)\n",
    "digua1.add_condiments(\"辣椒面儿\")\n",
    "print(digua1)"
   ]
  },
  {
   "cell_type": "code",
   "execution_count": 21,
   "metadata": {},
   "outputs": [
    {
     "name": "stdout",
     "output_type": "stream",
     "text": [
      "这个地瓜烤了0分钟了,状态是生的,调料有[].\n",
      "地瓜还没熟，不能加调料\n",
      "这个地瓜烤了2分钟了,状态是生的,调料有[].\n",
      "地瓜还没熟，不能加调料\n",
      "这个地瓜烤了4分钟了,状态是半生不熟,调料有[].\n",
      "这个地瓜烤了6分钟了,状态是烤熟了,调料有['酱油'].\n"
     ]
    }
   ],
   "source": [
    "# 请同学在烤地瓜的基础上 增加新需求，要求 烤地瓜的时候，要添加调料\n",
    "# 只有地瓜烤熟的情况增加调料class SweetPotato():\n",
    "class SweetPotato():\n",
    "    def __init__(self):\n",
    "        self.cook_time = 0\n",
    "        self.cook_state = \"生的\"\n",
    "        self.condiments = []\n",
    "        \n",
    "    def cook(self, time):\n",
    "        self.cook_time += time\n",
    "        if 0 <= self.cook_time < 3:\n",
    "            self.cook_state = \"生的\"\n",
    "        elif 3 <= self.cook_time < 5:\n",
    "            self.cook_state = \"半生不熟\"\n",
    "        elif 5 <= self.cook_time < 8:\n",
    "            self.cook_state = \"烤熟了\"\n",
    "        elif self.cook_time >= 8:\n",
    "            self.cook_state = \"烤糊了\"\n",
    "    \n",
    "    def add_condiments(self, condiments):\n",
    "        if self.cook_time >= 5:\n",
    "            self.condiments.append(condiments)\n",
    "        else:\n",
    "            print(\"地瓜还没熟，不能加调料\")\n",
    "        \n",
    "    def __str__(self):\n",
    "        return f\"这个地瓜烤了{self.cook_time}分钟了,状态是{self.cook_state},调料有{self.condiments}.\"\n",
    "    \n",
    "\n",
    "digua = SweetPotato()\n",
    "print(digua)\n",
    "\n",
    "digua.cook(2)\n",
    "digua.add_condiments(\"sweet\")\n",
    "print(digua)\n",
    "\n",
    "digua.cook(2)\n",
    "digua.add_condiments(\"辣椒面儿\")\n",
    "print(digua)\n",
    "\n",
    "digua.cook(2)\n",
    "digua.add_condiments(\"酱油\")\n",
    "print(digua)"
   ]
  },
  {
   "cell_type": "code",
   "execution_count": null,
   "metadata": {},
   "outputs": [],
   "source": []
  }
 ],
 "metadata": {
  "kernelspec": {
   "display_name": "Python 3",
   "language": "python",
   "name": "python3"
  },
  "language_info": {
   "codemirror_mode": {
    "name": "ipython",
    "version": 3
   },
   "file_extension": ".py",
   "mimetype": "text/x-python",
   "name": "python",
   "nbconvert_exporter": "python",
   "pygments_lexer": "ipython3",
   "version": "3.7.4"
  }
 },
 "nbformat": 4,
 "nbformat_minor": 4
}
