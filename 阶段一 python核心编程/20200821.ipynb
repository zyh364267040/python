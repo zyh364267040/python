{
 "cells": [
  {
   "cell_type": "code",
   "execution_count": 1,
   "metadata": {},
   "outputs": [
    {
     "name": "stdout",
     "output_type": "stream",
     "text": [
      "('tom', 'kaisa', 'alisi', ['xiaoming', 'songshu', 'python'])\n"
     ]
    }
   ],
   "source": [
    "name_list = [\"tom\", \"kaisa\", \"alisi\", [\"xiaoming\", \"songshu\"]]\n",
    "\n",
    "new_tp = tuple(name_list)\n",
    "new_tp[3].append(\"python\")\n",
    "print(new_tp)"
   ]
  },
  {
   "cell_type": "code",
   "execution_count": 4,
   "metadata": {},
   "outputs": [
    {
     "name": "stdin",
     "output_type": "stream",
     "text": [
      "请输入年份: 1900\n"
     ]
    },
    {
     "name": "stdout",
     "output_type": "stream",
     "text": [
      "1900不是闰年.\n"
     ]
    }
   ],
   "source": [
    "# 用函数实现一个判断用户输入的年份是否是闰年的程序，在函数中打印结果。\n",
    "\n",
    "year = eval(input(\"请输入年份:\"))\n",
    "def leap_year():\n",
    "    if year % 400 == 0 or (year % 4 == 0 and year % 100 != 0):\n",
    "        print(f\"{year}是闰年.\")\n",
    "    else:\n",
    "        print(f\"{year}不是闰年.\")\n",
    "        \n",
    "leap_year()"
   ]
  },
  {
   "cell_type": "code",
   "execution_count": 7,
   "metadata": {},
   "outputs": [
    {
     "name": "stdout",
     "output_type": "stream",
     "text": [
      "70\n"
     ]
    }
   ],
   "source": [
    "# 定义一个函数，计算两个数之和。调用者在得到结果的时候需要判断是否大于20，如果大于则输出，超过10的加法太难了\n",
    "\n",
    "def num_sum(a, b):\n",
    "    sum = a + b\n",
    "    if sum > 20:\n",
    "        print(sum)\n",
    "\n",
    "num_sum(30, 40)"
   ]
  },
  {
   "cell_type": "code",
   "execution_count": 16,
   "metadata": {},
   "outputs": [
    {
     "name": "stdout",
     "output_type": "stream",
     "text": [
      "12789\n"
     ]
    }
   ],
   "source": [
    "\"\"\"\n",
    "定义一个函数cut_str，接受三个参数，分别为字符串s、数值a1、数值a2，将字符串s从下标a1开始的a2个字符删除\n",
    "并把结果返回\n",
    "例如：\n",
    "s = \"123456789\", a1 = 2, a2 = 4 结果为: \"12789\"\n",
    "\"\"\"\n",
    "\n",
    "def cut_str(s, a1, a2):\n",
    "    str1 = s[a1: a1 + a2]\n",
    "    new_str = s.replace(str1, \"\")\n",
    "    print(new_str)\n",
    "    \n",
    "cut_str(\"123456789\", 2, 4)"
   ]
  },
  {
   "cell_type": "code",
   "execution_count": 19,
   "metadata": {},
   "outputs": [
    {
     "name": "stdin",
     "output_type": "stream",
     "text": [
      "请输入打印矩形或三角形: s\n"
     ]
    },
    {
     "name": "stdout",
     "output_type": "stream",
     "text": [
      "输入的图形形状有误\n"
     ]
    }
   ],
   "source": [
    "\"\"\"\n",
    "请定义两个函数，一个函数打印正方形，一个函数打印三角形\n",
    "并且可以从键盘输入值来决定打印矩形还是打印三角形以及决定是否退出程序\n",
    "\"\"\"\n",
    "\n",
    "# 矩形\n",
    "def square():\n",
    "    print(\"矩形\")\n",
    "    \n",
    "# 三角形\n",
    "def triangle():\n",
    "    print(\"三角形\")\n",
    "    \n",
    "a = input(\"请输入打印矩形或三角形:\")\n",
    "if \"矩形\" in a:\n",
    "    square()\n",
    "elif \"三角形\" in a:\n",
    "    triangle()\n",
    "else:\n",
    "    print(\"输入的图形形状有误\")"
   ]
  },
  {
   "cell_type": "code",
   "execution_count": 20,
   "metadata": {},
   "outputs": [
    {
     "name": "stdout",
     "output_type": "stream",
     "text": [
      "(1, 2, 3, 4, 5, 6, 7, 8, 9, 0)\n"
     ]
    }
   ],
   "source": [
    "# 定义一个函数，这个函数需要接收的参数不确定多少个，请实现\n",
    "\n",
    "def func(*args):\n",
    "    print(args)\n",
    "    \n",
    "func(1, 2, 3, 4, 5, 6, 7, 8, 9, 0)"
   ]
  },
  {
   "cell_type": "code",
   "execution_count": 21,
   "metadata": {},
   "outputs": [
    {
     "name": "stdout",
     "output_type": "stream",
     "text": [
      "20\n",
      "10\n"
     ]
    }
   ],
   "source": [
    "# 有变量 a = 10 和 b = 20 ，请使用至少两种方法交换两个变量的值。\n",
    "\n",
    "# 方法1\n",
    "a = 10\n",
    "b = 20\n",
    "temp = a\n",
    "a = b\n",
    "b = temp\n",
    "print(a)\n",
    "print(b)"
   ]
  },
  {
   "cell_type": "code",
   "execution_count": 22,
   "metadata": {},
   "outputs": [
    {
     "name": "stdout",
     "output_type": "stream",
     "text": [
      "20\n",
      "10\n"
     ]
    }
   ],
   "source": [
    "# 方法2\n",
    "a = 10\n",
    "b = 20\n",
    "a, b = b, a\n",
    "print(a)\n",
    "print(b)"
   ]
  },
  {
   "cell_type": "code",
   "execution_count": null,
   "metadata": {},
   "outputs": [],
   "source": []
  }
 ],
 "metadata": {
  "kernelspec": {
   "display_name": "Python 3",
   "language": "python",
   "name": "python3"
  },
  "language_info": {
   "codemirror_mode": {
    "name": "ipython",
    "version": 3
   },
   "file_extension": ".py",
   "mimetype": "text/x-python",
   "name": "python",
   "nbconvert_exporter": "python",
   "pygments_lexer": "ipython3",
   "version": "3.7.4"
  }
 },
 "nbformat": 4,
 "nbformat_minor": 4
}
