{
 "cells": [
  {
   "cell_type": "code",
   "execution_count": 18,
   "metadata": {},
   "outputs": [
    {
     "name": "stdout",
     "output_type": "stream",
     "text": [
      "[['D', 'E'], ['A', 'B', 'G', 'H'], ['C', 'F']]\n",
      "办公室1里有2名老师，分别是DE\n",
      "办公室2里有4名老师，分别是ABGH\n",
      "办公室3里有2名老师，分别是CF\n"
     ]
    }
   ],
   "source": [
    "# 有3个办公室，有8位老师，随机分配8个老师到办公室\n",
    "\n",
    "offices = [[], [], []]\n",
    "teachers = [\"A\", \"B\", \"C\", \"D\", \"E\", \"F\", \"G\", \"H\"]\n",
    "\n",
    "import random\n",
    "for i in teachers:\n",
    "    num = random.randrange(0, 3)\n",
    "    offices[num].append(i)\n",
    "\n",
    "print(offices)\n",
    "j = 1\n",
    "for office in offices:\n",
    "    print(f\"办公室{j}里有{len(office)}名老师，分别是\", end=\"\")\n",
    "    for name in office:\n",
    "        print(name, end=\"\")\n",
    "    print()\n",
    "    j += 1"
   ]
  },
  {
   "cell_type": "code",
   "execution_count": 23,
   "metadata": {},
   "outputs": [
    {
     "name": "stdout",
     "output_type": "stream",
     "text": [
      "-1\n"
     ]
    }
   ],
   "source": [
    "\"\"\"\n",
    "james有一个关于爬虫的项目，他需要在一个字符串中查找python这个关键字，\n",
    "当前他通过index()函数进行查找，虽然可以实现查找的需求，但是总会在\n",
    "没有查找到关键字的时候报错，为什么会报错，如何优化？\n",
    "\"\"\"\n",
    "\n",
    "str1 = \"james wants find Python\"\n",
    "# print(str1.index(\"python\"))\n",
    "print(str1.find(\"python\"))"
   ]
  },
  {
   "cell_type": "code",
   "execution_count": 89,
   "metadata": {},
   "outputs": [
    {
     "name": "stdout",
     "output_type": "stream",
     "text": [
      "Greats Crates Create Greats Craters, But Greats Craters Create Greats Craters\n"
     ]
    }
   ],
   "source": [
    "\"\"\"\n",
    "1，判断单词great是否在这个字符串中，如果在，则将每一个great后面加一个s， 如果不在则输出 great不在该字符串中\n",
    "2，将整个字符串的每一个单词都变成小写，并使每一个单词的首字母变成大写\n",
    "3，去除首尾的空白，并输出处理过后的字符串\n",
    "\"\"\"\n",
    "\n",
    "words = \" great craTes Create great craters, But great craters Create great craters \"\n",
    "if \"great\" in words:\n",
    "    new_words1 = words.replace(\"great\", \"greats\")\n",
    "    new_words2 = new_words1.lower()\n",
    "    new_words3 = new_words2.title()\n",
    "    new_words4 = new_words3.strip()\n",
    "    print(new_words4)\n",
    "else:\n",
    "    print(\"great 不在该字符串中\")\n",
    "    \n",
    "# new_words2 = words.lower()\n",
    "# print(new_words2)\n",
    "# new_words3 = new_words2.title()\n",
    "# print(new_words3)\n",
    "\n",
    "# new_words4 = words.strip()\n",
    "# print(new_words4)"
   ]
  },
  {
   "cell_type": "code",
   "execution_count": 44,
   "metadata": {},
   "outputs": [
    {
     "name": "stdout",
     "output_type": "stream",
     "text": [
      "['apples', 'orange', 'bananas', 'blue', 'white']\n"
     ]
    }
   ],
   "source": [
    "\"\"\"\n",
    "有一个列表，判断列表中的每一个元素是否以s或e结尾，如果是，则将其放入一个新的列表中，最后输出这个新的列表\n",
    "my_list = [\"red\", \"apples\", \"orange\", \"pink\", \"bananas\", \"blue\", \"black\", \"white\"]\n",
    "\"\"\"\n",
    "\n",
    "my_list = [\"red\", \"apples\", \"orange\", \"pink\", \"bananas\", \"blue\", \"black\", \"white\"]\n",
    "new_list = []\n",
    "for str1 in my_list:\n",
    "    if str1.endswith(\"s\") or str1.endswith(\"e\"):\n",
    "        new_list.append(str1)\n",
    "print(new_list)"
   ]
  },
  {
   "cell_type": "code",
   "execution_count": 45,
   "metadata": {},
   "outputs": [
    {
     "name": "stdout",
     "output_type": "stream",
     "text": [
      "['joke', 'hope', 'look', 'curious', 'black', 'hope']\n"
     ]
    }
   ],
   "source": [
    "\"\"\"\n",
    "给定一个列表，首先删除以s开头的元素，删除后，修改第一个元素为\"joke\"，并且并且把最后一个元素复制一份，放在joke的后边\n",
    "\n",
    "my_list = [\"spring\", \"look\", \"strange\", \"curious\", \"black\", \"hope\"]\n",
    "\"\"\"\n",
    "\n",
    "\n",
    "my_list = [\"spring\", \"look\", \"strange\", \"curious\", \"black\", \"hope\"]\n",
    "for str1 in my_list:\n",
    "    if str1.startswith(\"s\"):\n",
    "        my_list.remove(str1)\n",
    "\n",
    "my_list.insert(0, \"joke\")\n",
    "my_list.insert(1, my_list[-1])\n",
    "print(my_list)"
   ]
  },
  {
   "cell_type": "code",
   "execution_count": 68,
   "metadata": {},
   "outputs": [
    {
     "name": "stdout",
     "output_type": "stream",
     "text": [
      "[90, 51, 45, 34, 23, 16, 11, 4, 0]\n"
     ]
    }
   ],
   "source": [
    "\"\"\"\n",
    "将下列两个列表合并，将合并后的列表去重，之后降序并输出\n",
    "\n",
    "list1 = [11, 45, 34, 51, 90]\n",
    "list2 = [4, 16, 23, 0]\n",
    "\"\"\"\n",
    "\n",
    "list1 = [11, 45, 34, 51, 90]\n",
    "list2 = [4, 16, 23, 0]\n",
    "list3 = list(set(list1 + list2))\n",
    "list3.sort(reverse = True)\n",
    "print(list3)"
   ]
  },
  {
   "cell_type": "code",
   "execution_count": 71,
   "metadata": {},
   "outputs": [
    {
     "name": "stdout",
     "output_type": "stream",
     "text": [
      "<class 'int'>\n",
      "<class 'tuple'>\n"
     ]
    }
   ],
   "source": [
    "tuple1 = (2)\n",
    "tuple2 = (2,)\n",
    "print(type(tuple1))\n",
    "print(type(tuple2))"
   ]
  },
  {
   "cell_type": "code",
   "execution_count": 86,
   "metadata": {},
   "outputs": [
    {
     "name": "stdout",
     "output_type": "stream",
     "text": [
      "[['A', 'B', 'C', 'F'], ['D', 'E'], ['G', 'H']]\n",
      "办公室1有4位老师，分别是ABCF\n",
      "办公室2有2位老师，分别是DE\n",
      "办公室3有2位老师，分别是GH\n"
     ]
    }
   ],
   "source": [
    "import random\n",
    "offices = [[], [], []]\n",
    "teachers = [\"A\", \"B\", \"C\", \"D\", \"E\", \"F\", \"G\", \"H\"]\n",
    "\n",
    "for teacher in teachers:\n",
    "    num = random.randrange(0, 3)\n",
    "    offices[num].append(teacher)\n",
    "print(offices)\n",
    "\n",
    "i = 1\n",
    "for office in offices:\n",
    "    print(f\"办公室{i}有{len(office)}位老师，分别是\", end=\"\")\n",
    "    for name in office:\n",
    "        print(name, end=\"\")\n",
    "    print()\n",
    "    i += 1"
   ]
  },
  {
   "cell_type": "code",
   "execution_count": null,
   "metadata": {},
   "outputs": [],
   "source": []
  }
 ],
 "metadata": {
  "kernelspec": {
   "display_name": "Python 3",
   "language": "python",
   "name": "python3"
  },
  "language_info": {
   "codemirror_mode": {
    "name": "ipython",
    "version": 3
   },
   "file_extension": ".py",
   "mimetype": "text/x-python",
   "name": "python",
   "nbconvert_exporter": "python",
   "pygments_lexer": "ipython3",
   "version": "3.7.4"
  }
 },
 "nbformat": 4,
 "nbformat_minor": 4
}
