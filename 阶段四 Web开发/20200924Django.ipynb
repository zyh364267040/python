{
 "cells": [
  {
   "cell_type": "markdown",
   "metadata": {},
   "source": [
    "# Django"
   ]
  },
  {
   "cell_type": "code",
   "execution_count": null,
   "metadata": {},
   "outputs": [],
   "source": [
    "# book/models\n",
    "from django.db import models\n",
    "\n",
    "# Creata your models here.\n",
    "\"\"\"\n",
    "1. 定义模型类\n",
    "2. 模型迁移\n",
    "    2.1 先生成迁移文件（不会再数据库中生成表，只会创建一个 数据表和模型的对应关系）\n",
    "        python manage.py makemigrations\n",
    "    2.2 再迁移（会在数据库中生成表）\n",
    "        python manege.py migrate\n",
    "3. 操作数据库\n",
    "\n",
    "要知道的点\n",
    "    1. 在哪定义模型\n",
    "    2. 模型继承自谁\n",
    "    3. ORM对应的关系\n",
    "        表   =>  类\n",
    "        字段 =>  属性\n",
    "\"\"\"\n",
    "class BookInfo(models.Model):\n",
    "    \"\"\"\n",
    "    1. 主键 当前会自动生成\n",
    "    2. 属性复制过来就可以\n",
    "    \"\"\"\n",
    "    name = models.CharField(max_lenght=10)\n",
    "    \n",
    "    def __str__(self):\n",
    "        return self.name\n",
    "    \n",
    "class PeopleInfo(models.Model):\n",
    "    name = models.CharField(max_lenght=10)\n",
    "    # 性别\n",
    "    gender = models.BooleanField()\n",
    "    # 外键\n",
    "    book = models.Foreignkey(BookInfo)"
   ]
  },
  {
   "cell_type": "code",
   "execution_count": null,
   "metadata": {},
   "outputs": [],
   "source": [
    "# book/views\n",
    "from diango.shortcuts import render\n",
    "from django.http import HttpRequest, HttpResponse\n",
    "# Create your views here\n",
    "\"\"\"\n",
    "视图\n",
    "1. 就是python函数\n",
    "2. 函数的第一个参数就是 请求 和请求相关的它是 HttpRequest的实例对象\n",
    "3. 我们必须要返回一个相应的 响应 是 HttpResponse的实例对象/子类实例对象\n",
    "\"\"\"\n",
    "\n",
    "def index(request):\n",
    "    name = \"志玲姐姐\"\n",
    "    # request, template_name, context=None\n",
    "    # 参数1：当前的请求\n",
    "    # 参数2：模板文件\n",
    "    # 参数3：context 传递参数\n",
    "    \n",
    "    context = {\n",
    "        \"name\": name\n",
    "    }\n",
    "    \n",
    "    return render(request, \"index.html\", context)\n",
    "    return HttpResponse(\"index\")"
   ]
  },
  {
   "cell_type": "code",
   "execution_count": null,
   "metadata": {},
   "outputs": [],
   "source": [
    "# bookmaneger/urls\n",
    "from django.conf.urls import url, include\n",
    "from django.contrib import admin\n",
    "\n",
    "\"\"\"\n",
    "1. urlpatterns 是固定写法，它的值是列表\n",
    "2. 我们在浏览器中输入的路径会和 urlpatterns中的每一项顺序进行匹配\n",
    "    如果匹配成功，则直接引导到相应的模块\n",
    "    如果匹配不成功（把urlpatterns中的每一个都匹配过了），则直接返回404\n",
    "3. urlpatterns中的元素是 url\n",
    "    url的第一个参数是：正则\n",
    "        r 转义\n",
    "        ^ 严格的开始\n",
    "        $ 严格的结束\n",
    "4. 我们在浏览器中输入的路由中哪些部分参与正则匹配？\n",
    "    http://ip:port/path/?key=value\n",
    "    我们的http://ip:port/ 和 get post 参数不参与正则匹配\n",
    "5. 如果当前的某一项匹配成功，则引导到子应用中继续匹配\n",
    "    如果匹配成功，则停止匹配返回相应的视图\n",
    "    如果匹配不成功，则继续和后面的工程中的url的每一项继续匹配，直到匹配每一项\n",
    "\"\"\"\n",
    "\n",
    "urlpatterns = [\n",
    "    # http://127.0.0.1:8000/admin/\n",
    "    # http://127.0.0.1:8000/\n",
    "    # admin/?a=100\n",
    "    # admin/\n",
    "    url(r'^admin/', admin.site.urls),\n",
    "    \n",
    "    # 添加一项\n",
    "    # 只要不是 admin/ 肯定会走这个\n",
    "    # 我们就都引导到 book 子应用\n",
    "    # http://127.0.0.1:8000/\n",
    "    # index/\n",
    "    url(r'^', include('book.urls')),\n",
    "    \n",
    "    # http://127.0.0.1:8000/pay/order/\n",
    "    # pay/order/\n",
    "    url(r'^pay', include(\"pay.urls\")),\n",
    "]"
   ]
  },
  {
   "cell_type": "code",
   "execution_count": null,
   "metadata": {},
   "outputs": [],
   "source": [
    "# book/urls(新建)\n",
    "from django.conf.urls import url\n",
    "from book.views import index\n",
    "urlpatterns = [\n",
    "    # index\n",
    "    # url的第一个参数是正则\n",
    "    # url的第二个参数是：视图函数名\n",
    "    # pay/order/\n",
    "    url(r'^index/$', index)\n",
    "]"
   ]
  },
  {
   "cell_type": "code",
   "execution_count": null,
   "metadata": {},
   "outputs": [],
   "source": [
    "# pay/urls(新建)\n",
    "from pay.views import order\n",
    "from django.conf.urls import url\n",
    "\n",
    "urlpetterns = [\n",
    "    # pay/order/\n",
    "    # order\n",
    "    url(r\"^order/$\", order)\n",
    "]"
   ]
  },
  {
   "cell_type": "code",
   "execution_count": null,
   "metadata": {},
   "outputs": [],
   "source": [
    "# pay/views\n",
    "from django.http import HttpResponse\n",
    "from django.shortcuts import render\n",
    "\n",
    "def order(request):\n",
    "    \n",
    "    return HttpResponse(\"pay\")"
   ]
  }
 ],
 "metadata": {
  "kernelspec": {
   "display_name": "Python 3",
   "language": "python",
   "name": "python3"
  },
  "language_info": {
   "codemirror_mode": {
    "name": "ipython",
    "version": 3
   },
   "file_extension": ".py",
   "mimetype": "text/x-python",
   "name": "python",
   "nbconvert_exporter": "python",
   "pygments_lexer": "ipython3",
   "version": "3.7.4"
  }
 },
 "nbformat": 4,
 "nbformat_minor": 4
}
