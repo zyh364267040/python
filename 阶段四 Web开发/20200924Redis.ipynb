{
 "cells": [
  {
   "cell_type": "markdown",
   "metadata": {},
   "source": [
    "# Redis"
   ]
  },
  {
   "cell_type": "code",
   "execution_count": null,
   "metadata": {},
   "outputs": [],
   "source": [
    "# redis与python交互\n",
    "# 1. 导入redis\n",
    "import redis\n",
    "\n",
    "if __name__ == \"__main__\":\n",
    "    # 2. 创建Redis的连接实例\n",
    "    # 我们在连接或获取外界资源的时候一定要注意使用try\n",
    "    try:\n",
    "        rs = redis.Redis()\n",
    "    except Exception as e:\n",
    "        print(e)\n",
    "        \n",
    "    # 3. 操作string\n",
    "    # 添加 set key value\n",
    "    result = rs.set(\"name\", \"itcast\")\n",
    "    print(result)\n",
    "    \n",
    "    # 获取\n",
    "    name = rs.get(\"name\")\n",
    "    print(name)"
   ]
  },
  {
   "cell_type": "code",
   "execution_count": 1,
   "metadata": {},
   "outputs": [
    {
     "ename": "SyntaxError",
     "evalue": "unexpected EOF while parsing (<ipython-input-1-9c21a637d7cf>, line 6)",
     "output_type": "error",
     "traceback": [
      "\u001b[1;36m  File \u001b[1;32m\"<ipython-input-1-9c21a637d7cf>\"\u001b[1;36m, line \u001b[1;32m6\u001b[0m\n\u001b[1;33m    if __name__ == \"__main__\":\u001b[0m\n\u001b[1;37m                              ^\u001b[0m\n\u001b[1;31mSyntaxError\u001b[0m\u001b[1;31m:\u001b[0m unexpected EOF while parsing\n"
     ]
    }
   ],
   "source": [
    "# 搭建集群与python交互\n",
    "# 1. 导入库\n",
    "from rediscluster import StrictRedisCluster\n",
    "\n",
    "\n",
    "if __name__ == \"__main__\":\n",
    "    # 2. 组织集群的host和端口\n",
    "    nodes = [{\"host\": \"192.168.229.148\", \"port\": \"7000\"},\n",
    "            {\"host\": \"192.168.229.148\", \"port\": \"7000\"},\n",
    "            {\"host\": \"192.168.229.148\", \"port\": \"7000\"}]\n",
    "    try:\n",
    "        # 3. 创建集群实例\n",
    "        src = StrictRedisCulster(startup_nodes=nodes)\n",
    "    except Exception as e:\n",
    "        print(e)\n",
    "    \n",
    "    result = src.set(\"age\", 15)\n",
    "    print(result)"
   ]
  },
  {
   "cell_type": "code",
   "execution_count": null,
   "metadata": {},
   "outputs": [],
   "source": []
  }
 ],
 "metadata": {
  "kernelspec": {
   "display_name": "Python 3",
   "language": "python",
   "name": "python3"
  },
  "language_info": {
   "codemirror_mode": {
    "name": "ipython",
    "version": 3
   },
   "file_extension": ".py",
   "mimetype": "text/x-python",
   "name": "python",
   "nbconvert_exporter": "python",
   "pygments_lexer": "ipython3",
   "version": "3.8.5"
  }
 },
 "nbformat": 4,
 "nbformat_minor": 4
}
